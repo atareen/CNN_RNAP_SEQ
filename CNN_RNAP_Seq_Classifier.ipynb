{
 "cells": [
  {
   "cell_type": "markdown",
   "metadata": {},
   "source": [
    "## Convolutional Neural Network that predicts whether RNAP will bind to an arbitrary sequence\n",
    "\n",
    "(Trained on the Ecoli genome)"
   ]
  },
  {
   "cell_type": "code",
   "execution_count": 1,
   "metadata": {},
   "outputs": [],
   "source": [
    "import pandas as pd\n",
    "import numpy as np\n",
    "\n",
    "input_data_raw =  pd.read_csv('rnap_scanned_over_ecoli_genome.csv')\n",
    "sequences = input_data_raw['seq'].tolist()"
   ]
  },
  {
   "cell_type": "markdown",
   "metadata": {},
   "source": [
    "## Raw Data\n",
    "The seq column below contains positive training examples. Sequences that RNAP will bind to. "
   ]
  },
  {
   "cell_type": "code",
   "execution_count": 2,
   "metadata": {},
   "outputs": [
    {
     "data": {
      "text/html": [
       "<div>\n",
       "<style scoped>\n",
       "    .dataframe tbody tr th:only-of-type {\n",
       "        vertical-align: middle;\n",
       "    }\n",
       "\n",
       "    .dataframe tbody tr th {\n",
       "        vertical-align: top;\n",
       "    }\n",
       "\n",
       "    .dataframe thead th {\n",
       "        text-align: right;\n",
       "    }\n",
       "</style>\n",
       "<table border=\"1\" class=\"dataframe\">\n",
       "  <thead>\n",
       "    <tr style=\"text-align: right;\">\n",
       "      <th></th>\n",
       "      <th>val</th>\n",
       "      <th>seq</th>\n",
       "      <th>left</th>\n",
       "      <th>right</th>\n",
       "      <th>ori</th>\n",
       "      <th>contig</th>\n",
       "    </tr>\n",
       "  </thead>\n",
       "  <tbody>\n",
       "    <tr>\n",
       "      <th>0</th>\n",
       "      <td>23.9083</td>\n",
       "      <td>CTATTACCTGCCCACGGTAAAGGCGTTCTGGTTGCCCTACG</td>\n",
       "      <td>3695629</td>\n",
       "      <td>3695669</td>\n",
       "      <td>+</td>\n",
       "      <td>MG1655.fa</td>\n",
       "    </tr>\n",
       "    <tr>\n",
       "      <th>1</th>\n",
       "      <td>23.5831</td>\n",
       "      <td>TTTCTGCCCGCGGCCTGGCAATTGATACCGCCTTGCCATCG</td>\n",
       "      <td>1109059</td>\n",
       "      <td>1109099</td>\n",
       "      <td>+</td>\n",
       "      <td>MG1655.fa</td>\n",
       "    </tr>\n",
       "    <tr>\n",
       "      <th>2</th>\n",
       "      <td>23.4205</td>\n",
       "      <td>TTTTTACACGCCTTGCGTAAAGCGGCACGGCGCGGGGTGCG</td>\n",
       "      <td>822216</td>\n",
       "      <td>822256</td>\n",
       "      <td>-</td>\n",
       "      <td>MG1655.fa</td>\n",
       "    </tr>\n",
       "    <tr>\n",
       "      <th>3</th>\n",
       "      <td>23.4098</td>\n",
       "      <td>TTGCTGCCTGGCCGATGGTCTATGCCGCTGCGTTCTCCGGC</td>\n",
       "      <td>772478</td>\n",
       "      <td>772518</td>\n",
       "      <td>+</td>\n",
       "      <td>MG1655.fa</td>\n",
       "    </tr>\n",
       "    <tr>\n",
       "      <th>4</th>\n",
       "      <td>23.3640</td>\n",
       "      <td>CTTTTACACGCAAAATGCCGTCACGTTCACGGGTCTGGGCT</td>\n",
       "      <td>2748531</td>\n",
       "      <td>2748571</td>\n",
       "      <td>+</td>\n",
       "      <td>MG1655.fa</td>\n",
       "    </tr>\n",
       "  </tbody>\n",
       "</table>\n",
       "</div>"
      ],
      "text/plain": [
       "       val                                        seq     left    right ori  \\\n",
       "0  23.9083  CTATTACCTGCCCACGGTAAAGGCGTTCTGGTTGCCCTACG  3695629  3695669   +   \n",
       "1  23.5831  TTTCTGCCCGCGGCCTGGCAATTGATACCGCCTTGCCATCG  1109059  1109099   +   \n",
       "2  23.4205  TTTTTACACGCCTTGCGTAAAGCGGCACGGCGCGGGGTGCG   822216   822256   -   \n",
       "3  23.4098  TTGCTGCCTGGCCGATGGTCTATGCCGCTGCGTTCTCCGGC   772478   772518   +   \n",
       "4  23.3640  CTTTTACACGCAAAATGCCGTCACGTTCACGGGTCTGGGCT  2748531  2748571   +   \n",
       "\n",
       "      contig  \n",
       "0  MG1655.fa  \n",
       "1  MG1655.fa  \n",
       "2  MG1655.fa  \n",
       "3  MG1655.fa  \n",
       "4  MG1655.fa  "
      ]
     },
     "execution_count": 2,
     "metadata": {},
     "output_type": "execute_result"
    }
   ],
   "source": [
    "input_data_raw.head()"
   ]
  },
  {
   "cell_type": "markdown",
   "metadata": {},
   "source": [
    "## Set up lists that will contain positive sequences and positive test sequences"
   ]
  },
  {
   "cell_type": "code",
   "execution_count": 3,
   "metadata": {
    "collapsed": true
   },
   "outputs": [],
   "source": [
    "pos = []\n",
    "test_pos = []\n",
    "\n",
    "num_sample = 9000\n",
    "test_size = 1000\n",
    "\n",
    "for index in range(len(sequences[0:num_sample])):\n",
    "    pos.append(list(sequences[index]))\n",
    "    \n",
    "for test_index in range(len(sequences[num_sample:num_sample+test_size])):\n",
    "    test_pos.append(list(sequences[index]))    \n",
    "\n",
    "pos = np.array(pos)\n",
    "test_pos = np.array(test_pos)\n",
    "\n",
    "seq_length = len(pos[0])"
   ]
  },
  {
   "cell_type": "markdown",
   "metadata": {},
   "source": [
    "... and negative training and test sequences "
   ]
  },
  {
   "cell_type": "code",
   "execution_count": 4,
   "metadata": {
    "colab": {
     "base_uri": "https://localhost:8080/",
     "height": 170
    },
    "colab_type": "code",
    "id": "_FyVOov3NoFy",
    "outputId": "77e43c57-5fa1-43f4-b21f-eeb17e06e785"
   },
   "outputs": [
    {
     "data": {
      "text/plain": [
       "['AAGGTAAGAACGCGCCGTCTTAAAGAGTATGAGCCACGAGG',\n",
       " 'GGCGGGCGACGTCGGGAAAAAGGCTAAAGTAATGTCAGTTT',\n",
       " 'AATTCTGGTATCGGCAAAGAAGTGATATCCATACGCCAATA',\n",
       " 'CATAATCAAAAGGTGCAACGTCGCCCTAGACCGACATAACT',\n",
       " 'GGCCATCGGGGGCACTTCGAAACGCAGGTGATCGGCTGAGA',\n",
       " 'ATCTAGTCAATCAAACGGTGCCTCTTACGAGAACTACCCTG',\n",
       " 'ACACCGATTGCGTACCTCTGAAGGCCGATTTCATTTTGGAG',\n",
       " 'CCCTGAGGGACAAGATCGCGATTACTCGCTCAGGGATTTGG',\n",
       " 'TCCGGGTGCCCACAGCAGGCCGAGACCATGGCAGGGGAGAA']"
      ]
     },
     "execution_count": 4,
     "metadata": {},
     "output_type": "execute_result"
    }
   ],
   "source": [
    "neg = np.array([np.random.choice(['A', 'C', 'G', 'T'], num_sample, p=np.array([1,1,1,1])/4.0)\n",
    "                for i in range(seq_length)]).transpose()\n",
    "\n",
    "test_neg = np.array([np.random.choice(['A', 'C', 'G', 'T'], test_size, p=np.array([1,1,1,1])/4.0)\n",
    "                for i in range(seq_length)]).transpose()\n",
    "\n",
    "[''.join(x) for x in neg[1:10,:]]"
   ]
  },
  {
   "cell_type": "code",
   "execution_count": 5,
   "metadata": {},
   "outputs": [
    {
     "data": {
      "text/plain": [
       "(9000, 41)"
      ]
     },
     "execution_count": 5,
     "metadata": {},
     "output_type": "execute_result"
    }
   ],
   "source": [
    "np.shape(pos)"
   ]
  },
  {
   "cell_type": "markdown",
   "metadata": {},
   "source": [
    "## Change training examples to one-hot encoded tensors\n",
    "\n",
    "### and put labels in tensors called 'y' and 'y_test'"
   ]
  },
  {
   "cell_type": "code",
   "execution_count": 6,
   "metadata": {
    "colab": {
     "base_uri": "https://localhost:8080/",
     "height": 289
    },
    "colab_type": "code",
    "id": "riQRzV6CNp33",
    "outputId": "a27104ff-7917-4987-dccc-7780792beac2"
   },
   "outputs": [
    {
     "name": "stdout",
     "output_type": "stream",
     "text": [
      "Positive sample matrix shape: (9000, 41)\n",
      "Positive sample tensor shape: (9000, 41, 4)\n",
      "Training set shape: (18000, 41, 4)\n",
      "Training set label shape: (18000,)\n",
      "\n",
      "One-hot encoding looks like:\n",
      " [[0. 1. 0. 0.]\n",
      " [0. 0. 0. 1.]\n",
      " [1. 0. 0. 0.]\n",
      " [0. 0. 0. 1.]\n",
      " [0. 0. 0. 1.]\n",
      " [1. 0. 0. 0.]\n",
      " [0. 1. 0. 0.]\n",
      " [0. 1. 0. 0.]\n",
      " [0. 0. 0. 1.]\n",
      " [0. 0. 1. 0.]]\n"
     ]
    }
   ],
   "source": [
    "pos_tensor = np.zeros(list(pos.shape) + [4])\n",
    "neg_tensor = np.zeros(list(neg.shape) + [4])\n",
    "\n",
    "test_pos_tensor = np.zeros(list(test_pos.shape) + [4])\n",
    "test_neg_tensor = np.zeros(list(test_neg.shape) + [4])\n",
    "\n",
    "base_dict = {'A': 0, 'C': 1, 'G': 2, 'T': 3}\n",
    "\n",
    "#naive one-hot encoding\n",
    "for row in range(num_sample):\n",
    "    for col in range(seq_length):\n",
    "        pos_tensor[row,col,base_dict[pos[row,col]]] = 1\n",
    "        neg_tensor[row,col,base_dict[neg[row,col]]] = 1\n",
    "        if(row<test_size):\n",
    "            test_pos_tensor[row,col,base_dict[test_pos[row,col]]] = 1\n",
    "            test_neg_tensor[row,col,base_dict[test_neg[row,col]]] = 1        \n",
    "\n",
    "print('Positive sample matrix shape: {}'.format(pos.shape))\n",
    "# this should be a 3D tensor with shape: (samples, steps, input_dim)\n",
    "print('Positive sample tensor shape: {}'.format(pos_tensor.shape))\n",
    "\n",
    "X = np.vstack((pos_tensor, neg_tensor))\n",
    "y = np.concatenate((np.ones(num_sample), np.zeros(num_sample)))\n",
    "\n",
    "y_test = np.concatenate((np.ones(test_size), np.zeros(test_size)))\n",
    "\n",
    "print('Training set shape: {}'.format(X.shape))\n",
    "print('Training set label shape: {}'.format(y.shape))\n",
    "print('\\nOne-hot encoding looks like:\\n {}'.format(X[0,0:10,:]))"
   ]
  },
  {
   "cell_type": "code",
   "execution_count": 7,
   "metadata": {},
   "outputs": [
    {
     "data": {
      "text/plain": [
       "(18000, 41, 4)"
      ]
     },
     "execution_count": 7,
     "metadata": {},
     "output_type": "execute_result"
    }
   ],
   "source": [
    "X.shape"
   ]
  },
  {
   "cell_type": "code",
   "execution_count": 8,
   "metadata": {},
   "outputs": [
    {
     "data": {
      "text/plain": [
       "(18000,)"
      ]
     },
     "execution_count": 8,
     "metadata": {},
     "output_type": "execute_result"
    }
   ],
   "source": [
    "y.shape"
   ]
  },
  {
   "cell_type": "markdown",
   "metadata": {},
   "source": [
    "## Define Neural Network using Keras"
   ]
  },
  {
   "cell_type": "code",
   "execution_count": 9,
   "metadata": {
    "colab": {
     "base_uri": "https://localhost:8080/",
     "height": 51
    },
    "colab_type": "code",
    "id": "bD1LpHUKNtVh",
    "outputId": "ec377700-10d7-44a3-c80b-45c2a7133a11"
   },
   "outputs": [
    {
     "name": "stderr",
     "output_type": "stream",
     "text": [
      "Using TensorFlow backend.\n"
     ]
    },
    {
     "name": "stdout",
     "output_type": "stream",
     "text": [
      "Shape of the output of first layer: (1, 41, 1)\n"
     ]
    }
   ],
   "source": [
    "#here comes the deep learning part\n",
    "from keras.models import Sequential\n",
    "from keras.layers import Conv1D, Dense, Flatten, Dropout\n",
    "from keras.activations import relu\n",
    "from keras.layers.pooling import MaxPooling1D\n",
    "from keras.optimizers import SGD, Adam\n",
    "\n",
    "model = Sequential()\n",
    "model.add(Conv1D(1, 41, padding='same', input_shape=(seq_length, 4), activation='relu'))\n",
    "\n",
    "\n",
    "#sanity check for dimensions\n",
    "print('Shape of the output of first layer: {}'.format(model.predict_on_batch(pos_tensor[0:1,:,:]).shape))"
   ]
  },
  {
   "cell_type": "code",
   "execution_count": 10,
   "metadata": {
    "colab": {
     "base_uri": "https://localhost:8080/",
     "height": 374
    },
    "colab_type": "code",
    "id": "2CkOlW_EN2gn",
    "outputId": "fbdf111b-fb35-4569-c9e3-34ead250e689"
   },
   "outputs": [
    {
     "name": "stdout",
     "output_type": "stream",
     "text": [
      "_________________________________________________________________\n",
      "Layer (type)                 Output Shape              Param #   \n",
      "=================================================================\n",
      "conv1d_1 (Conv1D)            (None, 41, 1)             165       \n",
      "_________________________________________________________________\n",
      "max_pooling1d_1 (MaxPooling1 (None, 10, 1)             0         \n",
      "_________________________________________________________________\n",
      "conv1d_2 (Conv1D)            (None, 10, 10)            210       \n",
      "_________________________________________________________________\n",
      "max_pooling1d_2 (MaxPooling1 (None, 5, 10)             0         \n",
      "_________________________________________________________________\n",
      "flatten_1 (Flatten)          (None, 50)                0         \n",
      "_________________________________________________________________\n",
      "dense_1 (Dense)              (None, 20)                1020      \n",
      "_________________________________________________________________\n",
      "dropout_1 (Dropout)          (None, 20)                0         \n",
      "_________________________________________________________________\n",
      "dense_2 (Dense)              (None, 1)                 21        \n",
      "=================================================================\n",
      "Total params: 1,416\n",
      "Trainable params: 1,416\n",
      "Non-trainable params: 0\n",
      "_________________________________________________________________\n",
      "Train on 12600 samples, validate on 5400 samples\n",
      "Epoch 1/20\n",
      "12600/12600 [==============================] - 1s 117us/step - loss: 0.4607 - acc: 0.7818 - val_loss: 0.4987 - val_acc: 0.7944\n",
      "Epoch 2/20\n",
      "12600/12600 [==============================] - 1s 90us/step - loss: 0.1815 - acc: 0.9364 - val_loss: 0.2661 - val_acc: 0.8933\n",
      "Epoch 3/20\n",
      "12600/12600 [==============================] - 1s 91us/step - loss: 0.1082 - acc: 0.9635 - val_loss: 0.1173 - val_acc: 0.9559\n",
      "Epoch 4/20\n",
      "12600/12600 [==============================] - 1s 90us/step - loss: 0.0771 - acc: 0.9756 - val_loss: 0.0874 - val_acc: 0.9680\n",
      "Epoch 5/20\n",
      "12600/12600 [==============================] - 1s 91us/step - loss: 0.0540 - acc: 0.9836 - val_loss: 0.0635 - val_acc: 0.9791\n",
      "Epoch 6/20\n",
      "12600/12600 [==============================] - 1s 90us/step - loss: 0.0382 - acc: 0.9896 - val_loss: 0.0611 - val_acc: 0.9793\n",
      "Epoch 7/20\n",
      "12600/12600 [==============================] - 1s 90us/step - loss: 0.0243 - acc: 0.9932 - val_loss: 0.0660 - val_acc: 0.9794\n",
      "Epoch 8/20\n",
      "12600/12600 [==============================] - 1s 91us/step - loss: 0.0203 - acc: 0.9952 - val_loss: 0.0482 - val_acc: 0.9844\n",
      "Epoch 9/20\n",
      "12600/12600 [==============================] - 1s 91us/step - loss: 0.0156 - acc: 0.9972 - val_loss: 0.0195 - val_acc: 0.9943\n",
      "Epoch 10/20\n",
      "12600/12600 [==============================] - 1s 90us/step - loss: 0.0134 - acc: 0.9974 - val_loss: 0.0382 - val_acc: 0.9896\n",
      "Epoch 11/20\n",
      "12600/12600 [==============================] - 1s 90us/step - loss: 0.0129 - acc: 0.9972 - val_loss: 0.0223 - val_acc: 0.9937\n",
      "Epoch 12/20\n",
      "12600/12600 [==============================] - 1s 91us/step - loss: 0.0117 - acc: 0.9977 - val_loss: 0.0248 - val_acc: 0.9941\n",
      "Epoch 13/20\n",
      "12600/12600 [==============================] - 1s 90us/step - loss: 0.0114 - acc: 0.9979 - val_loss: 0.0229 - val_acc: 0.9948\n",
      "Epoch 14/20\n",
      "12600/12600 [==============================] - 1s 90us/step - loss: 0.0097 - acc: 0.9982 - val_loss: 0.0291 - val_acc: 0.9930\n",
      "Epoch 15/20\n",
      "12600/12600 [==============================] - 1s 90us/step - loss: 0.0102 - acc: 0.9981 - val_loss: 0.0206 - val_acc: 0.9956\n",
      "Epoch 16/20\n",
      "12600/12600 [==============================] - 1s 91us/step - loss: 0.0104 - acc: 0.9982 - val_loss: 0.0344 - val_acc: 0.9930\n",
      "Epoch 17/20\n",
      "12600/12600 [==============================] - 1s 90us/step - loss: 0.0105 - acc: 0.9978 - val_loss: 0.0273 - val_acc: 0.9941\n",
      "Epoch 18/20\n",
      "12600/12600 [==============================] - 1s 90us/step - loss: 0.0095 - acc: 0.9982 - val_loss: 0.0276 - val_acc: 0.9944\n",
      "Epoch 19/20\n",
      "12600/12600 [==============================] - 1s 91us/step - loss: 0.0089 - acc: 0.9985 - val_loss: 0.0411 - val_acc: 0.9909\n",
      "Epoch 20/20\n",
      "12600/12600 [==============================] - 1s 91us/step - loss: 0.0102 - acc: 0.9975 - val_loss: 0.0257 - val_acc: 0.9946\n"
     ]
    }
   ],
   "source": [
    "model.add(MaxPooling1D(pool_size=4))\n",
    "model.add(Conv1D(10, 20, padding='same', input_shape=(seq_length, 4), activation='relu'))\n",
    "model.add(MaxPooling1D(pool_size=2))\n",
    "model.add(Flatten())\n",
    "model.add(Dense(20, activation='relu'))\n",
    "model.add(Dropout(0.25))\n",
    "model.add(Dense(1, activation='sigmoid'))\n",
    "\n",
    "sgd = SGD(lr=0.01, decay=1e-6, momentum=0.9, nesterov=True)\n",
    "#model.compile(optimizer=sgd,loss='binary_crossentropy',metrics=['accuracy'])\n",
    "model.compile(optimizer=Adam(lr=0.001),loss='binary_crossentropy',metrics=['accuracy'])\n",
    "\n",
    "model.summary()\n",
    "\n",
    "history = model.fit(X, y, validation_split=0.3, epochs=20)  # starts training\n",
    "\n"
   ]
  },
  {
   "cell_type": "code",
   "execution_count": 11,
   "metadata": {},
   "outputs": [
    {
     "name": "stdout",
     "output_type": "stream",
     "text": [
      "Convolution parameter shape: (41, 4)\n",
      "PWM top base prediction:  12 out of 41\n"
     ]
    }
   ],
   "source": [
    "# I want to see if I can train the weights of the first conv layer to recover the \n",
    "# RNAP position weight matrix. I decided on using 1 filter with kernel size equal to \n",
    "# the sequences length (41). I will have to play around it with it more, right now the predictions\n",
    "# for the PWM don't look better than random ,on average, although sometimes I can get more than 60%\n",
    "# accuracy, though that might just be chance.\n",
    "\n",
    "convlayer = model.layers[0]\n",
    "weights = convlayer.get_weights()[0].squeeze()\n",
    "print('Convolution parameter shape: {}'.format(weights.shape))\n",
    "\n",
    "num2seq = ['A','C','G','T']\n",
    "\n",
    "test_pred = ''.join([num2seq[np.argmax(weights[i,:])] for i in range(weights.shape[0])])\n",
    "\n",
    "\n",
    "# characters stacked at the top of the RNAP PWM logo\n",
    "top_logo_chars = ['C','T','A','C','T','A','C','A','C','G',\n",
    "                  'C','C','C','C','A','T','A','T','T','G',\n",
    "                  'A','G','C','G','A','T','C','C','C','G',\n",
    "                  'G','G','T','T','C','C','C','C','C','C',\n",
    "                  'G']\n",
    "\n",
    "test_pred_array = np.array(list(test_pred))\n",
    "test_pred_array\n",
    "\n",
    "total = 0\n",
    "for base_index in range(len(np.array(top_logo_chars))):\n",
    "    if(top_logo_chars[base_index]==test_pred_array[base_index]):\n",
    "        total+=1\n",
    "print(\"PWM top base prediction: \",total,\"out of 41\")  "
   ]
  },
  {
   "cell_type": "markdown",
   "metadata": {},
   "source": [
    "## Plot Loss functions and model Accuracy"
   ]
  },
  {
   "cell_type": "code",
   "execution_count": 12,
   "metadata": {
    "colab": {
     "base_uri": "https://localhost:8080/",
     "height": 376
    },
    "colab_type": "code",
    "id": "-VpzZqooOAPx",
    "outputId": "30d34bfd-b21e-47c7-9c64-d1cf407b23c6"
   },
   "outputs": [
    {
     "data": {
      "image/png": "[encoded data removed]",
      "text/plain": [
       "<Figure size 432x288 with 1 Axes>"
      ]
     },
     "metadata": {},
     "output_type": "display_data"
    }
   ],
   "source": [
    "import numpy as np\n",
    "import pandas as pd\n",
    "import matplotlib.pyplot as plt\n",
    "\n",
    "plt.figure()\n",
    "plt.plot(history.history['loss'])\n",
    "plt.plot(history.history['val_loss'])\n",
    "plt.title('model loss')\n",
    "plt.ylabel('loss')\n",
    "plt.xlabel('epoch')\n",
    "plt.legend(['train', 'validation'])\n",
    "plt.show()"
   ]
  },
  {
   "cell_type": "code",
   "execution_count": 13,
   "metadata": {
    "colab": {
     "base_uri": "https://localhost:8080/",
     "height": 376
    },
    "colab_type": "code",
    "id": "VeIdsrBEO49U",
    "outputId": "04003ed6-30d1-494a-da95-3672e19fb46d"
   },
   "outputs": [
    {
     "data": {
      "image/png": "[encoded data removed]",
      "text/plain": [
       "<Figure size 432x288 with 1 Axes>"
      ]
     },
     "metadata": {},
     "output_type": "display_data"
    }
   ],
   "source": [
    "plt.figure()\n",
    "plt.plot(history.history['acc'])\n",
    "plt.plot(history.history['val_acc'])\n",
    "plt.title('model accuracy')\n",
    "plt.ylabel('accuracy')\n",
    "plt.xlabel('epoch')\n",
    "plt.legend(['train', 'validation'])\n",
    "plt.show()"
   ]
  },
  {
   "cell_type": "markdown",
   "metadata": {},
   "source": [
    "## Make predictions"
   ]
  },
  {
   "cell_type": "code",
   "execution_count": 14,
   "metadata": {
    "collapsed": true
   },
   "outputs": [],
   "source": [
    "y_pred_pos = model.predict(test_pos_tensor)\n",
    "y_pred_neg = model.predict(test_neg_tensor)"
   ]
  },
  {
   "cell_type": "code",
   "execution_count": 15,
   "metadata": {},
   "outputs": [
    {
     "data": {
      "image/png": "[encoded data removed]",
      "text/plain": [
       "<Figure size 432x288 with 1 Axes>"
      ]
     },
     "metadata": {},
     "output_type": "display_data"
    }
   ],
   "source": [
    "plt.hist(y_pred_pos,bins=25,label='positive_test')\n",
    "plt.hist(y_pred_neg,bins=25,label='negative_test')\n",
    "plt.legend()\n",
    "plt.show()"
   ]
  },
  {
   "cell_type": "code",
   "execution_count": 16,
   "metadata": {},
   "outputs": [],
   "source": [
    "wrong_neg_predictions = 0\n",
    "for neg_index in range(len(y_test[1000:2000].reshape(1000,1))):\n",
    "    if(abs(y_pred_neg[neg_index]-y_test[neg_index+1000])>0.1):\n",
    "        #print(neg_index,y_pred_neg[neg_index])\n",
    "        wrong_neg_predictions+=1\n",
    "\n",
    "wrong_pos_predictions = 0\n",
    "for pos_index in range(len(y_test[0:1000].reshape(1000,1))):\n",
    "    if(abs(y_pred_pos[pos_index]-y_test[pos_index])>0.1):\n",
    "        #print(pos_index,y_pred_pos[pos_index])\n",
    "        wrong_pos_predictions+=1\n"
   ]
  },
  {
   "cell_type": "code",
   "execution_count": 17,
   "metadata": {},
   "outputs": [
    {
     "name": "stdout",
     "output_type": "stream",
     "text": [
      "wrong predictions on negative test: 10 out of  1000  predictions\n",
      "wrong predictions on positive test: 0  out of  1000  predictions\n"
     ]
    }
   ],
   "source": [
    "print(\"wrong predictions on negative test:\",wrong_neg_predictions, \"out of \",len(y_pred_pos),\" predictions\")\n",
    "print(\"wrong predictions on positive test:\",wrong_pos_predictions,\" out of \",len(y_pred_neg),\" predictions\")"
   ]
  },
  {
   "cell_type": "code",
   "execution_count": null,
   "metadata": {
    "collapsed": true
   },
   "outputs": [],
   "source": []
  }
 ],
 "metadata": {
  "colab": {
   "collapsed_sections": [],
   "name": "motif_learn_convnet.ipynb",
   "provenance": [],
   "version": "0.3.2"
  },
  "kernelspec": {
   "display_name": "Python 3",
   "language": "python",
   "name": "python3"
  },
  "language_info": {
   "codemirror_mode": {
    "name": "ipython",
    "version": 3
   },
   "file_extension": ".py",
   "mimetype": "text/x-python",
   "name": "python",
   "nbconvert_exporter": "python",
   "pygments_lexer": "ipython3",
   "version": "3.6.2"
  }
 },
 "nbformat": 4,
 "nbformat_minor": 1
}
