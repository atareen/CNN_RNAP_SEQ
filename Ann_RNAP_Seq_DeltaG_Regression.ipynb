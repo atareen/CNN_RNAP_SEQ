{
 "cells": [
  {
   "cell_type": "markdown",
   "metadata": {},
   "source": [
    "### Import libraries and read data"
   ]
  },
  {
   "cell_type": "code",
   "execution_count": 1,
   "metadata": {
    "collapsed": true
   },
   "outputs": [],
   "source": [
    "import pandas as pd\n",
    "import numpy as np\n",
    "import numpy as np\n",
    "import pandas as pd\n",
    "import matplotlib.pyplot as plt\n",
    "\n",
    "input_data_ordered_raw =  pd.read_csv('rnap_scanned_over_ecoli_genome200k.csv')\n",
    "sequences = input_data_ordered_raw['seq'].tolist()"
   ]
  },
  {
   "cell_type": "code",
   "execution_count": 2,
   "metadata": {},
   "outputs": [
    {
     "data": {
      "text/html": [
       "<div>\n",
       "<style scoped>\n",
       "    .dataframe tbody tr th:only-of-type {\n",
       "        vertical-align: middle;\n",
       "    }\n",
       "\n",
       "    .dataframe tbody tr th {\n",
       "        vertical-align: top;\n",
       "    }\n",
       "\n",
       "    .dataframe thead th {\n",
       "        text-align: right;\n",
       "    }\n",
       "</style>\n",
       "<table border=\"1\" class=\"dataframe\">\n",
       "  <thead>\n",
       "    <tr style=\"text-align: right;\">\n",
       "      <th></th>\n",
       "      <th>Unnamed: 0</th>\n",
       "      <th>val</th>\n",
       "      <th>seq</th>\n",
       "      <th>left</th>\n",
       "      <th>right</th>\n",
       "      <th>ori</th>\n",
       "      <th>contig</th>\n",
       "    </tr>\n",
       "  </thead>\n",
       "  <tbody>\n",
       "    <tr>\n",
       "      <th>0</th>\n",
       "      <td>0</td>\n",
       "      <td>23.9083</td>\n",
       "      <td>CTATTACCTGCCCACGGTAAAGGCGTTCTGGTTGCCCTACG</td>\n",
       "      <td>3695629</td>\n",
       "      <td>3695669</td>\n",
       "      <td>+</td>\n",
       "      <td>MG1655.fa</td>\n",
       "    </tr>\n",
       "    <tr>\n",
       "      <th>1</th>\n",
       "      <td>1</td>\n",
       "      <td>23.5831</td>\n",
       "      <td>TTTCTGCCCGCGGCCTGGCAATTGATACCGCCTTGCCATCG</td>\n",
       "      <td>1109059</td>\n",
       "      <td>1109099</td>\n",
       "      <td>+</td>\n",
       "      <td>MG1655.fa</td>\n",
       "    </tr>\n",
       "    <tr>\n",
       "      <th>2</th>\n",
       "      <td>2</td>\n",
       "      <td>23.4205</td>\n",
       "      <td>TTTTTACACGCCTTGCGTAAAGCGGCACGGCGCGGGGTGCG</td>\n",
       "      <td>822216</td>\n",
       "      <td>822256</td>\n",
       "      <td>-</td>\n",
       "      <td>MG1655.fa</td>\n",
       "    </tr>\n",
       "    <tr>\n",
       "      <th>3</th>\n",
       "      <td>3</td>\n",
       "      <td>23.4098</td>\n",
       "      <td>TTGCTGCCTGGCCGATGGTCTATGCCGCTGCGTTCTCCGGC</td>\n",
       "      <td>772478</td>\n",
       "      <td>772518</td>\n",
       "      <td>+</td>\n",
       "      <td>MG1655.fa</td>\n",
       "    </tr>\n",
       "    <tr>\n",
       "      <th>4</th>\n",
       "      <td>4</td>\n",
       "      <td>23.3640</td>\n",
       "      <td>CTTTTACACGCAAAATGCCGTCACGTTCACGGGTCTGGGCT</td>\n",
       "      <td>2748531</td>\n",
       "      <td>2748571</td>\n",
       "      <td>+</td>\n",
       "      <td>MG1655.fa</td>\n",
       "    </tr>\n",
       "  </tbody>\n",
       "</table>\n",
       "</div>"
      ],
      "text/plain": [
       "   Unnamed: 0      val                                        seq     left  \\\n",
       "0           0  23.9083  CTATTACCTGCCCACGGTAAAGGCGTTCTGGTTGCCCTACG  3695629   \n",
       "1           1  23.5831  TTTCTGCCCGCGGCCTGGCAATTGATACCGCCTTGCCATCG  1109059   \n",
       "2           2  23.4205  TTTTTACACGCCTTGCGTAAAGCGGCACGGCGCGGGGTGCG   822216   \n",
       "3           3  23.4098  TTGCTGCCTGGCCGATGGTCTATGCCGCTGCGTTCTCCGGC   772478   \n",
       "4           4  23.3640  CTTTTACACGCAAAATGCCGTCACGTTCACGGGTCTGGGCT  2748531   \n",
       "\n",
       "     right ori     contig  \n",
       "0  3695669   +  MG1655.fa  \n",
       "1  1109099   +  MG1655.fa  \n",
       "2   822256   -  MG1655.fa  \n",
       "3   772518   +  MG1655.fa  \n",
       "4  2748571   +  MG1655.fa  "
      ]
     },
     "execution_count": 2,
     "metadata": {},
     "output_type": "execute_result"
    }
   ],
   "source": [
    "input_data_ordered_raw.head()\n",
    "#np.random.seed(0)"
   ]
  },
  {
   "cell_type": "code",
   "execution_count": 3,
   "metadata": {},
   "outputs": [
    {
     "data": {
      "image/png": "[encoded data removed]",
      "text/plain": [
       "<Figure size 432x288 with 1 Axes>"
      ]
     },
     "metadata": {},
     "output_type": "display_data"
    }
   ],
   "source": [
    "T = 300\n",
    "t_max = 15\n",
    "t_bg = 0.01\n",
    "\n",
    "size_of_data = 40000\n",
    "\n",
    "input_data_ordered_raw_copy = input_data_ordered_raw[0:size_of_data].copy()\n",
    "\n",
    "temp = np.exp(-(np.array(input_data_ordered_raw['val'][0:size_of_data]))/T)/(1+np.exp(-(np.array(input_data_ordered_raw['val'][0:size_of_data]))/T))\n",
    "plt.hist(t_max*temp+t_bg,bins=100)\n",
    "plt.show()\n",
    "#np.array(input_data_ordered_raw['val'][0:100000])\n"
   ]
  },
  {
   "cell_type": "markdown",
   "metadata": {},
   "source": [
    "### Add transcription column to dataframe"
   ]
  },
  {
   "cell_type": "code",
   "execution_count": 4,
   "metadata": {
    "collapsed": true
   },
   "outputs": [],
   "source": [
    "input_data_ordered_raw_copy['t'] = t_max*temp+t_bg"
   ]
  },
  {
   "cell_type": "code",
   "execution_count": 5,
   "metadata": {},
   "outputs": [
    {
     "data": {
      "text/html": [
       "<div>\n",
       "<style scoped>\n",
       "    .dataframe tbody tr th:only-of-type {\n",
       "        vertical-align: middle;\n",
       "    }\n",
       "\n",
       "    .dataframe tbody tr th {\n",
       "        vertical-align: top;\n",
       "    }\n",
       "\n",
       "    .dataframe thead th {\n",
       "        text-align: right;\n",
       "    }\n",
       "</style>\n",
       "<table border=\"1\" class=\"dataframe\">\n",
       "  <thead>\n",
       "    <tr style=\"text-align: right;\">\n",
       "      <th></th>\n",
       "      <th>Unnamed: 0</th>\n",
       "      <th>val</th>\n",
       "      <th>seq</th>\n",
       "      <th>left</th>\n",
       "      <th>right</th>\n",
       "      <th>ori</th>\n",
       "      <th>contig</th>\n",
       "      <th>t</th>\n",
       "    </tr>\n",
       "  </thead>\n",
       "  <tbody>\n",
       "    <tr>\n",
       "      <th>0</th>\n",
       "      <td>0</td>\n",
       "      <td>23.9083</td>\n",
       "      <td>CTATTACCTGCCCACGGTAAAGGCGTTCTGGTTGCCCTACG</td>\n",
       "      <td>3695629</td>\n",
       "      <td>3695669</td>\n",
       "      <td>+</td>\n",
       "      <td>MG1655.fa</td>\n",
       "      <td>7.211304</td>\n",
       "    </tr>\n",
       "    <tr>\n",
       "      <th>1</th>\n",
       "      <td>1</td>\n",
       "      <td>23.5831</td>\n",
       "      <td>TTTCTGCCCGCGGCCTGGCAATTGATACCGCCTTGCCATCG</td>\n",
       "      <td>1109059</td>\n",
       "      <td>1109099</td>\n",
       "      <td>+</td>\n",
       "      <td>MG1655.fa</td>\n",
       "      <td>7.215363</td>\n",
       "    </tr>\n",
       "    <tr>\n",
       "      <th>2</th>\n",
       "      <td>2</td>\n",
       "      <td>23.4205</td>\n",
       "      <td>TTTTTACACGCCTTGCGTAAAGCGGCACGGCGCGGGGTGCG</td>\n",
       "      <td>822216</td>\n",
       "      <td>822256</td>\n",
       "      <td>-</td>\n",
       "      <td>MG1655.fa</td>\n",
       "      <td>7.217392</td>\n",
       "    </tr>\n",
       "    <tr>\n",
       "      <th>3</th>\n",
       "      <td>3</td>\n",
       "      <td>23.4098</td>\n",
       "      <td>TTGCTGCCTGGCCGATGGTCTATGCCGCTGCGTTCTCCGGC</td>\n",
       "      <td>772478</td>\n",
       "      <td>772518</td>\n",
       "      <td>+</td>\n",
       "      <td>MG1655.fa</td>\n",
       "      <td>7.217526</td>\n",
       "    </tr>\n",
       "    <tr>\n",
       "      <th>4</th>\n",
       "      <td>4</td>\n",
       "      <td>23.3640</td>\n",
       "      <td>CTTTTACACGCAAAATGCCGTCACGTTCACGGGTCTGGGCT</td>\n",
       "      <td>2748531</td>\n",
       "      <td>2748571</td>\n",
       "      <td>+</td>\n",
       "      <td>MG1655.fa</td>\n",
       "      <td>7.218098</td>\n",
       "    </tr>\n",
       "  </tbody>\n",
       "</table>\n",
       "</div>"
      ],
      "text/plain": [
       "   Unnamed: 0      val                                        seq     left  \\\n",
       "0           0  23.9083  CTATTACCTGCCCACGGTAAAGGCGTTCTGGTTGCCCTACG  3695629   \n",
       "1           1  23.5831  TTTCTGCCCGCGGCCTGGCAATTGATACCGCCTTGCCATCG  1109059   \n",
       "2           2  23.4205  TTTTTACACGCCTTGCGTAAAGCGGCACGGCGCGGGGTGCG   822216   \n",
       "3           3  23.4098  TTGCTGCCTGGCCGATGGTCTATGCCGCTGCGTTCTCCGGC   772478   \n",
       "4           4  23.3640  CTTTTACACGCAAAATGCCGTCACGTTCACGGGTCTGGGCT  2748531   \n",
       "\n",
       "     right ori     contig         t  \n",
       "0  3695669   +  MG1655.fa  7.211304  \n",
       "1  1109099   +  MG1655.fa  7.215363  \n",
       "2   822256   -  MG1655.fa  7.217392  \n",
       "3   772518   +  MG1655.fa  7.217526  \n",
       "4  2748571   +  MG1655.fa  7.218098  "
      ]
     },
     "execution_count": 5,
     "metadata": {},
     "output_type": "execute_result"
    }
   ],
   "source": [
    "input_data_ordered_raw_copy.head()"
   ]
  },
  {
   "cell_type": "markdown",
   "metadata": {},
   "source": [
    "### Draw read counts according to poission distribution and add to dataframe"
   ]
  },
  {
   "cell_type": "code",
   "execution_count": 6,
   "metadata": {
    "collapsed": true
   },
   "outputs": [],
   "source": [
    "lamba_poission = 0.5\n",
    "C = np.random.poisson(lamba_poission*input_data_ordered_raw_copy['t'][0:size_of_data])\n"
   ]
  },
  {
   "cell_type": "code",
   "execution_count": 7,
   "metadata": {
    "collapsed": true
   },
   "outputs": [],
   "source": [
    "t_norm = (temp-min(temp))/(max(temp)-min(temp))\n",
    "input_data_ordered_raw_copy['t_norm'] = t_norm"
   ]
  },
  {
   "cell_type": "code",
   "execution_count": 8,
   "metadata": {
    "collapsed": true
   },
   "outputs": [],
   "source": [
    "C_norm = (C-min(C))/(max(C)-min(C))\n",
    "input_data_ordered_raw_copy['C'] = C_norm"
   ]
  },
  {
   "cell_type": "code",
   "execution_count": 9,
   "metadata": {
    "collapsed": true
   },
   "outputs": [],
   "source": [
    "val_norm_temp = input_data_ordered_raw_copy['val']\n",
    "val_norm = (val_norm_temp-min(val_norm_temp))/(max(val_norm_temp)-min(val_norm_temp))\n",
    "input_data_ordered_raw_copy['val_norm'] = val_norm"
   ]
  },
  {
   "cell_type": "code",
   "execution_count": 10,
   "metadata": {},
   "outputs": [
    {
     "data": {
      "image/png": "[encoded data removed]",
      "text/plain": [
       "<Figure size 432x288 with 1 Axes>"
      ]
     },
     "metadata": {},
     "output_type": "display_data"
    }
   ],
   "source": [
    "plt.hist(input_data_ordered_raw_copy['C'],bins=100)\n",
    "plt.show()"
   ]
  },
  {
   "cell_type": "code",
   "execution_count": 11,
   "metadata": {},
   "outputs": [
    {
     "data": {
      "text/html": [
       "<div>\n",
       "<style scoped>\n",
       "    .dataframe tbody tr th:only-of-type {\n",
       "        vertical-align: middle;\n",
       "    }\n",
       "\n",
       "    .dataframe tbody tr th {\n",
       "        vertical-align: top;\n",
       "    }\n",
       "\n",
       "    .dataframe thead th {\n",
       "        text-align: right;\n",
       "    }\n",
       "</style>\n",
       "<table border=\"1\" class=\"dataframe\">\n",
       "  <thead>\n",
       "    <tr style=\"text-align: right;\">\n",
       "      <th></th>\n",
       "      <th>Unnamed: 0</th>\n",
       "      <th>val</th>\n",
       "      <th>seq</th>\n",
       "      <th>left</th>\n",
       "      <th>right</th>\n",
       "      <th>ori</th>\n",
       "      <th>contig</th>\n",
       "      <th>t</th>\n",
       "      <th>t_norm</th>\n",
       "      <th>C</th>\n",
       "      <th>val_norm</th>\n",
       "    </tr>\n",
       "  </thead>\n",
       "  <tbody>\n",
       "    <tr>\n",
       "      <th>0</th>\n",
       "      <td>0</td>\n",
       "      <td>23.9083</td>\n",
       "      <td>CTATTACCTGCCCACGGTAAAGGCGTTCTGGTTGCCCTACG</td>\n",
       "      <td>3695629</td>\n",
       "      <td>3695669</td>\n",
       "      <td>+</td>\n",
       "      <td>MG1655.fa</td>\n",
       "      <td>7.211304</td>\n",
       "      <td>0.000000</td>\n",
       "      <td>0.142857</td>\n",
       "      <td>1.000000</td>\n",
       "    </tr>\n",
       "    <tr>\n",
       "      <th>1</th>\n",
       "      <td>1</td>\n",
       "      <td>23.5831</td>\n",
       "      <td>TTTCTGCCCGCGGCCTGGCAATTGATACCGCCTTGCCATCG</td>\n",
       "      <td>1109059</td>\n",
       "      <td>1109099</td>\n",
       "      <td>+</td>\n",
       "      <td>MG1655.fa</td>\n",
       "      <td>7.215363</td>\n",
       "      <td>0.090635</td>\n",
       "      <td>0.357143</td>\n",
       "      <td>0.909347</td>\n",
       "    </tr>\n",
       "    <tr>\n",
       "      <th>2</th>\n",
       "      <td>2</td>\n",
       "      <td>23.4205</td>\n",
       "      <td>TTTTTACACGCCTTGCGTAAAGCGGCACGGCGCGGGGTGCG</td>\n",
       "      <td>822216</td>\n",
       "      <td>822256</td>\n",
       "      <td>-</td>\n",
       "      <td>MG1655.fa</td>\n",
       "      <td>7.217392</td>\n",
       "      <td>0.135953</td>\n",
       "      <td>0.071429</td>\n",
       "      <td>0.864020</td>\n",
       "    </tr>\n",
       "    <tr>\n",
       "      <th>3</th>\n",
       "      <td>3</td>\n",
       "      <td>23.4098</td>\n",
       "      <td>TTGCTGCCTGGCCGATGGTCTATGCCGCTGCGTTCTCCGGC</td>\n",
       "      <td>772478</td>\n",
       "      <td>772518</td>\n",
       "      <td>+</td>\n",
       "      <td>MG1655.fa</td>\n",
       "      <td>7.217526</td>\n",
       "      <td>0.138936</td>\n",
       "      <td>0.142857</td>\n",
       "      <td>0.861038</td>\n",
       "    </tr>\n",
       "    <tr>\n",
       "      <th>4</th>\n",
       "      <td>4</td>\n",
       "      <td>23.3640</td>\n",
       "      <td>CTTTTACACGCAAAATGCCGTCACGTTCACGGGTCTGGGCT</td>\n",
       "      <td>2748531</td>\n",
       "      <td>2748571</td>\n",
       "      <td>+</td>\n",
       "      <td>MG1655.fa</td>\n",
       "      <td>7.218098</td>\n",
       "      <td>0.151701</td>\n",
       "      <td>0.071429</td>\n",
       "      <td>0.848270</td>\n",
       "    </tr>\n",
       "    <tr>\n",
       "      <th>5</th>\n",
       "      <td>5</td>\n",
       "      <td>23.2930</td>\n",
       "      <td>TTCATACACGCCCCCTTGCAGTGCATGCGGCGTCCTGCTGG</td>\n",
       "      <td>2086277</td>\n",
       "      <td>2086317</td>\n",
       "      <td>+</td>\n",
       "      <td>MG1655.fa</td>\n",
       "      <td>7.218984</td>\n",
       "      <td>0.171490</td>\n",
       "      <td>0.071429</td>\n",
       "      <td>0.828478</td>\n",
       "    </tr>\n",
       "    <tr>\n",
       "      <th>6</th>\n",
       "      <td>6</td>\n",
       "      <td>23.2838</td>\n",
       "      <td>CCACAGCATGGGCCACGTTCACGGCTTCAGCGGTGGACATA</td>\n",
       "      <td>2203474</td>\n",
       "      <td>2203514</td>\n",
       "      <td>-</td>\n",
       "      <td>MG1655.fa</td>\n",
       "      <td>7.219099</td>\n",
       "      <td>0.174054</td>\n",
       "      <td>0.000000</td>\n",
       "      <td>0.825914</td>\n",
       "    </tr>\n",
       "    <tr>\n",
       "      <th>7</th>\n",
       "      <td>7</td>\n",
       "      <td>23.2608</td>\n",
       "      <td>GATATGCATGCGCTACTCGCAACAGTACAGGCGTCGTCCCC</td>\n",
       "      <td>2697275</td>\n",
       "      <td>2697315</td>\n",
       "      <td>+</td>\n",
       "      <td>MG1655.fa</td>\n",
       "      <td>7.219386</td>\n",
       "      <td>0.180465</td>\n",
       "      <td>0.285714</td>\n",
       "      <td>0.819502</td>\n",
       "    </tr>\n",
       "    <tr>\n",
       "      <th>8</th>\n",
       "      <td>8</td>\n",
       "      <td>23.2593</td>\n",
       "      <td>AACCTGCACGCGCCATCTTAATGGCTTCAGTCAGCGCCTCA</td>\n",
       "      <td>923886</td>\n",
       "      <td>923926</td>\n",
       "      <td>-</td>\n",
       "      <td>MG1655.fa</td>\n",
       "      <td>7.219404</td>\n",
       "      <td>0.180883</td>\n",
       "      <td>0.428571</td>\n",
       "      <td>0.819084</td>\n",
       "    </tr>\n",
       "    <tr>\n",
       "      <th>9</th>\n",
       "      <td>9</td>\n",
       "      <td>23.2508</td>\n",
       "      <td>ATTAAACACGCCGCGCAGCACCCCGGCCAGCGTTCCCATCA</td>\n",
       "      <td>2674457</td>\n",
       "      <td>2674497</td>\n",
       "      <td>+</td>\n",
       "      <td>MG1655.fa</td>\n",
       "      <td>7.219510</td>\n",
       "      <td>0.183252</td>\n",
       "      <td>0.357143</td>\n",
       "      <td>0.816715</td>\n",
       "    </tr>\n",
       "  </tbody>\n",
       "</table>\n",
       "</div>"
      ],
      "text/plain": [
       "   Unnamed: 0      val                                        seq     left  \\\n",
       "0           0  23.9083  CTATTACCTGCCCACGGTAAAGGCGTTCTGGTTGCCCTACG  3695629   \n",
       "1           1  23.5831  TTTCTGCCCGCGGCCTGGCAATTGATACCGCCTTGCCATCG  1109059   \n",
       "2           2  23.4205  TTTTTACACGCCTTGCGTAAAGCGGCACGGCGCGGGGTGCG   822216   \n",
       "3           3  23.4098  TTGCTGCCTGGCCGATGGTCTATGCCGCTGCGTTCTCCGGC   772478   \n",
       "4           4  23.3640  CTTTTACACGCAAAATGCCGTCACGTTCACGGGTCTGGGCT  2748531   \n",
       "5           5  23.2930  TTCATACACGCCCCCTTGCAGTGCATGCGGCGTCCTGCTGG  2086277   \n",
       "6           6  23.2838  CCACAGCATGGGCCACGTTCACGGCTTCAGCGGTGGACATA  2203474   \n",
       "7           7  23.2608  GATATGCATGCGCTACTCGCAACAGTACAGGCGTCGTCCCC  2697275   \n",
       "8           8  23.2593  AACCTGCACGCGCCATCTTAATGGCTTCAGTCAGCGCCTCA   923886   \n",
       "9           9  23.2508  ATTAAACACGCCGCGCAGCACCCCGGCCAGCGTTCCCATCA  2674457   \n",
       "\n",
       "     right ori     contig         t    t_norm         C  val_norm  \n",
       "0  3695669   +  MG1655.fa  7.211304  0.000000  0.142857  1.000000  \n",
       "1  1109099   +  MG1655.fa  7.215363  0.090635  0.357143  0.909347  \n",
       "2   822256   -  MG1655.fa  7.217392  0.135953  0.071429  0.864020  \n",
       "3   772518   +  MG1655.fa  7.217526  0.138936  0.142857  0.861038  \n",
       "4  2748571   +  MG1655.fa  7.218098  0.151701  0.071429  0.848270  \n",
       "5  2086317   +  MG1655.fa  7.218984  0.171490  0.071429  0.828478  \n",
       "6  2203514   -  MG1655.fa  7.219099  0.174054  0.000000  0.825914  \n",
       "7  2697315   +  MG1655.fa  7.219386  0.180465  0.285714  0.819502  \n",
       "8   923926   -  MG1655.fa  7.219404  0.180883  0.428571  0.819084  \n",
       "9  2674497   +  MG1655.fa  7.219510  0.183252  0.357143  0.816715  "
      ]
     },
     "execution_count": 11,
     "metadata": {},
     "output_type": "execute_result"
    }
   ],
   "source": [
    "input_data_ordered_raw_copy.head(10)"
   ]
  },
  {
   "cell_type": "markdown",
   "metadata": {},
   "source": [
    "## Split the data into test and train"
   ]
  },
  {
   "cell_type": "code",
   "execution_count": 12,
   "metadata": {
    "collapsed": true
   },
   "outputs": [],
   "source": [
    "from sklearn.model_selection import train_test_split"
   ]
  },
  {
   "cell_type": "code",
   "execution_count": 13,
   "metadata": {
    "collapsed": true
   },
   "outputs": [],
   "source": [
    "#x_train, x_test, y_train, y_test = train_test_split(input_data_ordered_raw_copy['seq'],input_data_ordered_raw_copy['t_norm'],test_size=0.2,random_state=4)\n",
    "#x_train, x_test, y_train, y_test = train_test_split(input_data_ordered_raw_copy['seq'],input_data_ordered_raw_copy['C'],test_size=0.2)\n",
    "x_train, x_test, y_train, y_test = train_test_split(input_data_ordered_raw_copy['seq'],input_data_ordered_raw_copy['val_norm'],test_size=0.2)"
   ]
  },
  {
   "cell_type": "code",
   "execution_count": 14,
   "metadata": {},
   "outputs": [
    {
     "data": {
      "image/png": "[encoded data removed]",
      "text/plain": [
       "<Figure size 432x288 with 1 Axes>"
      ]
     },
     "metadata": {},
     "output_type": "display_data"
    }
   ],
   "source": [
    "plt.hist(y_train,bins=100,color='r',density=True,alpha=0.5)\n",
    "plt.hist(y_test,bins=100,color='b',density=True,alpha=0.5)\n",
    "plt.show()"
   ]
  },
  {
   "cell_type": "markdown",
   "metadata": {},
   "source": [
    "## One-hot encode the data ... this takes a few minutes"
   ]
  },
  {
   "cell_type": "code",
   "execution_count": 15,
   "metadata": {
    "collapsed": true
   },
   "outputs": [],
   "source": [
    "temp_x_train = []\n",
    "temp_x_test = []\n",
    "\n",
    "for reshape_index in range(len(x_train)):\n",
    "    temp_x_train.append(list(np.array(x_train)[reshape_index]))\n",
    "\n",
    "for reshape_test_index in range(len(x_test)):\n",
    "    temp_x_test.append(list(np.array(x_test)[reshape_test_index]))\n",
    "    \n",
    "x_train = temp_x_train\n",
    "x_test = temp_x_test\n",
    "\n",
    "x_train = np.array(x_train)\n",
    "x_test = np.array(x_test)"
   ]
  },
  {
   "cell_type": "code",
   "execution_count": 16,
   "metadata": {
    "collapsed": true
   },
   "outputs": [],
   "source": [
    "x_train_tensor = np.zeros(list(x_train.shape) + [4])    # shape: (batch_size, 4)\n",
    "x_test_tensor = np.zeros(list(x_test.shape) + [4])    # shape: (batch_size, 4)\n",
    "base_dict = {'A': 0, 'C': 1, 'G': 2, 'T': 3}\n",
    "num_sample = len(x_train_tensor)\n",
    "seq_length = len(x_train[0])\n",
    "test_size = len(x_test)\n",
    "\n",
    "\n",
    "#naive one-hot encoding\n",
    "for row in range(num_sample):\n",
    "    for col in range(seq_length):\n",
    "        x_train_tensor[row,col,base_dict[x_train[row,col]]] = 1\n",
    "        if(row<test_size):\n",
    "            x_test_tensor[row,col,base_dict[x_test[row,col]]] = 1"
   ]
  },
  {
   "cell_type": "code",
   "execution_count": 17,
   "metadata": {},
   "outputs": [
    {
     "name": "stdout",
     "output_type": "stream",
     "text": [
      "Training set shape: (32000, 41, 4)\n",
      "Training set label shape: (32000,)\n",
      "Test set shape: (8000, 41, 4)\n",
      "Test set label shape: (8000,)\n"
     ]
    }
   ],
   "source": [
    "print('Training set shape: {}'.format(x_train_tensor.shape))\n",
    "print('Training set label shape: {}'.format(y_train.shape))\n",
    "\n",
    "print('Test set shape: {}'.format(x_test_tensor.shape))\n",
    "print('Test set label shape: {}'.format(y_test.shape))"
   ]
  },
  {
   "cell_type": "code",
   "execution_count": 18,
   "metadata": {},
   "outputs": [
    {
     "data": {
      "text/plain": [
       "'\\nx_train_flat = []\\nx_test_flat = []\\n\\nfor flatten_x_train_index in range(len(x_train_tensor)):\\n    x_train_flat.append(x_train_tensor[flatten_x_train_index].flatten())\\n    \\nfor flatten_x_test_index in range(len(x_test_tensor)):\\n    x_test_flat.append(x_test_tensor[flatten_x_test_index].flatten())  \\n\\n#np.shape(np.array(x_train_flat[0]).reshape(164,1))\\nx_train_flat = (np.array(x_train_flat).reshape(x_train_tensor.shape[0],x_train_tensor.shape[1]*x_train_tensor.shape[2],1))\\nx_test_flat = (np.array(x_test_flat).reshape(x_test_tensor.shape[0],x_test_tensor.shape[1]*x_test_tensor.shape[2],1))\\n'"
      ]
     },
     "execution_count": 18,
     "metadata": {},
     "output_type": "execute_result"
    }
   ],
   "source": [
    "'''\n",
    "x_train_flat = []\n",
    "x_test_flat = []\n",
    "\n",
    "for flatten_x_train_index in range(len(x_train_tensor)):\n",
    "    x_train_flat.append(x_train_tensor[flatten_x_train_index].flatten())\n",
    "    \n",
    "for flatten_x_test_index in range(len(x_test_tensor)):\n",
    "    x_test_flat.append(x_test_tensor[flatten_x_test_index].flatten())  \n",
    "\n",
    "#np.shape(np.array(x_train_flat[0]).reshape(164,1))\n",
    "x_train_flat = (np.array(x_train_flat).reshape(x_train_tensor.shape[0],x_train_tensor.shape[1]*x_train_tensor.shape[2],1))\n",
    "x_test_flat = (np.array(x_test_flat).reshape(x_test_tensor.shape[0],x_test_tensor.shape[1]*x_test_tensor.shape[2],1))\n",
    "'''    "
   ]
  },
  {
   "cell_type": "code",
   "execution_count": 19,
   "metadata": {},
   "outputs": [
    {
     "data": {
      "text/plain": [
       "(32000,)"
      ]
     },
     "execution_count": 19,
     "metadata": {},
     "output_type": "execute_result"
    }
   ],
   "source": [
    "y_train.shape"
   ]
  },
  {
   "cell_type": "code",
   "execution_count": 20,
   "metadata": {
    "collapsed": true
   },
   "outputs": [],
   "source": [
    "y_train = np.array(y_train).reshape(y_train.shape[0],1)"
   ]
  },
  {
   "cell_type": "markdown",
   "metadata": {},
   "source": [
    "## Custom error metric"
   ]
  },
  {
   "cell_type": "code",
   "execution_count": 21,
   "metadata": {
    "collapsed": true
   },
   "outputs": [],
   "source": [
    "# coefficient of determination (R^2) for regression\n",
    "def r_square(y_true, y_pred):\n",
    "    from keras import backend as K\n",
    "    SS_res =  K.sum(K.square(y_true - y_pred)) \n",
    "    SS_tot = K.sum(K.square(y_true - K.mean(y_true))) \n",
    "    return (1 - SS_res/(SS_tot + K.epsilon()))"
   ]
  },
  {
   "cell_type": "markdown",
   "metadata": {},
   "source": [
    "## Custom Loss"
   ]
  },
  {
   "cell_type": "code",
   "execution_count": 22,
   "metadata": {},
   "outputs": [
    {
     "name": "stderr",
     "output_type": "stream",
     "text": [
      "Using TensorFlow backend.\n"
     ]
    }
   ],
   "source": [
    "import keras.backend as K\n",
    "\n",
    "def customLoss(yTrue,yPred):\n",
    "    # Log-likelihood = sum_i=1 to (batch_size) [-Lambda + C_i log (Lambda) - Log(C_i!)]\n",
    "    # lambda is Lambda*t(x_i)\n",
    "    return K.sum(K.log(yTrue) - K.log(yPred))"
   ]
  },
  {
   "cell_type": "code",
   "execution_count": 23,
   "metadata": {
    "collapsed": true
   },
   "outputs": [],
   "source": [
    "from keras.models import Sequential \n",
    "from keras.layers import Dense, Activation, Flatten, Dropout \n",
    "from keras import regularizers\n",
    "from keras.optimizers import SGD, Adam\n",
    "#output_dim = nb_classes = 15 \n",
    "#input_dim = seq_length\n",
    "model = Sequential() \n",
    "model.add(Flatten())\n",
    "model.add(Dense(100, activation='relu',input_shape=(41,4)))\n",
    "model.add(Dropout(0.25))\n",
    "model.add(Dense(41, activation='relu'))\n",
    "model.add(Dropout(0.25))\n",
    "model.add(Dense(1, activation='linear'))\n",
    "\n",
    "#batch_size = 10000 \n",
    "#nb_epoch = 20"
   ]
  },
  {
   "cell_type": "code",
   "execution_count": null,
   "metadata": {
    "collapsed": true
   },
   "outputs": [],
   "source": [
    "#model.compile(loss='mean_absolute_error',optimizer=Adam(lr=0.00001), metrics=['accuracy'])\n",
    "model.compile(loss='mean_squared_error',optimizer=Adam(lr=0.0001), metrics=['mean_absolute_error',r_square])\n",
    "#model.compile(loss='mean_squared_error',optimizer=Adam(lr=0.0001), metrics=['mean_absolute_error'])"
   ]
  },
  {
   "cell_type": "code",
   "execution_count": null,
   "metadata": {},
   "outputs": [
    {
     "name": "stdout",
     "output_type": "stream",
     "text": [
      "Train on 25600 samples, validate on 6400 samples\n",
      "Epoch 1/75\n",
      "25600/25600 [==============================] - 1s 51us/step - loss: 0.0535 - mean_absolute_error: 0.1736 - r_square: -2.8069 - val_loss: 0.0200 - val_mean_absolute_error: 0.1003 - val_r_square: -0.3240\n",
      "Epoch 2/75\n",
      "25600/25600 [==============================] - 1s 35us/step - loss: 0.0220 - mean_absolute_error: 0.1118 - r_square: -0.4868 - val_loss: 0.0169 - val_mean_absolute_error: 0.0929 - val_r_square: -0.1016\n",
      "Epoch 3/75\n",
      "25600/25600 [==============================] - 1s 35us/step - loss: 0.0181 - mean_absolute_error: 0.1022 - r_square: -0.2008 - val_loss: 0.0158 - val_mean_absolute_error: 0.0932 - val_r_square: -0.0369\n",
      "Epoch 4/75\n",
      "25600/25600 [==============================] - 1s 35us/step - loss: 0.0167 - mean_absolute_error: 0.0986 - r_square: -0.0974 - val_loss: 0.0155 - val_mean_absolute_error: 0.0934 - val_r_square: -0.0222\n",
      "Epoch 5/75\n",
      "25600/25600 [==============================] - 1s 35us/step - loss: 0.0162 - mean_absolute_error: 0.0976 - r_square: -0.0656 - val_loss: 0.0153 - val_mean_absolute_error: 0.0935 - val_r_square: -0.0120\n",
      "Epoch 6/75\n",
      "25600/25600 [==============================] - 1s 36us/step - loss: 0.0159 - mean_absolute_error: 0.0970 - r_square: -0.0396 - val_loss: 0.0151 - val_mean_absolute_error: 0.0936 - val_r_square: 2.9798e-04\n",
      "Epoch 7/75\n",
      "25600/25600 [==============================] - 1s 35us/step - loss: 0.0155 - mean_absolute_error: 0.0962 - r_square: -0.0193 - val_loss: 0.0147 - val_mean_absolute_error: 0.0922 - val_r_square: 0.0269\n",
      "Epoch 8/75\n",
      "25600/25600 [==============================] - 1s 36us/step - loss: 0.0150 - mean_absolute_error: 0.0949 - r_square: 0.0098 - val_loss: 0.0138 - val_mean_absolute_error: 0.0889 - val_r_square: 0.0847\n",
      "Epoch 9/75\n",
      "25600/25600 [==============================] - 1s 36us/step - loss: 0.0138 - mean_absolute_error: 0.0914 - r_square: 0.0785 - val_loss: 0.0118 - val_mean_absolute_error: 0.0824 - val_r_square: 0.2095\n",
      "Epoch 10/75\n",
      "25600/25600 [==============================] - 1s 37us/step - loss: 0.0121 - mean_absolute_error: 0.0855 - r_square: 0.1810 - val_loss: 0.0097 - val_mean_absolute_error: 0.0743 - val_r_square: 0.3485\n",
      "Epoch 11/75\n",
      "25600/25600 [==============================] - 1s 36us/step - loss: 0.0103 - mean_absolute_error: 0.0779 - r_square: 0.2911 - val_loss: 0.0072 - val_mean_absolute_error: 0.0653 - val_r_square: 0.5032\n",
      "Epoch 12/75\n",
      "25600/25600 [==============================] - 1s 36us/step - loss: 0.0088 - mean_absolute_error: 0.0717 - r_square: 0.3844 - val_loss: 0.0057 - val_mean_absolute_error: 0.0596 - val_r_square: 0.5936\n",
      "Epoch 13/75\n",
      "25600/25600 [==============================] - 1s 37us/step - loss: 0.0075 - mean_absolute_error: 0.0660 - r_square: 0.4729 - val_loss: 0.0043 - val_mean_absolute_error: 0.0522 - val_r_square: 0.6889\n",
      "Epoch 14/75\n",
      "25600/25600 [==============================] - 1s 37us/step - loss: 0.0067 - mean_absolute_error: 0.0622 - r_square: 0.5318 - val_loss: 0.0037 - val_mean_absolute_error: 0.0492 - val_r_square: 0.7249\n",
      "Epoch 15/75\n",
      "25600/25600 [==============================] - 1s 37us/step - loss: 0.0060 - mean_absolute_error: 0.0589 - r_square: 0.5769 - val_loss: 0.0033 - val_mean_absolute_error: 0.0459 - val_r_square: 0.7573\n",
      "Epoch 16/75\n",
      "25600/25600 [==============================] - 1s 37us/step - loss: 0.0053 - mean_absolute_error: 0.0558 - r_square: 0.6240 - val_loss: 0.0028 - val_mean_absolute_error: 0.0421 - val_r_square: 0.7929\n",
      "Epoch 17/75\n",
      "25600/25600 [==============================] - 1s 38us/step - loss: 0.0049 - mean_absolute_error: 0.0529 - r_square: 0.6527 - val_loss: 0.0027 - val_mean_absolute_error: 0.0417 - val_r_square: 0.7979\n",
      "Epoch 18/75\n",
      "25600/25600 [==============================] - 1s 37us/step - loss: 0.0045 - mean_absolute_error: 0.0507 - r_square: 0.6837 - val_loss: 0.0023 - val_mean_absolute_error: 0.0376 - val_r_square: 0.8316\n",
      "Epoch 19/75\n",
      "25600/25600 [==============================] - 1s 38us/step - loss: 0.0042 - mean_absolute_error: 0.0489 - r_square: 0.6990 - val_loss: 0.0019 - val_mean_absolute_error: 0.0342 - val_r_square: 0.8573\n",
      "Epoch 20/75\n",
      "25600/25600 [==============================] - 1s 38us/step - loss: 0.0039 - mean_absolute_error: 0.0469 - r_square: 0.7241 - val_loss: 0.0018 - val_mean_absolute_error: 0.0326 - val_r_square: 0.8688\n",
      "Epoch 21/75\n",
      "25600/25600 [==============================] - 1s 44us/step - loss: 0.0035 - mean_absolute_error: 0.0442 - r_square: 0.7534 - val_loss: 0.0017 - val_mean_absolute_error: 0.0323 - val_r_square: 0.8732\n",
      "Epoch 22/75\n",
      "25600/25600 [==============================] - 1s 44us/step - loss: 0.0033 - mean_absolute_error: 0.0425 - r_square: 0.7680 - val_loss: 0.0015 - val_mean_absolute_error: 0.0292 - val_r_square: 0.8920\n",
      "Epoch 23/75\n",
      "25600/25600 [==============================] - 1s 46us/step - loss: 0.0030 - mean_absolute_error: 0.0407 - r_square: 0.7880 - val_loss: 0.0013 - val_mean_absolute_error: 0.0272 - val_r_square: 0.9053\n",
      "Epoch 24/75\n",
      "25600/25600 [==============================] - 1s 44us/step - loss: 0.0028 - mean_absolute_error: 0.0387 - r_square: 0.8070 - val_loss: 0.0011 - val_mean_absolute_error: 0.0251 - val_r_square: 0.9177\n",
      "Epoch 25/75\n",
      "25600/25600 [==============================] - 1s 40us/step - loss: 0.0025 - mean_absolute_error: 0.0369 - r_square: 0.8247 - val_loss: 9.6554e-04 - val_mean_absolute_error: 0.0231 - val_r_square: 0.9274\n",
      "Epoch 26/75\n",
      "25600/25600 [==============================] - 1s 51us/step - loss: 0.0023 - mean_absolute_error: 0.0352 - r_square: 0.8402 - val_loss: 9.4779e-04 - val_mean_absolute_error: 0.0230 - val_r_square: 0.9301\n",
      "Epoch 27/75\n",
      "25600/25600 [==============================] - 1s 47us/step - loss: 0.0021 - mean_absolute_error: 0.0337 - r_square: 0.8528 - val_loss: 7.2646e-04 - val_mean_absolute_error: 0.0194 - val_r_square: 0.9451\n",
      "Epoch 28/75\n",
      "25600/25600 [==============================] - 1s 43us/step - loss: 0.0020 - mean_absolute_error: 0.0324 - r_square: 0.8632 - val_loss: 6.5656e-04 - val_mean_absolute_error: 0.0183 - val_r_square: 0.9503\n",
      "Epoch 29/75\n",
      "25600/25600 [==============================] - 1s 40us/step - loss: 0.0018 - mean_absolute_error: 0.0309 - r_square: 0.8740 - val_loss: 5.7327e-04 - val_mean_absolute_error: 0.0169 - val_r_square: 0.9566\n",
      "Epoch 30/75\n",
      "25600/25600 [==============================] - 1s 41us/step - loss: 0.0017 - mean_absolute_error: 0.0295 - r_square: 0.8844 - val_loss: 5.7758e-04 - val_mean_absolute_error: 0.0172 - val_r_square: 0.9572\n",
      "Epoch 31/75\n",
      "25600/25600 [==============================] - 1s 42us/step - loss: 0.0016 - mean_absolute_error: 0.0285 - r_square: 0.8905 - val_loss: 5.2394e-04 - val_mean_absolute_error: 0.0162 - val_r_square: 0.9612\n",
      "Epoch 32/75\n",
      "25600/25600 [==============================] - 1s 40us/step - loss: 0.0015 - mean_absolute_error: 0.0275 - r_square: 0.8968 - val_loss: 4.3681e-04 - val_mean_absolute_error: 0.0143 - val_r_square: 0.9673\n",
      "Epoch 33/75\n",
      "25600/25600 [==============================] - 1s 40us/step - loss: 0.0014 - mean_absolute_error: 0.0262 - r_square: 0.9077 - val_loss: 3.9591e-04 - val_mean_absolute_error: 0.0135 - val_r_square: 0.9704\n",
      "Epoch 34/75\n",
      "25600/25600 [==============================] - 1s 43us/step - loss: 0.0013 - mean_absolute_error: 0.0255 - r_square: 0.9100 - val_loss: 4.5022e-04 - val_mean_absolute_error: 0.0144 - val_r_square: 0.9675\n",
      "Epoch 35/75\n",
      "25600/25600 [==============================] - 1s 51us/step - loss: 0.0012 - mean_absolute_error: 0.0245 - r_square: 0.9153 - val_loss: 4.0867e-04 - val_mean_absolute_error: 0.0139 - val_r_square: 0.9701\n",
      "Epoch 36/75\n",
      "25600/25600 [==============================] - 1s 42us/step - loss: 0.0012 - mean_absolute_error: 0.0238 - r_square: 0.9197 - val_loss: 3.6481e-04 - val_mean_absolute_error: 0.0124 - val_r_square: 0.9737\n",
      "Epoch 37/75\n",
      "25600/25600 [==============================] - 1s 45us/step - loss: 0.0011 - mean_absolute_error: 0.0229 - r_square: 0.9220 - val_loss: 4.2650e-04 - val_mean_absolute_error: 0.0138 - val_r_square: 0.9698\n",
      "Epoch 38/75\n",
      "25600/25600 [==============================] - 1s 46us/step - loss: 0.0010 - mean_absolute_error: 0.0222 - r_square: 0.9291 - val_loss: 3.4971e-04 - val_mean_absolute_error: 0.0125 - val_r_square: 0.9744\n",
      "Epoch 39/75\n"
     ]
    },
    {
     "name": "stdout",
     "output_type": "stream",
     "text": [
      "25600/25600 [==============================] - 1s 44us/step - loss: 9.7021e-04 - mean_absolute_error: 0.0215 - r_square: 0.9334 - val_loss: 3.8128e-04 - val_mean_absolute_error: 0.0123 - val_r_square: 0.9733\n",
      "Epoch 40/75\n",
      "25600/25600 [==============================] - 1s 43us/step - loss: 9.4341e-04 - mean_absolute_error: 0.0210 - r_square: 0.9356 - val_loss: 3.8099e-04 - val_mean_absolute_error: 0.0122 - val_r_square: 0.9736\n",
      "Epoch 41/75\n",
      "25600/25600 [==============================] - 1s 41us/step - loss: 8.7019e-04 - mean_absolute_error: 0.0203 - r_square: 0.9409 - val_loss: 3.8855e-04 - val_mean_absolute_error: 0.0124 - val_r_square: 0.9729\n",
      "Epoch 42/75\n",
      "25600/25600 [==============================] - 1s 41us/step - loss: 8.5833e-04 - mean_absolute_error: 0.0199 - r_square: 0.9426 - val_loss: 3.5471e-04 - val_mean_absolute_error: 0.0121 - val_r_square: 0.9752\n",
      "Epoch 43/75\n",
      "25600/25600 [==============================] - 1s 55us/step - loss: 8.2690e-04 - mean_absolute_error: 0.0195 - r_square: 0.9435 - val_loss: 3.2437e-04 - val_mean_absolute_error: 0.0113 - val_r_square: 0.9775\n",
      "Epoch 44/75\n",
      "25600/25600 [==============================] - 1s 39us/step - loss: 8.1619e-04 - mean_absolute_error: 0.0192 - r_square: 0.9449 - val_loss: 4.6893e-04 - val_mean_absolute_error: 0.0144 - val_r_square: 0.9680\n",
      "Epoch 45/75\n",
      "25600/25600 [==============================] - 1s 39us/step - loss: 7.8547e-04 - mean_absolute_error: 0.0190 - r_square: 0.9470 - val_loss: 4.0405e-04 - val_mean_absolute_error: 0.0124 - val_r_square: 0.9726\n",
      "Epoch 46/75\n",
      "25600/25600 [==============================] - 1s 38us/step - loss: 7.6108e-04 - mean_absolute_error: 0.0185 - r_square: 0.9488 - val_loss: 4.1722e-04 - val_mean_absolute_error: 0.0131 - val_r_square: 0.9717\n",
      "Epoch 47/75\n",
      "25600/25600 [==============================] - 1s 38us/step - loss: 7.3245e-04 - mean_absolute_error: 0.0182 - r_square: 0.9505 - val_loss: 3.7350e-04 - val_mean_absolute_error: 0.0124 - val_r_square: 0.9744\n",
      "Epoch 48/75\n",
      "25600/25600 [==============================] - 1s 47us/step - loss: 7.4123e-04 - mean_absolute_error: 0.0181 - r_square: 0.9505 - val_loss: 3.2970e-04 - val_mean_absolute_error: 0.0116 - val_r_square: 0.9772\n",
      "Epoch 49/75\n",
      "25600/25600 [==============================] - 1s 48us/step - loss: 6.9733e-04 - mean_absolute_error: 0.0178 - r_square: 0.9531 - val_loss: 4.0020e-04 - val_mean_absolute_error: 0.0134 - val_r_square: 0.9725\n",
      "Epoch 50/75\n",
      "25600/25600 [==============================] - 1s 50us/step - loss: 7.1261e-04 - mean_absolute_error: 0.0180 - r_square: 0.9519 - val_loss: 3.8860e-04 - val_mean_absolute_error: 0.0127 - val_r_square: 0.9738\n",
      "Epoch 51/75\n",
      "25600/25600 [==============================] - 1s 47us/step - loss: 6.8834e-04 - mean_absolute_error: 0.0176 - r_square: 0.9543 - val_loss: 2.3155e-04 - val_mean_absolute_error: 0.0102 - val_r_square: 0.9835\n",
      "Epoch 52/75\n",
      "25600/25600 [==============================] - 1s 42us/step - loss: 6.7503e-04 - mean_absolute_error: 0.0174 - r_square: 0.9551 - val_loss: 3.0661e-04 - val_mean_absolute_error: 0.0119 - val_r_square: 0.9786\n",
      "Epoch 53/75\n",
      "25600/25600 [==============================] - 1s 41us/step - loss: 6.7156e-04 - mean_absolute_error: 0.0174 - r_square: 0.9546 - val_loss: 3.3020e-04 - val_mean_absolute_error: 0.0120 - val_r_square: 0.9772\n",
      "Epoch 54/75\n",
      "25600/25600 [==============================] - 1s 41us/step - loss: 6.5839e-04 - mean_absolute_error: 0.0172 - r_square: 0.9561 - val_loss: 4.1192e-04 - val_mean_absolute_error: 0.0135 - val_r_square: 0.9721\n",
      "Epoch 55/75\n",
      "25600/25600 [==============================] - 1s 42us/step - loss: 6.6760e-04 - mean_absolute_error: 0.0173 - r_square: 0.9556 - val_loss: 2.8202e-04 - val_mean_absolute_error: 0.0111 - val_r_square: 0.9805\n",
      "Epoch 56/75\n",
      "25600/25600 [==============================] - 1s 43us/step - loss: 6.4807e-04 - mean_absolute_error: 0.0169 - r_square: 0.9571 - val_loss: 3.1546e-04 - val_mean_absolute_error: 0.0122 - val_r_square: 0.9782\n",
      "Epoch 57/75\n",
      "25600/25600 [==============================] - 1s 50us/step - loss: 6.2146e-04 - mean_absolute_error: 0.0167 - r_square: 0.9582 - val_loss: 3.0559e-04 - val_mean_absolute_error: 0.0117 - val_r_square: 0.9792\n",
      "Epoch 58/75\n",
      "25600/25600 [==============================] - 1s 58us/step - loss: 6.2865e-04 - mean_absolute_error: 0.0167 - r_square: 0.9584 - val_loss: 2.3827e-04 - val_mean_absolute_error: 0.0102 - val_r_square: 0.9837\n",
      "Epoch 59/75\n",
      "25600/25600 [==============================] - 1s 42us/step - loss: 6.0858e-04 - mean_absolute_error: 0.0166 - r_square: 0.9596 - val_loss: 2.4167e-04 - val_mean_absolute_error: 0.0099 - val_r_square: 0.9836\n",
      "Epoch 60/75\n",
      "25600/25600 [==============================] - 1s 39us/step - loss: 6.3194e-04 - mean_absolute_error: 0.0168 - r_square: 0.9584 - val_loss: 2.2870e-04 - val_mean_absolute_error: 0.0101 - val_r_square: 0.9841\n",
      "Epoch 61/75\n",
      "25600/25600 [==============================] - 1s 39us/step - loss: 6.1533e-04 - mean_absolute_error: 0.0165 - r_square: 0.9592 - val_loss: 2.9075e-04 - val_mean_absolute_error: 0.0111 - val_r_square: 0.9802\n",
      "Epoch 62/75\n",
      "25600/25600 [==============================] - 1s 39us/step - loss: 6.0125e-04 - mean_absolute_error: 0.0164 - r_square: 0.9600 - val_loss: 2.2919e-04 - val_mean_absolute_error: 0.0096 - val_r_square: 0.9845\n",
      "Epoch 63/75\n",
      "25600/25600 [==============================] - 1s 42us/step - loss: 5.9225e-04 - mean_absolute_error: 0.0164 - r_square: 0.9604 - val_loss: 3.1556e-04 - val_mean_absolute_error: 0.0111 - val_r_square: 0.9792\n",
      "Epoch 64/75\n",
      "25600/25600 [==============================] - 1s 40us/step - loss: 5.9436e-04 - mean_absolute_error: 0.0162 - r_square: 0.9606 - val_loss: 2.1631e-04 - val_mean_absolute_error: 0.0094 - val_r_square: 0.9853\n",
      "Epoch 65/75\n",
      "25600/25600 [==============================] - 1s 39us/step - loss: 5.9186e-04 - mean_absolute_error: 0.0162 - r_square: 0.9603 - val_loss: 2.8451e-04 - val_mean_absolute_error: 0.0103 - val_r_square: 0.9813\n",
      "Epoch 66/75\n",
      "25600/25600 [==============================] - 1s 38us/step - loss: 5.9890e-04 - mean_absolute_error: 0.0163 - r_square: 0.9602 - val_loss: 2.4975e-04 - val_mean_absolute_error: 0.0099 - val_r_square: 0.9833\n",
      "Epoch 67/75\n",
      "25600/25600 [==============================] - 1s 39us/step - loss: 6.0527e-04 - mean_absolute_error: 0.0163 - r_square: 0.9601 - val_loss: 1.7936e-04 - val_mean_absolute_error: 0.0089 - val_r_square: 0.9876\n",
      "Epoch 68/75\n",
      "25600/25600 [==============================] - 1s 38us/step - loss: 5.9255e-04 - mean_absolute_error: 0.0162 - r_square: 0.9605 - val_loss: 2.6761e-04 - val_mean_absolute_error: 0.0101 - val_r_square: 0.9823\n",
      "Epoch 69/75\n",
      "25600/25600 [==============================] - 1s 42us/step - loss: 5.8975e-04 - mean_absolute_error: 0.0162 - r_square: 0.9610 - val_loss: 2.2068e-04 - val_mean_absolute_error: 0.0095 - val_r_square: 0.9850\n",
      "Epoch 70/75\n",
      "25600/25600 [==============================] - 1s 39us/step - loss: 5.8652e-04 - mean_absolute_error: 0.0161 - r_square: 0.9610 - val_loss: 3.2703e-04 - val_mean_absolute_error: 0.0115 - val_r_square: 0.9785\n",
      "Epoch 71/75\n",
      "21056/25600 [=======================>......] - ETA: 0s - loss: 5.6603e-04 - mean_absolute_error: 0.0160 - r_square: 0.9615"
     ]
    }
   ],
   "source": [
    "#history = model.fit(x_train_flat, y_train, validation_split=0.2, epochs=25)  # starts training\n",
    "history = model.fit(x_train_tensor, y_train, validation_split=0.2, epochs=75)  # starts training"
   ]
  },
  {
   "cell_type": "code",
   "execution_count": null,
   "metadata": {},
   "outputs": [],
   "source": [
    "plt.figure()\n",
    "plt.plot(history.history['loss'],color='blue')\n",
    "plt.plot(history.history['val_loss'],color='orange')\n",
    "plt.title('Model loss',fontsize=12)\n",
    "plt.ylabel('loss',fontsize=12)\n",
    "plt.xlabel('epoch',fontsize=12)\n",
    "plt.legend(['train', 'validation'])\n",
    "#plt.savefig('Write_up/model_loss.png')\n",
    "plt.show()"
   ]
  },
  {
   "cell_type": "code",
   "execution_count": null,
   "metadata": {},
   "outputs": [],
   "source": [
    "plt.figure()\n",
    "plt.plot(history.history['mean_absolute_error'],color='blue')\n",
    "plt.plot(history.history['val_mean_absolute_error'],color='orange')\n",
    "#plt.title('Model loss',fontsize=12)\n",
    "#plt.ylabel('loss',fontsize=12)\n",
    "plt.xlabel('epoch',fontsize=12)\n",
    "plt.legend(['train', 'validation'])\n",
    "#plt.savefig('Write_up/model_loss.png')\n",
    "plt.show()"
   ]
  },
  {
   "cell_type": "code",
   "execution_count": null,
   "metadata": {},
   "outputs": [],
   "source": [
    "\n",
    "plt.figure()\n",
    "plt.plot(history.history['r_square'],color='blue')\n",
    "plt.plot(history.history['val_r_square'],color='orange')\n",
    "#plt.title('Model loss',fontsize=12)\n",
    "#plt.ylabel('loss',fontsize=12)\n",
    "plt.xlabel('epoch',fontsize=12)\n",
    "plt.legend(['train', 'validation'])\n",
    "#plt.savefig('Write_up/model_loss.png')\n",
    "plt.show()\n"
   ]
  },
  {
   "cell_type": "code",
   "execution_count": null,
   "metadata": {
    "collapsed": true
   },
   "outputs": [],
   "source": [
    "#model_prediction = model.predict(x_test_flat)\n",
    "model_prediction = model.predict(x_test_tensor)"
   ]
  },
  {
   "cell_type": "code",
   "execution_count": null,
   "metadata": {
    "collapsed": true
   },
   "outputs": [],
   "source": [
    "y_test = np.array(y_test).reshape(-1,1)"
   ]
  },
  {
   "cell_type": "code",
   "execution_count": null,
   "metadata": {},
   "outputs": [],
   "source": [
    "plt.hist(model_prediction,color='r',density=True,bins=20)\n",
    "plt.hist(y_test,color='b',alpha=0.5,density=True,bins=20)\n",
    "#plt.hist(model_prediction,bins=100,color='b',alpha=0.5)\n",
    "plt.show()"
   ]
  },
  {
   "cell_type": "code",
   "execution_count": null,
   "metadata": {},
   "outputs": [],
   "source": [
    "plt.scatter(y_test,model_prediction,alpha=0.5)\n",
    "plt.xlabel('Test Label')\n",
    "plt.ylabel('NN Prediction')\n",
    "plt.plot([0,1],color='black',linewidth=2,alpha=0.25)\n",
    "plt.show()"
   ]
  },
  {
   "cell_type": "code",
   "execution_count": null,
   "metadata": {},
   "outputs": [],
   "source": [
    "model.summary()"
   ]
  },
  {
   "cell_type": "code",
   "execution_count": null,
   "metadata": {},
   "outputs": [],
   "source": [
    "np.shape(model.layers[5].get_weights()[0])"
   ]
  },
  {
   "cell_type": "code",
   "execution_count": null,
   "metadata": {},
   "outputs": [],
   "source": [
    "import seaborn as sns\n",
    "sns.heatmap(model.layers[3].get_weights()[0][0].reshape(1,41))\n",
    "plt.show()"
   ]
  },
  {
   "cell_type": "code",
   "execution_count": null,
   "metadata": {
    "collapsed": true
   },
   "outputs": [],
   "source": []
  }
 ],
 "metadata": {
  "colab": {
   "collapsed_sections": [],
   "name": "motif_learn_convnet.ipynb",
   "provenance": [],
   "version": "0.3.2"
  },
  "kernelspec": {
   "display_name": "Python 3",
   "language": "python",
   "name": "python3"
  },
  "language_info": {
   "codemirror_mode": {
    "name": "ipython",
    "version": 3
   },
   "file_extension": ".py",
   "mimetype": "text/x-python",
   "name": "python",
   "nbconvert_exporter": "python",
   "pygments_lexer": "ipython3",
   "version": "3.6.2"
  }
 },
 "nbformat": 4,
 "nbformat_minor": 1
}
