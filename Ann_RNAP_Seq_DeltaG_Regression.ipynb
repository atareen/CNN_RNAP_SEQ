{
 "cells": [
  {
   "cell_type": "markdown",
   "metadata": {},
   "source": [
    "### Import libraries and read data"
   ]
  },
  {
   "cell_type": "code",
   "execution_count": 1,
   "metadata": {
    "collapsed": true
   },
   "outputs": [],
   "source": [
    "import pandas as pd\n",
    "import numpy as np\n",
    "import numpy as np\n",
    "import pandas as pd\n",
    "import matplotlib.pyplot as plt\n",
    "\n",
    "input_data_ordered_raw =  pd.read_csv('rnap_scanned_over_ecoli_genome200k.csv')\n",
    "sequences = input_data_ordered_raw['seq'].tolist()"
   ]
  },
  {
   "cell_type": "code",
   "execution_count": 2,
   "metadata": {},
   "outputs": [
    {
     "data": {
      "text/html": [
       "<div>\n",
       "<style scoped>\n",
       "    .dataframe tbody tr th:only-of-type {\n",
       "        vertical-align: middle;\n",
       "    }\n",
       "\n",
       "    .dataframe tbody tr th {\n",
       "        vertical-align: top;\n",
       "    }\n",
       "\n",
       "    .dataframe thead th {\n",
       "        text-align: right;\n",
       "    }\n",
       "</style>\n",
       "<table border=\"1\" class=\"dataframe\">\n",
       "  <thead>\n",
       "    <tr style=\"text-align: right;\">\n",
       "      <th></th>\n",
       "      <th>Unnamed: 0</th>\n",
       "      <th>val</th>\n",
       "      <th>seq</th>\n",
       "      <th>left</th>\n",
       "      <th>right</th>\n",
       "      <th>ori</th>\n",
       "      <th>contig</th>\n",
       "    </tr>\n",
       "  </thead>\n",
       "  <tbody>\n",
       "    <tr>\n",
       "      <th>0</th>\n",
       "      <td>0</td>\n",
       "      <td>23.9083</td>\n",
       "      <td>CTATTACCTGCCCACGGTAAAGGCGTTCTGGTTGCCCTACG</td>\n",
       "      <td>3695629</td>\n",
       "      <td>3695669</td>\n",
       "      <td>+</td>\n",
       "      <td>MG1655.fa</td>\n",
       "    </tr>\n",
       "    <tr>\n",
       "      <th>1</th>\n",
       "      <td>1</td>\n",
       "      <td>23.5831</td>\n",
       "      <td>TTTCTGCCCGCGGCCTGGCAATTGATACCGCCTTGCCATCG</td>\n",
       "      <td>1109059</td>\n",
       "      <td>1109099</td>\n",
       "      <td>+</td>\n",
       "      <td>MG1655.fa</td>\n",
       "    </tr>\n",
       "    <tr>\n",
       "      <th>2</th>\n",
       "      <td>2</td>\n",
       "      <td>23.4205</td>\n",
       "      <td>TTTTTACACGCCTTGCGTAAAGCGGCACGGCGCGGGGTGCG</td>\n",
       "      <td>822216</td>\n",
       "      <td>822256</td>\n",
       "      <td>-</td>\n",
       "      <td>MG1655.fa</td>\n",
       "    </tr>\n",
       "    <tr>\n",
       "      <th>3</th>\n",
       "      <td>3</td>\n",
       "      <td>23.4098</td>\n",
       "      <td>TTGCTGCCTGGCCGATGGTCTATGCCGCTGCGTTCTCCGGC</td>\n",
       "      <td>772478</td>\n",
       "      <td>772518</td>\n",
       "      <td>+</td>\n",
       "      <td>MG1655.fa</td>\n",
       "    </tr>\n",
       "    <tr>\n",
       "      <th>4</th>\n",
       "      <td>4</td>\n",
       "      <td>23.3640</td>\n",
       "      <td>CTTTTACACGCAAAATGCCGTCACGTTCACGGGTCTGGGCT</td>\n",
       "      <td>2748531</td>\n",
       "      <td>2748571</td>\n",
       "      <td>+</td>\n",
       "      <td>MG1655.fa</td>\n",
       "    </tr>\n",
       "  </tbody>\n",
       "</table>\n",
       "</div>"
      ],
      "text/plain": [
       "   Unnamed: 0      val                                        seq     left  \\\n",
       "0           0  23.9083  CTATTACCTGCCCACGGTAAAGGCGTTCTGGTTGCCCTACG  3695629   \n",
       "1           1  23.5831  TTTCTGCCCGCGGCCTGGCAATTGATACCGCCTTGCCATCG  1109059   \n",
       "2           2  23.4205  TTTTTACACGCCTTGCGTAAAGCGGCACGGCGCGGGGTGCG   822216   \n",
       "3           3  23.4098  TTGCTGCCTGGCCGATGGTCTATGCCGCTGCGTTCTCCGGC   772478   \n",
       "4           4  23.3640  CTTTTACACGCAAAATGCCGTCACGTTCACGGGTCTGGGCT  2748531   \n",
       "\n",
       "     right ori     contig  \n",
       "0  3695669   +  MG1655.fa  \n",
       "1  1109099   +  MG1655.fa  \n",
       "2   822256   -  MG1655.fa  \n",
       "3   772518   +  MG1655.fa  \n",
       "4  2748571   +  MG1655.fa  "
      ]
     },
     "execution_count": 2,
     "metadata": {},
     "output_type": "execute_result"
    }
   ],
   "source": [
    "input_data_ordered_raw.head()\n",
    "#np.random.seed(0)"
   ]
  },
  {
   "cell_type": "code",
   "execution_count": 3,
   "metadata": {},
   "outputs": [
    {
     "data": {
      "image/png": "[encoded data removed]",
      "text/plain": [
       "<Figure size 432x288 with 1 Axes>"
      ]
     },
     "metadata": {},
     "output_type": "display_data"
    }
   ],
   "source": [
    "T = 300\n",
    "t_max = 15\n",
    "t_bg = 0.01\n",
    "\n",
    "size_of_data = 40000\n",
    "\n",
    "input_data_ordered_raw_copy = input_data_ordered_raw[0:size_of_data].copy()\n",
    "\n",
    "temp = np.exp(-(np.array(input_data_ordered_raw['val'][0:size_of_data]))/T)/(1+np.exp(-(np.array(input_data_ordered_raw['val'][0:size_of_data]))/T))\n",
    "plt.hist(t_max*temp+t_bg,bins=100)\n",
    "plt.show()\n",
    "#np.array(input_data_ordered_raw['val'][0:100000])\n"
   ]
  },
  {
   "cell_type": "markdown",
   "metadata": {},
   "source": [
    "### Add transcription column to dataframe"
   ]
  },
  {
   "cell_type": "code",
   "execution_count": 4,
   "metadata": {
    "collapsed": true
   },
   "outputs": [],
   "source": [
    "input_data_ordered_raw_copy['t'] = t_max*temp+t_bg"
   ]
  },
  {
   "cell_type": "code",
   "execution_count": 5,
   "metadata": {},
   "outputs": [
    {
     "data": {
      "text/html": [
       "<div>\n",
       "<style scoped>\n",
       "    .dataframe tbody tr th:only-of-type {\n",
       "        vertical-align: middle;\n",
       "    }\n",
       "\n",
       "    .dataframe tbody tr th {\n",
       "        vertical-align: top;\n",
       "    }\n",
       "\n",
       "    .dataframe thead th {\n",
       "        text-align: right;\n",
       "    }\n",
       "</style>\n",
       "<table border=\"1\" class=\"dataframe\">\n",
       "  <thead>\n",
       "    <tr style=\"text-align: right;\">\n",
       "      <th></th>\n",
       "      <th>Unnamed: 0</th>\n",
       "      <th>val</th>\n",
       "      <th>seq</th>\n",
       "      <th>left</th>\n",
       "      <th>right</th>\n",
       "      <th>ori</th>\n",
       "      <th>contig</th>\n",
       "      <th>t</th>\n",
       "    </tr>\n",
       "  </thead>\n",
       "  <tbody>\n",
       "    <tr>\n",
       "      <th>0</th>\n",
       "      <td>0</td>\n",
       "      <td>23.9083</td>\n",
       "      <td>CTATTACCTGCCCACGGTAAAGGCGTTCTGGTTGCCCTACG</td>\n",
       "      <td>3695629</td>\n",
       "      <td>3695669</td>\n",
       "      <td>+</td>\n",
       "      <td>MG1655.fa</td>\n",
       "      <td>7.211304</td>\n",
       "    </tr>\n",
       "    <tr>\n",
       "      <th>1</th>\n",
       "      <td>1</td>\n",
       "      <td>23.5831</td>\n",
       "      <td>TTTCTGCCCGCGGCCTGGCAATTGATACCGCCTTGCCATCG</td>\n",
       "      <td>1109059</td>\n",
       "      <td>1109099</td>\n",
       "      <td>+</td>\n",
       "      <td>MG1655.fa</td>\n",
       "      <td>7.215363</td>\n",
       "    </tr>\n",
       "    <tr>\n",
       "      <th>2</th>\n",
       "      <td>2</td>\n",
       "      <td>23.4205</td>\n",
       "      <td>TTTTTACACGCCTTGCGTAAAGCGGCACGGCGCGGGGTGCG</td>\n",
       "      <td>822216</td>\n",
       "      <td>822256</td>\n",
       "      <td>-</td>\n",
       "      <td>MG1655.fa</td>\n",
       "      <td>7.217392</td>\n",
       "    </tr>\n",
       "    <tr>\n",
       "      <th>3</th>\n",
       "      <td>3</td>\n",
       "      <td>23.4098</td>\n",
       "      <td>TTGCTGCCTGGCCGATGGTCTATGCCGCTGCGTTCTCCGGC</td>\n",
       "      <td>772478</td>\n",
       "      <td>772518</td>\n",
       "      <td>+</td>\n",
       "      <td>MG1655.fa</td>\n",
       "      <td>7.217526</td>\n",
       "    </tr>\n",
       "    <tr>\n",
       "      <th>4</th>\n",
       "      <td>4</td>\n",
       "      <td>23.3640</td>\n",
       "      <td>CTTTTACACGCAAAATGCCGTCACGTTCACGGGTCTGGGCT</td>\n",
       "      <td>2748531</td>\n",
       "      <td>2748571</td>\n",
       "      <td>+</td>\n",
       "      <td>MG1655.fa</td>\n",
       "      <td>7.218098</td>\n",
       "    </tr>\n",
       "  </tbody>\n",
       "</table>\n",
       "</div>"
      ],
      "text/plain": [
       "   Unnamed: 0      val                                        seq     left  \\\n",
       "0           0  23.9083  CTATTACCTGCCCACGGTAAAGGCGTTCTGGTTGCCCTACG  3695629   \n",
       "1           1  23.5831  TTTCTGCCCGCGGCCTGGCAATTGATACCGCCTTGCCATCG  1109059   \n",
       "2           2  23.4205  TTTTTACACGCCTTGCGTAAAGCGGCACGGCGCGGGGTGCG   822216   \n",
       "3           3  23.4098  TTGCTGCCTGGCCGATGGTCTATGCCGCTGCGTTCTCCGGC   772478   \n",
       "4           4  23.3640  CTTTTACACGCAAAATGCCGTCACGTTCACGGGTCTGGGCT  2748531   \n",
       "\n",
       "     right ori     contig         t  \n",
       "0  3695669   +  MG1655.fa  7.211304  \n",
       "1  1109099   +  MG1655.fa  7.215363  \n",
       "2   822256   -  MG1655.fa  7.217392  \n",
       "3   772518   +  MG1655.fa  7.217526  \n",
       "4  2748571   +  MG1655.fa  7.218098  "
      ]
     },
     "execution_count": 5,
     "metadata": {},
     "output_type": "execute_result"
    }
   ],
   "source": [
    "input_data_ordered_raw_copy.head()"
   ]
  },
  {
   "cell_type": "markdown",
   "metadata": {},
   "source": [
    "### Draw read counts according to poission distribution and add to dataframe"
   ]
  },
  {
   "cell_type": "code",
   "execution_count": 6,
   "metadata": {
    "collapsed": true
   },
   "outputs": [],
   "source": [
    "lamba_poission = 0.5\n",
    "C = np.random.poisson(lamba_poission*input_data_ordered_raw_copy['t'][0:size_of_data])\n"
   ]
  },
  {
   "cell_type": "code",
   "execution_count": 7,
   "metadata": {
    "collapsed": true
   },
   "outputs": [],
   "source": [
    "t_norm = (temp-min(temp))/(max(temp)-min(temp))\n",
    "input_data_ordered_raw_copy['t_norm'] = t_norm"
   ]
  },
  {
   "cell_type": "code",
   "execution_count": 8,
   "metadata": {
    "collapsed": true
   },
   "outputs": [],
   "source": [
    "C_norm = (C-min(C))/(max(C)-min(C))\n",
    "input_data_ordered_raw_copy['C'] = C_norm"
   ]
  },
  {
   "cell_type": "code",
   "execution_count": 9,
   "metadata": {
    "collapsed": true
   },
   "outputs": [],
   "source": [
    "val_norm_temp = input_data_ordered_raw_copy['val']\n",
    "val_norm = (val_norm_temp-min(val_norm_temp))/(max(val_norm_temp)-min(val_norm_temp))\n",
    "input_data_ordered_raw_copy['val_norm'] = val_norm"
   ]
  },
  {
   "cell_type": "code",
   "execution_count": 10,
   "metadata": {},
   "outputs": [
    {
     "data": {
      "image/png": "[encoded data removed]",
      "text/plain": [
       "<Figure size 432x288 with 1 Axes>"
      ]
     },
     "metadata": {},
     "output_type": "display_data"
    }
   ],
   "source": [
    "plt.hist(input_data_ordered_raw_copy['C'],bins=100)\n",
    "plt.show()"
   ]
  },
  {
   "cell_type": "code",
   "execution_count": 11,
   "metadata": {},
   "outputs": [
    {
     "data": {
      "text/html": [
       "<div>\n",
       "<style scoped>\n",
       "    .dataframe tbody tr th:only-of-type {\n",
       "        vertical-align: middle;\n",
       "    }\n",
       "\n",
       "    .dataframe tbody tr th {\n",
       "        vertical-align: top;\n",
       "    }\n",
       "\n",
       "    .dataframe thead th {\n",
       "        text-align: right;\n",
       "    }\n",
       "</style>\n",
       "<table border=\"1\" class=\"dataframe\">\n",
       "  <thead>\n",
       "    <tr style=\"text-align: right;\">\n",
       "      <th></th>\n",
       "      <th>Unnamed: 0</th>\n",
       "      <th>val</th>\n",
       "      <th>seq</th>\n",
       "      <th>left</th>\n",
       "      <th>right</th>\n",
       "      <th>ori</th>\n",
       "      <th>contig</th>\n",
       "      <th>t</th>\n",
       "      <th>t_norm</th>\n",
       "      <th>C</th>\n",
       "      <th>val_norm</th>\n",
       "    </tr>\n",
       "  </thead>\n",
       "  <tbody>\n",
       "    <tr>\n",
       "      <th>0</th>\n",
       "      <td>0</td>\n",
       "      <td>23.9083</td>\n",
       "      <td>CTATTACCTGCCCACGGTAAAGGCGTTCTGGTTGCCCTACG</td>\n",
       "      <td>3695629</td>\n",
       "      <td>3695669</td>\n",
       "      <td>+</td>\n",
       "      <td>MG1655.fa</td>\n",
       "      <td>7.211304</td>\n",
       "      <td>0.000000</td>\n",
       "      <td>0.153846</td>\n",
       "      <td>1.000000</td>\n",
       "    </tr>\n",
       "    <tr>\n",
       "      <th>1</th>\n",
       "      <td>1</td>\n",
       "      <td>23.5831</td>\n",
       "      <td>TTTCTGCCCGCGGCCTGGCAATTGATACCGCCTTGCCATCG</td>\n",
       "      <td>1109059</td>\n",
       "      <td>1109099</td>\n",
       "      <td>+</td>\n",
       "      <td>MG1655.fa</td>\n",
       "      <td>7.215363</td>\n",
       "      <td>0.090635</td>\n",
       "      <td>0.461538</td>\n",
       "      <td>0.909347</td>\n",
       "    </tr>\n",
       "    <tr>\n",
       "      <th>2</th>\n",
       "      <td>2</td>\n",
       "      <td>23.4205</td>\n",
       "      <td>TTTTTACACGCCTTGCGTAAAGCGGCACGGCGCGGGGTGCG</td>\n",
       "      <td>822216</td>\n",
       "      <td>822256</td>\n",
       "      <td>-</td>\n",
       "      <td>MG1655.fa</td>\n",
       "      <td>7.217392</td>\n",
       "      <td>0.135953</td>\n",
       "      <td>0.384615</td>\n",
       "      <td>0.864020</td>\n",
       "    </tr>\n",
       "    <tr>\n",
       "      <th>3</th>\n",
       "      <td>3</td>\n",
       "      <td>23.4098</td>\n",
       "      <td>TTGCTGCCTGGCCGATGGTCTATGCCGCTGCGTTCTCCGGC</td>\n",
       "      <td>772478</td>\n",
       "      <td>772518</td>\n",
       "      <td>+</td>\n",
       "      <td>MG1655.fa</td>\n",
       "      <td>7.217526</td>\n",
       "      <td>0.138936</td>\n",
       "      <td>0.615385</td>\n",
       "      <td>0.861038</td>\n",
       "    </tr>\n",
       "    <tr>\n",
       "      <th>4</th>\n",
       "      <td>4</td>\n",
       "      <td>23.3640</td>\n",
       "      <td>CTTTTACACGCAAAATGCCGTCACGTTCACGGGTCTGGGCT</td>\n",
       "      <td>2748531</td>\n",
       "      <td>2748571</td>\n",
       "      <td>+</td>\n",
       "      <td>MG1655.fa</td>\n",
       "      <td>7.218098</td>\n",
       "      <td>0.151701</td>\n",
       "      <td>0.000000</td>\n",
       "      <td>0.848270</td>\n",
       "    </tr>\n",
       "    <tr>\n",
       "      <th>5</th>\n",
       "      <td>5</td>\n",
       "      <td>23.2930</td>\n",
       "      <td>TTCATACACGCCCCCTTGCAGTGCATGCGGCGTCCTGCTGG</td>\n",
       "      <td>2086277</td>\n",
       "      <td>2086317</td>\n",
       "      <td>+</td>\n",
       "      <td>MG1655.fa</td>\n",
       "      <td>7.218984</td>\n",
       "      <td>0.171490</td>\n",
       "      <td>0.307692</td>\n",
       "      <td>0.828478</td>\n",
       "    </tr>\n",
       "    <tr>\n",
       "      <th>6</th>\n",
       "      <td>6</td>\n",
       "      <td>23.2838</td>\n",
       "      <td>CCACAGCATGGGCCACGTTCACGGCTTCAGCGGTGGACATA</td>\n",
       "      <td>2203474</td>\n",
       "      <td>2203514</td>\n",
       "      <td>-</td>\n",
       "      <td>MG1655.fa</td>\n",
       "      <td>7.219099</td>\n",
       "      <td>0.174054</td>\n",
       "      <td>0.384615</td>\n",
       "      <td>0.825914</td>\n",
       "    </tr>\n",
       "    <tr>\n",
       "      <th>7</th>\n",
       "      <td>7</td>\n",
       "      <td>23.2608</td>\n",
       "      <td>GATATGCATGCGCTACTCGCAACAGTACAGGCGTCGTCCCC</td>\n",
       "      <td>2697275</td>\n",
       "      <td>2697315</td>\n",
       "      <td>+</td>\n",
       "      <td>MG1655.fa</td>\n",
       "      <td>7.219386</td>\n",
       "      <td>0.180465</td>\n",
       "      <td>0.153846</td>\n",
       "      <td>0.819502</td>\n",
       "    </tr>\n",
       "    <tr>\n",
       "      <th>8</th>\n",
       "      <td>8</td>\n",
       "      <td>23.2593</td>\n",
       "      <td>AACCTGCACGCGCCATCTTAATGGCTTCAGTCAGCGCCTCA</td>\n",
       "      <td>923886</td>\n",
       "      <td>923926</td>\n",
       "      <td>-</td>\n",
       "      <td>MG1655.fa</td>\n",
       "      <td>7.219404</td>\n",
       "      <td>0.180883</td>\n",
       "      <td>0.461538</td>\n",
       "      <td>0.819084</td>\n",
       "    </tr>\n",
       "    <tr>\n",
       "      <th>9</th>\n",
       "      <td>9</td>\n",
       "      <td>23.2508</td>\n",
       "      <td>ATTAAACACGCCGCGCAGCACCCCGGCCAGCGTTCCCATCA</td>\n",
       "      <td>2674457</td>\n",
       "      <td>2674497</td>\n",
       "      <td>+</td>\n",
       "      <td>MG1655.fa</td>\n",
       "      <td>7.219510</td>\n",
       "      <td>0.183252</td>\n",
       "      <td>0.461538</td>\n",
       "      <td>0.816715</td>\n",
       "    </tr>\n",
       "  </tbody>\n",
       "</table>\n",
       "</div>"
      ],
      "text/plain": [
       "   Unnamed: 0      val                                        seq     left  \\\n",
       "0           0  23.9083  CTATTACCTGCCCACGGTAAAGGCGTTCTGGTTGCCCTACG  3695629   \n",
       "1           1  23.5831  TTTCTGCCCGCGGCCTGGCAATTGATACCGCCTTGCCATCG  1109059   \n",
       "2           2  23.4205  TTTTTACACGCCTTGCGTAAAGCGGCACGGCGCGGGGTGCG   822216   \n",
       "3           3  23.4098  TTGCTGCCTGGCCGATGGTCTATGCCGCTGCGTTCTCCGGC   772478   \n",
       "4           4  23.3640  CTTTTACACGCAAAATGCCGTCACGTTCACGGGTCTGGGCT  2748531   \n",
       "5           5  23.2930  TTCATACACGCCCCCTTGCAGTGCATGCGGCGTCCTGCTGG  2086277   \n",
       "6           6  23.2838  CCACAGCATGGGCCACGTTCACGGCTTCAGCGGTGGACATA  2203474   \n",
       "7           7  23.2608  GATATGCATGCGCTACTCGCAACAGTACAGGCGTCGTCCCC  2697275   \n",
       "8           8  23.2593  AACCTGCACGCGCCATCTTAATGGCTTCAGTCAGCGCCTCA   923886   \n",
       "9           9  23.2508  ATTAAACACGCCGCGCAGCACCCCGGCCAGCGTTCCCATCA  2674457   \n",
       "\n",
       "     right ori     contig         t    t_norm         C  val_norm  \n",
       "0  3695669   +  MG1655.fa  7.211304  0.000000  0.153846  1.000000  \n",
       "1  1109099   +  MG1655.fa  7.215363  0.090635  0.461538  0.909347  \n",
       "2   822256   -  MG1655.fa  7.217392  0.135953  0.384615  0.864020  \n",
       "3   772518   +  MG1655.fa  7.217526  0.138936  0.615385  0.861038  \n",
       "4  2748571   +  MG1655.fa  7.218098  0.151701  0.000000  0.848270  \n",
       "5  2086317   +  MG1655.fa  7.218984  0.171490  0.307692  0.828478  \n",
       "6  2203514   -  MG1655.fa  7.219099  0.174054  0.384615  0.825914  \n",
       "7  2697315   +  MG1655.fa  7.219386  0.180465  0.153846  0.819502  \n",
       "8   923926   -  MG1655.fa  7.219404  0.180883  0.461538  0.819084  \n",
       "9  2674497   +  MG1655.fa  7.219510  0.183252  0.461538  0.816715  "
      ]
     },
     "execution_count": 11,
     "metadata": {},
     "output_type": "execute_result"
    }
   ],
   "source": [
    "input_data_ordered_raw_copy.head(10)"
   ]
  },
  {
   "cell_type": "markdown",
   "metadata": {},
   "source": [
    "## Split the data into test and train"
   ]
  },
  {
   "cell_type": "code",
   "execution_count": 12,
   "metadata": {
    "collapsed": true
   },
   "outputs": [],
   "source": [
    "from sklearn.model_selection import train_test_split"
   ]
  },
  {
   "cell_type": "code",
   "execution_count": 13,
   "metadata": {
    "collapsed": true
   },
   "outputs": [],
   "source": [
    "#x_train, x_test, y_train, y_test = train_test_split(input_data_ordered_raw_copy['seq'],input_data_ordered_raw_copy['t_norm'],test_size=0.2,random_state=4)\n",
    "#x_train, x_test, y_train, y_test = train_test_split(input_data_ordered_raw_copy['seq'],input_data_ordered_raw_copy['C'],test_size=0.2)\n",
    "x_train, x_test, y_train, y_test = train_test_split(input_data_ordered_raw_copy['seq'],input_data_ordered_raw_copy['val_norm'],test_size=0.2)"
   ]
  },
  {
   "cell_type": "code",
   "execution_count": 14,
   "metadata": {},
   "outputs": [
    {
     "data": {
      "image/png": "[encoded data removed]",
      "text/plain": [
       "<Figure size 432x288 with 1 Axes>"
      ]
     },
     "metadata": {},
     "output_type": "display_data"
    }
   ],
   "source": [
    "plt.hist(y_train,bins=100,color='r',density=True,alpha=0.5)\n",
    "plt.hist(y_test,bins=100,color='b',density=True,alpha=0.5)\n",
    "plt.show()"
   ]
  },
  {
   "cell_type": "markdown",
   "metadata": {},
   "source": [
    "## One-hot encode the data ... this takes a few minutes"
   ]
  },
  {
   "cell_type": "code",
   "execution_count": 15,
   "metadata": {
    "collapsed": true
   },
   "outputs": [],
   "source": [
    "temp_x_train = []\n",
    "temp_x_test = []\n",
    "\n",
    "for reshape_index in range(len(x_train)):\n",
    "    temp_x_train.append(list(np.array(x_train)[reshape_index]))\n",
    "\n",
    "for reshape_test_index in range(len(x_test)):\n",
    "    temp_x_test.append(list(np.array(x_test)[reshape_test_index]))\n",
    "    \n",
    "x_train = temp_x_train\n",
    "x_test = temp_x_test\n",
    "\n",
    "x_train = np.array(x_train)\n",
    "x_test = np.array(x_test)"
   ]
  },
  {
   "cell_type": "code",
   "execution_count": 16,
   "metadata": {
    "collapsed": true
   },
   "outputs": [],
   "source": [
    "x_train_tensor = np.zeros(list(x_train.shape) + [4])    # shape: (batch_size, 4)\n",
    "x_test_tensor = np.zeros(list(x_test.shape) + [4])    # shape: (batch_size, 4)\n",
    "base_dict = {'A': 0, 'C': 1, 'G': 2, 'T': 3}\n",
    "num_sample = len(x_train_tensor)\n",
    "seq_length = len(x_train[0])\n",
    "test_size = len(x_test)\n",
    "\n",
    "\n",
    "#naive one-hot encoding\n",
    "for row in range(num_sample):\n",
    "    for col in range(seq_length):\n",
    "        x_train_tensor[row,col,base_dict[x_train[row,col]]] = 1\n",
    "        if(row<test_size):\n",
    "            x_test_tensor[row,col,base_dict[x_test[row,col]]] = 1"
   ]
  },
  {
   "cell_type": "code",
   "execution_count": 17,
   "metadata": {},
   "outputs": [
    {
     "name": "stdout",
     "output_type": "stream",
     "text": [
      "Training set shape: (32000, 41, 4)\n",
      "Training set label shape: (32000,)\n",
      "Test set shape: (8000, 41, 4)\n",
      "Test set label shape: (8000,)\n"
     ]
    }
   ],
   "source": [
    "print('Training set shape: {}'.format(x_train_tensor.shape))\n",
    "print('Training set label shape: {}'.format(y_train.shape))\n",
    "\n",
    "print('Test set shape: {}'.format(x_test_tensor.shape))\n",
    "print('Test set label shape: {}'.format(y_test.shape))"
   ]
  },
  {
   "cell_type": "code",
   "execution_count": 18,
   "metadata": {},
   "outputs": [
    {
     "data": {
      "text/plain": [
       "'\\nx_train_flat = []\\nx_test_flat = []\\n\\nfor flatten_x_train_index in range(len(x_train_tensor)):\\n    x_train_flat.append(x_train_tensor[flatten_x_train_index].flatten())\\n    \\nfor flatten_x_test_index in range(len(x_test_tensor)):\\n    x_test_flat.append(x_test_tensor[flatten_x_test_index].flatten())  \\n\\n#np.shape(np.array(x_train_flat[0]).reshape(164,1))\\nx_train_flat = (np.array(x_train_flat).reshape(x_train_tensor.shape[0],x_train_tensor.shape[1]*x_train_tensor.shape[2],1))\\nx_test_flat = (np.array(x_test_flat).reshape(x_test_tensor.shape[0],x_test_tensor.shape[1]*x_test_tensor.shape[2],1))\\n'"
      ]
     },
     "execution_count": 18,
     "metadata": {},
     "output_type": "execute_result"
    }
   ],
   "source": [
    "'''\n",
    "x_train_flat = []\n",
    "x_test_flat = []\n",
    "\n",
    "for flatten_x_train_index in range(len(x_train_tensor)):\n",
    "    x_train_flat.append(x_train_tensor[flatten_x_train_index].flatten())\n",
    "    \n",
    "for flatten_x_test_index in range(len(x_test_tensor)):\n",
    "    x_test_flat.append(x_test_tensor[flatten_x_test_index].flatten())  \n",
    "\n",
    "#np.shape(np.array(x_train_flat[0]).reshape(164,1))\n",
    "x_train_flat = (np.array(x_train_flat).reshape(x_train_tensor.shape[0],x_train_tensor.shape[1]*x_train_tensor.shape[2],1))\n",
    "x_test_flat = (np.array(x_test_flat).reshape(x_test_tensor.shape[0],x_test_tensor.shape[1]*x_test_tensor.shape[2],1))\n",
    "'''    "
   ]
  },
  {
   "cell_type": "code",
   "execution_count": 19,
   "metadata": {},
   "outputs": [
    {
     "data": {
      "text/plain": [
       "(32000,)"
      ]
     },
     "execution_count": 19,
     "metadata": {},
     "output_type": "execute_result"
    }
   ],
   "source": [
    "y_train.shape"
   ]
  },
  {
   "cell_type": "code",
   "execution_count": 20,
   "metadata": {
    "collapsed": true
   },
   "outputs": [],
   "source": [
    "y_train = np.array(y_train).reshape(y_train.shape[0],1)"
   ]
  },
  {
   "cell_type": "markdown",
   "metadata": {},
   "source": [
    "## Custom error metric"
   ]
  },
  {
   "cell_type": "code",
   "execution_count": 21,
   "metadata": {
    "collapsed": true
   },
   "outputs": [],
   "source": [
    "# coefficient of determination (R^2) for regression\n",
    "def r_square(y_true, y_pred):\n",
    "    from keras import backend as K\n",
    "    SS_res =  K.sum(K.square(y_true - y_pred)) \n",
    "    SS_tot = K.sum(K.square(y_true - K.mean(y_true))) \n",
    "    return (1 - SS_res/(SS_tot + K.epsilon()))"
   ]
  },
  {
   "cell_type": "markdown",
   "metadata": {},
   "source": [
    "## Custom Loss"
   ]
  },
  {
   "cell_type": "code",
   "execution_count": 54,
   "metadata": {},
   "outputs": [],
   "source": [
    "import keras.backend as K\n",
    "\n",
    "def customLoss(yTrue,yPred):\n",
    "    # Log-likelihood = sum_i=1 to (batch_size) [-Lambda + C_i log (Lambda) - Log(C_i!)]\n",
    "    # lambda is Lambda*t(x_i)\n",
    "    return K.sum(K.log(yTrue) - K.log(yPred))"
   ]
  },
  {
   "cell_type": "code",
   "execution_count": 55,
   "metadata": {
    "collapsed": true
   },
   "outputs": [],
   "source": [
    "from keras.models import Sequential \n",
    "from keras.layers import Dense, Activation, Flatten, Dropout \n",
    "from keras import regularizers\n",
    "from keras.optimizers import SGD, Adam\n",
    "#output_dim = nb_classes = 15 \n",
    "#input_dim = seq_length\n",
    "model = Sequential() \n",
    "model.add(Flatten())\n",
    "model.add(Dense(100, activation='relu',input_shape=(41,4)))\n",
    "model.add(Dropout(0.25))\n",
    "#model.add(Dense(41, activation='relu'))\n",
    "#model.add(Dropout(0.25))\n",
    "model.add(Dense(1, activation='linear'))\n",
    "\n",
    "#batch_size = 10000 \n",
    "#nb_epoch = 20"
   ]
  },
  {
   "cell_type": "code",
   "execution_count": 56,
   "metadata": {
    "collapsed": true
   },
   "outputs": [],
   "source": [
    "#model.compile(loss='mean_absolute_error',optimizer=Adam(lr=0.00001), metrics=['accuracy'])\n",
    "model.compile(loss='mean_squared_error',optimizer=Adam(lr=0.0001), metrics=['mean_absolute_error'])\n",
    "#model.compile(loss='mean_squared_error',optimizer=Adam(lr=0.0001), metrics=['mean_absolute_error'])"
   ]
  },
  {
   "cell_type": "code",
   "execution_count": 57,
   "metadata": {},
   "outputs": [
    {
     "name": "stdout",
     "output_type": "stream",
     "text": [
      "Train on 25600 samples, validate on 6400 samples\n",
      "Epoch 1/75\n",
      "25600/25600 [==============================] - 1s 47us/step - loss: 0.1012 - mean_absolute_error: 0.2459 - val_loss: 0.0300 - val_mean_absolute_error: 0.1365\n",
      "Epoch 2/75\n",
      "25600/25600 [==============================] - 1s 32us/step - loss: 0.0342 - mean_absolute_error: 0.1453 - val_loss: 0.0205 - val_mean_absolute_error: 0.1112\n",
      "Epoch 3/75\n",
      "25600/25600 [==============================] - 1s 32us/step - loss: 0.0221 - mean_absolute_error: 0.1161 - val_loss: 0.0167 - val_mean_absolute_error: 0.0996\n",
      "Epoch 4/75\n",
      "25600/25600 [==============================] - 1s 33us/step - loss: 0.0172 - mean_absolute_error: 0.1020 - val_loss: 0.0143 - val_mean_absolute_error: 0.0927\n",
      "Epoch 5/75\n",
      "25600/25600 [==============================] - 1s 43us/step - loss: 0.0145 - mean_absolute_error: 0.0933 - val_loss: 0.0124 - val_mean_absolute_error: 0.0849\n",
      "Epoch 6/75\n",
      "25600/25600 [==============================] - 1s 39us/step - loss: 0.0123 - mean_absolute_error: 0.0862 - val_loss: 0.0100 - val_mean_absolute_error: 0.0777\n",
      "Epoch 7/75\n",
      "25600/25600 [==============================] - 1s 34us/step - loss: 0.0105 - mean_absolute_error: 0.0794 - val_loss: 0.0078 - val_mean_absolute_error: 0.0686\n",
      "Epoch 8/75\n",
      "25600/25600 [==============================] - 1s 32us/step - loss: 0.0087 - mean_absolute_error: 0.0724 - val_loss: 0.0060 - val_mean_absolute_error: 0.0593\n",
      "Epoch 9/75\n",
      "25600/25600 [==============================] - 1s 42us/step - loss: 0.0073 - mean_absolute_error: 0.0660 - val_loss: 0.0046 - val_mean_absolute_error: 0.0515\n",
      "Epoch 10/75\n",
      "25600/25600 [==============================] - 1s 36us/step - loss: 0.0061 - mean_absolute_error: 0.0598 - val_loss: 0.0035 - val_mean_absolute_error: 0.0450\n",
      "Epoch 11/75\n",
      "25600/25600 [==============================] - 1s 33us/step - loss: 0.0052 - mean_absolute_error: 0.0548 - val_loss: 0.0028 - val_mean_absolute_error: 0.0401\n",
      "Epoch 12/75\n",
      "25600/25600 [==============================] - 1s 31us/step - loss: 0.0044 - mean_absolute_error: 0.0502 - val_loss: 0.0023 - val_mean_absolute_error: 0.0359\n",
      "Epoch 13/75\n",
      "25600/25600 [==============================] - 1s 34us/step - loss: 0.0038 - mean_absolute_error: 0.0466 - val_loss: 0.0018 - val_mean_absolute_error: 0.0316\n",
      "Epoch 14/75\n",
      "25600/25600 [==============================] - 1s 45us/step - loss: 0.0033 - mean_absolute_error: 0.0425 - val_loss: 0.0015 - val_mean_absolute_error: 0.0277\n",
      "Epoch 15/75\n",
      "25600/25600 [==============================] - 1s 39us/step - loss: 0.0027 - mean_absolute_error: 0.0385 - val_loss: 0.0013 - val_mean_absolute_error: 0.0261\n",
      "Epoch 16/75\n",
      "25600/25600 [==============================] - 1s 33us/step - loss: 0.0024 - mean_absolute_error: 0.0356 - val_loss: 0.0012 - val_mean_absolute_error: 0.0247\n",
      "Epoch 17/75\n",
      "25600/25600 [==============================] - 1s 31us/step - loss: 0.0021 - mean_absolute_error: 0.0331 - val_loss: 9.5323e-04 - val_mean_absolute_error: 0.0210\n",
      "Epoch 18/75\n",
      "25600/25600 [==============================] - 1s 31us/step - loss: 0.0019 - mean_absolute_error: 0.0309 - val_loss: 7.6300e-04 - val_mean_absolute_error: 0.0182\n",
      "Epoch 19/75\n",
      "25600/25600 [==============================] - 1s 31us/step - loss: 0.0016 - mean_absolute_error: 0.0286 - val_loss: 6.8291e-04 - val_mean_absolute_error: 0.0173\n",
      "Epoch 20/75\n",
      "25600/25600 [==============================] - 1s 31us/step - loss: 0.0015 - mean_absolute_error: 0.0272 - val_loss: 6.4220e-04 - val_mean_absolute_error: 0.0173\n",
      "Epoch 21/75\n",
      "25600/25600 [==============================] - 1s 31us/step - loss: 0.0014 - mean_absolute_error: 0.0259 - val_loss: 5.1958e-04 - val_mean_absolute_error: 0.0138\n",
      "Epoch 22/75\n",
      "25600/25600 [==============================] - 1s 31us/step - loss: 0.0013 - mean_absolute_error: 0.0246 - val_loss: 4.6365e-04 - val_mean_absolute_error: 0.0136\n",
      "Epoch 23/75\n",
      "25600/25600 [==============================] - 1s 34us/step - loss: 0.0012 - mean_absolute_error: 0.0235 - val_loss: 4.0064e-04 - val_mean_absolute_error: 0.0124\n",
      "Epoch 24/75\n",
      "25600/25600 [==============================] - 1s 33us/step - loss: 0.0011 - mean_absolute_error: 0.0225 - val_loss: 3.8788e-04 - val_mean_absolute_error: 0.0123\n",
      "Epoch 25/75\n",
      "25600/25600 [==============================] - 1s 34us/step - loss: 9.5792e-04 - mean_absolute_error: 0.0215 - val_loss: 3.0846e-04 - val_mean_absolute_error: 0.0102\n",
      "Epoch 26/75\n",
      "25600/25600 [==============================] - 1s 33us/step - loss: 8.9263e-04 - mean_absolute_error: 0.0208 - val_loss: 2.9640e-04 - val_mean_absolute_error: 0.0101\n",
      "Epoch 27/75\n",
      "25600/25600 [==============================] - 1s 35us/step - loss: 8.8079e-04 - mean_absolute_error: 0.0200 - val_loss: 2.5455e-04 - val_mean_absolute_error: 0.0093\n",
      "Epoch 28/75\n",
      "25600/25600 [==============================] - 1s 33us/step - loss: 7.7679e-04 - mean_absolute_error: 0.0192 - val_loss: 2.4416e-04 - val_mean_absolute_error: 0.0094\n",
      "Epoch 29/75\n",
      "25600/25600 [==============================] - 1s 32us/step - loss: 7.3231e-04 - mean_absolute_error: 0.0185 - val_loss: 2.1717e-04 - val_mean_absolute_error: 0.0084\n",
      "Epoch 30/75\n",
      "25600/25600 [==============================] - 1s 32us/step - loss: 7.3537e-04 - mean_absolute_error: 0.0183 - val_loss: 1.9650e-04 - val_mean_absolute_error: 0.0082\n",
      "Epoch 31/75\n",
      "25600/25600 [==============================] - 1s 32us/step - loss: 6.7955e-04 - mean_absolute_error: 0.0175 - val_loss: 1.7534e-04 - val_mean_absolute_error: 0.0075\n",
      "Epoch 32/75\n",
      "25600/25600 [==============================] - 1s 32us/step - loss: 6.2818e-04 - mean_absolute_error: 0.0170 - val_loss: 2.0505e-04 - val_mean_absolute_error: 0.0095\n",
      "Epoch 33/75\n",
      "25600/25600 [==============================] - 1s 36us/step - loss: 6.0779e-04 - mean_absolute_error: 0.0165 - val_loss: 1.5304e-04 - val_mean_absolute_error: 0.0072\n",
      "Epoch 34/75\n",
      "25600/25600 [==============================] - 1s 36us/step - loss: 5.5485e-04 - mean_absolute_error: 0.0158 - val_loss: 1.4690e-04 - val_mean_absolute_error: 0.0071\n",
      "Epoch 35/75\n",
      "25600/25600 [==============================] - 1s 36us/step - loss: 5.3818e-04 - mean_absolute_error: 0.0155 - val_loss: 1.3576e-04 - val_mean_absolute_error: 0.0070\n",
      "Epoch 36/75\n",
      "25600/25600 [==============================] - 1s 33us/step - loss: 5.1796e-04 - mean_absolute_error: 0.0152 - val_loss: 1.2025e-04 - val_mean_absolute_error: 0.0063\n",
      "Epoch 37/75\n",
      "25600/25600 [==============================] - 1s 33us/step - loss: 4.9299e-04 - mean_absolute_error: 0.0148 - val_loss: 1.0063e-04 - val_mean_absolute_error: 0.0054\n",
      "Epoch 38/75\n",
      "25600/25600 [==============================] - 1s 34us/step - loss: 4.8169e-04 - mean_absolute_error: 0.0147 - val_loss: 9.8273e-05 - val_mean_absolute_error: 0.0054\n",
      "Epoch 39/75\n",
      "25600/25600 [==============================] - 1s 37us/step - loss: 4.7488e-04 - mean_absolute_error: 0.0144 - val_loss: 8.9020e-05 - val_mean_absolute_error: 0.0051\n",
      "Epoch 40/75\n",
      "25600/25600 [==============================] - 1s 35us/step - loss: 4.3240e-04 - mean_absolute_error: 0.0140 - val_loss: 9.1142e-05 - val_mean_absolute_error: 0.0054\n",
      "Epoch 41/75\n",
      "25600/25600 [==============================] - 1s 35us/step - loss: 4.4153e-04 - mean_absolute_error: 0.0139 - val_loss: 9.5281e-05 - val_mean_absolute_error: 0.0058\n",
      "Epoch 42/75\n",
      "25600/25600 [==============================] - 1s 34us/step - loss: 4.2805e-04 - mean_absolute_error: 0.0137 - val_loss: 9.9597e-05 - val_mean_absolute_error: 0.0063\n",
      "Epoch 43/75\n",
      "25600/25600 [==============================] - 1s 35us/step - loss: 4.1201e-04 - mean_absolute_error: 0.0136 - val_loss: 9.0815e-05 - val_mean_absolute_error: 0.0061\n",
      "Epoch 44/75\n",
      "25600/25600 [==============================] - 1s 36us/step - loss: 3.9452e-04 - mean_absolute_error: 0.0133 - val_loss: 8.0182e-05 - val_mean_absolute_error: 0.0055\n",
      "Epoch 45/75\n",
      "25600/25600 [==============================] - 1s 36us/step - loss: 3.9238e-04 - mean_absolute_error: 0.0133 - val_loss: 7.5736e-05 - val_mean_absolute_error: 0.0054\n",
      "Epoch 46/75\n",
      "25600/25600 [==============================] - 1s 37us/step - loss: 3.7325e-04 - mean_absolute_error: 0.0129 - val_loss: 5.6400e-05 - val_mean_absolute_error: 0.0040\n",
      "Epoch 47/75\n",
      "25600/25600 [==============================] - 1s 34us/step - loss: 3.7034e-04 - mean_absolute_error: 0.0128 - val_loss: 5.3592e-05 - val_mean_absolute_error: 0.0038\n"
     ]
    },
    {
     "name": "stdout",
     "output_type": "stream",
     "text": [
      "Epoch 48/75\n",
      "25600/25600 [==============================] - 1s 34us/step - loss: 3.6446e-04 - mean_absolute_error: 0.0127 - val_loss: 5.9381e-05 - val_mean_absolute_error: 0.0045\n",
      "Epoch 49/75\n",
      "25600/25600 [==============================] - 1s 34us/step - loss: 3.4956e-04 - mean_absolute_error: 0.0125 - val_loss: 6.3489e-05 - val_mean_absolute_error: 0.0051\n",
      "Epoch 50/75\n",
      "25600/25600 [==============================] - 1s 35us/step - loss: 3.3319e-04 - mean_absolute_error: 0.0123 - val_loss: 5.0770e-05 - val_mean_absolute_error: 0.0041\n",
      "Epoch 51/75\n",
      "25600/25600 [==============================] - 1s 34us/step - loss: 3.2891e-04 - mean_absolute_error: 0.0121 - val_loss: 4.4921e-05 - val_mean_absolute_error: 0.0038\n",
      "Epoch 52/75\n",
      "25600/25600 [==============================] - 1s 36us/step - loss: 3.2360e-04 - mean_absolute_error: 0.0120 - val_loss: 4.9301e-05 - val_mean_absolute_error: 0.0043\n",
      "Epoch 53/75\n",
      "25600/25600 [==============================] - 1s 39us/step - loss: 3.2726e-04 - mean_absolute_error: 0.0120 - val_loss: 4.0974e-05 - val_mean_absolute_error: 0.0036\n",
      "Epoch 54/75\n",
      "25600/25600 [==============================] - 1s 41us/step - loss: 3.1297e-04 - mean_absolute_error: 0.0118 - val_loss: 3.6258e-05 - val_mean_absolute_error: 0.0034\n",
      "Epoch 55/75\n",
      "25600/25600 [==============================] - 1s 36us/step - loss: 3.1786e-04 - mean_absolute_error: 0.0118 - val_loss: 5.0509e-05 - val_mean_absolute_error: 0.0047\n",
      "Epoch 56/75\n",
      "25600/25600 [==============================] - 1s 34us/step - loss: 3.1474e-04 - mean_absolute_error: 0.0117 - val_loss: 3.6033e-05 - val_mean_absolute_error: 0.0036\n",
      "Epoch 57/75\n",
      "25600/25600 [==============================] - 1s 36us/step - loss: 2.9487e-04 - mean_absolute_error: 0.0114 - val_loss: 6.5637e-05 - val_mean_absolute_error: 0.0057\n",
      "Epoch 58/75\n",
      "25600/25600 [==============================] - 1s 34us/step - loss: 2.9283e-04 - mean_absolute_error: 0.0115 - val_loss: 3.9202e-05 - val_mean_absolute_error: 0.0040\n",
      "Epoch 59/75\n",
      "25600/25600 [==============================] - 1s 36us/step - loss: 2.8567e-04 - mean_absolute_error: 0.0113 - val_loss: 3.0896e-05 - val_mean_absolute_error: 0.0034\n",
      "Epoch 60/75\n",
      "25600/25600 [==============================] - 1s 35us/step - loss: 2.9720e-04 - mean_absolute_error: 0.0114 - val_loss: 3.6504e-05 - val_mean_absolute_error: 0.0038\n",
      "Epoch 61/75\n",
      "25600/25600 [==============================] - 1s 41us/step - loss: 2.8714e-04 - mean_absolute_error: 0.0113 - val_loss: 4.3989e-05 - val_mean_absolute_error: 0.0048\n",
      "Epoch 62/75\n",
      "25600/25600 [==============================] - 1s 35us/step - loss: 2.8880e-04 - mean_absolute_error: 0.0113 - val_loss: 3.6719e-05 - val_mean_absolute_error: 0.0043\n",
      "Epoch 63/75\n",
      "25600/25600 [==============================] - 1s 35us/step - loss: 2.8253e-04 - mean_absolute_error: 0.0112 - val_loss: 2.9539e-05 - val_mean_absolute_error: 0.0035\n",
      "Epoch 64/75\n",
      "25600/25600 [==============================] - 1s 34us/step - loss: 2.8417e-04 - mean_absolute_error: 0.0111 - val_loss: 5.3169e-05 - val_mean_absolute_error: 0.0050\n",
      "Epoch 65/75\n",
      "25600/25600 [==============================] - 1s 34us/step - loss: 2.7982e-04 - mean_absolute_error: 0.0111 - val_loss: 2.8731e-05 - val_mean_absolute_error: 0.0035\n",
      "Epoch 66/75\n",
      "25600/25600 [==============================] - 1s 33us/step - loss: 2.7905e-04 - mean_absolute_error: 0.0111 - val_loss: 2.9656e-05 - val_mean_absolute_error: 0.0037\n",
      "Epoch 67/75\n",
      "25600/25600 [==============================] - 1s 33us/step - loss: 2.8636e-04 - mean_absolute_error: 0.0111 - val_loss: 2.9554e-05 - val_mean_absolute_error: 0.0039\n",
      "Epoch 68/75\n",
      "25600/25600 [==============================] - 1s 34us/step - loss: 2.7853e-04 - mean_absolute_error: 0.0110 - val_loss: 3.3193e-05 - val_mean_absolute_error: 0.0041\n",
      "Epoch 69/75\n",
      "25600/25600 [==============================] - 1s 33us/step - loss: 2.7206e-04 - mean_absolute_error: 0.0109 - val_loss: 3.2444e-05 - val_mean_absolute_error: 0.0042\n",
      "Epoch 70/75\n",
      "25600/25600 [==============================] - 1s 33us/step - loss: 2.6965e-04 - mean_absolute_error: 0.0109 - val_loss: 3.5947e-05 - val_mean_absolute_error: 0.0042\n",
      "Epoch 71/75\n",
      "25600/25600 [==============================] - 1s 33us/step - loss: 2.6490e-04 - mean_absolute_error: 0.0108 - val_loss: 2.2517e-05 - val_mean_absolute_error: 0.0032\n",
      "Epoch 72/75\n",
      "25600/25600 [==============================] - 1s 33us/step - loss: 2.5753e-04 - mean_absolute_error: 0.0108 - val_loss: 2.0101e-05 - val_mean_absolute_error: 0.0031\n",
      "Epoch 73/75\n",
      "25600/25600 [==============================] - 1s 33us/step - loss: 2.6283e-04 - mean_absolute_error: 0.0108 - val_loss: 2.6314e-05 - val_mean_absolute_error: 0.0037\n",
      "Epoch 74/75\n",
      "25600/25600 [==============================] - 1s 33us/step - loss: 2.6790e-04 - mean_absolute_error: 0.0108 - val_loss: 2.4873e-05 - val_mean_absolute_error: 0.0035\n",
      "Epoch 75/75\n",
      "25600/25600 [==============================] - 1s 33us/step - loss: 2.6537e-04 - mean_absolute_error: 0.0108 - val_loss: 2.5855e-05 - val_mean_absolute_error: 0.0038\n"
     ]
    }
   ],
   "source": [
    "#history = model.fit(x_train_flat, y_train, validation_split=0.2, epochs=25)  # starts training\n",
    "history = model.fit(x_train_tensor, y_train, validation_split=0.2, epochs=75)  # starts training"
   ]
  },
  {
   "cell_type": "code",
   "execution_count": 58,
   "metadata": {},
   "outputs": [
    {
     "data": {
      "image/png": "[encoded data removed]",
      "text/plain": [
       "<Figure size 432x288 with 1 Axes>"
      ]
     },
     "metadata": {},
     "output_type": "display_data"
    }
   ],
   "source": [
    "plt.figure()\n",
    "plt.plot(history.history['loss'],color='blue')\n",
    "plt.plot(history.history['val_loss'],color='orange')\n",
    "plt.title('Model loss',fontsize=12)\n",
    "plt.ylabel('loss',fontsize=12)\n",
    "plt.xlabel('epoch',fontsize=12)\n",
    "plt.legend(['train', 'validation'])\n",
    "#plt.savefig('Write_up/model_loss.png')\n",
    "plt.show()"
   ]
  },
  {
   "cell_type": "code",
   "execution_count": 59,
   "metadata": {},
   "outputs": [
    {
     "data": {
      "image/png": "[encoded data removed]",
      "text/plain": [
       "<Figure size 432x288 with 1 Axes>"
      ]
     },
     "metadata": {},
     "output_type": "display_data"
    }
   ],
   "source": [
    "plt.figure()\n",
    "plt.plot(history.history['mean_absolute_error'],color='blue')\n",
    "plt.plot(history.history['val_mean_absolute_error'],color='orange')\n",
    "#plt.title('Model loss',fontsize=12)\n",
    "#plt.ylabel('loss',fontsize=12)\n",
    "plt.xlabel('epoch',fontsize=12)\n",
    "plt.legend(['train', 'validation'])\n",
    "#plt.savefig('Write_up/model_loss.png')\n",
    "plt.show()"
   ]
  },
  {
   "cell_type": "code",
   "execution_count": 60,
   "metadata": {},
   "outputs": [
    {
     "data": {
      "text/plain": [
       "\"\\nplt.figure()\\nplt.plot(history.history['r_square'],color='blue')\\nplt.plot(history.history['val_r_square'],color='orange')\\n#plt.title('Model loss',fontsize=12)\\n#plt.ylabel('loss',fontsize=12)\\nplt.xlabel('epoch',fontsize=12)\\nplt.legend(['train', 'validation'])\\n#plt.savefig('Write_up/model_loss.png')\\nplt.show()\\n\""
      ]
     },
     "execution_count": 60,
     "metadata": {},
     "output_type": "execute_result"
    }
   ],
   "source": [
    "'''\n",
    "plt.figure()\n",
    "plt.plot(history.history['r_square'],color='blue')\n",
    "plt.plot(history.history['val_r_square'],color='orange')\n",
    "#plt.title('Model loss',fontsize=12)\n",
    "#plt.ylabel('loss',fontsize=12)\n",
    "plt.xlabel('epoch',fontsize=12)\n",
    "plt.legend(['train', 'validation'])\n",
    "#plt.savefig('Write_up/model_loss.png')\n",
    "plt.show()\n",
    "'''"
   ]
  },
  {
   "cell_type": "code",
   "execution_count": 61,
   "metadata": {
    "collapsed": true
   },
   "outputs": [],
   "source": [
    "#model_prediction = model.predict(x_test_flat)\n",
    "model_prediction = model.predict(x_test_tensor)"
   ]
  },
  {
   "cell_type": "code",
   "execution_count": 62,
   "metadata": {
    "collapsed": true
   },
   "outputs": [],
   "source": [
    "y_test = np.array(y_test).reshape(-1,1)"
   ]
  },
  {
   "cell_type": "code",
   "execution_count": 63,
   "metadata": {},
   "outputs": [
    {
     "data": {
      "image/png": "[encoded data removed]",
      "text/plain": [
       "<Figure size 432x288 with 1 Axes>"
      ]
     },
     "metadata": {},
     "output_type": "display_data"
    }
   ],
   "source": [
    "plt.hist(model_prediction,color='r',density=True,bins=50)\n",
    "plt.hist(y_test,color='b',alpha=0.5,density=True,bins=50)\n",
    "#plt.hist(model_prediction,bins=100,color='b',alpha=0.5)\n",
    "plt.show()"
   ]
  },
  {
   "cell_type": "code",
   "execution_count": 64,
   "metadata": {},
   "outputs": [
    {
     "data": {
      "image/png": "[encoded data removed]",
      "text/plain": [
       "<Figure size 432x288 with 1 Axes>"
      ]
     },
     "metadata": {},
     "output_type": "display_data"
    }
   ],
   "source": [
    "plt.scatter(y_test,model_prediction,alpha=0.5)\n",
    "plt.xlabel('Test Label')\n",
    "plt.ylabel('NN Prediction')\n",
    "plt.plot([0,1],color='black',linewidth=3,alpha=0.75)\n",
    "plt.show()"
   ]
  },
  {
   "cell_type": "code",
   "execution_count": 65,
   "metadata": {},
   "outputs": [
    {
     "name": "stdout",
     "output_type": "stream",
     "text": [
      "_________________________________________________________________\n",
      "Layer (type)                 Output Shape              Param #   \n",
      "=================================================================\n",
      "flatten_3 (Flatten)          (None, 164)               0         \n",
      "_________________________________________________________________\n",
      "dense_8 (Dense)              (None, 100)               16500     \n",
      "_________________________________________________________________\n",
      "dropout_5 (Dropout)          (None, 100)               0         \n",
      "_________________________________________________________________\n",
      "dense_9 (Dense)              (None, 1)                 101       \n",
      "=================================================================\n",
      "Total params: 16,601\n",
      "Trainable params: 16,601\n",
      "Non-trainable params: 0\n",
      "_________________________________________________________________\n"
     ]
    }
   ],
   "source": [
    "model.summary()"
   ]
  },
  {
   "cell_type": "code",
   "execution_count": 67,
   "metadata": {},
   "outputs": [],
   "source": [
    "from keras.models import load_model\n",
    "\n",
    "#model.save('ann_delta_g_regression_40k_trian.h5')  # creates a HDF5 file 'my_model.h5'\n",
    "#del model  # deletes the existing model\n",
    "\n",
    "# returns a compiled model\n",
    "# identical to the previous one\n",
    "#model = load_model('ann_delta_g_regression_40k_trian.h5')\n",
    "#model = load_model('train_90k_test_5k_10_filters_1Convlayer.h5')"
   ]
  },
  {
   "cell_type": "code",
   "execution_count": 68,
   "metadata": {},
   "outputs": [
    {
     "data": {
      "text/plain": [
       "(8000, 1)"
      ]
     },
     "execution_count": 68,
     "metadata": {},
     "output_type": "execute_result"
    }
   ],
   "source": [
    "np.shape(model_prediction)"
   ]
  },
  {
   "cell_type": "code",
   "execution_count": 77,
   "metadata": {},
   "outputs": [
    {
     "data": {
      "text/plain": [
       "array([[0.0319619 ],\n",
       "       [0.04430313],\n",
       "       [0.20749278],\n",
       "       ...,\n",
       "       [0.21823865],\n",
       "       [0.01906541],\n",
       "       [0.01094922]], dtype=float32)"
      ]
     },
     "execution_count": 77,
     "metadata": {},
     "output_type": "execute_result"
    }
   ],
   "source": [
    "model_prediction"
   ]
  },
  {
   "cell_type": "code",
   "execution_count": 71,
   "metadata": {},
   "outputs": [],
   "source": [
    "predicted_expression = np.exp((-(model_prediction))/T)/(1+np.exp((-(model_prediction))/T))\n"
   ]
  },
  {
   "cell_type": "code",
   "execution_count": 156,
   "metadata": {},
   "outputs": [],
   "source": [
    "predicted_counts = np.random.poisson(7*predicted_expression)\n",
    "predicted_counts_normed = (predicted_counts-min(predicted_counts))/(max(predicted_counts)-min(predicted_counts))"
   ]
  },
  {
   "cell_type": "code",
   "execution_count": 160,
   "metadata": {},
   "outputs": [
    {
     "data": {
      "image/png": "[encoded data removed]",
      "text/plain": [
       "<Figure size 432x288 with 1 Axes>"
      ]
     },
     "metadata": {},
     "output_type": "display_data"
    }
   ],
   "source": [
    "plt.hist(predicted_counts,bins=40,color='blue',alpha=0.5,density=True)\n",
    "plt.hist(C[0:7677],bins=40,color='red',alpha=0.4,density=True)\n",
    "plt.show()"
   ]
  },
  {
   "cell_type": "code",
   "execution_count": 150,
   "metadata": {},
   "outputs": [
    {
     "data": {
      "text/plain": [
       "27987"
      ]
     },
     "execution_count": 150,
     "metadata": {},
     "output_type": "execute_result"
    }
   ],
   "source": [
    "np.sum(C[0:7677])"
   ]
  },
  {
   "cell_type": "code",
   "execution_count": 133,
   "metadata": {},
   "outputs": [
    {
     "data": {
      "text/plain": [
       "27990"
      ]
     },
     "execution_count": 133,
     "metadata": {},
     "output_type": "execute_result"
    }
   ],
   "source": [
    "np.sum(predicted_counts)"
   ]
  },
  {
   "cell_type": "code",
   "execution_count": null,
   "metadata": {
    "collapsed": true
   },
   "outputs": [],
   "source": []
  }
 ],
 "metadata": {
  "colab": {
   "collapsed_sections": [],
   "name": "motif_learn_convnet.ipynb",
   "provenance": [],
   "version": "0.3.2"
  },
  "kernelspec": {
   "display_name": "Python 3",
   "language": "python",
   "name": "python3"
  },
  "language_info": {
   "codemirror_mode": {
    "name": "ipython",
    "version": 3
   },
   "file_extension": ".py",
   "mimetype": "text/x-python",
   "name": "python",
   "nbconvert_exporter": "python",
   "pygments_lexer": "ipython3",
   "version": "3.6.2"
  }
 },
 "nbformat": 4,
 "nbformat_minor": 1
}
