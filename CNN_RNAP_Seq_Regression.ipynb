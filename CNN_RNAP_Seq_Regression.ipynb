{
 "cells": [
  {
   "cell_type": "code",
   "execution_count": 1,
   "metadata": {
    "collapsed": true
   },
   "outputs": [],
   "source": [
    "import pandas as pd\n",
    "import numpy as np\n",
    "import numpy as np\n",
    "import pandas as pd\n",
    "import matplotlib.pyplot as plt\n",
    "\n",
    "input_data_ordered_raw =  pd.read_csv('rnap_scanned_over_ecoli_genome100k.csv')\n",
    "sequences = input_data_ordered_raw['seq'].tolist()"
   ]
  },
  {
   "cell_type": "code",
   "execution_count": 2,
   "metadata": {},
   "outputs": [
    {
     "data": {
      "text/html": [
       "<div>\n",
       "<style scoped>\n",
       "    .dataframe tbody tr th:only-of-type {\n",
       "        vertical-align: middle;\n",
       "    }\n",
       "\n",
       "    .dataframe tbody tr th {\n",
       "        vertical-align: top;\n",
       "    }\n",
       "\n",
       "    .dataframe thead th {\n",
       "        text-align: right;\n",
       "    }\n",
       "</style>\n",
       "<table border=\"1\" class=\"dataframe\">\n",
       "  <thead>\n",
       "    <tr style=\"text-align: right;\">\n",
       "      <th></th>\n",
       "      <th>Unnamed: 0</th>\n",
       "      <th>val</th>\n",
       "      <th>seq</th>\n",
       "      <th>left</th>\n",
       "      <th>right</th>\n",
       "      <th>ori</th>\n",
       "      <th>contig</th>\n",
       "    </tr>\n",
       "  </thead>\n",
       "  <tbody>\n",
       "    <tr>\n",
       "      <th>0</th>\n",
       "      <td>0</td>\n",
       "      <td>23.9083</td>\n",
       "      <td>CTATTACCTGCCCACGGTAAAGGCGTTCTGGTTGCCCTACG</td>\n",
       "      <td>3695629</td>\n",
       "      <td>3695669</td>\n",
       "      <td>+</td>\n",
       "      <td>MG1655.fa</td>\n",
       "    </tr>\n",
       "    <tr>\n",
       "      <th>1</th>\n",
       "      <td>1</td>\n",
       "      <td>23.5831</td>\n",
       "      <td>TTTCTGCCCGCGGCCTGGCAATTGATACCGCCTTGCCATCG</td>\n",
       "      <td>1109059</td>\n",
       "      <td>1109099</td>\n",
       "      <td>+</td>\n",
       "      <td>MG1655.fa</td>\n",
       "    </tr>\n",
       "    <tr>\n",
       "      <th>2</th>\n",
       "      <td>2</td>\n",
       "      <td>23.4205</td>\n",
       "      <td>TTTTTACACGCCTTGCGTAAAGCGGCACGGCGCGGGGTGCG</td>\n",
       "      <td>822216</td>\n",
       "      <td>822256</td>\n",
       "      <td>-</td>\n",
       "      <td>MG1655.fa</td>\n",
       "    </tr>\n",
       "    <tr>\n",
       "      <th>3</th>\n",
       "      <td>3</td>\n",
       "      <td>23.4098</td>\n",
       "      <td>TTGCTGCCTGGCCGATGGTCTATGCCGCTGCGTTCTCCGGC</td>\n",
       "      <td>772478</td>\n",
       "      <td>772518</td>\n",
       "      <td>+</td>\n",
       "      <td>MG1655.fa</td>\n",
       "    </tr>\n",
       "    <tr>\n",
       "      <th>4</th>\n",
       "      <td>4</td>\n",
       "      <td>23.3640</td>\n",
       "      <td>CTTTTACACGCAAAATGCCGTCACGTTCACGGGTCTGGGCT</td>\n",
       "      <td>2748531</td>\n",
       "      <td>2748571</td>\n",
       "      <td>+</td>\n",
       "      <td>MG1655.fa</td>\n",
       "    </tr>\n",
       "  </tbody>\n",
       "</table>\n",
       "</div>"
      ],
      "text/plain": [
       "   Unnamed: 0      val                                        seq     left  \\\n",
       "0           0  23.9083  CTATTACCTGCCCACGGTAAAGGCGTTCTGGTTGCCCTACG  3695629   \n",
       "1           1  23.5831  TTTCTGCCCGCGGCCTGGCAATTGATACCGCCTTGCCATCG  1109059   \n",
       "2           2  23.4205  TTTTTACACGCCTTGCGTAAAGCGGCACGGCGCGGGGTGCG   822216   \n",
       "3           3  23.4098  TTGCTGCCTGGCCGATGGTCTATGCCGCTGCGTTCTCCGGC   772478   \n",
       "4           4  23.3640  CTTTTACACGCAAAATGCCGTCACGTTCACGGGTCTGGGCT  2748531   \n",
       "\n",
       "     right ori     contig  \n",
       "0  3695669   +  MG1655.fa  \n",
       "1  1109099   +  MG1655.fa  \n",
       "2   822256   -  MG1655.fa  \n",
       "3   772518   +  MG1655.fa  \n",
       "4  2748571   +  MG1655.fa  "
      ]
     },
     "execution_count": 2,
     "metadata": {},
     "output_type": "execute_result"
    }
   ],
   "source": [
    "input_data_ordered_raw.head()"
   ]
  },
  {
   "cell_type": "markdown",
   "metadata": {},
   "source": [
    "## Randomly sample vals and seqs to prevent data imbalance"
   ]
  },
  {
   "cell_type": "code",
   "execution_count": 3,
   "metadata": {},
   "outputs": [
    {
     "data": {
      "text/html": [
       "<div>\n",
       "<style scoped>\n",
       "    .dataframe tbody tr th:only-of-type {\n",
       "        vertical-align: middle;\n",
       "    }\n",
       "\n",
       "    .dataframe tbody tr th {\n",
       "        vertical-align: top;\n",
       "    }\n",
       "\n",
       "    .dataframe thead th {\n",
       "        text-align: right;\n",
       "    }\n",
       "</style>\n",
       "<table border=\"1\" class=\"dataframe\">\n",
       "  <thead>\n",
       "    <tr style=\"text-align: right;\">\n",
       "      <th></th>\n",
       "      <th>val</th>\n",
       "      <th>seq</th>\n",
       "    </tr>\n",
       "  </thead>\n",
       "  <tbody>\n",
       "    <tr>\n",
       "      <th>0</th>\n",
       "      <td>23.9083</td>\n",
       "      <td>CTATTACCTGCCCACGGTAAAGGCGTTCTGGTTGCCCTACG</td>\n",
       "    </tr>\n",
       "    <tr>\n",
       "      <th>1</th>\n",
       "      <td>23.5831</td>\n",
       "      <td>TTTCTGCCCGCGGCCTGGCAATTGATACCGCCTTGCCATCG</td>\n",
       "    </tr>\n",
       "    <tr>\n",
       "      <th>2</th>\n",
       "      <td>23.4205</td>\n",
       "      <td>TTTTTACACGCCTTGCGTAAAGCGGCACGGCGCGGGGTGCG</td>\n",
       "    </tr>\n",
       "    <tr>\n",
       "      <th>3</th>\n",
       "      <td>23.4098</td>\n",
       "      <td>TTGCTGCCTGGCCGATGGTCTATGCCGCTGCGTTCTCCGGC</td>\n",
       "    </tr>\n",
       "    <tr>\n",
       "      <th>4</th>\n",
       "      <td>23.3640</td>\n",
       "      <td>CTTTTACACGCAAAATGCCGTCACGTTCACGGGTCTGGGCT</td>\n",
       "    </tr>\n",
       "  </tbody>\n",
       "</table>\n",
       "</div>"
      ],
      "text/plain": [
       "       val                                        seq\n",
       "0  23.9083  CTATTACCTGCCCACGGTAAAGGCGTTCTGGTTGCCCTACG\n",
       "1  23.5831  TTTCTGCCCGCGGCCTGGCAATTGATACCGCCTTGCCATCG\n",
       "2  23.4205  TTTTTACACGCCTTGCGTAAAGCGGCACGGCGCGGGGTGCG\n",
       "3  23.4098  TTGCTGCCTGGCCGATGGTCTATGCCGCTGCGTTCTCCGGC\n",
       "4  23.3640  CTTTTACACGCAAAATGCCGTCACGTTCACGGGTCTGGGCT"
      ]
     },
     "execution_count": 3,
     "metadata": {},
     "output_type": "execute_result"
    }
   ],
   "source": [
    "input_data_ordered_raw[['val','seq']].head()"
   ]
  },
  {
   "cell_type": "code",
   "execution_count": 4,
   "metadata": {
    "collapsed": true
   },
   "outputs": [],
   "source": [
    "# normally sample high value seqs more\n",
    "# https://stackoverflow.com/questions/33160367/numpy-how-to-generate-a-normally-distributed-set-of-integers\n",
    "bi = np.random.binomial(n=10000, p=0.01, size=1000)\n"
   ]
  },
  {
   "cell_type": "code",
   "execution_count": 5,
   "metadata": {},
   "outputs": [
    {
     "name": "stdout",
     "output_type": "stream",
     "text": [
      "           val                                        seq\n",
      "49783  20.1916  TCGTTGCCTGCGGCAGGGTAAATTCGACTTCACTCTGCCAG\n",
      "49929  20.1899  AGATTAAATGGTTAAATTCTGCTTGCTGCGCTTTGGCCTCG\n",
      "49884  20.1904  TTTCAGCAGCTTCTTCCGCACGGTCTTCACCGCTCGCCACG\n",
      "50157  20.1873  TGTTAAAAGGGGATGTGTTATCCAGCACCGCCTGAATCACA\n",
      "50140  20.1875  GAAATCGCCAGCCACTTGCGCCGGATTTGCCGCGCCTGCCA\n",
      "           val                                        seq\n",
      "50064  20.1883  CCCCTACATAGTGGGAATAGTAAGACCAGTTAGTCCCGAAC\n",
      "49965  20.1894  CGCAACCAGTTTCTCGATGCCTCTCTGACGCTGGCGCGCCA\n",
      "50170  20.1871  CCCGGCGATGGTCAATGAAGGCACTTTTCGCGCTGACCTGC\n",
      "50068  20.1883  GCTGACCAAAACCTGGGAAACCATTCACGGCGCGCCCGTTG\n",
      "50031  20.1886  ACGTCGCCTGAACATGAATCTCTCCTGAAGCGCTGACTTCG\n"
     ]
    }
   ],
   "source": [
    "num_sample = 40000   # number of training samples\n",
    "test_size = 10000    # number of test samples\n",
    "\n",
    "binomial_probability_parameter = 0.5\n",
    "\n",
    "#index_random_sample_training_data = np.random.randint(100000,size=(9000))\n",
    "index_random_sample_training_data = np.random.binomial(n=100000, p=binomial_probability_parameter, size=num_sample)\n",
    "input_data_raw = input_data_ordered_raw[['val','seq']].loc[index_random_sample_training_data]\n",
    "print(input_data_raw.head())\n",
    "\n",
    "#index_random_sample_test_data = np.random.randint(100000,size=(1000))\n",
    "index_random_sample_test_data = np.random.binomial(n=100000, p=binomial_probability_parameter, size=test_size)\n",
    "input_data_raw_test = input_data_ordered_raw[['val','seq']].loc[index_random_sample_test_data]\n",
    "\n",
    "print(input_data_raw_test.head())"
   ]
  },
  {
   "cell_type": "markdown",
   "metadata": {},
   "source": [
    "## Make positive and negative Labels"
   ]
  },
  {
   "cell_type": "code",
   "execution_count": 6,
   "metadata": {},
   "outputs": [
    {
     "data": {
      "image/png": "[encoded data removed]",
      "text/plain": [
       "<Figure size 432x288 with 1 Axes>"
      ]
     },
     "metadata": {},
     "output_type": "display_data"
    }
   ],
   "source": [
    "# positive and negative labels\n",
    "# normalize the following between 0 and 1\n",
    "pos_labels = np.array(input_data_raw['val'][0:num_sample])\n",
    "pos_labels = (pos_labels-min(pos_labels))/(max(pos_labels)-min(pos_labels))\n",
    "\n",
    "# test positive and negative labels\n",
    "test_pos_labels = np.array(input_data_raw_test['val'][0:test_size])\n",
    "test_pos_labels = (test_pos_labels-min(test_pos_labels))/(max(test_pos_labels)-min(test_pos_labels))\n",
    "\n",
    "plt.hist(pos_labels,bins=50,label='Training data histogram')\n",
    "plt.legend()\n",
    "plt.show()\n",
    "# assigned random values to negative examples"
   ]
  },
  {
   "cell_type": "code",
   "execution_count": 7,
   "metadata": {
    "collapsed": true
   },
   "outputs": [],
   "source": [
    "sequences = np.array(sequences)\n",
    "\n",
    "pos = []\n",
    "pos = list(sequences[index_random_sample_training_data])\n",
    "\n",
    "test_pos = []\n",
    "test_pos = list(sequences[index_random_sample_test_data])\n",
    "\n",
    "pos = np.array(pos)\n",
    "test_pos = np.array(test_pos)\n",
    "\n",
    "seq_length = len(pos[0])"
   ]
  },
  {
   "cell_type": "markdown",
   "metadata": {},
   "source": [
    "## One-hot encoding"
   ]
  },
  {
   "cell_type": "code",
   "execution_count": 8,
   "metadata": {
    "collapsed": true
   },
   "outputs": [],
   "source": [
    "temp_pos = []\n",
    "temp_pos_test = []\n",
    "for reshape_index in range(len(pos)):\n",
    "    temp_pos.append(list(pos[reshape_index]))\n",
    "\n",
    "for reshape_test_index in range(len(test_pos)):\n",
    "    temp_pos_test.append(list(test_pos[reshape_test_index]))\n",
    "    \n",
    "pos = temp_pos\n",
    "test_pos = temp_pos_test"
   ]
  },
  {
   "cell_type": "code",
   "execution_count": 9,
   "metadata": {
    "collapsed": true
   },
   "outputs": [],
   "source": [
    "pos = np.array(pos)\n",
    "test_pos = np.array(test_pos)"
   ]
  },
  {
   "cell_type": "code",
   "execution_count": 10,
   "metadata": {
    "colab": {
     "base_uri": "https://localhost:8080/",
     "height": 289
    },
    "colab_type": "code",
    "id": "riQRzV6CNp33",
    "outputId": "a27104ff-7917-4987-dccc-7780792beac2"
   },
   "outputs": [
    {
     "name": "stdout",
     "output_type": "stream",
     "text": [
      "Positive sample matrix shape: (40000, 41)\n",
      "Positive sample tensor shape: (40000, 41, 4)\n",
      "Training set shape: (40000, 41, 4)\n",
      "Training set label shape: (40000,)\n",
      "\n",
      "One-hot encoding looks like:\n",
      " [[0. 0. 0. 1.]\n",
      " [0. 1. 0. 0.]\n",
      " [0. 0. 1. 0.]\n",
      " [0. 0. 0. 1.]\n",
      " [0. 0. 0. 1.]\n",
      " [0. 0. 1. 0.]\n",
      " [0. 1. 0. 0.]\n",
      " [0. 1. 0. 0.]\n",
      " [0. 0. 0. 1.]\n",
      " [0. 0. 1. 0.]]\n"
     ]
    }
   ],
   "source": [
    "pos_tensor = np.zeros(list(pos.shape) + [4])\n",
    "\n",
    "test_pos_tensor = np.zeros(list(test_pos.shape) + [4])\n",
    "\n",
    "base_dict = {'A': 0, 'C': 1, 'G': 2, 'T': 3}\n",
    "\n",
    "#naive one-hot encoding\n",
    "for row in range(num_sample):\n",
    "    for col in range(seq_length):\n",
    "        pos_tensor[row,col,base_dict[pos[row,col]]] = 1\n",
    "        if(row<test_size):\n",
    "            test_pos_tensor[row,col,base_dict[test_pos[row,col]]] = 1\n",
    "\n",
    "print('Positive sample matrix shape: {}'.format(pos.shape))\n",
    "# this should be a 3D tensor with shape: (samples, steps, input_dim)\n",
    "print('Positive sample tensor shape: {}'.format(pos_tensor.shape))\n",
    "\n",
    "X = pos_tensor\n",
    "y = pos_labels\n",
    "\n",
    "X_test = test_pos_tensor\n",
    "y_test = test_pos_labels\n",
    "\n",
    "print('Training set shape: {}'.format(X.shape))\n",
    "print('Training set label shape: {}'.format(y.shape))\n",
    "print('\\nOne-hot encoding looks like:\\n {}'.format(X[0,0:10,:]))"
   ]
  },
  {
   "cell_type": "markdown",
   "metadata": {},
   "source": [
    "# Define error metrics"
   ]
  },
  {
   "cell_type": "code",
   "execution_count": 11,
   "metadata": {
    "collapsed": true
   },
   "outputs": [],
   "source": [
    "def rmse(y_true, y_pred):\n",
    "    from keras import backend\n",
    "    return backend.sqrt(backend.mean(backend.square(y_pred - y_true), axis=-1))\n",
    "\n",
    "# coefficient of determination (R^2) for regression\n",
    "def r_square(y_true, y_pred):\n",
    "    from keras import backend as K\n",
    "    SS_res =  K.sum(K.square(y_true - y_pred)) \n",
    "    SS_tot = K.sum(K.square(y_true - K.mean(y_true))) \n",
    "    return (1 - SS_res/(SS_tot + K.epsilon()))"
   ]
  },
  {
   "cell_type": "markdown",
   "metadata": {},
   "source": [
    "## Define Models"
   ]
  },
  {
   "cell_type": "code",
   "execution_count": 12,
   "metadata": {
    "colab": {
     "base_uri": "https://localhost:8080/",
     "height": 51
    },
    "colab_type": "code",
    "id": "bD1LpHUKNtVh",
    "outputId": "ec377700-10d7-44a3-c80b-45c2a7133a11"
   },
   "outputs": [
    {
     "name": "stderr",
     "output_type": "stream",
     "text": [
      "Using TensorFlow backend.\n"
     ]
    }
   ],
   "source": [
    "#here comes the deep learning part\n",
    "from keras.models import Sequential\n",
    "from keras.layers import Conv1D, Dense, Flatten, Dropout\n",
    "from keras.activations import relu\n",
    "from keras.layers.pooling import MaxPooling1D\n",
    "from keras.optimizers import SGD, Adam\n",
    "\n",
    "#sanity check for dimensions\n",
    "#print('Shape of the output of first layer: {}'.format(model.predict_on_batch(pos_tensor[0:1,:,:]).shape))"
   ]
  },
  {
   "cell_type": "code",
   "execution_count": 13,
   "metadata": {
    "colab": {
     "base_uri": "https://localhost:8080/",
     "height": 374
    },
    "colab_type": "code",
    "id": "2CkOlW_EN2gn",
    "outputId": "fbdf111b-fb35-4569-c9e3-34ead250e689"
   },
   "outputs": [
    {
     "name": "stdout",
     "output_type": "stream",
     "text": [
      "Train on 28000 samples, validate on 12000 samples\n",
      "Epoch 1/100\n",
      "28000/28000 [==============================] - 4s 145us/step - loss: 0.0246 - rmse: 0.1218 - r_square: -0.8687 - val_loss: 0.0122 - val_rmse: 0.0843 - val_r_square: 0.1149\n",
      "Epoch 2/100\n",
      "28000/28000 [==============================] - 4s 132us/step - loss: 0.0137 - rmse: 0.0894 - r_square: -0.0203 - val_loss: 0.0071 - val_rmse: 0.0568 - val_r_square: 0.4985\n",
      "Epoch 3/100\n",
      "28000/28000 [==============================] - 4s 133us/step - loss: 0.0094 - rmse: 0.0713 - r_square: 0.3107 - val_loss: 0.0044 - val_rmse: 0.0371 - val_r_square: 0.7029\n",
      "Epoch 4/100\n",
      "28000/28000 [==============================] - 4s 134us/step - loss: 0.0066 - rmse: 0.0585 - r_square: 0.5153 - val_loss: 0.0030 - val_rmse: 0.0266 - val_r_square: 0.8028\n",
      "Epoch 5/100\n",
      "28000/28000 [==============================] - 4s 137us/step - loss: 0.0053 - rmse: 0.0519 - r_square: 0.6158 - val_loss: 0.0023 - val_rmse: 0.0241 - val_r_square: 0.8454\n",
      "Epoch 6/100\n",
      "28000/28000 [==============================] - 4s 143us/step - loss: 0.0043 - rmse: 0.0466 - r_square: 0.6860 - val_loss: 0.0020 - val_rmse: 0.0233 - val_r_square: 0.8662\n",
      "Epoch 7/100\n",
      "28000/28000 [==============================] - 4s 157us/step - loss: 0.0037 - rmse: 0.0434 - r_square: 0.7315 - val_loss: 0.0016 - val_rmse: 0.0198 - val_r_square: 0.8937\n",
      "Epoch 8/100\n",
      "28000/28000 [==============================] - 4s 142us/step - loss: 0.0032 - rmse: 0.0401 - r_square: 0.7700 - val_loss: 0.0013 - val_rmse: 0.0177 - val_r_square: 0.9129\n",
      "Epoch 9/100\n",
      "28000/28000 [==============================] - 4s 158us/step - loss: 0.0028 - rmse: 0.0375 - r_square: 0.7975 - val_loss: 0.0014 - val_rmse: 0.0206 - val_r_square: 0.9063\n",
      "Epoch 10/100\n",
      "28000/28000 [==============================] - 5s 178us/step - loss: 0.0024 - rmse: 0.0351 - r_square: 0.8245 - val_loss: 0.0012 - val_rmse: 0.0170 - val_r_square: 0.9242\n",
      "Epoch 11/100\n",
      "28000/28000 [==============================] - 5s 184us/step - loss: 0.0021 - rmse: 0.0333 - r_square: 0.8432 - val_loss: 0.0011 - val_rmse: 0.0180 - val_r_square: 0.9256\n",
      "Epoch 12/100\n",
      "28000/28000 [==============================] - 4s 143us/step - loss: 0.0019 - rmse: 0.0313 - r_square: 0.8607 - val_loss: 9.1166e-04 - val_rmse: 0.0135 - val_r_square: 0.9418\n",
      "Epoch 13/100\n",
      "28000/28000 [==============================] - 4s 149us/step - loss: 0.0017 - rmse: 0.0295 - r_square: 0.8775 - val_loss: 8.4068e-04 - val_rmse: 0.0118 - val_r_square: 0.9468\n",
      "Epoch 14/100\n",
      "28000/28000 [==============================] - 5s 172us/step - loss: 0.0015 - rmse: 0.0279 - r_square: 0.8907 - val_loss: 8.2931e-04 - val_rmse: 0.0123 - val_r_square: 0.9475\n",
      "Epoch 15/100\n",
      "28000/28000 [==============================] - 4s 143us/step - loss: 0.0014 - rmse: 0.0268 - r_square: 0.8987 - val_loss: 8.1255e-04 - val_rmse: 0.0136 - val_r_square: 0.9477\n",
      "Epoch 16/100\n",
      "28000/28000 [==============================] - 4s 142us/step - loss: 0.0012 - rmse: 0.0255 - r_square: 0.9084 - val_loss: 7.7613e-04 - val_rmse: 0.0122 - val_r_square: 0.9507\n",
      "Epoch 17/100\n",
      "28000/28000 [==============================] - 4s 140us/step - loss: 0.0012 - rmse: 0.0245 - r_square: 0.9149 - val_loss: 7.4226e-04 - val_rmse: 0.0114 - val_r_square: 0.9534\n",
      "Epoch 18/100\n",
      "28000/28000 [==============================] - 4s 142us/step - loss: 0.0011 - rmse: 0.0236 - r_square: 0.9219 - val_loss: 7.3753e-04 - val_rmse: 0.0119 - val_r_square: 0.9534\n",
      "Epoch 19/100\n",
      "28000/28000 [==============================] - 4s 144us/step - loss: 9.3766e-04 - rmse: 0.0221 - r_square: 0.9306 - val_loss: 7.0072e-04 - val_rmse: 0.0112 - val_r_square: 0.9561\n",
      "Epoch 20/100\n",
      "28000/28000 [==============================] - 4s 141us/step - loss: 8.7744e-04 - rmse: 0.0215 - r_square: 0.9351 - val_loss: 6.9302e-04 - val_rmse: 0.0114 - val_r_square: 0.9564\n",
      "Epoch 21/100\n",
      "28000/28000 [==============================] - 4s 146us/step - loss: 8.2178e-04 - rmse: 0.0206 - r_square: 0.9393 - val_loss: 6.6932e-04 - val_rmse: 0.0101 - val_r_square: 0.9582\n",
      "Epoch 22/100\n",
      "28000/28000 [==============================] - 4s 150us/step - loss: 7.7666e-04 - rmse: 0.0202 - r_square: 0.9429 - val_loss: 6.5595e-04 - val_rmse: 0.0108 - val_r_square: 0.9591\n",
      "Epoch 23/100\n",
      "28000/28000 [==============================] - 4s 140us/step - loss: 7.2438e-04 - rmse: 0.0194 - r_square: 0.9466 - val_loss: 7.4391e-04 - val_rmse: 0.0126 - val_r_square: 0.9522\n",
      "Epoch 24/100\n",
      "28000/28000 [==============================] - 4s 142us/step - loss: 6.8981e-04 - rmse: 0.0190 - r_square: 0.9492 - val_loss: 6.2541e-04 - val_rmse: 0.0096 - val_r_square: 0.9613\n",
      "Epoch 25/100\n",
      "28000/28000 [==============================] - 4s 144us/step - loss: 6.7732e-04 - rmse: 0.0186 - r_square: 0.9502 - val_loss: 6.7004e-04 - val_rmse: 0.0114 - val_r_square: 0.9580\n",
      "Epoch 26/100\n",
      "28000/28000 [==============================] - 4s 138us/step - loss: 6.3629e-04 - rmse: 0.0181 - r_square: 0.9533 - val_loss: 6.2436e-04 - val_rmse: 0.0094 - val_r_square: 0.9614\n",
      "Epoch 27/100\n",
      "28000/28000 [==============================] - 5s 161us/step - loss: 6.1243e-04 - rmse: 0.0179 - r_square: 0.9549 - val_loss: 6.4442e-04 - val_rmse: 0.0105 - val_r_square: 0.9598\n",
      "Epoch 28/100\n",
      "28000/28000 [==============================] - 4s 146us/step - loss: 6.0330e-04 - rmse: 0.0176 - r_square: 0.9554 - val_loss: 6.2989e-04 - val_rmse: 0.0094 - val_r_square: 0.9612\n",
      "Epoch 29/100\n",
      "28000/28000 [==============================] - 4s 155us/step - loss: 5.6542e-04 - rmse: 0.0171 - r_square: 0.9581 - val_loss: 5.9655e-04 - val_rmse: 0.0090 - val_r_square: 0.9633\n",
      "Epoch 30/100\n",
      "28000/28000 [==============================] - 4s 135us/step - loss: 5.6860e-04 - rmse: 0.0172 - r_square: 0.9578 - val_loss: 6.1046e-04 - val_rmse: 0.0091 - val_r_square: 0.9625\n",
      "Epoch 31/100\n",
      "28000/28000 [==============================] - 4s 138us/step - loss: 5.5392e-04 - rmse: 0.0169 - r_square: 0.9593 - val_loss: 6.2089e-04 - val_rmse: 0.0095 - val_r_square: 0.9617\n",
      "Epoch 32/100\n",
      "28000/28000 [==============================] - 4s 133us/step - loss: 5.6369e-04 - rmse: 0.0169 - r_square: 0.9585 - val_loss: 6.0913e-04 - val_rmse: 0.0099 - val_r_square: 0.9624\n",
      "Epoch 33/100\n",
      "28000/28000 [==============================] - 4s 134us/step - loss: 5.4180e-04 - rmse: 0.0166 - r_square: 0.9598 - val_loss: 6.2982e-04 - val_rmse: 0.0107 - val_r_square: 0.9607\n",
      "Epoch 34/100\n",
      "28000/28000 [==============================] - 4s 136us/step - loss: 5.3729e-04 - rmse: 0.0166 - r_square: 0.9603 - val_loss: 6.3829e-04 - val_rmse: 0.0106 - val_r_square: 0.9601\n",
      "Epoch 35/100\n",
      "28000/28000 [==============================] - 5s 167us/step - loss: 5.2294e-04 - rmse: 0.0163 - r_square: 0.9615 - val_loss: 5.7357e-04 - val_rmse: 0.0081 - val_r_square: 0.9652\n",
      "Epoch 36/100\n",
      "28000/28000 [==============================] - 4s 155us/step - loss: 5.1414e-04 - rmse: 0.0162 - r_square: 0.9620 - val_loss: 5.8559e-04 - val_rmse: 0.0087 - val_r_square: 0.9643\n",
      "Epoch 37/100\n",
      "28000/28000 [==============================] - 4s 156us/step - loss: 5.0549e-04 - rmse: 0.0161 - r_square: 0.9628 - val_loss: 6.1960e-04 - val_rmse: 0.0096 - val_r_square: 0.9617\n",
      "Epoch 38/100\n",
      "28000/28000 [==============================] - 4s 159us/step - loss: 5.1254e-04 - rmse: 0.0161 - r_square: 0.9623 - val_loss: 5.8525e-04 - val_rmse: 0.0086 - val_r_square: 0.9644\n",
      "Epoch 39/100\n",
      "28000/28000 [==============================] - 4s 141us/step - loss: 5.0108e-04 - rmse: 0.0159 - r_square: 0.9632 - val_loss: 5.7515e-04 - val_rmse: 0.0082 - val_r_square: 0.9650\n",
      "Epoch 40/100\n",
      "28000/28000 [==============================] - 4s 143us/step - loss: 4.9631e-04 - rmse: 0.0158 - r_square: 0.9633 - val_loss: 5.6829e-04 - val_rmse: 0.0081 - val_r_square: 0.9655\n",
      "Epoch 41/100\n",
      "28000/28000 [==============================] - 4s 142us/step - loss: 5.0808e-04 - rmse: 0.0160 - r_square: 0.9625 - val_loss: 5.8399e-04 - val_rmse: 0.0089 - val_r_square: 0.9643\n",
      "Epoch 42/100\n",
      "28000/28000 [==============================] - 4s 140us/step - loss: 4.8710e-04 - rmse: 0.0157 - r_square: 0.9643 - val_loss: 5.8333e-04 - val_rmse: 0.0085 - val_r_square: 0.9644\n",
      "Epoch 43/100\n",
      "28000/28000 [==============================] - 4s 140us/step - loss: 4.8488e-04 - rmse: 0.0157 - r_square: 0.9640 - val_loss: 5.8162e-04 - val_rmse: 0.0087 - val_r_square: 0.9645\n",
      "Epoch 44/100\n"
     ]
    },
    {
     "name": "stdout",
     "output_type": "stream",
     "text": [
      "28000/28000 [==============================] - 4s 156us/step - loss: 4.6682e-04 - rmse: 0.0153 - r_square: 0.9657 - val_loss: 6.6783e-04 - val_rmse: 0.0114 - val_r_square: 0.9581\n",
      "Epoch 45/100\n",
      "28000/28000 [==============================] - 4s 150us/step - loss: 4.6647e-04 - rmse: 0.0153 - r_square: 0.9657 - val_loss: 6.1131e-04 - val_rmse: 0.0100 - val_r_square: 0.9622\n",
      "Epoch 46/100\n",
      "28000/28000 [==============================] - 4s 139us/step - loss: 4.5136e-04 - rmse: 0.0151 - r_square: 0.9666 - val_loss: 6.2524e-04 - val_rmse: 0.0103 - val_r_square: 0.9612\n",
      "Epoch 47/100\n",
      "28000/28000 [==============================] - 4s 145us/step - loss: 4.6375e-04 - rmse: 0.0153 - r_square: 0.9657 - val_loss: 5.6680e-04 - val_rmse: 0.0077 - val_r_square: 0.9658\n",
      "Epoch 48/100\n",
      "28000/28000 [==============================] - 4s 143us/step - loss: 4.4433e-04 - rmse: 0.0150 - r_square: 0.9672 - val_loss: 5.6882e-04 - val_rmse: 0.0078 - val_r_square: 0.9657\n",
      "Epoch 49/100\n",
      "28000/28000 [==============================] - 4s 137us/step - loss: 4.5374e-04 - rmse: 0.0151 - r_square: 0.9666 - val_loss: 5.9229e-04 - val_rmse: 0.0086 - val_r_square: 0.9638\n",
      "Epoch 50/100\n",
      "28000/28000 [==============================] - 4s 145us/step - loss: 4.4206e-04 - rmse: 0.0149 - r_square: 0.9674 - val_loss: 5.7908e-04 - val_rmse: 0.0077 - val_r_square: 0.9650\n",
      "Epoch 51/100\n",
      "28000/28000 [==============================] - 4s 149us/step - loss: 4.5034e-04 - rmse: 0.0150 - r_square: 0.9668 - val_loss: 6.9469e-04 - val_rmse: 0.0120 - val_r_square: 0.9563\n",
      "Epoch 52/100\n",
      "28000/28000 [==============================] - 4s 138us/step - loss: 4.4422e-04 - rmse: 0.0149 - r_square: 0.9673 - val_loss: 5.8608e-04 - val_rmse: 0.0080 - val_r_square: 0.9645\n",
      "Epoch 53/100\n",
      "28000/28000 [==============================] - 4s 138us/step - loss: 4.4986e-04 - rmse: 0.0149 - r_square: 0.9671 - val_loss: 5.9378e-04 - val_rmse: 0.0079 - val_r_square: 0.9640\n",
      "Epoch 54/100\n",
      "28000/28000 [==============================] - 4s 137us/step - loss: 4.3336e-04 - rmse: 0.0148 - r_square: 0.9682 - val_loss: 5.8421e-04 - val_rmse: 0.0082 - val_r_square: 0.9646\n",
      "Epoch 55/100\n",
      "28000/28000 [==============================] - 4s 142us/step - loss: 4.2962e-04 - rmse: 0.0147 - r_square: 0.9684 - val_loss: 5.8958e-04 - val_rmse: 0.0079 - val_r_square: 0.9642\n",
      "Epoch 56/100\n",
      "28000/28000 [==============================] - 4s 147us/step - loss: 4.3018e-04 - rmse: 0.0147 - r_square: 0.9683 - val_loss: 5.7776e-04 - val_rmse: 0.0077 - val_r_square: 0.9649\n",
      "Epoch 57/100\n",
      "28000/28000 [==============================] - 5s 166us/step - loss: 4.3821e-04 - rmse: 0.0148 - r_square: 0.9677 - val_loss: 5.9115e-04 - val_rmse: 0.0083 - val_r_square: 0.9641\n",
      "Epoch 58/100\n",
      "28000/28000 [==============================] - 4s 147us/step - loss: 4.2728e-04 - rmse: 0.0146 - r_square: 0.9685 - val_loss: 5.7638e-04 - val_rmse: 0.0075 - val_r_square: 0.9652\n",
      "Epoch 59/100\n",
      "28000/28000 [==============================] - 4s 145us/step - loss: 4.1816e-04 - rmse: 0.0144 - r_square: 0.9692 - val_loss: 5.8204e-04 - val_rmse: 0.0082 - val_r_square: 0.9646\n",
      "Epoch 60/100\n",
      "28000/28000 [==============================] - 4s 144us/step - loss: 4.2290e-04 - rmse: 0.0144 - r_square: 0.9689 - val_loss: 5.9336e-04 - val_rmse: 0.0083 - val_r_square: 0.9639\n",
      "Epoch 61/100\n",
      "28000/28000 [==============================] - 4s 144us/step - loss: 4.1113e-04 - rmse: 0.0143 - r_square: 0.9699 - val_loss: 5.8448e-04 - val_rmse: 0.0083 - val_r_square: 0.9645\n",
      "Epoch 62/100\n",
      "28000/28000 [==============================] - 4s 144us/step - loss: 4.1911e-04 - rmse: 0.0145 - r_square: 0.9692 - val_loss: 6.0886e-04 - val_rmse: 0.0090 - val_r_square: 0.9628\n",
      "Epoch 63/100\n",
      "28000/28000 [==============================] - 4s 145us/step - loss: 4.2212e-04 - rmse: 0.0145 - r_square: 0.9689 - val_loss: 5.9112e-04 - val_rmse: 0.0081 - val_r_square: 0.9640\n",
      "Epoch 64/100\n",
      "28000/28000 [==============================] - 4s 147us/step - loss: 4.1833e-04 - rmse: 0.0143 - r_square: 0.9690 - val_loss: 6.5243e-04 - val_rmse: 0.0108 - val_r_square: 0.9593\n",
      "Epoch 65/100\n",
      "28000/28000 [==============================] - 4s 145us/step - loss: 4.2326e-04 - rmse: 0.0145 - r_square: 0.9688 - val_loss: 5.9192e-04 - val_rmse: 0.0080 - val_r_square: 0.9641\n",
      "Epoch 66/100\n",
      "28000/28000 [==============================] - 4s 147us/step - loss: 4.1457e-04 - rmse: 0.0143 - r_square: 0.9694 - val_loss: 5.6274e-04 - val_rmse: 0.0071 - val_r_square: 0.9662\n",
      "Epoch 67/100\n",
      "28000/28000 [==============================] - 4s 148us/step - loss: 4.2369e-04 - rmse: 0.0144 - r_square: 0.9689 - val_loss: 5.6165e-04 - val_rmse: 0.0069 - val_r_square: 0.9662\n",
      "Epoch 68/100\n",
      "28000/28000 [==============================] - 4s 146us/step - loss: 3.9801e-04 - rmse: 0.0141 - r_square: 0.9707 - val_loss: 5.5194e-04 - val_rmse: 0.0069 - val_r_square: 0.9668\n",
      "Epoch 69/100\n",
      "28000/28000 [==============================] - 4s 147us/step - loss: 4.3000e-04 - rmse: 0.0144 - r_square: 0.9684 - val_loss: 6.0914e-04 - val_rmse: 0.0090 - val_r_square: 0.9625\n",
      "Epoch 70/100\n",
      "28000/28000 [==============================] - 4s 145us/step - loss: 4.0757e-04 - rmse: 0.0142 - r_square: 0.9700 - val_loss: 5.8143e-04 - val_rmse: 0.0078 - val_r_square: 0.9649\n",
      "Epoch 71/100\n",
      "28000/28000 [==============================] - 5s 167us/step - loss: 4.1332e-04 - rmse: 0.0142 - r_square: 0.9697 - val_loss: 5.7291e-04 - val_rmse: 0.0074 - val_r_square: 0.9655\n",
      "Epoch 72/100\n",
      "28000/28000 [==============================] - 4s 134us/step - loss: 4.1058e-04 - rmse: 0.0142 - r_square: 0.9699 - val_loss: 5.8504e-04 - val_rmse: 0.0080 - val_r_square: 0.9645\n",
      "Epoch 73/100\n",
      "28000/28000 [==============================] - 4s 141us/step - loss: 4.0744e-04 - rmse: 0.0142 - r_square: 0.9699 - val_loss: 5.6003e-04 - val_rmse: 0.0071 - val_r_square: 0.9664\n",
      "Epoch 74/100\n",
      "28000/28000 [==============================] - 4s 150us/step - loss: 4.0298e-04 - rmse: 0.0141 - r_square: 0.9704 - val_loss: 6.0104e-04 - val_rmse: 0.0082 - val_r_square: 0.9635\n",
      "Epoch 75/100\n",
      "28000/28000 [==============================] - 4s 133us/step - loss: 4.0337e-04 - rmse: 0.0141 - r_square: 0.9703 - val_loss: 5.7470e-04 - val_rmse: 0.0070 - val_r_square: 0.9654\n",
      "Epoch 76/100\n",
      "28000/28000 [==============================] - 4s 132us/step - loss: 4.0139e-04 - rmse: 0.0140 - r_square: 0.9704 - val_loss: 5.6401e-04 - val_rmse: 0.0074 - val_r_square: 0.9658\n",
      "Epoch 77/100\n",
      "28000/28000 [==============================] - 4s 132us/step - loss: 4.0081e-04 - rmse: 0.0140 - r_square: 0.9707 - val_loss: 5.7364e-04 - val_rmse: 0.0074 - val_r_square: 0.9652\n",
      "Epoch 78/100\n",
      "28000/28000 [==============================] - 4s 157us/step - loss: 3.8941e-04 - rmse: 0.0138 - r_square: 0.9714 - val_loss: 5.7567e-04 - val_rmse: 0.0069 - val_r_square: 0.9652\n",
      "Epoch 79/100\n",
      "28000/28000 [==============================] - 5s 164us/step - loss: 3.9576e-04 - rmse: 0.0140 - r_square: 0.9708 - val_loss: 5.8179e-04 - val_rmse: 0.0084 - val_r_square: 0.9644\n",
      "Epoch 80/100\n",
      "28000/28000 [==============================] - 4s 139us/step - loss: 3.8001e-04 - rmse: 0.0138 - r_square: 0.9720 - val_loss: 5.7317e-04 - val_rmse: 0.0074 - val_r_square: 0.9653\n",
      "Epoch 81/100\n",
      "28000/28000 [==============================] - 4s 142us/step - loss: 3.9758e-04 - rmse: 0.0140 - r_square: 0.9706 - val_loss: 5.6293e-04 - val_rmse: 0.0071 - val_r_square: 0.9661\n",
      "Epoch 82/100\n",
      "28000/28000 [==============================] - 4s 138us/step - loss: 3.9785e-04 - rmse: 0.0139 - r_square: 0.9710 - val_loss: 5.8064e-04 - val_rmse: 0.0082 - val_r_square: 0.9647\n",
      "Epoch 83/100\n",
      "28000/28000 [==============================] - 4s 137us/step - loss: 3.9451e-04 - rmse: 0.0139 - r_square: 0.9710 - val_loss: 5.4977e-04 - val_rmse: 0.0067 - val_r_square: 0.9669\n",
      "Epoch 84/100\n",
      "28000/28000 [==============================] - 4s 136us/step - loss: 4.0030e-04 - rmse: 0.0139 - r_square: 0.9706 - val_loss: 5.5027e-04 - val_rmse: 0.0069 - val_r_square: 0.9668\n",
      "Epoch 85/100\n",
      "28000/28000 [==============================] - 4s 153us/step - loss: 3.8727e-04 - rmse: 0.0137 - r_square: 0.9716 - val_loss: 5.4821e-04 - val_rmse: 0.0065 - val_r_square: 0.9671\n",
      "Epoch 86/100\n",
      "28000/28000 [==============================] - 4s 159us/step - loss: 3.8440e-04 - rmse: 0.0138 - r_square: 0.9717 - val_loss: 5.6584e-04 - val_rmse: 0.0078 - val_r_square: 0.9657\n"
     ]
    },
    {
     "name": "stdout",
     "output_type": "stream",
     "text": [
      "Epoch 87/100\n",
      "28000/28000 [==============================] - 4s 139us/step - loss: 3.9862e-04 - rmse: 0.0139 - r_square: 0.9706 - val_loss: 5.6619e-04 - val_rmse: 0.0077 - val_r_square: 0.9656\n",
      "Epoch 88/100\n",
      "28000/28000 [==============================] - 4s 139us/step - loss: 3.8728e-04 - rmse: 0.0137 - r_square: 0.9717 - val_loss: 6.0355e-04 - val_rmse: 0.0097 - val_r_square: 0.9626\n",
      "Epoch 89/100\n",
      "28000/28000 [==============================] - 4s 139us/step - loss: 3.9796e-04 - rmse: 0.0139 - r_square: 0.9708 - val_loss: 5.6927e-04 - val_rmse: 0.0077 - val_r_square: 0.9653\n",
      "Epoch 90/100\n",
      "28000/28000 [==============================] - 4s 138us/step - loss: 3.8221e-04 - rmse: 0.0137 - r_square: 0.9719 - val_loss: 5.6445e-04 - val_rmse: 0.0072 - val_r_square: 0.9658\n",
      "Epoch 91/100\n",
      "28000/28000 [==============================] - 4s 139us/step - loss: 3.8089e-04 - rmse: 0.0136 - r_square: 0.9720 - val_loss: 5.8814e-04 - val_rmse: 0.0084 - val_r_square: 0.9639\n",
      "Epoch 92/100\n",
      "28000/28000 [==============================] - 4s 155us/step - loss: 3.7507e-04 - rmse: 0.0136 - r_square: 0.9723 - val_loss: 5.5394e-04 - val_rmse: 0.0069 - val_r_square: 0.9665\n",
      "Epoch 93/100\n",
      "28000/28000 [==============================] - 4s 141us/step - loss: 3.7945e-04 - rmse: 0.0136 - r_square: 0.9719 - val_loss: 5.6106e-04 - val_rmse: 0.0070 - val_r_square: 0.9660\n",
      "Epoch 94/100\n",
      "28000/28000 [==============================] - 4s 139us/step - loss: 3.8648e-04 - rmse: 0.0137 - r_square: 0.9715 - val_loss: 5.6363e-04 - val_rmse: 0.0074 - val_r_square: 0.9658\n",
      "Epoch 95/100\n",
      "28000/28000 [==============================] - 4s 140us/step - loss: 3.8529e-04 - rmse: 0.0137 - r_square: 0.9716 - val_loss: 5.6861e-04 - val_rmse: 0.0072 - val_r_square: 0.9652\n",
      "Epoch 96/100\n",
      "28000/28000 [==============================] - 4s 140us/step - loss: 3.9334e-04 - rmse: 0.0138 - r_square: 0.9710 - val_loss: 5.5994e-04 - val_rmse: 0.0075 - val_r_square: 0.9661\n",
      "Epoch 97/100\n",
      "28000/28000 [==============================] - 4s 140us/step - loss: 3.6995e-04 - rmse: 0.0135 - r_square: 0.9726 - val_loss: 5.3940e-04 - val_rmse: 0.0066 - val_r_square: 0.9677\n",
      "Epoch 98/100\n",
      "28000/28000 [==============================] - 4s 140us/step - loss: 3.7724e-04 - rmse: 0.0136 - r_square: 0.9723 - val_loss: 5.5677e-04 - val_rmse: 0.0072 - val_r_square: 0.9663\n",
      "Epoch 99/100\n",
      "28000/28000 [==============================] - 4s 140us/step - loss: 3.7731e-04 - rmse: 0.0135 - r_square: 0.9722 - val_loss: 5.4612e-04 - val_rmse: 0.0066 - val_r_square: 0.9671\n",
      "Epoch 100/100\n",
      "28000/28000 [==============================] - 4s 140us/step - loss: 3.7546e-04 - rmse: 0.0135 - r_square: 0.9725 - val_loss: 5.5714e-04 - val_rmse: 0.0084 - val_r_square: 0.9660\n"
     ]
    }
   ],
   "source": [
    "\n",
    "model = Sequential()\n",
    "#model.add(Conv1D(1, 19, padding='same', input_shape=(seq_length, 4), activation='relu'))\n",
    "model.add(Conv1D(20, 41, padding='same', input_shape=(seq_length, 4), activation='relu'))\n",
    "model.add(MaxPooling1D(pool_size=4))\n",
    "model.add(Conv1D(10, 20, padding='same', input_shape=(seq_length, 4), activation='relu'))\n",
    "model.add(MaxPooling1D(pool_size=2))\n",
    "model.add(Flatten())\n",
    "model.add(Dense(100, activation='relu'))\n",
    "model.add(Dropout(0.25))\n",
    "model.add(Dense(50, activation='relu'))\n",
    "model.add(Dropout(0.25))\n",
    "model.add(Dense(1, activation='linear'))\n",
    "\n",
    "sgd = SGD(lr=0.0001, decay=1e-6, momentum=0.9, nesterov=True)\n",
    "\n",
    "#model.compile(loss='mean_squared_error',optimizer='adam', metrics=['mean_squared_error',r_square])\n",
    "#model.compile(loss='mean_squared_error',optimizer=sgd, metrics=[rmse,r_square])\n",
    "model.compile(loss='mean_squared_error',optimizer=Adam(lr=0.0001), metrics=[rmse,r_square])\n",
    "\n",
    "#history = model.fit(X, y, validation_split=0.2, epochs=50)  # starts training\n",
    "history = model.fit(X, y, validation_split=0.3, epochs=100)  # starts training\n",
    "\n"
   ]
  },
  {
   "cell_type": "code",
   "execution_count": 14,
   "metadata": {
    "colab": {
     "base_uri": "https://localhost:8080/",
     "height": 376
    },
    "colab_type": "code",
    "id": "-VpzZqooOAPx",
    "outputId": "30d34bfd-b21e-47c7-9c64-d1cf407b23c6"
   },
   "outputs": [
    {
     "data": {
      "image/png": "[encoded data removed]",
      "text/plain": [
       "<Figure size 432x288 with 1 Axes>"
      ]
     },
     "metadata": {},
     "output_type": "display_data"
    }
   ],
   "source": [
    "plt.figure()\n",
    "plt.plot(history.history['loss'])\n",
    "plt.plot(history.history['val_loss'])\n",
    "plt.title('model loss')\n",
    "plt.ylabel('loss')\n",
    "plt.xlabel('epoch')\n",
    "plt.legend(['train', 'validation'])\n",
    "plt.show()"
   ]
  },
  {
   "cell_type": "code",
   "execution_count": 15,
   "metadata": {},
   "outputs": [
    {
     "data": {
      "text/plain": [
       "dict_keys(['val_loss', 'val_rmse', 'val_r_square', 'loss', 'rmse', 'r_square'])"
      ]
     },
     "execution_count": 15,
     "metadata": {},
     "output_type": "execute_result"
    }
   ],
   "source": [
    "history.history.keys()"
   ]
  },
  {
   "cell_type": "code",
   "execution_count": 16,
   "metadata": {
    "colab": {
     "base_uri": "https://localhost:8080/",
     "height": 376
    },
    "colab_type": "code",
    "id": "VeIdsrBEO49U",
    "outputId": "04003ed6-30d1-494a-da95-3672e19fb46d"
   },
   "outputs": [
    {
     "data": {
      "image/png": "[encoded data removed]",
      "text/plain": [
       "<Figure size 432x288 with 1 Axes>"
      ]
     },
     "metadata": {},
     "output_type": "display_data"
    }
   ],
   "source": [
    "plt.plot(history.history['val_rmse'])\n",
    "plt.plot(history.history['rmse'])\n",
    "plt.title('model rmse')\n",
    "plt.ylabel('rmse')\n",
    "plt.xlabel('epoch')\n",
    "plt.legend(['rmse', 'val_rmse'], loc='upper right')\n",
    "plt.show()\n"
   ]
  },
  {
   "cell_type": "code",
   "execution_count": 17,
   "metadata": {},
   "outputs": [
    {
     "data": {
      "image/png": "[encoded data removed]",
      "text/plain": [
       "<Figure size 432x288 with 1 Axes>"
      ]
     },
     "metadata": {},
     "output_type": "display_data"
    }
   ],
   "source": [
    "plt.plot(history.history['val_r_square'])\n",
    "plt.plot(history.history['r_square'])\n",
    "plt.title('model R^2')\n",
    "plt.ylabel('R^2')\n",
    "plt.xlabel('epoch')\n",
    "plt.legend(['r_sq', 'val_r_sq'], loc='lower right')\n",
    "plt.show()\n"
   ]
  },
  {
   "cell_type": "code",
   "execution_count": 19,
   "metadata": {
    "colab": {
     "base_uri": "https://localhost:8080/",
     "height": 34
    },
    "colab_type": "code",
    "id": "vuJi3zO_OaMi",
    "outputId": "91f9168e-a49f-4c51-8a07-85d32e324e0b"
   },
   "outputs": [
    {
     "name": "stdout",
     "output_type": "stream",
     "text": [
      "Convolution parameter shape: (41, 4, 20)\n"
     ]
    }
   ],
   "source": [
    "#have a look at the filter\n",
    "convlayer = model.layers[0]\n",
    "weights = convlayer.get_weights()[0].squeeze()\n",
    "print('Convolution parameter shape: {}'.format(weights.shape))\n",
    "\n",
    "num2seq = ['A','C','G','T']\n",
    "\n",
    "#''.join([num2seq[np.argmax(weights[i,:])] for i in range(weights.shape[0])])\n",
    "#test_pred = ''.join([num2seq[np.argmax(weights[i,:])] for i in range(weights.shape[0])])"
   ]
  },
  {
   "cell_type": "markdown",
   "metadata": {},
   "source": [
    "## Make predictions"
   ]
  },
  {
   "cell_type": "code",
   "execution_count": 20,
   "metadata": {
    "collapsed": true
   },
   "outputs": [],
   "source": [
    "model_prediction = model.predict(X_test)"
   ]
  },
  {
   "cell_type": "code",
   "execution_count": 21,
   "metadata": {},
   "outputs": [
    {
     "data": {
      "image/png": "[encoded data removed]",
      "text/plain": [
       "<Figure size 432x288 with 1 Axes>"
      ]
     },
     "metadata": {},
     "output_type": "display_data"
    }
   ],
   "source": [
    "plt.hist(test_pos_labels,bins=50,alpha=0.75,label='Test labels')\n",
    "plt.hist(model_prediction,bins=50,alpha=0.5,label='Model Predictions')\n",
    "plt.legend()\n",
    "plt.show()"
   ]
  },
  {
   "cell_type": "code",
   "execution_count": 22,
   "metadata": {
    "collapsed": true
   },
   "outputs": [],
   "source": [
    "pos_model_prediction = model.predict(test_pos_tensor)"
   ]
  },
  {
   "cell_type": "code",
   "execution_count": 23,
   "metadata": {},
   "outputs": [
    {
     "data": {
      "image/png": "[encoded data removed]",
      "text/plain": [
       "<Figure size 432x432 with 1 Axes>"
      ]
     },
     "metadata": {},
     "output_type": "display_data"
    }
   ],
   "source": [
    "from pylab import rcParams\n",
    "rcParams['xtick.labelsize'] = 10 \n",
    "rcParams['ytick.labelsize'] = 10 \n",
    "rcParams['figure.figsize'] = 6, 6\n",
    "\n",
    "plt.scatter(y_test,pos_model_prediction,s=15,alpha=0.75,color='red')\n",
    "plt.plot([0,1],alpha=0.5,linewidth=3,color='black')\n",
    "plt.ylabel('Neural network predictions of values',fontsize=12)\n",
    "plt.xlabel('Values from test set (from MPAthic)',fontsize=12)\n",
    "plt.title('Convolutional Neural Network Performance')\n",
    "plt.show()\n"
   ]
  },
  {
   "cell_type": "code",
   "execution_count": 24,
   "metadata": {},
   "outputs": [],
   "source": [
    "import tensorflow.keras.backend as K\n",
    "import tensorflow as tf\n",
    "\n",
    "K.set_session(tf.Session(graph=model.output.graph)) \n",
    "init = tf.global_variables_initializer() \n",
    "K.get_session().run(init)\n",
    "\n",
    "def compute_salient_bases(model, x):\n",
    "  input_tensors = [model.input]\n",
    "  gradients = model.optimizer.get_gradients(model.output[0][0], model.input)\n",
    "  \n",
    "  compute_gradients = K.function(inputs = input_tensors, outputs = gradients)\n",
    "  x_value = np.expand_dims(x, axis=0)\n",
    "\n",
    "  gradients = compute_gradients([x_value])[0][0]\n",
    "  sal = np.clip(np.sum(np.multiply(gradients,x), axis=1),a_min=0, a_max=None)\n",
    "  return sal\n"
   ]
  },
  {
   "cell_type": "code",
   "execution_count": 28,
   "metadata": {},
   "outputs": [
    {
     "data": {
      "image/png": "[encoded data removed]",
      "text/plain": [
       "<Figure size 1152x360 with 1 Axes>"
      ]
     },
     "metadata": {},
     "output_type": "display_data"
    }
   ],
   "source": [
    "sequence_index = 1\n",
    "sal = compute_salient_bases(model, X_test[sequence_index])\n",
    "\n",
    "plt.figure(figsize=[16,5])\n",
    "barlist = plt.bar(np.arange(len(sal)), sal)\n",
    "#[barlist[i].set_color('C1') for i in range(5,17)]\n",
    "plt.xlabel('Bases')\n",
    "plt.ylabel('Magnitude of saliency values')\n",
    "plt.xticks(np.arange(len(sal)), list(sequences[sequence_index]));\n",
    "plt.title('Saliency map');\n",
    "plt.show()"
   ]
  },
  {
   "cell_type": "code",
   "execution_count": null,
   "metadata": {
    "collapsed": true
   },
   "outputs": [],
   "source": []
  }
 ],
 "metadata": {
  "colab": {
   "collapsed_sections": [],
   "name": "motif_learn_convnet.ipynb",
   "provenance": [],
   "version": "0.3.2"
  },
  "kernelspec": {
   "display_name": "Python 3",
   "language": "python",
   "name": "python3"
  },
  "language_info": {
   "codemirror_mode": {
    "name": "ipython",
    "version": 3
   },
   "file_extension": ".py",
   "mimetype": "text/x-python",
   "name": "python",
   "nbconvert_exporter": "python",
   "pygments_lexer": "ipython3",
   "version": "3.6.2"
  }
 },
 "nbformat": 4,
 "nbformat_minor": 1
}
