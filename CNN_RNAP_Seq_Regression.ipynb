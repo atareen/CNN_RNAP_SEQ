{
 "cells": [
  {
   "cell_type": "code",
   "execution_count": 1,
   "metadata": {},
   "outputs": [],
   "source": [
    "import pandas as pd\n",
    "import numpy as np\n",
    "import numpy as np\n",
    "import pandas as pd\n",
    "import matplotlib.pyplot as plt\n",
    "\n",
    "input_data_raw =  pd.read_csv('../rnap_scanned_over_ecoli_genome50k.csv')\n",
    "sequences = input_data_raw['seq'].tolist()"
   ]
  },
  {
   "cell_type": "code",
   "execution_count": 2,
   "metadata": {},
   "outputs": [
    {
     "data": {
      "text/html": [
       "<div>\n",
       "<style scoped>\n",
       "    .dataframe tbody tr th:only-of-type {\n",
       "        vertical-align: middle;\n",
       "    }\n",
       "\n",
       "    .dataframe tbody tr th {\n",
       "        vertical-align: top;\n",
       "    }\n",
       "\n",
       "    .dataframe thead th {\n",
       "        text-align: right;\n",
       "    }\n",
       "</style>\n",
       "<table border=\"1\" class=\"dataframe\">\n",
       "  <thead>\n",
       "    <tr style=\"text-align: right;\">\n",
       "      <th></th>\n",
       "      <th>Unnamed: 0</th>\n",
       "      <th>val</th>\n",
       "      <th>seq</th>\n",
       "      <th>left</th>\n",
       "      <th>right</th>\n",
       "      <th>ori</th>\n",
       "      <th>contig</th>\n",
       "    </tr>\n",
       "  </thead>\n",
       "  <tbody>\n",
       "    <tr>\n",
       "      <th>0</th>\n",
       "      <td>0</td>\n",
       "      <td>23.9083</td>\n",
       "      <td>CTATTACCTGCCCACGGTAAAGGCGTTCTGGTTGCCCTACG</td>\n",
       "      <td>3695629</td>\n",
       "      <td>3695669</td>\n",
       "      <td>+</td>\n",
       "      <td>MG1655.fa</td>\n",
       "    </tr>\n",
       "    <tr>\n",
       "      <th>1</th>\n",
       "      <td>1</td>\n",
       "      <td>23.5831</td>\n",
       "      <td>TTTCTGCCCGCGGCCTGGCAATTGATACCGCCTTGCCATCG</td>\n",
       "      <td>1109059</td>\n",
       "      <td>1109099</td>\n",
       "      <td>+</td>\n",
       "      <td>MG1655.fa</td>\n",
       "    </tr>\n",
       "    <tr>\n",
       "      <th>2</th>\n",
       "      <td>2</td>\n",
       "      <td>23.4205</td>\n",
       "      <td>TTTTTACACGCCTTGCGTAAAGCGGCACGGCGCGGGGTGCG</td>\n",
       "      <td>822216</td>\n",
       "      <td>822256</td>\n",
       "      <td>-</td>\n",
       "      <td>MG1655.fa</td>\n",
       "    </tr>\n",
       "    <tr>\n",
       "      <th>3</th>\n",
       "      <td>3</td>\n",
       "      <td>23.4098</td>\n",
       "      <td>TTGCTGCCTGGCCGATGGTCTATGCCGCTGCGTTCTCCGGC</td>\n",
       "      <td>772478</td>\n",
       "      <td>772518</td>\n",
       "      <td>+</td>\n",
       "      <td>MG1655.fa</td>\n",
       "    </tr>\n",
       "    <tr>\n",
       "      <th>4</th>\n",
       "      <td>4</td>\n",
       "      <td>23.3640</td>\n",
       "      <td>CTTTTACACGCAAAATGCCGTCACGTTCACGGGTCTGGGCT</td>\n",
       "      <td>2748531</td>\n",
       "      <td>2748571</td>\n",
       "      <td>+</td>\n",
       "      <td>MG1655.fa</td>\n",
       "    </tr>\n",
       "  </tbody>\n",
       "</table>\n",
       "</div>"
      ],
      "text/plain": [
       "   Unnamed: 0      val                                        seq     left  \\\n",
       "0           0  23.9083  CTATTACCTGCCCACGGTAAAGGCGTTCTGGTTGCCCTACG  3695629   \n",
       "1           1  23.5831  TTTCTGCCCGCGGCCTGGCAATTGATACCGCCTTGCCATCG  1109059   \n",
       "2           2  23.4205  TTTTTACACGCCTTGCGTAAAGCGGCACGGCGCGGGGTGCG   822216   \n",
       "3           3  23.4098  TTGCTGCCTGGCCGATGGTCTATGCCGCTGCGTTCTCCGGC   772478   \n",
       "4           4  23.3640  CTTTTACACGCAAAATGCCGTCACGTTCACGGGTCTGGGCT  2748531   \n",
       "\n",
       "     right ori     contig  \n",
       "0  3695669   +  MG1655.fa  \n",
       "1  1109099   +  MG1655.fa  \n",
       "2   822256   -  MG1655.fa  \n",
       "3   772518   +  MG1655.fa  \n",
       "4  2748571   +  MG1655.fa  "
      ]
     },
     "execution_count": 2,
     "metadata": {},
     "output_type": "execute_result"
    }
   ],
   "source": [
    "input_data_raw.head()"
   ]
  },
  {
   "cell_type": "markdown",
   "metadata": {},
   "source": [
    "## Make positive and negative Labels"
   ]
  },
  {
   "cell_type": "code",
   "execution_count": 3,
   "metadata": {},
   "outputs": [
    {
     "data": {
      "image/png": "[encoded data removed]",
      "text/plain": [
       "<Figure size 432x288 with 1 Axes>"
      ]
     },
     "metadata": {},
     "output_type": "display_data"
    },
    {
     "data": {
      "text/plain": [
       "0.0"
      ]
     },
     "execution_count": 3,
     "metadata": {},
     "output_type": "execute_result"
    }
   ],
   "source": [
    "num_sample = 40000   # number of training samples\n",
    "test_size = 10000    # number of test samples\n",
    "\n",
    "# positive and negative labels\n",
    "# normalize the following between 0 and 1\n",
    "pos_labels = np.array(input_data_raw['val'][0:num_sample])\n",
    "pos_labels = 1-(pos_labels-min(pos_labels))/(max(pos_labels)-min(pos_labels))\n",
    "neg_labels = abs(0.05*np.random.randn(num_sample,))\n",
    "#pos_labels = 1-neg_labels\n",
    "neg_labels = (neg_labels-min(neg_labels))/(max(neg_labels)-min(neg_labels))\n",
    "\n",
    "\n",
    "# test positive and negative labels\n",
    "test_pos_labels = np.array(input_data_raw['val'][num_sample:num_sample+test_size])\n",
    "test_pos_labels = 1-(test_pos_labels-min(test_pos_labels))/(max(test_pos_labels)-min(test_pos_labels))\n",
    "test_neg_labels = abs(0.05*np.random.randn(test_size,))\n",
    "test_neg_labels = (test_neg_labels-min(test_neg_labels))/(max(test_neg_labels)-min(test_neg_labels))\n",
    "\n",
    "plt.hist(pos_labels,bins=100,label='Positive')\n",
    "plt.hist(neg_labels,bins=100,label='Negative')\n",
    "plt.legend()\n",
    "plt.show()\n",
    "# assigned random values to negative examples\n",
    "\n",
    "pos_labels[0]"
   ]
  },
  {
   "cell_type": "markdown",
   "metadata": {},
   "source": [
    "## Collect positive and negative samples"
   ]
  },
  {
   "cell_type": "code",
   "execution_count": 4,
   "metadata": {
    "collapsed": true
   },
   "outputs": [],
   "source": [
    "pos = []\n",
    "\n",
    "test_pos = []\n",
    "\n",
    "for index in range(len(sequences[0:num_sample])):\n",
    "    pos.append(list(sequences[index]))\n",
    "    \n",
    "for test_index in range(len(sequences[num_sample:num_sample+test_size])):\n",
    "    test_pos.append(list(sequences[test_index]))    \n",
    "\n",
    "pos = np.array(pos)\n",
    "test_pos = np.array(test_pos)\n",
    "\n",
    "seq_length = len(pos[0])\n",
    "\n",
    "neg = np.array([np.random.choice(['A', 'C', 'G', 'T'], num_sample, p=np.array([1,1,1,1])/4.0)\n",
    "                for i in range(seq_length)]).transpose()\n",
    "\n",
    "#[''.join(x) for x in neg[1:10,:]]\n",
    "\n",
    "test_neg = np.array([np.random.choice(['A', 'C', 'G', 'T'], test_size, p=np.array([1,1,1,1])/4.0)\n",
    "                for i in range(seq_length)]).transpose()"
   ]
  },
  {
   "cell_type": "markdown",
   "metadata": {},
   "source": [
    "## One-hot encoding"
   ]
  },
  {
   "cell_type": "code",
   "execution_count": 5,
   "metadata": {
    "colab": {
     "base_uri": "https://localhost:8080/",
     "height": 289
    },
    "colab_type": "code",
    "id": "riQRzV6CNp33",
    "outputId": "a27104ff-7917-4987-dccc-7780792beac2"
   },
   "outputs": [
    {
     "name": "stdout",
     "output_type": "stream",
     "text": [
      "Positive sample matrix shape: (40000, 41)\n",
      "Positive sample tensor shape: (40000, 41, 4)\n",
      "Training set shape: (80000, 41, 4)\n",
      "Training set label shape: (80000,)\n",
      "\n",
      "One-hot encoding looks like:\n",
      " [[0. 1. 0. 0.]\n",
      " [0. 0. 0. 1.]\n",
      " [1. 0. 0. 0.]\n",
      " [0. 0. 0. 1.]\n",
      " [0. 0. 0. 1.]\n",
      " [1. 0. 0. 0.]\n",
      " [0. 1. 0. 0.]\n",
      " [0. 1. 0. 0.]\n",
      " [0. 0. 0. 1.]\n",
      " [0. 0. 1. 0.]]\n"
     ]
    }
   ],
   "source": [
    "pos_tensor = np.zeros(list(pos.shape) + [4])\n",
    "neg_tensor = np.zeros(list(neg.shape) + [4])\n",
    "\n",
    "test_pos_tensor = np.zeros(list(test_pos.shape) + [4])\n",
    "test_neg_tensor = np.zeros(list(test_neg.shape) + [4])\n",
    "\n",
    "base_dict = {'A': 0, 'C': 1, 'G': 2, 'T': 3}\n",
    "\n",
    "#naive one-hot encoding\n",
    "for row in range(num_sample):\n",
    "    for col in range(seq_length):\n",
    "        pos_tensor[row,col,base_dict[pos[row,col]]] = 1\n",
    "        neg_tensor[row,col,base_dict[neg[row,col]]] = 1\n",
    "        if(row<test_size):\n",
    "            test_pos_tensor[row,col,base_dict[test_pos[row,col]]] = 1\n",
    "            test_neg_tensor[row,col,base_dict[test_neg[row,col]]] = 1        \n",
    "\n",
    "print('Positive sample matrix shape: {}'.format(pos.shape))\n",
    "# this should be a 3D tensor with shape: (samples, steps, input_dim)\n",
    "print('Positive sample tensor shape: {}'.format(pos_tensor.shape))\n",
    "\n",
    "X = np.vstack((pos_tensor, neg_tensor))\n",
    "#X = pos_tensor\n",
    "#y = np.concatenate((np.ones(num_sample), np.zeros(num_sample)))\n",
    "y = np.concatenate([pos_labels, neg_labels])\n",
    "#y = pos_labels\n",
    "\n",
    "#X_test = test_pos_tensor\n",
    "#y_test = test_pos_labels\n",
    "\n",
    "\n",
    "X_test = np.vstack((test_pos_tensor, test_neg_tensor))\n",
    "y_test = np.concatenate([test_pos_labels, test_neg_labels])\n",
    "\n",
    "print('Training set shape: {}'.format(X.shape))\n",
    "print('Training set label shape: {}'.format(y.shape))\n",
    "print('\\nOne-hot encoding looks like:\\n {}'.format(X[0,0:10,:]))"
   ]
  },
  {
   "cell_type": "markdown",
   "metadata": {},
   "source": [
    "# Define error metrics"
   ]
  },
  {
   "cell_type": "code",
   "execution_count": 6,
   "metadata": {
    "collapsed": true
   },
   "outputs": [],
   "source": [
    "def rmse(y_true, y_pred):\n",
    "    from keras import backend\n",
    "    return backend.sqrt(backend.mean(backend.square(y_pred - y_true), axis=-1))\n",
    "\n",
    "# coefficient of determination (R^2) for regression\n",
    "def r_square(y_true, y_pred):\n",
    "    from keras import backend as K\n",
    "    SS_res =  K.sum(K.square(y_true - y_pred)) \n",
    "    SS_tot = K.sum(K.square(y_true - K.mean(y_true))) \n",
    "    return (1 - SS_res/(SS_tot + K.epsilon()))"
   ]
  },
  {
   "cell_type": "markdown",
   "metadata": {},
   "source": [
    "## Define Models"
   ]
  },
  {
   "cell_type": "code",
   "execution_count": 7,
   "metadata": {
    "colab": {
     "base_uri": "https://localhost:8080/",
     "height": 51
    },
    "colab_type": "code",
    "id": "bD1LpHUKNtVh",
    "outputId": "ec377700-10d7-44a3-c80b-45c2a7133a11"
   },
   "outputs": [
    {
     "name": "stderr",
     "output_type": "stream",
     "text": [
      "Using TensorFlow backend.\n"
     ]
    }
   ],
   "source": [
    "#here comes the deep learning part\n",
    "from keras.models import Sequential\n",
    "from keras.layers import Conv1D, Dense, Flatten, Dropout\n",
    "from keras.activations import relu\n",
    "from keras.layers.pooling import MaxPooling1D\n",
    "from keras.optimizers import SGD, Adam\n",
    "\n",
    "#sanity check for dimensions\n",
    "#print('Shape of the output of first layer: {}'.format(model.predict_on_batch(pos_tensor[0:1,:,:]).shape))"
   ]
  },
  {
   "cell_type": "code",
   "execution_count": 8,
   "metadata": {
    "colab": {
     "base_uri": "https://localhost:8080/",
     "height": 374
    },
    "colab_type": "code",
    "id": "2CkOlW_EN2gn",
    "outputId": "fbdf111b-fb35-4569-c9e3-34ead250e689"
   },
   "outputs": [
    {
     "name": "stdout",
     "output_type": "stream",
     "text": [
      "Train on 56000 samples, validate on 24000 samples\n",
      "Epoch 1/75\n",
      "56000/56000 [==============================] - 3s 60us/step - loss: 0.3722 - rmse: 0.5351 - val_loss: 0.0246 - val_rmse: 0.1309\n",
      "Epoch 2/75\n",
      "56000/56000 [==============================] - 3s 56us/step - loss: 0.2558 - rmse: 0.4452 - val_loss: 0.0698 - val_rmse: 0.2364\n",
      "Epoch 3/75\n",
      "56000/56000 [==============================] - 3s 54us/step - loss: 0.1742 - rmse: 0.3650 - val_loss: 0.1748 - val_rmse: 0.3926\n",
      "Epoch 4/75\n",
      "56000/56000 [==============================] - 3s 54us/step - loss: 0.1493 - rmse: 0.3240 - val_loss: 0.2483 - val_rmse: 0.4753\n",
      "Epoch 5/75\n",
      "56000/56000 [==============================] - 3s 54us/step - loss: 0.1459 - rmse: 0.3157 - val_loss: 0.2223 - val_rmse: 0.4475\n",
      "Epoch 6/75\n",
      "56000/56000 [==============================] - 3s 55us/step - loss: 0.1401 - rmse: 0.3153 - val_loss: 0.1922 - val_rmse: 0.4132\n",
      "Epoch 7/75\n",
      "56000/56000 [==============================] - 3s 54us/step - loss: 0.1367 - rmse: 0.3137 - val_loss: 0.1905 - val_rmse: 0.4110\n",
      "Epoch 8/75\n",
      "56000/56000 [==============================] - 3s 54us/step - loss: 0.1342 - rmse: 0.3095 - val_loss: 0.1945 - val_rmse: 0.4154\n",
      "Epoch 9/75\n",
      "56000/56000 [==============================] - 3s 56us/step - loss: 0.1305 - rmse: 0.3048 - val_loss: 0.1907 - val_rmse: 0.4107\n",
      "Epoch 10/75\n",
      "56000/56000 [==============================] - 3s 55us/step - loss: 0.1288 - rmse: 0.3032 - val_loss: 0.1855 - val_rmse: 0.4044\n",
      "Epoch 11/75\n",
      "56000/56000 [==============================] - 3s 55us/step - loss: 0.1253 - rmse: 0.2993 - val_loss: 0.1854 - val_rmse: 0.4040\n",
      "Epoch 12/75\n",
      "56000/56000 [==============================] - 3s 55us/step - loss: 0.1239 - rmse: 0.2968 - val_loss: 0.1844 - val_rmse: 0.4025\n",
      "Epoch 13/75\n",
      "56000/56000 [==============================] - 3s 54us/step - loss: 0.1216 - rmse: 0.2944 - val_loss: 0.1792 - val_rmse: 0.3960\n",
      "Epoch 14/75\n",
      "56000/56000 [==============================] - 3s 54us/step - loss: 0.1193 - rmse: 0.2924 - val_loss: 0.1749 - val_rmse: 0.3904\n",
      "Epoch 15/75\n",
      "56000/56000 [==============================] - 3s 54us/step - loss: 0.1182 - rmse: 0.2909 - val_loss: 0.1713 - val_rmse: 0.3857\n",
      "Epoch 16/75\n",
      "56000/56000 [==============================] - 3s 54us/step - loss: 0.1169 - rmse: 0.2895 - val_loss: 0.1689 - val_rmse: 0.3824\n",
      "Epoch 17/75\n",
      "56000/56000 [==============================] - 3s 55us/step - loss: 0.1157 - rmse: 0.2873 - val_loss: 0.1638 - val_rmse: 0.3756\n",
      "Epoch 18/75\n",
      "56000/56000 [==============================] - 3s 55us/step - loss: 0.1142 - rmse: 0.2857 - val_loss: 0.1612 - val_rmse: 0.3720\n",
      "Epoch 19/75\n",
      "56000/56000 [==============================] - 3s 53us/step - loss: 0.1126 - rmse: 0.2832 - val_loss: 0.1565 - val_rmse: 0.3654\n",
      "Epoch 20/75\n",
      "56000/56000 [==============================] - 3s 57us/step - loss: 0.1114 - rmse: 0.2827 - val_loss: 0.1553 - val_rmse: 0.3634\n",
      "Epoch 21/75\n",
      "56000/56000 [==============================] - 3s 56us/step - loss: 0.1101 - rmse: 0.2790 - val_loss: 0.1516 - val_rmse: 0.3581\n",
      "Epoch 22/75\n",
      "56000/56000 [==============================] - 3s 54us/step - loss: 0.1091 - rmse: 0.2786 - val_loss: 0.1455 - val_rmse: 0.3495\n",
      "Epoch 23/75\n",
      "56000/56000 [==============================] - 3s 55us/step - loss: 0.1080 - rmse: 0.2772 - val_loss: 0.1447 - val_rmse: 0.3479\n",
      "Epoch 24/75\n",
      "56000/56000 [==============================] - 3s 56us/step - loss: 0.1070 - rmse: 0.2758 - val_loss: 0.1410 - val_rmse: 0.3423\n",
      "Epoch 25/75\n",
      "56000/56000 [==============================] - 3s 56us/step - loss: 0.1056 - rmse: 0.2732 - val_loss: 0.1394 - val_rmse: 0.3394\n",
      "Epoch 26/75\n",
      "56000/56000 [==============================] - 3s 55us/step - loss: 0.1040 - rmse: 0.2716 - val_loss: 0.1368 - val_rmse: 0.3352\n",
      "Epoch 27/75\n",
      "56000/56000 [==============================] - 3s 55us/step - loss: 0.1031 - rmse: 0.2699 - val_loss: 0.1316 - val_rmse: 0.3272\n",
      "Epoch 28/75\n",
      "56000/56000 [==============================] - 3s 55us/step - loss: 0.1019 - rmse: 0.2683 - val_loss: 0.1294 - val_rmse: 0.3233\n",
      "Epoch 29/75\n",
      "56000/56000 [==============================] - 3s 55us/step - loss: 0.1009 - rmse: 0.2662 - val_loss: 0.1252 - val_rmse: 0.3166\n",
      "Epoch 30/75\n",
      "56000/56000 [==============================] - 3s 56us/step - loss: 0.0989 - rmse: 0.2630 - val_loss: 0.1234 - val_rmse: 0.3132\n",
      "Epoch 31/75\n",
      "56000/56000 [==============================] - 3s 55us/step - loss: 0.0977 - rmse: 0.2617 - val_loss: 0.1219 - val_rmse: 0.3100\n",
      "Epoch 32/75\n",
      "56000/56000 [==============================] - 3s 56us/step - loss: 0.0962 - rmse: 0.2586 - val_loss: 0.1170 - val_rmse: 0.3020\n",
      "Epoch 33/75\n",
      "56000/56000 [==============================] - 3s 56us/step - loss: 0.0950 - rmse: 0.2563 - val_loss: 0.1154 - val_rmse: 0.2987\n",
      "Epoch 34/75\n",
      "56000/56000 [==============================] - 3s 55us/step - loss: 0.0938 - rmse: 0.2553 - val_loss: 0.1151 - val_rmse: 0.2974\n",
      "Epoch 35/75\n",
      "56000/56000 [==============================] - 3s 55us/step - loss: 0.0923 - rmse: 0.2521 - val_loss: 0.1072 - val_rmse: 0.2848\n",
      "Epoch 36/75\n",
      "56000/56000 [==============================] - 3s 60us/step - loss: 0.0910 - rmse: 0.2505 - val_loss: 0.1108 - val_rmse: 0.2893\n",
      "Epoch 37/75\n",
      "56000/56000 [==============================] - 4s 63us/step - loss: 0.0906 - rmse: 0.2497 - val_loss: 0.1075 - val_rmse: 0.2835\n",
      "Epoch 38/75\n",
      "56000/56000 [==============================] - 3s 57us/step - loss: 0.0891 - rmse: 0.2467 - val_loss: 0.1002 - val_rmse: 0.2715\n",
      "Epoch 39/75\n",
      "56000/56000 [==============================] - 3s 59us/step - loss: 0.0876 - rmse: 0.2446 - val_loss: 0.1021 - val_rmse: 0.2735\n",
      "Epoch 40/75\n",
      "56000/56000 [==============================] - 3s 56us/step - loss: 0.0866 - rmse: 0.2432 - val_loss: 0.1022 - val_rmse: 0.2726\n",
      "Epoch 41/75\n",
      "56000/56000 [==============================] - 3s 56us/step - loss: 0.0852 - rmse: 0.2400 - val_loss: 0.0967 - val_rmse: 0.2632\n",
      "Epoch 42/75\n",
      "56000/56000 [==============================] - 4s 70us/step - loss: 0.0839 - rmse: 0.2377 - val_loss: 0.0930 - val_rmse: 0.2564\n",
      "Epoch 43/75\n",
      "56000/56000 [==============================] - 4s 66us/step - loss: 0.0829 - rmse: 0.2360 - val_loss: 0.0924 - val_rmse: 0.2547\n",
      "Epoch 44/75\n",
      "56000/56000 [==============================] - 3s 60us/step - loss: 0.0815 - rmse: 0.2337 - val_loss: 0.0923 - val_rmse: 0.2538\n",
      "Epoch 45/75\n",
      "56000/56000 [==============================] - 3s 59us/step - loss: 0.0805 - rmse: 0.2317 - val_loss: 0.0903 - val_rmse: 0.2499\n",
      "Epoch 46/75\n",
      "56000/56000 [==============================] - 3s 61us/step - loss: 0.0796 - rmse: 0.2299 - val_loss: 0.0887 - val_rmse: 0.2468\n",
      "Epoch 47/75\n",
      "56000/56000 [==============================] - 3s 61us/step - loss: 0.0785 - rmse: 0.2284 - val_loss: 0.0882 - val_rmse: 0.2454\n",
      "Epoch 48/75\n",
      "56000/56000 [==============================] - 3s 56us/step - loss: 0.0775 - rmse: 0.2262 - val_loss: 0.0870 - val_rmse: 0.2427\n",
      "Epoch 49/75\n",
      "56000/56000 [==============================] - 3s 53us/step - loss: 0.0770 - rmse: 0.2251 - val_loss: 0.0851 - val_rmse: 0.2391\n",
      "Epoch 50/75\n",
      "56000/56000 [==============================] - 3s 55us/step - loss: 0.0760 - rmse: 0.2232 - val_loss: 0.0845 - val_rmse: 0.2377\n",
      "Epoch 51/75\n",
      "56000/56000 [==============================] - 3s 56us/step - loss: 0.0746 - rmse: 0.2208 - val_loss: 0.0830 - val_rmse: 0.2346\n",
      "Epoch 52/75\n",
      "56000/56000 [==============================] - 3s 56us/step - loss: 0.0742 - rmse: 0.2197 - val_loss: 0.0811 - val_rmse: 0.2310\n",
      "Epoch 53/75\n",
      "56000/56000 [==============================] - 3s 55us/step - loss: 0.0732 - rmse: 0.2183 - val_loss: 0.0835 - val_rmse: 0.2341\n",
      "Epoch 54/75\n",
      "56000/56000 [==============================] - 3s 56us/step - loss: 0.0719 - rmse: 0.2157 - val_loss: 0.0807 - val_rmse: 0.2294\n",
      "Epoch 55/75\n",
      "56000/56000 [==============================] - 3s 56us/step - loss: 0.0717 - rmse: 0.2156 - val_loss: 0.0778 - val_rmse: 0.2242\n",
      "Epoch 56/75\n",
      "56000/56000 [==============================] - 3s 54us/step - loss: 0.0703 - rmse: 0.2130 - val_loss: 0.0797 - val_rmse: 0.2265\n",
      "Epoch 57/75\n",
      "56000/56000 [==============================] - 3s 58us/step - loss: 0.0699 - rmse: 0.2124 - val_loss: 0.0776 - val_rmse: 0.2228\n",
      "Epoch 58/75\n",
      "56000/56000 [==============================] - 3s 57us/step - loss: 0.0691 - rmse: 0.2110 - val_loss: 0.0762 - val_rmse: 0.2202\n",
      "Epoch 59/75\n"
     ]
    },
    {
     "name": "stdout",
     "output_type": "stream",
     "text": [
      "56000/56000 [==============================] - 3s 58us/step - loss: 0.0684 - rmse: 0.2096 - val_loss: 0.0755 - val_rmse: 0.2187\n",
      "Epoch 60/75\n",
      "56000/56000 [==============================] - 3s 56us/step - loss: 0.0675 - rmse: 0.2078 - val_loss: 0.0735 - val_rmse: 0.2148\n",
      "Epoch 61/75\n",
      "56000/56000 [==============================] - 3s 55us/step - loss: 0.0666 - rmse: 0.2060 - val_loss: 0.0730 - val_rmse: 0.2134\n",
      "Epoch 62/75\n",
      "56000/56000 [==============================] - 3s 54us/step - loss: 0.0658 - rmse: 0.2048 - val_loss: 0.0723 - val_rmse: 0.2119\n",
      "Epoch 63/75\n",
      "56000/56000 [==============================] - 3s 59us/step - loss: 0.0654 - rmse: 0.2041 - val_loss: 0.0708 - val_rmse: 0.2087\n",
      "Epoch 64/75\n",
      "56000/56000 [==============================] - 3s 54us/step - loss: 0.0648 - rmse: 0.2032 - val_loss: 0.0683 - val_rmse: 0.2042\n",
      "Epoch 65/75\n",
      "56000/56000 [==============================] - 3s 54us/step - loss: 0.0638 - rmse: 0.2007 - val_loss: 0.0679 - val_rmse: 0.2030\n",
      "Epoch 66/75\n",
      "56000/56000 [==============================] - 3s 53us/step - loss: 0.0634 - rmse: 0.2002 - val_loss: 0.0677 - val_rmse: 0.2024\n",
      "Epoch 67/75\n",
      "56000/56000 [==============================] - 3s 54us/step - loss: 0.0628 - rmse: 0.1990 - val_loss: 0.0669 - val_rmse: 0.2005\n",
      "Epoch 68/75\n",
      "56000/56000 [==============================] - 3s 56us/step - loss: 0.0618 - rmse: 0.1970 - val_loss: 0.0668 - val_rmse: 0.2001\n",
      "Epoch 69/75\n",
      "56000/56000 [==============================] - 3s 57us/step - loss: 0.0612 - rmse: 0.1959 - val_loss: 0.0670 - val_rmse: 0.1999\n",
      "Epoch 70/75\n",
      "56000/56000 [==============================] - 3s 54us/step - loss: 0.0609 - rmse: 0.1956 - val_loss: 0.0662 - val_rmse: 0.1984\n",
      "Epoch 71/75\n",
      "56000/56000 [==============================] - 3s 55us/step - loss: 0.0599 - rmse: 0.1933 - val_loss: 0.0651 - val_rmse: 0.1960\n",
      "Epoch 72/75\n",
      "56000/56000 [==============================] - 3s 55us/step - loss: 0.0594 - rmse: 0.1918 - val_loss: 0.0634 - val_rmse: 0.1930\n",
      "Epoch 73/75\n",
      "56000/56000 [==============================] - 3s 56us/step - loss: 0.0592 - rmse: 0.1919 - val_loss: 0.0628 - val_rmse: 0.1918\n",
      "Epoch 74/75\n",
      "56000/56000 [==============================] - 3s 57us/step - loss: 0.0584 - rmse: 0.1904 - val_loss: 0.0625 - val_rmse: 0.1905\n",
      "Epoch 75/75\n",
      "56000/56000 [==============================] - 3s 56us/step - loss: 0.0575 - rmse: 0.1890 - val_loss: 0.0619 - val_rmse: 0.1894\n"
     ]
    }
   ],
   "source": [
    "\n",
    "model = Sequential()\n",
    "#model.add(Conv1D(1, 19, padding='same', input_shape=(seq_length, 4), activation='relu'))\n",
    "model.add(Conv1D(10, 41, padding='same', input_shape=(seq_length, 4), activation='relu'))\n",
    "model.add(MaxPooling1D(pool_size=4))\n",
    "model.add(Conv1D(10, 20, padding='same', input_shape=(seq_length, 4), activation='relu'))\n",
    "#model.add(Dropout(0.75))\n",
    "model.add(MaxPooling1D(pool_size=2))\n",
    "model.add(Flatten())\n",
    "model.add(Dense(100, activation='relu'))\n",
    "model.add(Dropout(0.25))\n",
    "model.add(Dense(50, activation='relu'))\n",
    "model.add(Dropout(0.25))\n",
    "#model.add(Dense(1, activation='sigmoid'))\n",
    "model.add(Dense(1, activation='linear'))\n",
    "\n",
    "sgd = SGD(lr=0.01, decay=1e-6, momentum=0.9, nesterov=True)\n",
    "#model.compile(optimizer=sgd,loss='binary_crossentropy',metrics=['accuracy'])\n",
    "#model.compile(optimizer=Adam(lr=0.001),loss='binary_crossentropy',metrics=['accuracy'])\n",
    "\n",
    "#model.compile(loss='mean_squared_error',optimizer='adam', metrics=['mean_squared_error',r_square])\n",
    "model.compile(loss='mean_squared_error',optimizer=Adam(lr=0.0001), metrics=[rmse])\n",
    "#model.compile(loss='mean_squared_error',optimizer=sgd, metrics=[rmse])\n",
    "\n",
    "#history = model.fit(X, y, validation_split=0.2, epochs=50)  # starts training\n",
    "history = model.fit(X, y, validation_split=0.3, epochs=75,batch_size=5000)  # starts training\n",
    "\n"
   ]
  },
  {
   "cell_type": "code",
   "execution_count": 9,
   "metadata": {
    "colab": {
     "base_uri": "https://localhost:8080/",
     "height": 376
    },
    "colab_type": "code",
    "id": "-VpzZqooOAPx",
    "outputId": "30d34bfd-b21e-47c7-9c64-d1cf407b23c6"
   },
   "outputs": [
    {
     "data": {
      "image/png": "[encoded data removed]",
      "text/plain": [
       "<Figure size 432x288 with 1 Axes>"
      ]
     },
     "metadata": {},
     "output_type": "display_data"
    }
   ],
   "source": [
    "plt.figure()\n",
    "plt.plot(history.history['loss'])\n",
    "plt.plot(history.history['val_loss'])\n",
    "plt.title('model loss')\n",
    "plt.ylabel('loss')\n",
    "plt.xlabel('epoch')\n",
    "plt.legend(['train', 'validation'])\n",
    "plt.show()"
   ]
  },
  {
   "cell_type": "code",
   "execution_count": 10,
   "metadata": {},
   "outputs": [
    {
     "data": {
      "text/plain": [
       "dict_keys(['val_loss', 'val_rmse', 'loss', 'rmse'])"
      ]
     },
     "execution_count": 10,
     "metadata": {},
     "output_type": "execute_result"
    }
   ],
   "source": [
    "history.history.keys()"
   ]
  },
  {
   "cell_type": "code",
   "execution_count": 11,
   "metadata": {
    "colab": {
     "base_uri": "https://localhost:8080/",
     "height": 376
    },
    "colab_type": "code",
    "id": "VeIdsrBEO49U",
    "outputId": "04003ed6-30d1-494a-da95-3672e19fb46d"
   },
   "outputs": [
    {
     "data": {
      "image/png": "[encoded data removed]",
      "text/plain": [
       "<Figure size 432x288 with 1 Axes>"
      ]
     },
     "metadata": {},
     "output_type": "display_data"
    }
   ],
   "source": [
    "plt.plot(history.history['rmse'])\n",
    "plt.plot(history.history['val_rmse'])\n",
    "#plt.title('model R^2')\n",
    "#plt.ylabel('R^2')\n",
    "plt.xlabel('epoch')\n",
    "#plt.legend(['val_r_sq', 'r_sq'], loc='upper left')\n",
    "plt.show()\n"
   ]
  },
  {
   "cell_type": "code",
   "execution_count": 12,
   "metadata": {
    "colab": {
     "base_uri": "https://localhost:8080/",
     "height": 34
    },
    "colab_type": "code",
    "id": "vuJi3zO_OaMi",
    "outputId": "91f9168e-a49f-4c51-8a07-85d32e324e0b"
   },
   "outputs": [
    {
     "name": "stdout",
     "output_type": "stream",
     "text": [
      "Convolution parameter shape: (41, 4, 10)\n"
     ]
    }
   ],
   "source": [
    "#have a look at the filter\n",
    "convlayer = model.layers[0]\n",
    "weights = convlayer.get_weights()[0].squeeze()\n",
    "print('Convolution parameter shape: {}'.format(weights.shape))\n",
    "\n",
    "#num2seq = ['A','C','G','T']\n",
    "\n",
    "#''.join([num2seq[np.argmax(weights[i,:])] for i in range(weights.shape[0])])\n",
    "#test_pred = ''.join([num2seq[np.argmax(weights[i,:])] for i in range(weights.shape[0])])"
   ]
  },
  {
   "cell_type": "markdown",
   "metadata": {},
   "source": [
    "## Make predictions"
   ]
  },
  {
   "cell_type": "code",
   "execution_count": 13,
   "metadata": {
    "collapsed": true
   },
   "outputs": [],
   "source": [
    "model_prediction = model.predict(X_test)"
   ]
  },
  {
   "cell_type": "code",
   "execution_count": 14,
   "metadata": {},
   "outputs": [
    {
     "data": {
      "text/plain": [
       "(20000, 41, 4)"
      ]
     },
     "execution_count": 14,
     "metadata": {},
     "output_type": "execute_result"
    }
   ],
   "source": [
    "np.shape(X_test)"
   ]
  },
  {
   "cell_type": "code",
   "execution_count": 15,
   "metadata": {},
   "outputs": [
    {
     "data": {
      "image/png": "[encoded data removed]",
      "text/plain": [
       "<Figure size 432x288 with 1 Axes>"
      ]
     },
     "metadata": {},
     "output_type": "display_data"
    }
   ],
   "source": [
    "plt.hist(model_prediction,bins=100)\n",
    "plt.show()"
   ]
  },
  {
   "cell_type": "code",
   "execution_count": 16,
   "metadata": {},
   "outputs": [
    {
     "data": {
      "text/plain": [
       "array([[-0.02612495, -0.06943432, -0.0026543 ,  0.10064758,  0.09841388,\n",
       "         0.08076848, -0.02388658,  0.06202935, -0.00040936,  0.03594155],\n",
       "       [-0.09794176,  0.00358265, -0.07521181,  0.1319097 ,  0.08342429,\n",
       "         0.00309151,  0.01641043, -0.00446339, -0.00104466,  0.09556536],\n",
       "       [ 0.1504708 ,  0.05519286,  0.06018589,  0.01006542, -0.06158207,\n",
       "         0.05451148, -0.08120733, -0.07498855, -0.01525173, -0.0380404 ],\n",
       "       [ 0.04279283, -0.0980147 , -0.06995706, -0.11999162, -0.03191054,\n",
       "         0.01733819,  0.05379084, -0.0649472 , -0.02801137,  0.10849223]],\n",
       "      dtype=float32)"
      ]
     },
     "execution_count": 16,
     "metadata": {},
     "output_type": "execute_result"
    }
   ],
   "source": [
    "#''.join([num2seq[np.argmax(weights[i,:])] for i in range(weights.shape[0])])\n",
    "weights[5,:]"
   ]
  },
  {
   "cell_type": "code",
   "execution_count": 17,
   "metadata": {},
   "outputs": [
    {
     "data": {
      "text/plain": [
       "20"
      ]
     },
     "execution_count": 17,
     "metadata": {},
     "output_type": "execute_result"
    }
   ],
   "source": [
    "np.argmax(weights[5,:])"
   ]
  },
  {
   "cell_type": "code",
   "execution_count": 18,
   "metadata": {
    "collapsed": true
   },
   "outputs": [],
   "source": [
    "top_logo_chars = ['C','T','A','C','T','A','C','A','C','G',\n",
    "                  'C','C','C','C','A','T','A','T','T','G',\n",
    "                  'A','G','C','G','A','T','C','C','C','G',\n",
    "                  'G','G','T','T','C','C','C','C','C','C',\n",
    "                  'G']"
   ]
  },
  {
   "cell_type": "code",
   "execution_count": null,
   "metadata": {
    "collapsed": true
   },
   "outputs": [],
   "source": []
  }
 ],
 "metadata": {
  "colab": {
   "collapsed_sections": [],
   "name": "motif_learn_convnet.ipynb",
   "provenance": [],
   "version": "0.3.2"
  },
  "kernelspec": {
   "display_name": "Python 3",
   "language": "python",
   "name": "python3"
  },
  "language_info": {
   "codemirror_mode": {
    "name": "ipython",
    "version": 3
   },
   "file_extension": ".py",
   "mimetype": "text/x-python",
   "name": "python",
   "nbconvert_exporter": "python",
   "pygments_lexer": "ipython3",
   "version": "3.6.2"
  }
 },
 "nbformat": 4,
 "nbformat_minor": 1
}
