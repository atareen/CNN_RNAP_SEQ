{
 "cells": [
  {
   "cell_type": "code",
   "execution_count": 1,
   "metadata": {
    "collapsed": true
   },
   "outputs": [],
   "source": [
    "import pandas as pd\n",
    "import numpy as np\n",
    "import numpy as np\n",
    "import pandas as pd\n",
    "import matplotlib.pyplot as plt\n",
    "\n",
    "input_data_ordered_raw =  pd.read_csv('rnap_scanned_over_ecoli_genome200k.csv')\n",
    "sequences = input_data_ordered_raw['seq'].tolist()"
   ]
  },
  {
   "cell_type": "code",
   "execution_count": 2,
   "metadata": {},
   "outputs": [
    {
     "data": {
      "text/html": [
       "<div>\n",
       "<style scoped>\n",
       "    .dataframe tbody tr th:only-of-type {\n",
       "        vertical-align: middle;\n",
       "    }\n",
       "\n",
       "    .dataframe tbody tr th {\n",
       "        vertical-align: top;\n",
       "    }\n",
       "\n",
       "    .dataframe thead th {\n",
       "        text-align: right;\n",
       "    }\n",
       "</style>\n",
       "<table border=\"1\" class=\"dataframe\">\n",
       "  <thead>\n",
       "    <tr style=\"text-align: right;\">\n",
       "      <th></th>\n",
       "      <th>Unnamed: 0</th>\n",
       "      <th>val</th>\n",
       "      <th>seq</th>\n",
       "      <th>left</th>\n",
       "      <th>right</th>\n",
       "      <th>ori</th>\n",
       "      <th>contig</th>\n",
       "    </tr>\n",
       "  </thead>\n",
       "  <tbody>\n",
       "    <tr>\n",
       "      <th>0</th>\n",
       "      <td>0</td>\n",
       "      <td>23.9083</td>\n",
       "      <td>CTATTACCTGCCCACGGTAAAGGCGTTCTGGTTGCCCTACG</td>\n",
       "      <td>3695629</td>\n",
       "      <td>3695669</td>\n",
       "      <td>+</td>\n",
       "      <td>MG1655.fa</td>\n",
       "    </tr>\n",
       "    <tr>\n",
       "      <th>1</th>\n",
       "      <td>1</td>\n",
       "      <td>23.5831</td>\n",
       "      <td>TTTCTGCCCGCGGCCTGGCAATTGATACCGCCTTGCCATCG</td>\n",
       "      <td>1109059</td>\n",
       "      <td>1109099</td>\n",
       "      <td>+</td>\n",
       "      <td>MG1655.fa</td>\n",
       "    </tr>\n",
       "    <tr>\n",
       "      <th>2</th>\n",
       "      <td>2</td>\n",
       "      <td>23.4205</td>\n",
       "      <td>TTTTTACACGCCTTGCGTAAAGCGGCACGGCGCGGGGTGCG</td>\n",
       "      <td>822216</td>\n",
       "      <td>822256</td>\n",
       "      <td>-</td>\n",
       "      <td>MG1655.fa</td>\n",
       "    </tr>\n",
       "    <tr>\n",
       "      <th>3</th>\n",
       "      <td>3</td>\n",
       "      <td>23.4098</td>\n",
       "      <td>TTGCTGCCTGGCCGATGGTCTATGCCGCTGCGTTCTCCGGC</td>\n",
       "      <td>772478</td>\n",
       "      <td>772518</td>\n",
       "      <td>+</td>\n",
       "      <td>MG1655.fa</td>\n",
       "    </tr>\n",
       "    <tr>\n",
       "      <th>4</th>\n",
       "      <td>4</td>\n",
       "      <td>23.3640</td>\n",
       "      <td>CTTTTACACGCAAAATGCCGTCACGTTCACGGGTCTGGGCT</td>\n",
       "      <td>2748531</td>\n",
       "      <td>2748571</td>\n",
       "      <td>+</td>\n",
       "      <td>MG1655.fa</td>\n",
       "    </tr>\n",
       "  </tbody>\n",
       "</table>\n",
       "</div>"
      ],
      "text/plain": [
       "   Unnamed: 0      val                                        seq     left  \\\n",
       "0           0  23.9083  CTATTACCTGCCCACGGTAAAGGCGTTCTGGTTGCCCTACG  3695629   \n",
       "1           1  23.5831  TTTCTGCCCGCGGCCTGGCAATTGATACCGCCTTGCCATCG  1109059   \n",
       "2           2  23.4205  TTTTTACACGCCTTGCGTAAAGCGGCACGGCGCGGGGTGCG   822216   \n",
       "3           3  23.4098  TTGCTGCCTGGCCGATGGTCTATGCCGCTGCGTTCTCCGGC   772478   \n",
       "4           4  23.3640  CTTTTACACGCAAAATGCCGTCACGTTCACGGGTCTGGGCT  2748531   \n",
       "\n",
       "     right ori     contig  \n",
       "0  3695669   +  MG1655.fa  \n",
       "1  1109099   +  MG1655.fa  \n",
       "2   822256   -  MG1655.fa  \n",
       "3   772518   +  MG1655.fa  \n",
       "4  2748571   +  MG1655.fa  "
      ]
     },
     "execution_count": 2,
     "metadata": {},
     "output_type": "execute_result"
    }
   ],
   "source": [
    "input_data_ordered_raw.head()"
   ]
  },
  {
   "cell_type": "code",
   "execution_count": 3,
   "metadata": {},
   "outputs": [
    {
     "data": {
      "image/png": "[encoded data removed]",
      "text/plain": [
       "<Figure size 432x288 with 1 Axes>"
      ]
     },
     "metadata": {},
     "output_type": "display_data"
    }
   ],
   "source": [
    "unbalanced_pos_labels = np.array(input_data_ordered_raw['val'][0:100000])\n",
    "unbalanced_pos_labels = (unbalanced_pos_labels-min(unbalanced_pos_labels))/(max(unbalanced_pos_labels)-min(unbalanced_pos_labels))\n",
    "\n",
    "plt.hist(unbalanced_pos_labels,bins=100,label='Raw Training Data')\n",
    "plt.legend()\n",
    "plt.ylabel('Counts',fontsize=12)\n",
    "plt.xlabel('Values of Sequences (from MPAthic)',fontsize=12)\n",
    "#plt.title('Convolutional Neural Network Performance')\n",
    "plt.tight_layout()\n",
    "#\n",
    "#plt.savefig('Write_up/raw_data_histogram.png')\n",
    "plt.show()\n",
    "\n"
   ]
  },
  {
   "cell_type": "markdown",
   "metadata": {},
   "source": [
    "## Randomly sample vals and seqs to prevent data imbalance"
   ]
  },
  {
   "cell_type": "code",
   "execution_count": 4,
   "metadata": {},
   "outputs": [
    {
     "data": {
      "text/html": [
       "<div>\n",
       "<style scoped>\n",
       "    .dataframe tbody tr th:only-of-type {\n",
       "        vertical-align: middle;\n",
       "    }\n",
       "\n",
       "    .dataframe tbody tr th {\n",
       "        vertical-align: top;\n",
       "    }\n",
       "\n",
       "    .dataframe thead th {\n",
       "        text-align: right;\n",
       "    }\n",
       "</style>\n",
       "<table border=\"1\" class=\"dataframe\">\n",
       "  <thead>\n",
       "    <tr style=\"text-align: right;\">\n",
       "      <th></th>\n",
       "      <th>val</th>\n",
       "      <th>seq</th>\n",
       "    </tr>\n",
       "  </thead>\n",
       "  <tbody>\n",
       "    <tr>\n",
       "      <th>0</th>\n",
       "      <td>23.9083</td>\n",
       "      <td>CTATTACCTGCCCACGGTAAAGGCGTTCTGGTTGCCCTACG</td>\n",
       "    </tr>\n",
       "    <tr>\n",
       "      <th>1</th>\n",
       "      <td>23.5831</td>\n",
       "      <td>TTTCTGCCCGCGGCCTGGCAATTGATACCGCCTTGCCATCG</td>\n",
       "    </tr>\n",
       "    <tr>\n",
       "      <th>2</th>\n",
       "      <td>23.4205</td>\n",
       "      <td>TTTTTACACGCCTTGCGTAAAGCGGCACGGCGCGGGGTGCG</td>\n",
       "    </tr>\n",
       "    <tr>\n",
       "      <th>3</th>\n",
       "      <td>23.4098</td>\n",
       "      <td>TTGCTGCCTGGCCGATGGTCTATGCCGCTGCGTTCTCCGGC</td>\n",
       "    </tr>\n",
       "    <tr>\n",
       "      <th>4</th>\n",
       "      <td>23.3640</td>\n",
       "      <td>CTTTTACACGCAAAATGCCGTCACGTTCACGGGTCTGGGCT</td>\n",
       "    </tr>\n",
       "  </tbody>\n",
       "</table>\n",
       "</div>"
      ],
      "text/plain": [
       "       val                                        seq\n",
       "0  23.9083  CTATTACCTGCCCACGGTAAAGGCGTTCTGGTTGCCCTACG\n",
       "1  23.5831  TTTCTGCCCGCGGCCTGGCAATTGATACCGCCTTGCCATCG\n",
       "2  23.4205  TTTTTACACGCCTTGCGTAAAGCGGCACGGCGCGGGGTGCG\n",
       "3  23.4098  TTGCTGCCTGGCCGATGGTCTATGCCGCTGCGTTCTCCGGC\n",
       "4  23.3640  CTTTTACACGCAAAATGCCGTCACGTTCACGGGTCTGGGCT"
      ]
     },
     "execution_count": 4,
     "metadata": {},
     "output_type": "execute_result"
    }
   ],
   "source": [
    "input_data_ordered_raw[['val','seq']].head()"
   ]
  },
  {
   "cell_type": "code",
   "execution_count": 5,
   "metadata": {},
   "outputs": [],
   "source": [
    "# normally sample high value seqs more\n",
    "# https://stackoverflow.com/questions/33160367/numpy-how-to-generate-a-normally-distributed-set-of-integers\n",
    "bi = np.random.binomial(n=10000, p=0.5, size=1000)\n",
    "beta = np.random.beta(a=19,b=1,size=50000)\n",
    "myList = list(100000*beta)\n",
    "myList = [round(x) for x in myList]"
   ]
  },
  {
   "cell_type": "code",
   "execution_count": 6,
   "metadata": {},
   "outputs": [],
   "source": [
    "#plt.hist(myList, bins=100)\n",
    "#plt.show()"
   ]
  },
  {
   "cell_type": "code",
   "execution_count": 7,
   "metadata": {},
   "outputs": [
    {
     "name": "stdout",
     "output_type": "stream",
     "text": [
      "           val                                        seq\n",
      "39226  20.3324  CTACACCCTGGCTCCCGAAAAAGGAAAAAATACGCTGGGCG\n",
      "29111  20.4987  GCGCTACCGGTGCCTGACCGCCAGGTTGCAGGCTGGCGTGA\n",
      "21959  20.6488  CCCCGCCCATCACCCTATGAGAAGATCCCGCTTGCTGTTGA\n",
      "2081   21.7201  CTGCTACCCGCTGCCGCGTGAAATAGCCCAGGTCGTCTTTG\n",
      "26155  20.5564  ACCGAGCATACTGACCGACAGCGCCGTCAGTGGCACGCCGT\n",
      "           val                                        seq\n",
      "46255  20.2359  CGTTAGCACAAACACGCTGGACGCACCCGCTGCCGCCGTTG\n",
      "31005  20.4647  TCCATGCAGCGCGACCAGGTGCTGACGCAGTGGGCGTTGCT\n",
      "40257  20.3175  TTTACGCATTTTGGCGTTCGGGGCTTTCAGCGTTAACTGGG\n",
      "1360   21.8688  TCTGTCCACGCCATACGTAGATTTCACTAGCACGGTAAACA\n",
      "48237  20.2107  CCAGCACAGTGTTAAGTCGGGAGGTCTCTGCCTGCATCAGC\n"
     ]
    }
   ],
   "source": [
    "num_sample = 50000   # number of training samplesq\n",
    "test_size = 1000    # number of test samples\n",
    "\n",
    "binomial_probability_parameter = 0.5\n",
    "\n",
    "index_random_sample_training_data = np.random.randint(num_sample,size=(num_sample))\n",
    "###index_random_sample_training_data = np.random.binomial(n=200000, p=binomial_probability_parameter, size=num_sample)\n",
    "\n",
    "#beta = np.random.beta(a=20,b=1,size=num_sample)\n",
    "#index_random_sample_training_data = list(100000*beta)\n",
    "#index_random_sample_training_data = [round(x) for x in index_random_sample_training_data]\n",
    "\n",
    "#index_random_sample_training_data = set(index_random_sample_training_data)\n",
    "#index_random_sample_training_data = list(index_random_sample_training_data)\n",
    "\n",
    "input_data_raw = input_data_ordered_raw[['val','seq']].loc[index_random_sample_training_data]\n",
    "print(input_data_raw.head())\n",
    "\n",
    "index_random_sample_test_data = np.random.randint(num_sample,size=(test_size))\n",
    "###index_random_sample_test_data = np.random.binomial(n=200000, p=binomial_probability_parameter, size=test_size)\n",
    "\n",
    "#beta_test = np.random.beta(a=20,b=1,size=test_size)\n",
    "#index_random_sample_test_data = list(100000*beta_test)\n",
    "#index_random_sample_test_data = [round(x) for x in index_random_sample_test_data]\n",
    "\n",
    "\n",
    "#index_random_sample_test_data = set(index_random_sample_test_data)\n",
    "#index_random_sample_test_data = list(index_random_sample_test_data)\n",
    "\n",
    "input_data_raw_test = input_data_ordered_raw[['val','seq']].loc[index_random_sample_test_data]\n",
    "\n",
    "print(input_data_raw_test.head())"
   ]
  },
  {
   "cell_type": "code",
   "execution_count": 8,
   "metadata": {
    "collapsed": true
   },
   "outputs": [],
   "source": [
    "#from random import shuffle\n",
    "#shuffle(index_random_sample_training_data)\n",
    "#shuffle(index_random_sample_test_data)"
   ]
  },
  {
   "cell_type": "code",
   "execution_count": 9,
   "metadata": {
    "collapsed": true
   },
   "outputs": [],
   "source": [
    "#num_sample = len(set(index_random_sample_training_data))\n",
    "#test_size = len(set(index_random_sample_test_data))"
   ]
  },
  {
   "cell_type": "markdown",
   "metadata": {},
   "source": [
    "## Ensure no test data got into training dataset"
   ]
  },
  {
   "cell_type": "code",
   "execution_count": 10,
   "metadata": {
    "collapsed": true
   },
   "outputs": [],
   "source": [
    "input_data_raw = input_data_raw[~input_data_raw.seq.isin(input_data_raw_test.seq)]\n",
    "#input_data_raw = input_data_raw.drop_duplicates()"
   ]
  },
  {
   "cell_type": "code",
   "execution_count": 11,
   "metadata": {},
   "outputs": [
    {
     "name": "stdout",
     "output_type": "stream",
     "text": [
      "1000\n"
     ]
    }
   ],
   "source": [
    "#test_size = len(input_data_raw_test.drop_duplicates())\n",
    "test_size = len(input_data_raw_test)\n",
    "print(test_size)"
   ]
  },
  {
   "cell_type": "code",
   "execution_count": 12,
   "metadata": {},
   "outputs": [],
   "source": [
    "#num_sample = len(input_data_raw.drop_duplicates())\n",
    "num_sample = len(input_data_raw)"
   ]
  },
  {
   "cell_type": "markdown",
   "metadata": {},
   "source": [
    "## Make Labels"
   ]
  },
  {
   "cell_type": "code",
   "execution_count": 13,
   "metadata": {},
   "outputs": [
    {
     "data": {
      "image/png": "[encoded data removed]",
      "text/plain": [
       "<Figure size 432x288 with 1 Axes>"
      ]
     },
     "metadata": {},
     "output_type": "display_data"
    }
   ],
   "source": [
    "# positive and negative labels\n",
    "# normalize the following between 0 and 1\n",
    "pos_labels = np.array(input_data_raw['val'][0:num_sample])\n",
    "pos_labels = (pos_labels-min(pos_labels))/(max(pos_labels)-min(pos_labels))\n",
    "\n",
    "# test positive and negative labels\n",
    "test_pos_labels = np.array(input_data_raw_test['val'][0:test_size])\n",
    "test_pos_labels = (test_pos_labels-min(test_pos_labels))/(max(test_pos_labels)-min(test_pos_labels))\n",
    "\n",
    "#plt.hist(pos_labels,bins=50,label='Balanced Training Data')\n",
    "plt.hist(pos_labels,bins=100,label='Balanced Training Data')\n",
    "plt.legend()\n",
    "\n",
    "plt.ylabel('Counts',fontsize=12)\n",
    "plt.xlabel('Values of Sequences (from MPAthic)',fontsize=12)\n",
    "plt.tight_layout()\n",
    "#plt.savefig('Write_up/balanced_training_histogram.png')\n",
    "plt.show()\n",
    "# assigned random values to negative examples"
   ]
  },
  {
   "cell_type": "code",
   "execution_count": 14,
   "metadata": {
    "collapsed": true
   },
   "outputs": [],
   "source": [
    "sequences = np.array(sequences)\n",
    "\n",
    "pos = []\n",
    "#pos = list(sequences[index_random_sample_training_data])\n",
    "pos = list(input_data_raw['seq'])\n",
    "\n",
    "test_pos = []\n",
    "#test_pos = list(sequences[index_random_sample_test_data])\n",
    "test_pos = list(input_data_raw_test['seq'])\n",
    "\n",
    "pos = np.array(pos)\n",
    "test_pos = np.array(test_pos)\n",
    "\n",
    "seq_length = len(pos[0])"
   ]
  },
  {
   "cell_type": "code",
   "execution_count": 15,
   "metadata": {},
   "outputs": [
    {
     "data": {
      "text/html": [
       "<div>\n",
       "<style scoped>\n",
       "    .dataframe tbody tr th:only-of-type {\n",
       "        vertical-align: middle;\n",
       "    }\n",
       "\n",
       "    .dataframe tbody tr th {\n",
       "        vertical-align: top;\n",
       "    }\n",
       "\n",
       "    .dataframe thead th {\n",
       "        text-align: right;\n",
       "    }\n",
       "</style>\n",
       "<table border=\"1\" class=\"dataframe\">\n",
       "  <thead>\n",
       "    <tr style=\"text-align: right;\">\n",
       "      <th></th>\n",
       "      <th>val</th>\n",
       "      <th>seq</th>\n",
       "    </tr>\n",
       "  </thead>\n",
       "  <tbody>\n",
       "    <tr>\n",
       "      <th>46255</th>\n",
       "      <td>20.2359</td>\n",
       "      <td>CGTTAGCACAAACACGCTGGACGCACCCGCTGCCGCCGTTG</td>\n",
       "    </tr>\n",
       "    <tr>\n",
       "      <th>31005</th>\n",
       "      <td>20.4647</td>\n",
       "      <td>TCCATGCAGCGCGACCAGGTGCTGACGCAGTGGGCGTTGCT</td>\n",
       "    </tr>\n",
       "    <tr>\n",
       "      <th>40257</th>\n",
       "      <td>20.3175</td>\n",
       "      <td>TTTACGCATTTTGGCGTTCGGGGCTTTCAGCGTTAACTGGG</td>\n",
       "    </tr>\n",
       "    <tr>\n",
       "      <th>1360</th>\n",
       "      <td>21.8688</td>\n",
       "      <td>TCTGTCCACGCCATACGTAGATTTCACTAGCACGGTAAACA</td>\n",
       "    </tr>\n",
       "    <tr>\n",
       "      <th>48237</th>\n",
       "      <td>20.2107</td>\n",
       "      <td>CCAGCACAGTGTTAAGTCGGGAGGTCTCTGCCTGCATCAGC</td>\n",
       "    </tr>\n",
       "  </tbody>\n",
       "</table>\n",
       "</div>"
      ],
      "text/plain": [
       "           val                                        seq\n",
       "46255  20.2359  CGTTAGCACAAACACGCTGGACGCACCCGCTGCCGCCGTTG\n",
       "31005  20.4647  TCCATGCAGCGCGACCAGGTGCTGACGCAGTGGGCGTTGCT\n",
       "40257  20.3175  TTTACGCATTTTGGCGTTCGGGGCTTTCAGCGTTAACTGGG\n",
       "1360   21.8688  TCTGTCCACGCCATACGTAGATTTCACTAGCACGGTAAACA\n",
       "48237  20.2107  CCAGCACAGTGTTAAGTCGGGAGGTCTCTGCCTGCATCAGC"
      ]
     },
     "execution_count": 15,
     "metadata": {},
     "output_type": "execute_result"
    }
   ],
   "source": [
    " input_data_raw_test.head()"
   ]
  },
  {
   "cell_type": "code",
   "execution_count": 16,
   "metadata": {},
   "outputs": [
    {
     "data": {
      "text/plain": [
       "0.012211522943676575"
      ]
     },
     "execution_count": 16,
     "metadata": {},
     "output_type": "execute_result"
    }
   ],
   "source": [
    "test_pos_labels[0]"
   ]
  },
  {
   "cell_type": "markdown",
   "metadata": {},
   "source": [
    "## One-hot encoding"
   ]
  },
  {
   "cell_type": "code",
   "execution_count": 17,
   "metadata": {
    "collapsed": true
   },
   "outputs": [],
   "source": [
    "temp_pos = []\n",
    "temp_pos_test = []\n",
    "for reshape_index in range(len(pos)):\n",
    "    temp_pos.append(list(pos[reshape_index]))\n",
    "\n",
    "for reshape_test_index in range(len(test_pos)):\n",
    "    temp_pos_test.append(list(test_pos[reshape_test_index]))\n",
    "    \n",
    "pos = temp_pos\n",
    "test_pos = temp_pos_test"
   ]
  },
  {
   "cell_type": "code",
   "execution_count": 18,
   "metadata": {
    "collapsed": true
   },
   "outputs": [],
   "source": [
    "pos = np.array(pos)\n",
    "test_pos = np.array(test_pos)"
   ]
  },
  {
   "cell_type": "code",
   "execution_count": 19,
   "metadata": {
    "colab": {
     "base_uri": "https://localhost:8080/",
     "height": 289
    },
    "colab_type": "code",
    "id": "riQRzV6CNp33",
    "outputId": "a27104ff-7917-4987-dccc-7780792beac2"
   },
   "outputs": [
    {
     "name": "stdout",
     "output_type": "stream",
     "text": [
      "Training set shape: (48941, 41, 4)\n",
      "Training set label shape: (48941,)\n",
      "Test set shape: (1000, 41, 4)\n",
      "Test set label shape: (1000,)\n"
     ]
    }
   ],
   "source": [
    "pos_tensor = np.zeros(list(pos.shape) + [4])\n",
    "test_pos_tensor = np.zeros(list(test_pos.shape) + [4])\n",
    "\n",
    "base_dict = {'A': 0, 'C': 1, 'G': 2, 'T': 3}\n",
    "\n",
    "#naive one-hot encoding\n",
    "for row in range(num_sample):\n",
    "    for col in range(seq_length):\n",
    "        pos_tensor[row,col,base_dict[pos[row,col]]] = 1\n",
    "        if(row<test_size):\n",
    "            test_pos_tensor[row,col,base_dict[test_pos[row,col]]] = 1\n",
    "\n",
    "#print('Positive sample matrix shape: {}'.format(pos.shape))\n",
    "# this should be a 3D tensor with shape: (samples, steps, input_dim)\n",
    "#print('Positive sample tensor shape: {}'.format(pos_tensor.shape))\n",
    "\n",
    "X = pos_tensor\n",
    "y = pos_labels\n",
    "\n",
    "X_test = test_pos_tensor\n",
    "y_test = test_pos_labels\n",
    "\n",
    "print('Training set shape: {}'.format(X.shape))\n",
    "print('Training set label shape: {}'.format(y.shape))\n",
    "\n",
    "print('Test set shape: {}'.format(X_test.shape))\n",
    "print('Test set label shape: {}'.format(y_test.shape))\n",
    "#print('\\nOne-hot encoding looks like:\\n {}'.format(X[0,0:10,:]))"
   ]
  },
  {
   "cell_type": "markdown",
   "metadata": {},
   "source": [
    "# Define error metrics"
   ]
  },
  {
   "cell_type": "code",
   "execution_count": 20,
   "metadata": {
    "collapsed": true
   },
   "outputs": [],
   "source": [
    "def rmse(y_true, y_pred):\n",
    "    from keras import backend\n",
    "    return backend.sqrt(backend.mean(backend.square(y_pred - y_true), axis=-1))\n",
    "\n",
    "# coefficient of determination (R^2) for regression\n",
    "def r_square(y_true, y_pred):\n",
    "    from keras import backend as K\n",
    "    SS_res =  K.sum(K.square(y_true - y_pred)) \n",
    "    SS_tot = K.sum(K.square(y_true - K.mean(y_true))) \n",
    "    return (1 - SS_res/(SS_tot + K.epsilon()))"
   ]
  },
  {
   "cell_type": "markdown",
   "metadata": {},
   "source": [
    "## Define Models"
   ]
  },
  {
   "cell_type": "code",
   "execution_count": 21,
   "metadata": {
    "colab": {
     "base_uri": "https://localhost:8080/",
     "height": 51
    },
    "colab_type": "code",
    "id": "bD1LpHUKNtVh",
    "outputId": "ec377700-10d7-44a3-c80b-45c2a7133a11"
   },
   "outputs": [
    {
     "name": "stderr",
     "output_type": "stream",
     "text": [
      "Using TensorFlow backend.\n"
     ]
    }
   ],
   "source": [
    "#here comes the deep learning part\n",
    "from keras.models import Sequential\n",
    "from keras.layers import Conv1D, Dense, Flatten, Dropout\n",
    "from keras.activations import relu\n",
    "from keras.layers.pooling import MaxPooling1D,GlobalMaxPool1D\n",
    "from keras.optimizers import SGD, Adam\n",
    "\n",
    "#sanity check for dimensions\n",
    "#print('Shape of the output of first layer: {}'.format(model.predict_on_batch(pos_tensor[0:1,:,:]).shape))"
   ]
  },
  {
   "cell_type": "code",
   "execution_count": 22,
   "metadata": {
    "colab": {
     "base_uri": "https://localhost:8080/",
     "height": 374
    },
    "colab_type": "code",
    "id": "2CkOlW_EN2gn",
    "outputId": "fbdf111b-fb35-4569-c9e3-34ead250e689",
    "scrolled": true
   },
   "outputs": [
    {
     "name": "stdout",
     "output_type": "stream",
     "text": [
      "Train on 36705 samples, validate on 12236 samples\n",
      "Epoch 1/20\n",
      "36705/36705 [==============================] - 3s 93us/step - loss: 0.0267 - mean_squared_error: 0.0267 - val_loss: 0.0198 - val_mean_squared_error: 0.0198\n",
      "Epoch 2/20\n",
      "36705/36705 [==============================] - 4s 103us/step - loss: 0.0190 - mean_squared_error: 0.0190 - val_loss: 0.0164 - val_mean_squared_error: 0.0164\n",
      "Epoch 3/20\n",
      "36705/36705 [==============================] - 4s 106us/step - loss: 0.0154 - mean_squared_error: 0.0154 - val_loss: 0.0132 - val_mean_squared_error: 0.0132\n",
      "Epoch 4/20\n",
      "36705/36705 [==============================] - 3s 85us/step - loss: 0.0123 - mean_squared_error: 0.0123 - val_loss: 0.0105 - val_mean_squared_error: 0.0105\n",
      "Epoch 5/20\n",
      "36705/36705 [==============================] - 4s 100us/step - loss: 0.0097 - mean_squared_error: 0.0097 - val_loss: 0.0075 - val_mean_squared_error: 0.0075\n",
      "Epoch 6/20\n",
      "36705/36705 [==============================] - 4s 109us/step - loss: 0.0074 - mean_squared_error: 0.0074 - val_loss: 0.0052 - val_mean_squared_error: 0.0052\n",
      "Epoch 7/20\n",
      "36705/36705 [==============================] - 4s 110us/step - loss: 0.0058 - mean_squared_error: 0.0058 - val_loss: 0.0038 - val_mean_squared_error: 0.0038\n",
      "Epoch 8/20\n",
      "36705/36705 [==============================] - 4s 120us/step - loss: 0.0048 - mean_squared_error: 0.0048 - val_loss: 0.0028 - val_mean_squared_error: 0.0028\n",
      "Epoch 9/20\n",
      "36705/36705 [==============================] - 4s 100us/step - loss: 0.0041 - mean_squared_error: 0.0041 - val_loss: 0.0027 - val_mean_squared_error: 0.0027\n",
      "Epoch 10/20\n",
      "36705/36705 [==============================] - 3s 93us/step - loss: 0.0036 - mean_squared_error: 0.0036 - val_loss: 0.0021 - val_mean_squared_error: 0.0021\n",
      "Epoch 11/20\n",
      "36705/36705 [==============================] - 3s 91us/step - loss: 0.0033 - mean_squared_error: 0.0033 - val_loss: 0.0014 - val_mean_squared_error: 0.0014\n",
      "Epoch 12/20\n",
      "36705/36705 [==============================] - 3s 91us/step - loss: 0.0030 - mean_squared_error: 0.0030 - val_loss: 0.0013 - val_mean_squared_error: 0.0013\n",
      "Epoch 13/20\n",
      "36705/36705 [==============================] - 4s 106us/step - loss: 0.0027 - mean_squared_error: 0.0027 - val_loss: 0.0013 - val_mean_squared_error: 0.0013\n",
      "Epoch 14/20\n",
      "36705/36705 [==============================] - 5s 130us/step - loss: 0.0025 - mean_squared_error: 0.0025 - val_loss: 0.0012 - val_mean_squared_error: 0.0012\n",
      "Epoch 15/20\n",
      "36705/36705 [==============================] - 4s 105us/step - loss: 0.0023 - mean_squared_error: 0.0023 - val_loss: 8.4789e-04 - val_mean_squared_error: 8.4789e-04\n",
      "Epoch 16/20\n",
      "36705/36705 [==============================] - 4s 96us/step - loss: 0.0021 - mean_squared_error: 0.0021 - val_loss: 6.6698e-04 - val_mean_squared_error: 6.6698e-04\n",
      "Epoch 17/20\n",
      "36705/36705 [==============================] - 4s 108us/step - loss: 0.0019 - mean_squared_error: 0.0019 - val_loss: 6.8314e-04 - val_mean_squared_error: 6.8314e-04\n",
      "Epoch 18/20\n",
      "36705/36705 [==============================] - 4s 116us/step - loss: 0.0019 - mean_squared_error: 0.0019 - val_loss: 6.0261e-04 - val_mean_squared_error: 6.0261e-04\n",
      "Epoch 19/20\n",
      "36705/36705 [==============================] - 5s 123us/step - loss: 0.0018 - mean_squared_error: 0.0018 - val_loss: 5.0766e-04 - val_mean_squared_error: 5.0766e-04\n",
      "Epoch 20/20\n",
      "36705/36705 [==============================] - 4s 117us/step - loss: 0.0018 - mean_squared_error: 0.0018 - val_loss: 5.1519e-04 - val_mean_squared_error: 5.1519e-04\n"
     ]
    }
   ],
   "source": [
    "\n",
    "model = Sequential()\n",
    "# padding same works\n",
    "model.add(Conv1D(filters = 41, kernel_size=41, padding='same', input_shape=(seq_length, 4), activation='relu'))\n",
    "model.add(MaxPooling1D(pool_size=5))\n",
    "#model.add(Conv1D(30, 15, padding='same', input_shape=(seq_length, 4), activation='relu'))\n",
    "#model.add(MaxPooling1D(pool_size=5))\n",
    "model.add(Flatten())\n",
    "#model.add(Dense(50, activation='relu'))\n",
    "#model.add(Dropout(0.25))\n",
    "model.add(Dense(20, activation='relu'))\n",
    "model.add(Dropout(0.2))\n",
    "model.add(Dense(1, activation='linear'))\n",
    "\n",
    "sgd = SGD(lr=0.0001, decay=1e-6, momentum=0.9, nesterov=True)\n",
    "\n",
    "#model.compile(loss='mean_squared_error',optimizer='adam', metrics=['mean_squared_error',r_square])\n",
    "#model.compile(loss='mean_squared_error',optimizer=sgd, metrics=[rmse,r_square])\n",
    "#model.compile(loss='mean_squared_error',optimizer=Adam(lr=0.0001), metrics=[rmse,r_square])\n",
    "model.compile(loss='mean_squared_error',optimizer=Adam(lr=0.0001), metrics=['mean_squared_error'])\n",
    "\n",
    "#history = model.fit(X, y, validation_split=0.2, epochs=50)  # starts training\n",
    "history = model.fit(X, y, validation_split=0.25, epochs=20)  # starts training\n",
    "\n"
   ]
  },
  {
   "cell_type": "code",
   "execution_count": 23,
   "metadata": {
    "colab": {
     "base_uri": "https://localhost:8080/",
     "height": 376
    },
    "colab_type": "code",
    "id": "-VpzZqooOAPx",
    "outputId": "30d34bfd-b21e-47c7-9c64-d1cf407b23c6"
   },
   "outputs": [
    {
     "data": {
      "image/png": "[encoded data removed]",
      "text/plain": [
       "<Figure size 432x288 with 1 Axes>"
      ]
     },
     "metadata": {},
     "output_type": "display_data"
    }
   ],
   "source": [
    "plt.figure()\n",
    "plt.rcParams[\"figure.figsize\"] = (5,5)\n",
    "plt.plot(history.history['loss'],color='blue')\n",
    "plt.plot(history.history['val_loss'],color='orange')\n",
    "plt.title('Model loss',fontsize=12)\n",
    "plt.ylabel('loss',fontsize=12)\n",
    "plt.xlabel('epoch',fontsize=12)\n",
    "plt.legend(['train', 'validation'])\n",
    "#plt.savefig('Write_up/model_loss.png')\n",
    "plt.show()"
   ]
  },
  {
   "cell_type": "code",
   "execution_count": 24,
   "metadata": {},
   "outputs": [
    {
     "data": {
      "text/plain": [
       "dict_keys(['val_loss', 'val_mean_squared_error', 'loss', 'mean_squared_error'])"
      ]
     },
     "execution_count": 24,
     "metadata": {},
     "output_type": "execute_result"
    }
   ],
   "source": [
    "history.history.keys()"
   ]
  },
  {
   "cell_type": "code",
   "execution_count": 25,
   "metadata": {
    "colab": {
     "base_uri": "https://localhost:8080/",
     "height": 376
    },
    "colab_type": "code",
    "id": "VeIdsrBEO49U",
    "outputId": "04003ed6-30d1-494a-da95-3672e19fb46d"
   },
   "outputs": [
    {
     "data": {
      "text/plain": [
       "'\\nplt.rcParams[\"figure.figsize\"] = (5,5)\\nplt.plot(history.history[\\'val_rmse\\'],color=\\'orange\\')\\nplt.plot(history.history[\\'rmse\\'],color=\\'b\\')\\nplt.title(\\'Model RMSE\\',fontsize=12)\\nplt.ylabel(\\'RMSE\\',fontsize=12)\\nplt.xlabel(\\'epoch\\',fontsize=12)\\nplt.legend([\\'train\\', \\'validation\\'])\\nplt.savefig(\\'Write_up/RMSE_loss.png\\')\\nplt.legend([\\'rmse\\', \\'val_rmse\\'], loc=\\'upper right\\')\\n#plt.savefig(\\'Write_up/rmse.png\\')\\nplt.show()\\n'"
      ]
     },
     "execution_count": 25,
     "metadata": {},
     "output_type": "execute_result"
    }
   ],
   "source": [
    "'''\n",
    "plt.rcParams[\"figure.figsize\"] = (5,5)\n",
    "plt.plot(history.history['val_rmse'],color='orange')\n",
    "plt.plot(history.history['rmse'],color='b')\n",
    "plt.title('Model RMSE',fontsize=12)\n",
    "plt.ylabel('RMSE',fontsize=12)\n",
    "plt.xlabel('epoch',fontsize=12)\n",
    "plt.legend(['train', 'validation'])\n",
    "plt.savefig('Write_up/RMSE_loss.png')\n",
    "plt.legend(['rmse', 'val_rmse'], loc='upper right')\n",
    "#plt.savefig('Write_up/rmse.png')\n",
    "plt.show()\n",
    "'''"
   ]
  },
  {
   "cell_type": "code",
   "execution_count": 26,
   "metadata": {},
   "outputs": [
    {
     "data": {
      "text/plain": [
       "'\\n#plt.rcParams[\"figure.figsize\"] = (5,5)\\nplt.plot(history.history[\\'val_r_square\\'],color=\\'b\\')\\nplt.plot(history.history[\\'r_square\\'],color=\\'orange\\')\\nplt.title(\\'model R^2\\',fontsize=12)\\nplt.ylabel(\\'R^2\\',fontsize=12)\\nplt.xlabel(\\'epoch\\',fontsize=12)\\nplt.legend([\\'r_sq\\', \\'val_r_sq\\'], loc=\\'lower right\\')\\nplt.tight_layout()\\n#plt.savefig(\\'Write_up/Rsquared.png\\')\\nplt.show()\\n'"
      ]
     },
     "execution_count": 26,
     "metadata": {},
     "output_type": "execute_result"
    }
   ],
   "source": [
    "'''\n",
    "#plt.rcParams[\"figure.figsize\"] = (5,5)\n",
    "plt.plot(history.history['val_r_square'],color='b')\n",
    "plt.plot(history.history['r_square'],color='orange')\n",
    "plt.title('model R^2',fontsize=12)\n",
    "plt.ylabel('R^2',fontsize=12)\n",
    "plt.xlabel('epoch',fontsize=12)\n",
    "plt.legend(['r_sq', 'val_r_sq'], loc='lower right')\n",
    "plt.tight_layout()\n",
    "#plt.savefig('Write_up/Rsquared.png')\n",
    "plt.show()\n",
    "'''"
   ]
  },
  {
   "cell_type": "code",
   "execution_count": 27,
   "metadata": {
    "colab": {
     "base_uri": "https://localhost:8080/",
     "height": 34
    },
    "colab_type": "code",
    "id": "vuJi3zO_OaMi",
    "outputId": "91f9168e-a49f-4c51-8a07-85d32e324e0b"
   },
   "outputs": [
    {
     "name": "stdout",
     "output_type": "stream",
     "text": [
      "Convolution parameter shape: (41, 4, 41)\n"
     ]
    }
   ],
   "source": [
    "#have a look at the filter\n",
    "convlayer = model.layers[0]\n",
    "weights = convlayer.get_weights()[0].squeeze()\n",
    "print('Convolution parameter shape: {}'.format(weights.shape))\n",
    "\n",
    "num2seq = ['A','C','G','T']\n",
    "\n",
    "#''.join([num2seq[np.argmax(weights[i,:])] for i in range(weights.shape[0])])\n",
    "#test_pred = ''.join([num2seq[np.argmax(weights[i,:])] for i in range(weights.shape[0])])"
   ]
  },
  {
   "cell_type": "markdown",
   "metadata": {},
   "source": [
    "## Make predictions"
   ]
  },
  {
   "cell_type": "code",
   "execution_count": 28,
   "metadata": {
    "collapsed": true
   },
   "outputs": [],
   "source": [
    "model_prediction = model.predict(X_test)"
   ]
  },
  {
   "cell_type": "code",
   "execution_count": 29,
   "metadata": {},
   "outputs": [
    {
     "data": {
      "image/png": "[encoded data removed]",
      "text/plain": [
       "<Figure size 360x360 with 1 Axes>"
      ]
     },
     "metadata": {},
     "output_type": "display_data"
    }
   ],
   "source": [
    "plt.hist(test_pos_labels,bins=50,alpha=0.75,label='Test labels')\n",
    "plt.hist(model_prediction,bins=50,alpha=0.5,label='Model Predictions')\n",
    "plt.legend()\n",
    "plt.show()"
   ]
  },
  {
   "cell_type": "code",
   "execution_count": 30,
   "metadata": {},
   "outputs": [],
   "source": [
    "pos_model_prediction = model.predict(test_pos_tensor)"
   ]
  },
  {
   "cell_type": "code",
   "execution_count": 31,
   "metadata": {},
   "outputs": [
    {
     "data": {
      "image/png": "[encoded data removed]",
      "text/plain": [
       "<Figure size 432x432 with 1 Axes>"
      ]
     },
     "metadata": {},
     "output_type": "display_data"
    }
   ],
   "source": [
    "from pylab import rcParams\n",
    "rcParams['xtick.labelsize'] = 10 \n",
    "rcParams['ytick.labelsize'] = 10 \n",
    "rcParams['figure.figsize'] = 6, 6\n",
    "\n",
    "plt.scatter(y_test,pos_model_prediction,s=20,alpha=0.5,color='red')\n",
    "plt.plot([0,1],alpha=0.5,linewidth=5,color='black')\n",
    "plt.ylabel('Neural network predictions of values',fontsize=12)\n",
    "plt.xlabel('Values from test set (from MPAthic)',fontsize=12)\n",
    "plt.title('Convolutional Neural Network Performance')\n",
    "plt.show()\n"
   ]
  },
  {
   "cell_type": "markdown",
   "metadata": {},
   "source": [
    "## Compute Saliency and Plot it"
   ]
  },
  {
   "cell_type": "code",
   "execution_count": 32,
   "metadata": {
    "collapsed": true
   },
   "outputs": [],
   "source": [
    "import tensorflow.keras.backend as K\n",
    "import tensorflow as tf\n",
    "\n",
    "K.set_session(tf.Session(graph=model.output.graph)) \n",
    "init = tf.global_variables_initializer() \n",
    "K.get_session().run(init)\n",
    "\n",
    "def compute_salient_bases(model, x):\n",
    "  input_tensors = [model.input]\n",
    "  gradients = model.optimizer.get_gradients(model.output[0][0], model.input)\n",
    "  \n",
    "  compute_gradients = K.function(inputs = input_tensors, outputs = gradients)\n",
    "  x_value = np.expand_dims(x, axis=0)\n",
    "\n",
    "  gradients = compute_gradients([x_value])[0][0]\n",
    "  sal = np.clip(np.sum(np.multiply(gradients,x), axis=1),a_min=0, a_max=None)\n",
    "  return sal\n"
   ]
  },
  {
   "cell_type": "code",
   "execution_count": 50,
   "metadata": {},
   "outputs": [
    {
     "data": {
      "image/png": "[encoded data removed]",
      "text/plain": [
       "<Figure size 1152x360 with 1 Axes>"
      ]
     },
     "metadata": {},
     "output_type": "display_data"
    }
   ],
   "source": [
    "sequence_index = model_prediction.argmax()\n",
    "sal = compute_salient_bases(model, X_test[sequence_index])\n",
    "\n",
    "plt.figure(figsize=[16,5])\n",
    "barlist = plt.bar(np.arange(len(sal)), sal)\n",
    "#[barlist[i].set_color('C1') for i in range(5,17)]\n",
    "plt.xlabel('Bases')\n",
    "plt.ylabel('Magnitude of saliency values')\n",
    "plt.xticks(np.arange(len(sal)), list(sequences[sequence_index]));\n",
    "plt.title('Saliency map');\n",
    "plt.show()"
   ]
  },
  {
   "cell_type": "markdown",
   "metadata": {},
   "source": [
    "## Compare prediction of individual sequence against model"
   ]
  },
  {
   "cell_type": "code",
   "execution_count": 49,
   "metadata": {},
   "outputs": [
    {
     "name": "stdout",
     "output_type": "stream",
     "text": [
      "prediction: \n",
      "[[0.09392679]]\n",
      "label: \n",
      "[0.09508311]\n"
     ]
    }
   ],
   "source": [
    "predict_single_sequence = 500\n",
    "print('prediction: ')\n",
    "print(model.predict(X_test[predict_single_sequence:predict_single_sequence+1]))\n",
    "\n",
    "label_single_sequence = predict_single_sequence\n",
    "print('label: ')\n",
    "print(test_pos_labels[label_single_sequence:label_single_sequence+1])"
   ]
  },
  {
   "cell_type": "markdown",
   "metadata": {},
   "source": [
    "## Visualize convolution filters"
   ]
  },
  {
   "cell_type": "code",
   "execution_count": 35,
   "metadata": {},
   "outputs": [
    {
     "name": "stdout",
     "output_type": "stream",
     "text": [
      "shape of conv1d layer\n",
      "(41,)\n"
     ]
    },
    {
     "data": {
      "image/png": "[encoded data removed]",
      "text/plain": [
       "<Figure size 2160x360 with 2 Axes>"
      ]
     },
     "metadata": {},
     "output_type": "display_data"
    }
   ],
   "source": [
    "#model.get_weights()[0][:,0,0]\n",
    "# values of first filter\n",
    "#model.get_weights()[0][0].T\n",
    "\n",
    "print('shape of conv1d layer')\n",
    "print(np.shape(model.get_weights()[1]))\n",
    "plt.rcParams[\"figure.figsize\"] = (30,5)\n",
    "import seaborn as sns\n",
    "sns.set()\n",
    "sns.heatmap(model.get_weights()[0][0],cmap='RdBu_r')\n",
    "\n",
    "plt.show()"
   ]
  },
  {
   "cell_type": "code",
   "execution_count": 36,
   "metadata": {},
   "outputs": [
    {
     "data": {
      "text/plain": [
       "(20,)"
      ]
     },
     "execution_count": 36,
     "metadata": {},
     "output_type": "execute_result"
    }
   ],
   "source": [
    "np.shape(model.get_weights()[3])"
   ]
  },
  {
   "cell_type": "code",
   "execution_count": 37,
   "metadata": {},
   "outputs": [
    {
     "name": "stdout",
     "output_type": "stream",
     "text": [
      "Convolution parameter shape: (41, 4, 41)\n"
     ]
    }
   ],
   "source": [
    "#have a look at the filter\n",
    "convlayer = model.layers[0]\n",
    "weights = convlayer.get_weights()[0].squeeze()\n",
    "print('Convolution parameter shape: {}'.format(weights.shape))\n",
    "\n",
    "num2seq = ['A','C','G','T']\n",
    "\n",
    "#''.join([num2seq[np.argmax(weights[i,:])] for i in range(weights.shape[0])])\n",
    "#test_pred = ''.join([num2seq[np.argmax(weights[i,:])] for i in range(weights.shape[0])])"
   ]
  },
  {
   "cell_type": "code",
   "execution_count": 38,
   "metadata": {},
   "outputs": [],
   "source": [
    "#argmax_conv_filter_list = []\n",
    "#for filter_index in range(41):\n",
    "#    argmax_conv_filter_list.append(''.join([num2seq[np.argmax(model.get_weights()[0][filter_index][:,x])] for x in range(41)]))"
   ]
  },
  {
   "cell_type": "code",
   "execution_count": 39,
   "metadata": {},
   "outputs": [],
   "source": [
    "#for fa_index in range(len(argmax_conv_filter_list)):\n",
    "#    print('>')\n",
    "#    print(argmax_conv_filter_list[fa_index])"
   ]
  },
  {
   "cell_type": "code",
   "execution_count": 40,
   "metadata": {},
   "outputs": [
    {
     "data": {
      "text/plain": [
       "(1,)"
      ]
     },
     "execution_count": 40,
     "metadata": {},
     "output_type": "execute_result"
    }
   ],
   "source": [
    "np.shape(model.get_weights()[5])"
   ]
  },
  {
   "cell_type": "code",
   "execution_count": 41,
   "metadata": {},
   "outputs": [],
   "source": [
    "import sys\n",
    "sys.path.insert(0,'/Users/tareen/Desktop/Desktop_Tests/logomaker3')\n",
    "import logomaker"
   ]
  },
  {
   "cell_type": "code",
   "execution_count": 42,
   "metadata": {},
   "outputs": [],
   "source": [
    "learned_filter = pd.DataFrame(model.get_weights()[0][1].T,columns = ['A','C','G','T'])"
   ]
  },
  {
   "cell_type": "code",
   "execution_count": 43,
   "metadata": {},
   "outputs": [
    {
     "name": "stdout",
     "output_type": "stream",
     "text": [
      "<logomaker.Logo.Logo object at 0x110bbd1d0>\n"
     ]
    },
    {
     "data": {
      "image/png": "[encoded data removed]",
      "text/plain": [
       "<Figure size 864x216 with 1 Axes>"
      ]
     },
     "metadata": {},
     "output_type": "display_data"
    }
   ],
   "source": [
    "import warnings\n",
    "warnings.filterwarnings(\"ignore\")\n",
    "\n",
    "logo = logomaker.make_logo(\n",
    "                            dataframe=learned_filter,\n",
    "                            remove_flattened_characters=False,\n",
    "                            ytick_format='%0.1f',\n",
    "                            draw_now=True,\n",
    "                            figsize=[12,3]\n",
    "                    )\n",
    "print(logo)\n",
    "plt.show()\n",
    "\n",
    "\n",
    "\n"
   ]
  },
  {
   "cell_type": "code",
   "execution_count": 45,
   "metadata": {
    "collapsed": true
   },
   "outputs": [],
   "source": [
    "from keras.models import load_model\n",
    "\n",
    "model.save('train_50k_test_2k.h5')  # creates a HDF5 file 'my_model.h5'\n",
    "#del model  # deletes the existing model\n",
    "\n",
    "# returns a compiled model\n",
    "# identical to the previous one\n",
    "#model = load_model('my_model.h5')"
   ]
  },
  {
   "cell_type": "code",
   "execution_count": null,
   "metadata": {
    "collapsed": true
   },
   "outputs": [],
   "source": []
  },
  {
   "cell_type": "code",
   "execution_count": null,
   "metadata": {
    "collapsed": true
   },
   "outputs": [],
   "source": []
  }
 ],
 "metadata": {
  "colab": {
   "collapsed_sections": [],
   "name": "motif_learn_convnet.ipynb",
   "provenance": [],
   "version": "0.3.2"
  },
  "kernelspec": {
   "display_name": "Python 3",
   "language": "python",
   "name": "python3"
  },
  "language_info": {
   "codemirror_mode": {
    "name": "ipython",
    "version": 3
   },
   "file_extension": ".py",
   "mimetype": "text/x-python",
   "name": "python",
   "nbconvert_exporter": "python",
   "pygments_lexer": "ipython3",
   "version": "3.6.2"
  }
 },
 "nbformat": 4,
 "nbformat_minor": 1
}
