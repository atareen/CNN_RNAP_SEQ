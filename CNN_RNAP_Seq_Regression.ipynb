{
 "cells": [
  {
   "cell_type": "code",
   "execution_count": 1,
   "metadata": {
    "collapsed": true
   },
   "outputs": [],
   "source": [
    "import pandas as pd\n",
    "import numpy as np\n",
    "import numpy as np\n",
    "import pandas as pd\n",
    "import matplotlib.pyplot as plt\n",
    "\n",
    "input_data_ordered_raw =  pd.read_csv('rnap_scanned_over_ecoli_genome100k.csv')\n",
    "sequences = input_data_ordered_raw['seq'].tolist()"
   ]
  },
  {
   "cell_type": "code",
   "execution_count": 2,
   "metadata": {},
   "outputs": [
    {
     "data": {
      "text/html": [
       "<div>\n",
       "<style scoped>\n",
       "    .dataframe tbody tr th:only-of-type {\n",
       "        vertical-align: middle;\n",
       "    }\n",
       "\n",
       "    .dataframe tbody tr th {\n",
       "        vertical-align: top;\n",
       "    }\n",
       "\n",
       "    .dataframe thead th {\n",
       "        text-align: right;\n",
       "    }\n",
       "</style>\n",
       "<table border=\"1\" class=\"dataframe\">\n",
       "  <thead>\n",
       "    <tr style=\"text-align: right;\">\n",
       "      <th></th>\n",
       "      <th>Unnamed: 0</th>\n",
       "      <th>val</th>\n",
       "      <th>seq</th>\n",
       "      <th>left</th>\n",
       "      <th>right</th>\n",
       "      <th>ori</th>\n",
       "      <th>contig</th>\n",
       "    </tr>\n",
       "  </thead>\n",
       "  <tbody>\n",
       "    <tr>\n",
       "      <th>0</th>\n",
       "      <td>0</td>\n",
       "      <td>23.9083</td>\n",
       "      <td>CTATTACCTGCCCACGGTAAAGGCGTTCTGGTTGCCCTACG</td>\n",
       "      <td>3695629</td>\n",
       "      <td>3695669</td>\n",
       "      <td>+</td>\n",
       "      <td>MG1655.fa</td>\n",
       "    </tr>\n",
       "    <tr>\n",
       "      <th>1</th>\n",
       "      <td>1</td>\n",
       "      <td>23.5831</td>\n",
       "      <td>TTTCTGCCCGCGGCCTGGCAATTGATACCGCCTTGCCATCG</td>\n",
       "      <td>1109059</td>\n",
       "      <td>1109099</td>\n",
       "      <td>+</td>\n",
       "      <td>MG1655.fa</td>\n",
       "    </tr>\n",
       "    <tr>\n",
       "      <th>2</th>\n",
       "      <td>2</td>\n",
       "      <td>23.4205</td>\n",
       "      <td>TTTTTACACGCCTTGCGTAAAGCGGCACGGCGCGGGGTGCG</td>\n",
       "      <td>822216</td>\n",
       "      <td>822256</td>\n",
       "      <td>-</td>\n",
       "      <td>MG1655.fa</td>\n",
       "    </tr>\n",
       "    <tr>\n",
       "      <th>3</th>\n",
       "      <td>3</td>\n",
       "      <td>23.4098</td>\n",
       "      <td>TTGCTGCCTGGCCGATGGTCTATGCCGCTGCGTTCTCCGGC</td>\n",
       "      <td>772478</td>\n",
       "      <td>772518</td>\n",
       "      <td>+</td>\n",
       "      <td>MG1655.fa</td>\n",
       "    </tr>\n",
       "    <tr>\n",
       "      <th>4</th>\n",
       "      <td>4</td>\n",
       "      <td>23.3640</td>\n",
       "      <td>CTTTTACACGCAAAATGCCGTCACGTTCACGGGTCTGGGCT</td>\n",
       "      <td>2748531</td>\n",
       "      <td>2748571</td>\n",
       "      <td>+</td>\n",
       "      <td>MG1655.fa</td>\n",
       "    </tr>\n",
       "  </tbody>\n",
       "</table>\n",
       "</div>"
      ],
      "text/plain": [
       "   Unnamed: 0      val                                        seq     left  \\\n",
       "0           0  23.9083  CTATTACCTGCCCACGGTAAAGGCGTTCTGGTTGCCCTACG  3695629   \n",
       "1           1  23.5831  TTTCTGCCCGCGGCCTGGCAATTGATACCGCCTTGCCATCG  1109059   \n",
       "2           2  23.4205  TTTTTACACGCCTTGCGTAAAGCGGCACGGCGCGGGGTGCG   822216   \n",
       "3           3  23.4098  TTGCTGCCTGGCCGATGGTCTATGCCGCTGCGTTCTCCGGC   772478   \n",
       "4           4  23.3640  CTTTTACACGCAAAATGCCGTCACGTTCACGGGTCTGGGCT  2748531   \n",
       "\n",
       "     right ori     contig  \n",
       "0  3695669   +  MG1655.fa  \n",
       "1  1109099   +  MG1655.fa  \n",
       "2   822256   -  MG1655.fa  \n",
       "3   772518   +  MG1655.fa  \n",
       "4  2748571   +  MG1655.fa  "
      ]
     },
     "execution_count": 2,
     "metadata": {},
     "output_type": "execute_result"
    }
   ],
   "source": [
    "input_data_ordered_raw.head()"
   ]
  },
  {
   "cell_type": "markdown",
   "metadata": {},
   "source": [
    "## Randomly sample vals and seqs to prevent data imbalance"
   ]
  },
  {
   "cell_type": "code",
   "execution_count": 3,
   "metadata": {},
   "outputs": [
    {
     "data": {
      "text/html": [
       "<div>\n",
       "<style scoped>\n",
       "    .dataframe tbody tr th:only-of-type {\n",
       "        vertical-align: middle;\n",
       "    }\n",
       "\n",
       "    .dataframe tbody tr th {\n",
       "        vertical-align: top;\n",
       "    }\n",
       "\n",
       "    .dataframe thead th {\n",
       "        text-align: right;\n",
       "    }\n",
       "</style>\n",
       "<table border=\"1\" class=\"dataframe\">\n",
       "  <thead>\n",
       "    <tr style=\"text-align: right;\">\n",
       "      <th></th>\n",
       "      <th>val</th>\n",
       "      <th>seq</th>\n",
       "    </tr>\n",
       "  </thead>\n",
       "  <tbody>\n",
       "    <tr>\n",
       "      <th>0</th>\n",
       "      <td>23.9083</td>\n",
       "      <td>CTATTACCTGCCCACGGTAAAGGCGTTCTGGTTGCCCTACG</td>\n",
       "    </tr>\n",
       "    <tr>\n",
       "      <th>1</th>\n",
       "      <td>23.5831</td>\n",
       "      <td>TTTCTGCCCGCGGCCTGGCAATTGATACCGCCTTGCCATCG</td>\n",
       "    </tr>\n",
       "    <tr>\n",
       "      <th>2</th>\n",
       "      <td>23.4205</td>\n",
       "      <td>TTTTTACACGCCTTGCGTAAAGCGGCACGGCGCGGGGTGCG</td>\n",
       "    </tr>\n",
       "    <tr>\n",
       "      <th>3</th>\n",
       "      <td>23.4098</td>\n",
       "      <td>TTGCTGCCTGGCCGATGGTCTATGCCGCTGCGTTCTCCGGC</td>\n",
       "    </tr>\n",
       "    <tr>\n",
       "      <th>4</th>\n",
       "      <td>23.3640</td>\n",
       "      <td>CTTTTACACGCAAAATGCCGTCACGTTCACGGGTCTGGGCT</td>\n",
       "    </tr>\n",
       "  </tbody>\n",
       "</table>\n",
       "</div>"
      ],
      "text/plain": [
       "       val                                        seq\n",
       "0  23.9083  CTATTACCTGCCCACGGTAAAGGCGTTCTGGTTGCCCTACG\n",
       "1  23.5831  TTTCTGCCCGCGGCCTGGCAATTGATACCGCCTTGCCATCG\n",
       "2  23.4205  TTTTTACACGCCTTGCGTAAAGCGGCACGGCGCGGGGTGCG\n",
       "3  23.4098  TTGCTGCCTGGCCGATGGTCTATGCCGCTGCGTTCTCCGGC\n",
       "4  23.3640  CTTTTACACGCAAAATGCCGTCACGTTCACGGGTCTGGGCT"
      ]
     },
     "execution_count": 3,
     "metadata": {},
     "output_type": "execute_result"
    }
   ],
   "source": [
    "input_data_ordered_raw[['val','seq']].head()"
   ]
  },
  {
   "cell_type": "code",
   "execution_count": 4,
   "metadata": {},
   "outputs": [],
   "source": [
    "# sample high value seqs more\n",
    "bi = np.random.binomial(n=10000, p=0.01, size=1000)"
   ]
  },
  {
   "cell_type": "code",
   "execution_count": 5,
   "metadata": {},
   "outputs": [
    {
     "name": "stdout",
     "output_type": "stream",
     "text": [
      "          val                                        seq\n",
      "957   22.0027  GCCTTCCAGGCTGTTATCAAAGCTGGTCAGTATGCTTACCG\n",
      "988   21.9895  CCGGTAAACGCTTTGTGCCGATCATTTCTGGCCTGGCTGCC\n",
      "918   22.0251  GTGCACCACGGTGCCACCCGCGAAATCCAGCGCACCGTGAG\n",
      "990   21.9892  ACCCAACATGGCCGTCTGGTGAAGACTCTGCTCGGCGGCGA\n",
      "1026  21.9767  TTGCTCCACAGCGGCCCCAGCACTTTACTGGCGGCAAACAC\n",
      "          val                                        seq\n",
      "988   21.9895  CCGGTAAACGCTTTGTGCCGATCATTTCTGGCCTGGCTGCC\n",
      "991   21.9886  ACGCCCCAGGCTTTTTGCCAGCGCATCCAGCTCTCGCGCTT\n",
      "1004  21.9841  CTGTTACAGGCACGCTTGAGCCAGGACCTGGCGCGCGAGCA\n",
      "1023  21.9783  CTTCTCCCCGGCCAAAATGTGGATCAACGGCCTGACCATGC\n",
      "1012  21.9812  GGCATCCACGCAGTGCAGGCCCTGCTGGAGCGCGCCCCTGA\n"
     ]
    }
   ],
   "source": [
    "num_sample = 20000   # number of training samples\n",
    "test_size = 5000    # number of test samples\n",
    "\n",
    "#index_random_sample_training_data = np.random.randint(100000,size=(9000))\n",
    "index_random_sample_training_data = np.random.binomial(n=100000, p=0.01, size=num_sample)\n",
    "input_data_raw = input_data_ordered_raw[['val','seq']].loc[index_random_sample_training_data]\n",
    "print(input_data_raw.head())\n",
    "\n",
    "#index_random_sample_test_data = np.random.randint(100000,size=(1000))\n",
    "index_random_sample_test_data = np.random.binomial(n=100000, p=0.01, size=test_size)\n",
    "input_data_raw_test = input_data_ordered_raw[['val','seq']].loc[index_random_sample_test_data]\n",
    "\n",
    "print(input_data_raw_test.head())"
   ]
  },
  {
   "cell_type": "markdown",
   "metadata": {},
   "source": [
    "## Make positive and negative Labels"
   ]
  },
  {
   "cell_type": "code",
   "execution_count": 6,
   "metadata": {},
   "outputs": [
    {
     "data": {
      "image/png": "[encoded data removed]",
      "text/plain": [
       "<Figure size 432x288 with 1 Axes>"
      ]
     },
     "metadata": {},
     "output_type": "display_data"
    },
    {
     "data": {
      "text/plain": [
       "0.5942173479561449"
      ]
     },
     "execution_count": 6,
     "metadata": {},
     "output_type": "execute_result"
    }
   ],
   "source": [
    "# positive and negative labels\n",
    "# normalize the following between 0 and 1\n",
    "pos_labels = np.array(input_data_raw['val'][0:num_sample])\n",
    "pos_labels = (pos_labels-min(pos_labels))/(max(pos_labels)-min(pos_labels))\n",
    "\n",
    "# test positive and negative labels\n",
    "test_pos_labels = np.array(input_data_raw_test['val'][0:test_size])\n",
    "test_pos_labels = (test_pos_labels-min(test_pos_labels))/(max(test_pos_labels)-min(test_pos_labels))\n",
    "\n",
    "plt.hist(pos_labels,bins=50,label='Positive')\n",
    "plt.legend()\n",
    "plt.show()\n",
    "# assigned random values to negative examples\n",
    "\n",
    "pos_labels[0]"
   ]
  },
  {
   "cell_type": "code",
   "execution_count": 7,
   "metadata": {},
   "outputs": [],
   "source": [
    "sequences = np.array(sequences)\n",
    "\n",
    "pos = []\n",
    "pos = list(sequences[index_random_sample_training_data])\n",
    "\n",
    "test_pos = []\n",
    "test_pos = list(sequences[index_random_sample_test_data])\n",
    "\n",
    "pos = np.array(pos)\n",
    "test_pos = np.array(test_pos)\n",
    "\n",
    "seq_length = len(pos[0])"
   ]
  },
  {
   "cell_type": "markdown",
   "metadata": {},
   "source": [
    "## One-hot encoding"
   ]
  },
  {
   "cell_type": "code",
   "execution_count": 8,
   "metadata": {
    "collapsed": true
   },
   "outputs": [],
   "source": [
    "temp_pos = []\n",
    "temp_pos_test = []\n",
    "for reshape_index in range(len(pos)):\n",
    "    temp_pos.append(list(pos[reshape_index]))\n",
    "\n",
    "for reshape_test_index in range(len(test_pos)):\n",
    "    temp_pos_test.append(list(test_pos[reshape_test_index]))\n",
    "    \n",
    "pos = temp_pos\n",
    "test_pos = temp_pos_test"
   ]
  },
  {
   "cell_type": "code",
   "execution_count": 14,
   "metadata": {},
   "outputs": [],
   "source": [
    "pos = np.array(pos)\n",
    "test_pos = np.array(test_pos)"
   ]
  },
  {
   "cell_type": "code",
   "execution_count": 15,
   "metadata": {
    "colab": {
     "base_uri": "https://localhost:8080/",
     "height": 289
    },
    "colab_type": "code",
    "id": "riQRzV6CNp33",
    "outputId": "a27104ff-7917-4987-dccc-7780792beac2"
   },
   "outputs": [
    {
     "name": "stdout",
     "output_type": "stream",
     "text": [
      "Positive sample matrix shape: (20000, 41)\n",
      "Positive sample tensor shape: (20000, 41, 4)\n",
      "Training set shape: (20000, 41, 4)\n",
      "Training set label shape: (20000,)\n",
      "\n",
      "One-hot encoding looks like:\n",
      " [[0. 0. 1. 0.]\n",
      " [0. 1. 0. 0.]\n",
      " [0. 1. 0. 0.]\n",
      " [0. 0. 0. 1.]\n",
      " [0. 0. 0. 1.]\n",
      " [0. 1. 0. 0.]\n",
      " [0. 1. 0. 0.]\n",
      " [1. 0. 0. 0.]\n",
      " [0. 0. 1. 0.]\n",
      " [0. 0. 1. 0.]]\n"
     ]
    }
   ],
   "source": [
    "pos_tensor = np.zeros(list(pos.shape) + [4])\n",
    "\n",
    "test_pos_tensor = np.zeros(list(test_pos.shape) + [4])\n",
    "\n",
    "base_dict = {'A': 0, 'C': 1, 'G': 2, 'T': 3}\n",
    "\n",
    "#naive one-hot encoding\n",
    "for row in range(num_sample):\n",
    "    for col in range(seq_length):\n",
    "        pos_tensor[row,col,base_dict[pos[row,col]]] = 1\n",
    "        if(row<test_size):\n",
    "            test_pos_tensor[row,col,base_dict[test_pos[row,col]]] = 1\n",
    "\n",
    "print('Positive sample matrix shape: {}'.format(pos.shape))\n",
    "# this should be a 3D tensor with shape: (samples, steps, input_dim)\n",
    "print('Positive sample tensor shape: {}'.format(pos_tensor.shape))\n",
    "\n",
    "X = pos_tensor\n",
    "y = pos_labels\n",
    "\n",
    "X_test = test_pos_tensor\n",
    "y_test = test_pos_labels\n",
    "\n",
    "print('Training set shape: {}'.format(X.shape))\n",
    "print('Training set label shape: {}'.format(y.shape))\n",
    "print('\\nOne-hot encoding looks like:\\n {}'.format(X[0,0:10,:]))"
   ]
  },
  {
   "cell_type": "markdown",
   "metadata": {},
   "source": [
    "# Define error metrics"
   ]
  },
  {
   "cell_type": "code",
   "execution_count": 16,
   "metadata": {
    "collapsed": true
   },
   "outputs": [],
   "source": [
    "def rmse(y_true, y_pred):\n",
    "    from keras import backend\n",
    "    return backend.sqrt(backend.mean(backend.square(y_pred - y_true), axis=-1))\n",
    "\n",
    "# coefficient of determination (R^2) for regression\n",
    "def r_square(y_true, y_pred):\n",
    "    from keras import backend as K\n",
    "    SS_res =  K.sum(K.square(y_true - y_pred)) \n",
    "    SS_tot = K.sum(K.square(y_true - K.mean(y_true))) \n",
    "    return (1 - SS_res/(SS_tot + K.epsilon()))"
   ]
  },
  {
   "cell_type": "markdown",
   "metadata": {},
   "source": [
    "## Define Models"
   ]
  },
  {
   "cell_type": "code",
   "execution_count": 17,
   "metadata": {
    "colab": {
     "base_uri": "https://localhost:8080/",
     "height": 51
    },
    "colab_type": "code",
    "id": "bD1LpHUKNtVh",
    "outputId": "ec377700-10d7-44a3-c80b-45c2a7133a11"
   },
   "outputs": [
    {
     "name": "stderr",
     "output_type": "stream",
     "text": [
      "Using TensorFlow backend.\n"
     ]
    }
   ],
   "source": [
    "#here comes the deep learning part\n",
    "from keras.models import Sequential\n",
    "from keras.layers import Conv1D, Dense, Flatten, Dropout\n",
    "from keras.activations import relu\n",
    "from keras.layers.pooling import MaxPooling1D\n",
    "from keras.optimizers import SGD, Adam\n",
    "\n",
    "#sanity check for dimensions\n",
    "#print('Shape of the output of first layer: {}'.format(model.predict_on_batch(pos_tensor[0:1,:,:]).shape))"
   ]
  },
  {
   "cell_type": "code",
   "execution_count": 18,
   "metadata": {
    "colab": {
     "base_uri": "https://localhost:8080/",
     "height": 374
    },
    "colab_type": "code",
    "id": "2CkOlW_EN2gn",
    "outputId": "fbdf111b-fb35-4569-c9e3-34ead250e689"
   },
   "outputs": [
    {
     "name": "stdout",
     "output_type": "stream",
     "text": [
      "Train on 14000 samples, validate on 6000 samples\n",
      "Epoch 1/25\n",
      "14000/14000 [==============================] - 2s 145us/step - loss: 0.0243 - rmse: 0.1196 - val_loss: 0.0123 - val_rmse: 0.0809\n",
      "Epoch 2/25\n",
      "14000/14000 [==============================] - 2s 119us/step - loss: 0.0132 - rmse: 0.0859 - val_loss: 0.0077 - val_rmse: 0.0616\n",
      "Epoch 3/25\n",
      "14000/14000 [==============================] - 2s 127us/step - loss: 0.0094 - rmse: 0.0702 - val_loss: 0.0045 - val_rmse: 0.0390\n",
      "Epoch 4/25\n",
      "14000/14000 [==============================] - 2s 122us/step - loss: 0.0071 - rmse: 0.0602 - val_loss: 0.0040 - val_rmse: 0.0400\n",
      "Epoch 5/25\n",
      "14000/14000 [==============================] - 2s 126us/step - loss: 0.0059 - rmse: 0.0548 - val_loss: 0.0030 - val_rmse: 0.0299\n",
      "Epoch 6/25\n",
      "14000/14000 [==============================] - 2s 124us/step - loss: 0.0049 - rmse: 0.0500 - val_loss: 0.0024 - val_rmse: 0.0239\n",
      "Epoch 7/25\n",
      "14000/14000 [==============================] - 2s 122us/step - loss: 0.0042 - rmse: 0.0460 - val_loss: 0.0019 - val_rmse: 0.0178\n",
      "Epoch 8/25\n",
      "14000/14000 [==============================] - 2s 123us/step - loss: 0.0037 - rmse: 0.0438 - val_loss: 0.0022 - val_rmse: 0.0286\n",
      "Epoch 9/25\n",
      "14000/14000 [==============================] - 2s 123us/step - loss: 0.0032 - rmse: 0.0410 - val_loss: 0.0016 - val_rmse: 0.0195\n",
      "Epoch 10/25\n",
      "14000/14000 [==============================] - 2s 124us/step - loss: 0.0029 - rmse: 0.0386 - val_loss: 0.0014 - val_rmse: 0.0170\n",
      "Epoch 11/25\n",
      "14000/14000 [==============================] - 2s 124us/step - loss: 0.0026 - rmse: 0.0370 - val_loss: 0.0011 - val_rmse: 0.0117\n",
      "Epoch 12/25\n",
      "14000/14000 [==============================] - 2s 134us/step - loss: 0.0024 - rmse: 0.0349 - val_loss: 0.0012 - val_rmse: 0.0150\n",
      "Epoch 13/25\n",
      "14000/14000 [==============================] - 2s 124us/step - loss: 0.0022 - rmse: 0.0336 - val_loss: 0.0012 - val_rmse: 0.0171\n",
      "Epoch 14/25\n",
      "14000/14000 [==============================] - 2s 130us/step - loss: 0.0019 - rmse: 0.0320 - val_loss: 9.7127e-04 - val_rmse: 0.0111\n",
      "Epoch 15/25\n",
      "14000/14000 [==============================] - 2s 125us/step - loss: 0.0018 - rmse: 0.0308 - val_loss: 0.0010 - val_rmse: 0.0139\n",
      "Epoch 16/25\n",
      "14000/14000 [==============================] - 2s 124us/step - loss: 0.0017 - rmse: 0.0296 - val_loss: 8.5053e-04 - val_rmse: 0.0088\n",
      "Epoch 17/25\n",
      "14000/14000 [==============================] - 2s 128us/step - loss: 0.0016 - rmse: 0.0284 - val_loss: 8.9497e-04 - val_rmse: 0.0105\n",
      "Epoch 18/25\n",
      "14000/14000 [==============================] - 2s 129us/step - loss: 0.0015 - rmse: 0.0276 - val_loss: 9.7484e-04 - val_rmse: 0.0141\n",
      "Epoch 19/25\n",
      "14000/14000 [==============================] - 2s 131us/step - loss: 0.0014 - rmse: 0.0265 - val_loss: 8.5336e-04 - val_rmse: 0.0093\n",
      "Epoch 20/25\n",
      "14000/14000 [==============================] - 2s 126us/step - loss: 0.0013 - rmse: 0.0257 - val_loss: 0.0010 - val_rmse: 0.0134\n",
      "Epoch 21/25\n",
      "14000/14000 [==============================] - 2s 124us/step - loss: 0.0012 - rmse: 0.0249 - val_loss: 9.1362e-04 - val_rmse: 0.0113\n",
      "Epoch 22/25\n",
      "14000/14000 [==============================] - 2s 125us/step - loss: 0.0012 - rmse: 0.0242 - val_loss: 8.3274e-04 - val_rmse: 0.0084\n",
      "Epoch 23/25\n",
      "14000/14000 [==============================] - 2s 130us/step - loss: 0.0011 - rmse: 0.0232 - val_loss: 8.1120e-04 - val_rmse: 0.0082\n",
      "Epoch 24/25\n",
      "14000/14000 [==============================] - 2s 129us/step - loss: 0.0010 - rmse: 0.0228 - val_loss: 8.5292e-04 - val_rmse: 0.0095\n",
      "Epoch 25/25\n",
      "14000/14000 [==============================] - 2s 131us/step - loss: 9.8701e-04 - rmse: 0.0220 - val_loss: 9.2818e-04 - val_rmse: 0.0124\n"
     ]
    }
   ],
   "source": [
    "\n",
    "model = Sequential()\n",
    "#model.add(Conv1D(1, 19, padding='same', input_shape=(seq_length, 4), activation='relu'))\n",
    "model.add(Conv1D(10, 41, padding='same', input_shape=(seq_length, 4), activation='relu'))\n",
    "model.add(MaxPooling1D(pool_size=4))\n",
    "model.add(Conv1D(10, 20, padding='same', input_shape=(seq_length, 4), activation='relu'))\n",
    "#model.add(Dropout(0.75))\n",
    "model.add(MaxPooling1D(pool_size=2))\n",
    "model.add(Flatten())\n",
    "model.add(Dense(100, activation='relu'))\n",
    "model.add(Dropout(0.25))\n",
    "model.add(Dense(50, activation='relu'))\n",
    "model.add(Dropout(0.25))\n",
    "#model.add(Dense(1, activation='sigmoid'))\n",
    "model.add(Dense(1, activation='linear'))\n",
    "\n",
    "sgd = SGD(lr=0.01, decay=1e-6, momentum=0.9, nesterov=True)\n",
    "#model.compile(optimizer=sgd,loss='binary_crossentropy',metrics=['accuracy'])\n",
    "#model.compile(optimizer=Adam(lr=0.001),loss='binary_crossentropy',metrics=['accuracy'])\n",
    "\n",
    "#model.compile(loss='mean_squared_error',optimizer='adam', metrics=['mean_squared_error',r_square])\n",
    "model.compile(loss='mean_squared_error',optimizer=Adam(lr=0.0001), metrics=[rmse])\n",
    "#model.compile(loss='mean_squared_error',optimizer=sgd, metrics=[rmse])\n",
    "\n",
    "#history = model.fit(X, y, validation_split=0.2, epochs=50)  # starts training\n",
    "history = model.fit(X, y, validation_split=0.3, epochs=25)  # starts training\n",
    "\n"
   ]
  },
  {
   "cell_type": "code",
   "execution_count": 19,
   "metadata": {
    "colab": {
     "base_uri": "https://localhost:8080/",
     "height": 376
    },
    "colab_type": "code",
    "id": "-VpzZqooOAPx",
    "outputId": "30d34bfd-b21e-47c7-9c64-d1cf407b23c6"
   },
   "outputs": [
    {
     "data": {
      "image/png": "[encoded data removed]",
      "text/plain": [
       "<Figure size 432x288 with 1 Axes>"
      ]
     },
     "metadata": {},
     "output_type": "display_data"
    }
   ],
   "source": [
    "plt.figure()\n",
    "plt.plot(history.history['loss'])\n",
    "plt.plot(history.history['val_loss'])\n",
    "plt.title('model loss')\n",
    "plt.ylabel('loss')\n",
    "plt.xlabel('epoch')\n",
    "plt.legend(['train', 'validation'])\n",
    "plt.show()"
   ]
  },
  {
   "cell_type": "code",
   "execution_count": 20,
   "metadata": {},
   "outputs": [
    {
     "data": {
      "text/plain": [
       "dict_keys(['val_loss', 'val_rmse', 'loss', 'rmse'])"
      ]
     },
     "execution_count": 20,
     "metadata": {},
     "output_type": "execute_result"
    }
   ],
   "source": [
    "history.history.keys()"
   ]
  },
  {
   "cell_type": "code",
   "execution_count": 21,
   "metadata": {
    "colab": {
     "base_uri": "https://localhost:8080/",
     "height": 376
    },
    "colab_type": "code",
    "id": "VeIdsrBEO49U",
    "outputId": "04003ed6-30d1-494a-da95-3672e19fb46d"
   },
   "outputs": [
    {
     "data": {
      "image/png": "[encoded data removed]",
      "text/plain": [
       "<Figure size 432x288 with 1 Axes>"
      ]
     },
     "metadata": {},
     "output_type": "display_data"
    }
   ],
   "source": [
    "plt.plot(history.history['rmse'])\n",
    "plt.plot(history.history['val_rmse'])\n",
    "#plt.title('model R^2')\n",
    "#plt.ylabel('R^2')\n",
    "plt.xlabel('epoch')\n",
    "#plt.legend(['val_r_sq', 'r_sq'], loc='upper left')\n",
    "plt.show()\n"
   ]
  },
  {
   "cell_type": "code",
   "execution_count": 22,
   "metadata": {
    "colab": {
     "base_uri": "https://localhost:8080/",
     "height": 34
    },
    "colab_type": "code",
    "id": "vuJi3zO_OaMi",
    "outputId": "91f9168e-a49f-4c51-8a07-85d32e324e0b"
   },
   "outputs": [
    {
     "name": "stdout",
     "output_type": "stream",
     "text": [
      "Convolution parameter shape: (41, 4, 10)\n"
     ]
    }
   ],
   "source": [
    "#have a look at the filter\n",
    "convlayer = model.layers[0]\n",
    "weights = convlayer.get_weights()[0].squeeze()\n",
    "print('Convolution parameter shape: {}'.format(weights.shape))\n",
    "\n",
    "#num2seq = ['A','C','G','T']\n",
    "\n",
    "#''.join([num2seq[np.argmax(weights[i,:])] for i in range(weights.shape[0])])\n",
    "#test_pred = ''.join([num2seq[np.argmax(weights[i,:])] for i in range(weights.shape[0])])"
   ]
  },
  {
   "cell_type": "markdown",
   "metadata": {},
   "source": [
    "## Make predictions"
   ]
  },
  {
   "cell_type": "code",
   "execution_count": 23,
   "metadata": {
    "collapsed": true
   },
   "outputs": [],
   "source": [
    "model_prediction = model.predict(X_test)"
   ]
  },
  {
   "cell_type": "code",
   "execution_count": 24,
   "metadata": {},
   "outputs": [
    {
     "data": {
      "image/png": "[encoded data removed]",
      "text/plain": [
       "<Figure size 432x288 with 1 Axes>"
      ]
     },
     "metadata": {},
     "output_type": "display_data"
    }
   ],
   "source": [
    "plt.hist(pos_labels,bins=50)\n",
    "plt.hist(model_prediction,bins=50)\n",
    "plt.show()"
   ]
  },
  {
   "cell_type": "code",
   "execution_count": 25,
   "metadata": {
    "collapsed": true
   },
   "outputs": [],
   "source": [
    "pos_model_prediction = model.predict(test_pos_tensor)"
   ]
  },
  {
   "cell_type": "code",
   "execution_count": 26,
   "metadata": {},
   "outputs": [
    {
     "data": {
      "image/png": "[encoded data removed]",
      "text/plain": [
       "<Figure size 432x288 with 1 Axes>"
      ]
     },
     "metadata": {},
     "output_type": "display_data"
    }
   ],
   "source": [
    "plt.scatter(y_test,pos_model_prediction,s=3,alpha=0.5)\n",
    "plt.scatter(y_test,y_test,s=3,alpha=0.25)\n",
    "plt.show()"
   ]
  },
  {
   "cell_type": "code",
   "execution_count": null,
   "metadata": {
    "collapsed": true
   },
   "outputs": [],
   "source": []
  }
 ],
 "metadata": {
  "colab": {
   "collapsed_sections": [],
   "name": "motif_learn_convnet.ipynb",
   "provenance": [],
   "version": "0.3.2"
  },
  "kernelspec": {
   "display_name": "Python 3",
   "language": "python",
   "name": "python3"
  },
  "language_info": {
   "codemirror_mode": {
    "name": "ipython",
    "version": 3
   },
   "file_extension": ".py",
   "mimetype": "text/x-python",
   "name": "python",
   "nbconvert_exporter": "python",
   "pygments_lexer": "ipython3",
   "version": "3.6.2"
  }
 },
 "nbformat": 4,
 "nbformat_minor": 1
}
