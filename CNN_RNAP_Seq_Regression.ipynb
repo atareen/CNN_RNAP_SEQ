{
 "cells": [
  {
   "cell_type": "code",
   "execution_count": 1,
   "metadata": {
    "collapsed": true
   },
   "outputs": [],
   "source": [
    "import pandas as pd\n",
    "import numpy as np\n",
    "import numpy as np\n",
    "import pandas as pd\n",
    "import matplotlib.pyplot as plt\n",
    "\n",
    "input_data_ordered_raw =  pd.read_csv('rnap_scanned_over_ecoli_genome200k.csv')\n",
    "sequences = input_data_ordered_raw['seq'].tolist()"
   ]
  },
  {
   "cell_type": "code",
   "execution_count": 2,
   "metadata": {},
   "outputs": [
    {
     "data": {
      "text/html": [
       "<div>\n",
       "<style scoped>\n",
       "    .dataframe tbody tr th:only-of-type {\n",
       "        vertical-align: middle;\n",
       "    }\n",
       "\n",
       "    .dataframe tbody tr th {\n",
       "        vertical-align: top;\n",
       "    }\n",
       "\n",
       "    .dataframe thead th {\n",
       "        text-align: right;\n",
       "    }\n",
       "</style>\n",
       "<table border=\"1\" class=\"dataframe\">\n",
       "  <thead>\n",
       "    <tr style=\"text-align: right;\">\n",
       "      <th></th>\n",
       "      <th>Unnamed: 0</th>\n",
       "      <th>val</th>\n",
       "      <th>seq</th>\n",
       "      <th>left</th>\n",
       "      <th>right</th>\n",
       "      <th>ori</th>\n",
       "      <th>contig</th>\n",
       "    </tr>\n",
       "  </thead>\n",
       "  <tbody>\n",
       "    <tr>\n",
       "      <th>0</th>\n",
       "      <td>0</td>\n",
       "      <td>23.9083</td>\n",
       "      <td>CTATTACCTGCCCACGGTAAAGGCGTTCTGGTTGCCCTACG</td>\n",
       "      <td>3695629</td>\n",
       "      <td>3695669</td>\n",
       "      <td>+</td>\n",
       "      <td>MG1655.fa</td>\n",
       "    </tr>\n",
       "    <tr>\n",
       "      <th>1</th>\n",
       "      <td>1</td>\n",
       "      <td>23.5831</td>\n",
       "      <td>TTTCTGCCCGCGGCCTGGCAATTGATACCGCCTTGCCATCG</td>\n",
       "      <td>1109059</td>\n",
       "      <td>1109099</td>\n",
       "      <td>+</td>\n",
       "      <td>MG1655.fa</td>\n",
       "    </tr>\n",
       "    <tr>\n",
       "      <th>2</th>\n",
       "      <td>2</td>\n",
       "      <td>23.4205</td>\n",
       "      <td>TTTTTACACGCCTTGCGTAAAGCGGCACGGCGCGGGGTGCG</td>\n",
       "      <td>822216</td>\n",
       "      <td>822256</td>\n",
       "      <td>-</td>\n",
       "      <td>MG1655.fa</td>\n",
       "    </tr>\n",
       "    <tr>\n",
       "      <th>3</th>\n",
       "      <td>3</td>\n",
       "      <td>23.4098</td>\n",
       "      <td>TTGCTGCCTGGCCGATGGTCTATGCCGCTGCGTTCTCCGGC</td>\n",
       "      <td>772478</td>\n",
       "      <td>772518</td>\n",
       "      <td>+</td>\n",
       "      <td>MG1655.fa</td>\n",
       "    </tr>\n",
       "    <tr>\n",
       "      <th>4</th>\n",
       "      <td>4</td>\n",
       "      <td>23.3640</td>\n",
       "      <td>CTTTTACACGCAAAATGCCGTCACGTTCACGGGTCTGGGCT</td>\n",
       "      <td>2748531</td>\n",
       "      <td>2748571</td>\n",
       "      <td>+</td>\n",
       "      <td>MG1655.fa</td>\n",
       "    </tr>\n",
       "  </tbody>\n",
       "</table>\n",
       "</div>"
      ],
      "text/plain": [
       "   Unnamed: 0      val                                        seq     left  \\\n",
       "0           0  23.9083  CTATTACCTGCCCACGGTAAAGGCGTTCTGGTTGCCCTACG  3695629   \n",
       "1           1  23.5831  TTTCTGCCCGCGGCCTGGCAATTGATACCGCCTTGCCATCG  1109059   \n",
       "2           2  23.4205  TTTTTACACGCCTTGCGTAAAGCGGCACGGCGCGGGGTGCG   822216   \n",
       "3           3  23.4098  TTGCTGCCTGGCCGATGGTCTATGCCGCTGCGTTCTCCGGC   772478   \n",
       "4           4  23.3640  CTTTTACACGCAAAATGCCGTCACGTTCACGGGTCTGGGCT  2748531   \n",
       "\n",
       "     right ori     contig  \n",
       "0  3695669   +  MG1655.fa  \n",
       "1  1109099   +  MG1655.fa  \n",
       "2   822256   -  MG1655.fa  \n",
       "3   772518   +  MG1655.fa  \n",
       "4  2748571   +  MG1655.fa  "
      ]
     },
     "execution_count": 2,
     "metadata": {},
     "output_type": "execute_result"
    }
   ],
   "source": [
    "input_data_ordered_raw.head()"
   ]
  },
  {
   "cell_type": "code",
   "execution_count": 3,
   "metadata": {},
   "outputs": [
    {
     "data": {
      "image/png": "[encoded data removed]",
      "text/plain": [
       "<Figure size 432x288 with 1 Axes>"
      ]
     },
     "metadata": {},
     "output_type": "display_data"
    }
   ],
   "source": [
    "unbalanced_pos_labels = np.array(input_data_ordered_raw['val'][0:100000])\n",
    "unbalanced_pos_labels = (unbalanced_pos_labels-min(unbalanced_pos_labels))/(max(unbalanced_pos_labels)-min(unbalanced_pos_labels))\n",
    "\n",
    "plt.hist(unbalanced_pos_labels,bins=100,label='Raw Training Data')\n",
    "plt.legend()\n",
    "plt.ylabel('Counts',fontsize=12)\n",
    "plt.xlabel('Values of Sequences (from MPAthic)',fontsize=12)\n",
    "#plt.title('Convolutional Neural Network Performance')\n",
    "plt.tight_layout()\n",
    "#\n",
    "#plt.savefig('Write_up/raw_data_histogram.png')\n",
    "plt.show()\n",
    "\n"
   ]
  },
  {
   "cell_type": "markdown",
   "metadata": {},
   "source": [
    "## Randomly sample vals and seqs to prevent data imbalance"
   ]
  },
  {
   "cell_type": "code",
   "execution_count": 4,
   "metadata": {},
   "outputs": [
    {
     "data": {
      "text/html": [
       "<div>\n",
       "<style scoped>\n",
       "    .dataframe tbody tr th:only-of-type {\n",
       "        vertical-align: middle;\n",
       "    }\n",
       "\n",
       "    .dataframe tbody tr th {\n",
       "        vertical-align: top;\n",
       "    }\n",
       "\n",
       "    .dataframe thead th {\n",
       "        text-align: right;\n",
       "    }\n",
       "</style>\n",
       "<table border=\"1\" class=\"dataframe\">\n",
       "  <thead>\n",
       "    <tr style=\"text-align: right;\">\n",
       "      <th></th>\n",
       "      <th>val</th>\n",
       "      <th>seq</th>\n",
       "    </tr>\n",
       "  </thead>\n",
       "  <tbody>\n",
       "    <tr>\n",
       "      <th>0</th>\n",
       "      <td>23.9083</td>\n",
       "      <td>CTATTACCTGCCCACGGTAAAGGCGTTCTGGTTGCCCTACG</td>\n",
       "    </tr>\n",
       "    <tr>\n",
       "      <th>1</th>\n",
       "      <td>23.5831</td>\n",
       "      <td>TTTCTGCCCGCGGCCTGGCAATTGATACCGCCTTGCCATCG</td>\n",
       "    </tr>\n",
       "    <tr>\n",
       "      <th>2</th>\n",
       "      <td>23.4205</td>\n",
       "      <td>TTTTTACACGCCTTGCGTAAAGCGGCACGGCGCGGGGTGCG</td>\n",
       "    </tr>\n",
       "    <tr>\n",
       "      <th>3</th>\n",
       "      <td>23.4098</td>\n",
       "      <td>TTGCTGCCTGGCCGATGGTCTATGCCGCTGCGTTCTCCGGC</td>\n",
       "    </tr>\n",
       "    <tr>\n",
       "      <th>4</th>\n",
       "      <td>23.3640</td>\n",
       "      <td>CTTTTACACGCAAAATGCCGTCACGTTCACGGGTCTGGGCT</td>\n",
       "    </tr>\n",
       "  </tbody>\n",
       "</table>\n",
       "</div>"
      ],
      "text/plain": [
       "       val                                        seq\n",
       "0  23.9083  CTATTACCTGCCCACGGTAAAGGCGTTCTGGTTGCCCTACG\n",
       "1  23.5831  TTTCTGCCCGCGGCCTGGCAATTGATACCGCCTTGCCATCG\n",
       "2  23.4205  TTTTTACACGCCTTGCGTAAAGCGGCACGGCGCGGGGTGCG\n",
       "3  23.4098  TTGCTGCCTGGCCGATGGTCTATGCCGCTGCGTTCTCCGGC\n",
       "4  23.3640  CTTTTACACGCAAAATGCCGTCACGTTCACGGGTCTGGGCT"
      ]
     },
     "execution_count": 4,
     "metadata": {},
     "output_type": "execute_result"
    }
   ],
   "source": [
    "input_data_ordered_raw[['val','seq']].head()"
   ]
  },
  {
   "cell_type": "code",
   "execution_count": 5,
   "metadata": {
    "collapsed": true
   },
   "outputs": [],
   "source": [
    "# normally sample high value seqs more\n",
    "# https://stackoverflow.com/questions/33160367/numpy-how-to-generate-a-normally-distributed-set-of-integers\n",
    "bi = np.random.binomial(n=10000, p=0.01, size=1000)\n"
   ]
  },
  {
   "cell_type": "code",
   "execution_count": 6,
   "metadata": {},
   "outputs": [
    {
     "name": "stdout",
     "output_type": "stream",
     "text": [
      "            val                                        seq\n",
      "99965   19.7456  CATCAACACGGCAATGACTTCACGTTTACTGCTGGATCTGA\n",
      "100009  19.7453  CTCGCCCATTCCGACGATCTGGTGAACAGGCAGAGTGCCGG\n",
      "100055  19.7450  TTTCGGCATGGCTTCGGTGCGTTTTATTTGCGGCACTCAGG\n",
      "99880   19.7464  GATCTGGCTAACCGCTATGTCGATGAACAGGCTCCGTGGGT\n",
      "100011  19.7453  GCTGAAAACGCTCAATGAGAAGAGTAACGCGCTGGTATTTG\n",
      "            val                                        seq\n",
      "100092  19.7447  TTATTCCCAGGCTCTGTGTGACTACGCCGGAGGTCTCACCG\n",
      "99640   19.7480  CAGGAGAATGCCAGCGCAATCATTACCCGCTGGCGCATACC\n",
      "100446  19.7421  GTTCCGCACACTATCGGCAACCCGTTATACCACTGGACGCA\n",
      "100202  19.7440  TGGTTCCCGACGAAAGAACGTGGTACTGCCTCCGCCATCTT\n",
      "99908   19.7461  TTTATGCCGAACGCGCCCGTCACGGCGTGGCGCTGATTGTC\n"
     ]
    }
   ],
   "source": [
    "num_sample = 50000   # number of training samples\n",
    "test_size = 10000    # number of test samples\n",
    "\n",
    "binomial_probability_parameter = 0.5\n",
    "\n",
    "#index_random_sample_training_data = np.random.randint(100000,size=(9000))\n",
    "index_random_sample_training_data = np.random.binomial(n=200000, p=binomial_probability_parameter, size=num_sample)\n",
    "\n",
    "#index_random_sample_training_data = set(index_random_sample_training_data)\n",
    "#index_random_sample_training_data = list(index_random_sample_training_data)\n",
    "\n",
    "input_data_raw = input_data_ordered_raw[['val','seq']].loc[index_random_sample_training_data]\n",
    "print(input_data_raw.head())\n",
    "\n",
    "#index_random_sample_test_data = np.random.randint(100000,size=(1000))\n",
    "index_random_sample_test_data = np.random.binomial(n=200000, p=binomial_probability_parameter, size=test_size)\n",
    "\n",
    "#index_random_sample_test_data = set(index_random_sample_test_data)\n",
    "#index_random_sample_test_data = list(index_random_sample_test_data)\n",
    "\n",
    "input_data_raw_test = input_data_ordered_raw[['val','seq']].loc[index_random_sample_test_data]\n",
    "\n",
    "print(input_data_raw_test.head())"
   ]
  },
  {
   "cell_type": "code",
   "execution_count": 7,
   "metadata": {
    "collapsed": true
   },
   "outputs": [],
   "source": [
    "#from random import shuffle\n",
    "#shuffle(index_random_sample_training_data)\n",
    "#shuffle(index_random_sample_test_data)"
   ]
  },
  {
   "cell_type": "code",
   "execution_count": 8,
   "metadata": {
    "collapsed": true
   },
   "outputs": [],
   "source": [
    "#num_sample = len(set(index_random_sample_training_data))\n",
    "#test_size = len(set(index_random_sample_test_data))"
   ]
  },
  {
   "cell_type": "markdown",
   "metadata": {},
   "source": [
    "## Ensure no test data got into training dataset"
   ]
  },
  {
   "cell_type": "code",
   "execution_count": 9,
   "metadata": {
    "collapsed": true
   },
   "outputs": [],
   "source": [
    "separate_test_from_train = input_data_raw_test[['val','seq']].merge(input_data_raw[['val','seq']], how = \"left\")\n",
    "separate_test_from_train = separate_test_from_train.drop_duplicates()\n",
    "\n",
    "input_data_raw_test = separate_test_from_train"
   ]
  },
  {
   "cell_type": "code",
   "execution_count": 10,
   "metadata": {},
   "outputs": [
    {
     "name": "stdout",
     "output_type": "stream",
     "text": [
      "1154\n"
     ]
    }
   ],
   "source": [
    "test_size = len(input_data_raw_test)\n",
    "print(test_size)"
   ]
  },
  {
   "cell_type": "markdown",
   "metadata": {},
   "source": [
    "## Make positive and negative Labels"
   ]
  },
  {
   "cell_type": "code",
   "execution_count": 11,
   "metadata": {},
   "outputs": [
    {
     "data": {
      "image/png": "[encoded data removed]",
      "text/plain": [
       "<Figure size 432x288 with 1 Axes>"
      ]
     },
     "metadata": {},
     "output_type": "display_data"
    }
   ],
   "source": [
    "# positive and negative labels\n",
    "# normalize the following between 0 and 1\n",
    "pos_labels = np.array(input_data_raw['val'][0:num_sample])\n",
    "pos_labels = (pos_labels-min(pos_labels))/(max(pos_labels)-min(pos_labels))\n",
    "\n",
    "# test positive and negative labels\n",
    "test_pos_labels = np.array(input_data_raw_test['val'][0:test_size])\n",
    "test_pos_labels = (test_pos_labels-min(test_pos_labels))/(max(test_pos_labels)-min(test_pos_labels))\n",
    "\n",
    "plt.hist(pos_labels,bins=50,label='Balanced Training Data')\n",
    "plt.legend()\n",
    "\n",
    "plt.ylabel('Counts',fontsize=12)\n",
    "plt.xlabel('Values of Sequences (from MPAthic)',fontsize=12)\n",
    "plt.tight_layout()\n",
    "#plt.savefig('Write_up/balanced_training_histogram.png')\n",
    "plt.show()\n",
    "# assigned random values to negative examples"
   ]
  },
  {
   "cell_type": "code",
   "execution_count": 12,
   "metadata": {
    "collapsed": true
   },
   "outputs": [],
   "source": [
    "sequences = np.array(sequences)\n",
    "\n",
    "pos = []\n",
    "pos = list(sequences[index_random_sample_training_data])\n",
    "\n",
    "test_pos = []\n",
    "#test_pos = list(sequences[index_random_sample_test_data])\n",
    "test_pos = list(input_data_raw_test['seq'])\n",
    "\n",
    "pos = np.array(pos)\n",
    "test_pos = np.array(test_pos)\n",
    "\n",
    "seq_length = len(pos[0])"
   ]
  },
  {
   "cell_type": "markdown",
   "metadata": {},
   "source": [
    "## One-hot encoding"
   ]
  },
  {
   "cell_type": "code",
   "execution_count": 13,
   "metadata": {
    "collapsed": true
   },
   "outputs": [],
   "source": [
    "temp_pos = []\n",
    "temp_pos_test = []\n",
    "for reshape_index in range(len(pos)):\n",
    "    temp_pos.append(list(pos[reshape_index]))\n",
    "\n",
    "for reshape_test_index in range(len(test_pos)):\n",
    "    temp_pos_test.append(list(test_pos[reshape_test_index]))\n",
    "    \n",
    "pos = temp_pos\n",
    "test_pos = temp_pos_test"
   ]
  },
  {
   "cell_type": "code",
   "execution_count": 14,
   "metadata": {
    "collapsed": true
   },
   "outputs": [],
   "source": [
    "pos = np.array(pos)\n",
    "test_pos = np.array(test_pos)"
   ]
  },
  {
   "cell_type": "code",
   "execution_count": 15,
   "metadata": {
    "colab": {
     "base_uri": "https://localhost:8080/",
     "height": 289
    },
    "colab_type": "code",
    "id": "riQRzV6CNp33",
    "outputId": "a27104ff-7917-4987-dccc-7780792beac2"
   },
   "outputs": [
    {
     "name": "stdout",
     "output_type": "stream",
     "text": [
      "Training set shape: (50000, 41, 4)\n",
      "Training set label shape: (50000,)\n",
      "Test set shape: (1154, 41, 4)\n",
      "Test set label shape: (1154,)\n"
     ]
    }
   ],
   "source": [
    "pos_tensor = np.zeros(list(pos.shape) + [4])\n",
    "\n",
    "test_pos_tensor = np.zeros(list(test_pos.shape) + [4])\n",
    "\n",
    "base_dict = {'A': 0, 'C': 1, 'G': 2, 'T': 3}\n",
    "\n",
    "#naive one-hot encoding\n",
    "for row in range(num_sample):\n",
    "    for col in range(seq_length):\n",
    "        pos_tensor[row,col,base_dict[pos[row,col]]] = 1\n",
    "        if(row<test_size):\n",
    "            test_pos_tensor[row,col,base_dict[test_pos[row,col]]] = 1\n",
    "\n",
    "#print('Positive sample matrix shape: {}'.format(pos.shape))\n",
    "# this should be a 3D tensor with shape: (samples, steps, input_dim)\n",
    "#print('Positive sample tensor shape: {}'.format(pos_tensor.shape))\n",
    "\n",
    "X = pos_tensor\n",
    "y = pos_labels\n",
    "\n",
    "X_test = test_pos_tensor\n",
    "y_test = test_pos_labels\n",
    "\n",
    "print('Training set shape: {}'.format(X.shape))\n",
    "print('Training set label shape: {}'.format(y.shape))\n",
    "\n",
    "print('Test set shape: {}'.format(X_test.shape))\n",
    "print('Test set label shape: {}'.format(y_test.shape))\n",
    "#print('\\nOne-hot encoding looks like:\\n {}'.format(X[0,0:10,:]))"
   ]
  },
  {
   "cell_type": "markdown",
   "metadata": {},
   "source": [
    "# Define error metrics"
   ]
  },
  {
   "cell_type": "code",
   "execution_count": 16,
   "metadata": {
    "collapsed": true
   },
   "outputs": [],
   "source": [
    "def rmse(y_true, y_pred):\n",
    "    from keras import backend\n",
    "    return backend.sqrt(backend.mean(backend.square(y_pred - y_true), axis=-1))\n",
    "\n",
    "# coefficient of determination (R^2) for regression\n",
    "def r_square(y_true, y_pred):\n",
    "    from keras import backend as K\n",
    "    SS_res =  K.sum(K.square(y_true - y_pred)) \n",
    "    SS_tot = K.sum(K.square(y_true - K.mean(y_true))) \n",
    "    return (1 - SS_res/(SS_tot + K.epsilon()))"
   ]
  },
  {
   "cell_type": "markdown",
   "metadata": {},
   "source": [
    "## Define Models"
   ]
  },
  {
   "cell_type": "code",
   "execution_count": 17,
   "metadata": {
    "colab": {
     "base_uri": "https://localhost:8080/",
     "height": 51
    },
    "colab_type": "code",
    "id": "bD1LpHUKNtVh",
    "outputId": "ec377700-10d7-44a3-c80b-45c2a7133a11"
   },
   "outputs": [
    {
     "name": "stderr",
     "output_type": "stream",
     "text": [
      "Using TensorFlow backend.\n"
     ]
    }
   ],
   "source": [
    "#here comes the deep learning part\n",
    "from keras.models import Sequential\n",
    "from keras.layers import Conv1D, Dense, Flatten, Dropout\n",
    "from keras.activations import relu\n",
    "from keras.layers.pooling import MaxPooling1D\n",
    "from keras.optimizers import SGD, Adam\n",
    "\n",
    "#sanity check for dimensions\n",
    "#print('Shape of the output of first layer: {}'.format(model.predict_on_batch(pos_tensor[0:1,:,:]).shape))"
   ]
  },
  {
   "cell_type": "code",
   "execution_count": 18,
   "metadata": {
    "colab": {
     "base_uri": "https://localhost:8080/",
     "height": 374
    },
    "colab_type": "code",
    "id": "2CkOlW_EN2gn",
    "outputId": "fbdf111b-fb35-4569-c9e3-34ead250e689",
    "scrolled": true
   },
   "outputs": [
    {
     "name": "stdout",
     "output_type": "stream",
     "text": [
      "Train on 40000 samples, validate on 10000 samples\n",
      "Epoch 1/20\n",
      "40000/40000 [==============================] - 5s 135us/step - loss: 0.0243 - rmse: 0.1165 - r_square: -0.7109 - val_loss: 0.0105 - val_rmse: 0.0749 - val_r_square: 0.2850\n",
      "Epoch 2/20\n",
      "40000/40000 [==============================] - 6s 155us/step - loss: 0.0126 - rmse: 0.0830 - r_square: 0.1193 - val_loss: 0.0065 - val_rmse: 0.0509 - val_r_square: 0.5670\n",
      "Epoch 3/20\n",
      "40000/40000 [==============================] - 5s 130us/step - loss: 0.0087 - rmse: 0.0669 - r_square: 0.4004 - val_loss: 0.0040 - val_rmse: 0.0337 - val_r_square: 0.7415\n",
      "Epoch 4/20\n",
      "40000/40000 [==============================] - 5s 127us/step - loss: 0.0064 - rmse: 0.0569 - r_square: 0.5560 - val_loss: 0.0027 - val_rmse: 0.0245 - val_r_square: 0.8293\n",
      "Epoch 5/20\n",
      "40000/40000 [==============================] - 5s 128us/step - loss: 0.0049 - rmse: 0.0497 - r_square: 0.6615 - val_loss: 0.0020 - val_rmse: 0.0204 - val_r_square: 0.8718\n",
      "Epoch 6/20\n",
      "40000/40000 [==============================] - 5s 129us/step - loss: 0.0040 - rmse: 0.0443 - r_square: 0.7232 - val_loss: 0.0017 - val_rmse: 0.0193 - val_r_square: 0.8946\n",
      "Epoch 7/20\n",
      "40000/40000 [==============================] - 5s 128us/step - loss: 0.0033 - rmse: 0.0402 - r_square: 0.7743 - val_loss: 0.0018 - val_rmse: 0.0277 - val_r_square: 0.8802\n",
      "Epoch 8/20\n",
      "40000/40000 [==============================] - 5s 128us/step - loss: 0.0028 - rmse: 0.0369 - r_square: 0.8079 - val_loss: 0.0012 - val_rmse: 0.0162 - val_r_square: 0.9246\n",
      "Epoch 9/20\n",
      "40000/40000 [==============================] - 5s 128us/step - loss: 0.0024 - rmse: 0.0340 - r_square: 0.8347 - val_loss: 0.0011 - val_rmse: 0.0144 - val_r_square: 0.9343\n",
      "Epoch 10/20\n",
      "40000/40000 [==============================] - 5s 129us/step - loss: 0.0021 - rmse: 0.0317 - r_square: 0.8557 - val_loss: 0.0011 - val_rmse: 0.0177 - val_r_square: 0.9296\n",
      "Epoch 11/20\n",
      "40000/40000 [==============================] - 5s 127us/step - loss: 0.0018 - rmse: 0.0293 - r_square: 0.8754 - val_loss: 9.3734e-04 - val_rmse: 0.0140 - val_r_square: 0.9430\n",
      "Epoch 12/20\n",
      "40000/40000 [==============================] - 5s 125us/step - loss: 0.0016 - rmse: 0.0279 - r_square: 0.8870 - val_loss: 9.2134e-04 - val_rmse: 0.0137 - val_r_square: 0.9441\n",
      "Epoch 13/20\n",
      "40000/40000 [==============================] - 5s 124us/step - loss: 0.0014 - rmse: 0.0260 - r_square: 0.9012 - val_loss: 8.3371e-04 - val_rmse: 0.0127 - val_r_square: 0.9497\n",
      "Epoch 14/20\n",
      "40000/40000 [==============================] - 5s 128us/step - loss: 0.0013 - rmse: 0.0245 - r_square: 0.9118 - val_loss: 8.3038e-04 - val_rmse: 0.0134 - val_r_square: 0.9498\n",
      "Epoch 15/20\n",
      "40000/40000 [==============================] - 5s 126us/step - loss: 0.0011 - rmse: 0.0232 - r_square: 0.9204 - val_loss: 8.4500e-04 - val_rmse: 0.0148 - val_r_square: 0.9483\n",
      "Epoch 16/20\n",
      "40000/40000 [==============================] - 5s 126us/step - loss: 0.0010 - rmse: 0.0221 - r_square: 0.9282 - val_loss: 8.8245e-04 - val_rmse: 0.0159 - val_r_square: 0.9454\n",
      "Epoch 17/20\n",
      "40000/40000 [==============================] - 5s 124us/step - loss: 9.4183e-04 - rmse: 0.0210 - r_square: 0.9344 - val_loss: 7.0039e-04 - val_rmse: 0.0116 - val_r_square: 0.9583\n",
      "Epoch 18/20\n",
      "40000/40000 [==============================] - 6s 143us/step - loss: 8.5612e-04 - rmse: 0.0199 - r_square: 0.9405 - val_loss: 6.7924e-04 - val_rmse: 0.0108 - val_r_square: 0.9599\n",
      "Epoch 19/20\n",
      "40000/40000 [==============================] - 6s 153us/step - loss: 8.1005e-04 - rmse: 0.0194 - r_square: 0.9437 - val_loss: 6.9659e-04 - val_rmse: 0.0116 - val_r_square: 0.9585\n",
      "Epoch 20/20\n",
      "40000/40000 [==============================] - 5s 126us/step - loss: 7.5659e-04 - rmse: 0.0186 - r_square: 0.9475 - val_loss: 6.6664e-04 - val_rmse: 0.0112 - val_r_square: 0.9605\n"
     ]
    }
   ],
   "source": [
    "\n",
    "model = Sequential()\n",
    "#model.add(Conv1D(1, 19, padding='same', input_shape=(seq_length, 4), activation='relu'))\n",
    "model.add(Conv1D(30, 41, padding='same', input_shape=(seq_length, 4), activation='relu'))\n",
    "model.add(MaxPooling1D(pool_size=5))\n",
    "model.add(Conv1D(10, 20, padding='same', input_shape=(seq_length, 4), activation='relu'))\n",
    "model.add(MaxPooling1D(pool_size=2))\n",
    "model.add(Flatten())\n",
    "#model.add(Dense(100, activation='relu'))\n",
    "#model.add(Dropout(0.25))\n",
    "model.add(Dense(20, activation='relu'))\n",
    "model.add(Dropout(0.1))\n",
    "model.add(Dense(1, activation='linear'))\n",
    "\n",
    "sgd = SGD(lr=0.0001, decay=1e-6, momentum=0.9, nesterov=True)\n",
    "\n",
    "#model.compile(loss='mean_squared_error',optimizer='adam', metrics=['mean_squared_error',r_square])\n",
    "#model.compile(loss='mean_squared_error',optimizer=sgd, metrics=[rmse,r_square])\n",
    "model.compile(loss='mean_squared_error',optimizer=Adam(lr=0.0001), metrics=[rmse,r_square])\n",
    "\n",
    "#history = model.fit(X, y, validation_split=0.2, epochs=50)  # starts training\n",
    "history = model.fit(X, y, validation_split=0.2, epochs=20)  # starts training\n",
    "\n"
   ]
  },
  {
   "cell_type": "code",
   "execution_count": 19,
   "metadata": {
    "colab": {
     "base_uri": "https://localhost:8080/",
     "height": 376
    },
    "colab_type": "code",
    "id": "-VpzZqooOAPx",
    "outputId": "30d34bfd-b21e-47c7-9c64-d1cf407b23c6"
   },
   "outputs": [
    {
     "data": {
      "image/png": "[encoded data removed]",
      "text/plain": [
       "<Figure size 432x288 with 1 Axes>"
      ]
     },
     "metadata": {},
     "output_type": "display_data"
    }
   ],
   "source": [
    "plt.figure()\n",
    "plt.rcParams[\"figure.figsize\"] = (5,5)\n",
    "plt.plot(history.history['loss'],color='blue')\n",
    "plt.plot(history.history['val_loss'],color='orange')\n",
    "plt.title('Model loss',fontsize=12)\n",
    "plt.ylabel('loss',fontsize=12)\n",
    "plt.xlabel('epoch',fontsize=12)\n",
    "plt.legend(['train', 'validation'])\n",
    "#plt.savefig('Write_up/model_loss.png')\n",
    "plt.show()"
   ]
  },
  {
   "cell_type": "code",
   "execution_count": 20,
   "metadata": {},
   "outputs": [
    {
     "data": {
      "text/plain": [
       "dict_keys(['val_loss', 'val_rmse', 'val_r_square', 'loss', 'rmse', 'r_square'])"
      ]
     },
     "execution_count": 20,
     "metadata": {},
     "output_type": "execute_result"
    }
   ],
   "source": [
    "history.history.keys()"
   ]
  },
  {
   "cell_type": "code",
   "execution_count": 21,
   "metadata": {
    "colab": {
     "base_uri": "https://localhost:8080/",
     "height": 376
    },
    "colab_type": "code",
    "id": "VeIdsrBEO49U",
    "outputId": "04003ed6-30d1-494a-da95-3672e19fb46d"
   },
   "outputs": [
    {
     "data": {
      "image/png": "[encoded data removed]",
      "text/plain": [
       "<Figure size 360x360 with 1 Axes>"
      ]
     },
     "metadata": {},
     "output_type": "display_data"
    }
   ],
   "source": [
    "plt.rcParams[\"figure.figsize\"] = (5,5)\n",
    "plt.plot(history.history['val_rmse'],color='orange')\n",
    "plt.plot(history.history['rmse'],color='b')\n",
    "plt.title('Model RMSE',fontsize=12)\n",
    "plt.ylabel('RMSE',fontsize=12)\n",
    "plt.xlabel('epoch',fontsize=12)\n",
    "plt.legend(['train', 'validation'])\n",
    "plt.savefig('Write_up/RMSE_loss.png')\n",
    "plt.legend(['rmse', 'val_rmse'], loc='upper right')\n",
    "#plt.savefig('Write_up/rmse.png')\n",
    "plt.show()\n"
   ]
  },
  {
   "cell_type": "code",
   "execution_count": 22,
   "metadata": {},
   "outputs": [
    {
     "data": {
      "image/png": "[encoded data removed]",
      "text/plain": [
       "<Figure size 360x360 with 1 Axes>"
      ]
     },
     "metadata": {},
     "output_type": "display_data"
    }
   ],
   "source": [
    "#plt.rcParams[\"figure.figsize\"] = (5,5)\n",
    "plt.plot(history.history['val_r_square'],color='b')\n",
    "plt.plot(history.history['r_square'],color='orange')\n",
    "plt.title('model R^2',fontsize=12)\n",
    "plt.ylabel('R^2',fontsize=12)\n",
    "plt.xlabel('epoch',fontsize=12)\n",
    "plt.legend(['r_sq', 'val_r_sq'], loc='lower right')\n",
    "plt.tight_layout()\n",
    "#plt.savefig('Write_up/Rsquared.png')\n",
    "plt.show()\n"
   ]
  },
  {
   "cell_type": "code",
   "execution_count": 23,
   "metadata": {
    "colab": {
     "base_uri": "https://localhost:8080/",
     "height": 34
    },
    "colab_type": "code",
    "id": "vuJi3zO_OaMi",
    "outputId": "91f9168e-a49f-4c51-8a07-85d32e324e0b"
   },
   "outputs": [
    {
     "name": "stdout",
     "output_type": "stream",
     "text": [
      "Convolution parameter shape: (41, 4, 30)\n"
     ]
    }
   ],
   "source": [
    "#have a look at the filter\n",
    "convlayer = model.layers[0]\n",
    "weights = convlayer.get_weights()[0].squeeze()\n",
    "print('Convolution parameter shape: {}'.format(weights.shape))\n",
    "\n",
    "num2seq = ['A','C','G','T']\n",
    "\n",
    "#''.join([num2seq[np.argmax(weights[i,:])] for i in range(weights.shape[0])])\n",
    "#test_pred = ''.join([num2seq[np.argmax(weights[i,:])] for i in range(weights.shape[0])])"
   ]
  },
  {
   "cell_type": "markdown",
   "metadata": {},
   "source": [
    "## Make predictions"
   ]
  },
  {
   "cell_type": "code",
   "execution_count": 24,
   "metadata": {
    "collapsed": true
   },
   "outputs": [],
   "source": [
    "model_prediction = model.predict(X_test)"
   ]
  },
  {
   "cell_type": "code",
   "execution_count": 25,
   "metadata": {},
   "outputs": [
    {
     "data": {
      "image/png": "[encoded data removed]",
      "text/plain": [
       "<Figure size 360x360 with 1 Axes>"
      ]
     },
     "metadata": {},
     "output_type": "display_data"
    }
   ],
   "source": [
    "plt.hist(test_pos_labels,bins=50,alpha=0.75,label='Test labels')\n",
    "plt.hist(model_prediction,bins=50,alpha=0.5,label='Model Predictions')\n",
    "plt.legend()\n",
    "plt.show()"
   ]
  },
  {
   "cell_type": "code",
   "execution_count": 26,
   "metadata": {
    "collapsed": true
   },
   "outputs": [],
   "source": [
    "pos_model_prediction = model.predict(test_pos_tensor)"
   ]
  },
  {
   "cell_type": "code",
   "execution_count": 27,
   "metadata": {},
   "outputs": [
    {
     "data": {
      "image/png": "[encoded data removed]",
      "text/plain": [
       "<Figure size 432x432 with 1 Axes>"
      ]
     },
     "metadata": {},
     "output_type": "display_data"
    }
   ],
   "source": [
    "from pylab import rcParams\n",
    "rcParams['xtick.labelsize'] = 10 \n",
    "rcParams['ytick.labelsize'] = 10 \n",
    "rcParams['figure.figsize'] = 6, 6\n",
    "\n",
    "plt.scatter(y_test,pos_model_prediction,s=20,alpha=0.5,color='red')\n",
    "plt.plot([0,1],alpha=0.5,linewidth=5,color='black')\n",
    "plt.ylabel('Neural network predictions of values',fontsize=12)\n",
    "plt.xlabel('Values from test set (from MPAthic)',fontsize=12)\n",
    "plt.title('Convolutional Neural Network Performance')\n",
    "plt.show()\n"
   ]
  },
  {
   "cell_type": "code",
   "execution_count": 28,
   "metadata": {
    "collapsed": true
   },
   "outputs": [],
   "source": [
    "import tensorflow.keras.backend as K\n",
    "import tensorflow as tf\n",
    "\n",
    "K.set_session(tf.Session(graph=model.output.graph)) \n",
    "init = tf.global_variables_initializer() \n",
    "K.get_session().run(init)\n",
    "\n",
    "def compute_salient_bases(model, x):\n",
    "  input_tensors = [model.input]\n",
    "  gradients = model.optimizer.get_gradients(model.output[0][0], model.input)\n",
    "  \n",
    "  compute_gradients = K.function(inputs = input_tensors, outputs = gradients)\n",
    "  x_value = np.expand_dims(x, axis=0)\n",
    "\n",
    "  gradients = compute_gradients([x_value])[0][0]\n",
    "  sal = np.clip(np.sum(np.multiply(gradients,x), axis=1),a_min=0, a_max=None)\n",
    "  return sal\n"
   ]
  },
  {
   "cell_type": "code",
   "execution_count": 29,
   "metadata": {},
   "outputs": [
    {
     "data": {
      "image/png": "[encoded data removed]",
      "text/plain": [
       "<Figure size 1152x360 with 1 Axes>"
      ]
     },
     "metadata": {},
     "output_type": "display_data"
    }
   ],
   "source": [
    "sequence_index = 610\n",
    "sal = compute_salient_bases(model, X_test[sequence_index])\n",
    "\n",
    "plt.figure(figsize=[16,5])\n",
    "barlist = plt.bar(np.arange(len(sal)), sal)\n",
    "#[barlist[i].set_color('C1') for i in range(5,17)]\n",
    "plt.xlabel('Bases')\n",
    "plt.ylabel('Magnitude of saliency values')\n",
    "plt.xticks(np.arange(len(sal)), list(sequences[sequence_index]));\n",
    "plt.title('Saliency map');\n",
    "plt.show()"
   ]
  },
  {
   "cell_type": "code",
   "execution_count": 30,
   "metadata": {},
   "outputs": [
    {
     "name": "stdout",
     "output_type": "stream",
     "text": [
      "[[0.4738013]]\n",
      "[0.49090909]\n"
     ]
    }
   ],
   "source": [
    "predict_single_sequence = 610\n",
    "print(model.predict(X_test[predict_single_sequence:predict_single_sequence+1]))\n",
    "\n",
    "label_single_sequence = predict_single_sequence\n",
    "print(test_pos_labels[label_single_sequence:label_single_sequence+1])"
   ]
  },
  {
   "cell_type": "code",
   "execution_count": 31,
   "metadata": {},
   "outputs": [
    {
     "data": {
      "text/plain": [
       "886"
      ]
     },
     "execution_count": 31,
     "metadata": {},
     "output_type": "execute_result"
    }
   ],
   "source": [
    "model_prediction.argmin()"
   ]
  },
  {
   "cell_type": "code",
   "execution_count": 32,
   "metadata": {},
   "outputs": [
    {
     "data": {
      "text/plain": [
       "(1154, 1)"
      ]
     },
     "execution_count": 32,
     "metadata": {},
     "output_type": "execute_result"
    }
   ],
   "source": [
    "np.shape(pos_model_prediction)"
   ]
  },
  {
   "cell_type": "code",
   "execution_count": null,
   "metadata": {
    "collapsed": true
   },
   "outputs": [],
   "source": []
  }
 ],
 "metadata": {
  "colab": {
   "collapsed_sections": [],
   "name": "motif_learn_convnet.ipynb",
   "provenance": [],
   "version": "0.3.2"
  },
  "kernelspec": {
   "display_name": "Python 3",
   "language": "python",
   "name": "python3"
  },
  "language_info": {
   "codemirror_mode": {
    "name": "ipython",
    "version": 3
   },
   "file_extension": ".py",
   "mimetype": "text/x-python",
   "name": "python",
   "nbconvert_exporter": "python",
   "pygments_lexer": "ipython3",
   "version": "3.6.2"
  }
 },
 "nbformat": 4,
 "nbformat_minor": 1
}
