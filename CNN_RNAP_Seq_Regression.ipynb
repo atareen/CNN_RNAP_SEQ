{
 "cells": [
  {
   "cell_type": "code",
   "execution_count": 1,
   "metadata": {
    "collapsed": true
   },
   "outputs": [],
   "source": [
    "import pandas as pd\n",
    "import numpy as np\n",
    "import numpy as np\n",
    "import pandas as pd\n",
    "import matplotlib.pyplot as plt\n",
    "\n",
    "input_data_raw =  pd.read_csv('rnap_scanned_over_ecoli_genome.csv')\n",
    "sequences = input_data_raw['seq'].tolist()"
   ]
  },
  {
   "cell_type": "code",
   "execution_count": 2,
   "metadata": {},
   "outputs": [
    {
     "data": {
      "text/html": [
       "<div>\n",
       "<style scoped>\n",
       "    .dataframe tbody tr th:only-of-type {\n",
       "        vertical-align: middle;\n",
       "    }\n",
       "\n",
       "    .dataframe tbody tr th {\n",
       "        vertical-align: top;\n",
       "    }\n",
       "\n",
       "    .dataframe thead th {\n",
       "        text-align: right;\n",
       "    }\n",
       "</style>\n",
       "<table border=\"1\" class=\"dataframe\">\n",
       "  <thead>\n",
       "    <tr style=\"text-align: right;\">\n",
       "      <th></th>\n",
       "      <th>val</th>\n",
       "      <th>seq</th>\n",
       "      <th>left</th>\n",
       "      <th>right</th>\n",
       "      <th>ori</th>\n",
       "      <th>contig</th>\n",
       "    </tr>\n",
       "  </thead>\n",
       "  <tbody>\n",
       "    <tr>\n",
       "      <th>0</th>\n",
       "      <td>23.9083</td>\n",
       "      <td>CTATTACCTGCCCACGGTAAAGGCGTTCTGGTTGCCCTACG</td>\n",
       "      <td>3695629</td>\n",
       "      <td>3695669</td>\n",
       "      <td>+</td>\n",
       "      <td>MG1655.fa</td>\n",
       "    </tr>\n",
       "    <tr>\n",
       "      <th>1</th>\n",
       "      <td>23.5831</td>\n",
       "      <td>TTTCTGCCCGCGGCCTGGCAATTGATACCGCCTTGCCATCG</td>\n",
       "      <td>1109059</td>\n",
       "      <td>1109099</td>\n",
       "      <td>+</td>\n",
       "      <td>MG1655.fa</td>\n",
       "    </tr>\n",
       "    <tr>\n",
       "      <th>2</th>\n",
       "      <td>23.4205</td>\n",
       "      <td>TTTTTACACGCCTTGCGTAAAGCGGCACGGCGCGGGGTGCG</td>\n",
       "      <td>822216</td>\n",
       "      <td>822256</td>\n",
       "      <td>-</td>\n",
       "      <td>MG1655.fa</td>\n",
       "    </tr>\n",
       "    <tr>\n",
       "      <th>3</th>\n",
       "      <td>23.4098</td>\n",
       "      <td>TTGCTGCCTGGCCGATGGTCTATGCCGCTGCGTTCTCCGGC</td>\n",
       "      <td>772478</td>\n",
       "      <td>772518</td>\n",
       "      <td>+</td>\n",
       "      <td>MG1655.fa</td>\n",
       "    </tr>\n",
       "    <tr>\n",
       "      <th>4</th>\n",
       "      <td>23.3640</td>\n",
       "      <td>CTTTTACACGCAAAATGCCGTCACGTTCACGGGTCTGGGCT</td>\n",
       "      <td>2748531</td>\n",
       "      <td>2748571</td>\n",
       "      <td>+</td>\n",
       "      <td>MG1655.fa</td>\n",
       "    </tr>\n",
       "  </tbody>\n",
       "</table>\n",
       "</div>"
      ],
      "text/plain": [
       "       val                                        seq     left    right ori  \\\n",
       "0  23.9083  CTATTACCTGCCCACGGTAAAGGCGTTCTGGTTGCCCTACG  3695629  3695669   +   \n",
       "1  23.5831  TTTCTGCCCGCGGCCTGGCAATTGATACCGCCTTGCCATCG  1109059  1109099   +   \n",
       "2  23.4205  TTTTTACACGCCTTGCGTAAAGCGGCACGGCGCGGGGTGCG   822216   822256   -   \n",
       "3  23.4098  TTGCTGCCTGGCCGATGGTCTATGCCGCTGCGTTCTCCGGC   772478   772518   +   \n",
       "4  23.3640  CTTTTACACGCAAAATGCCGTCACGTTCACGGGTCTGGGCT  2748531  2748571   +   \n",
       "\n",
       "      contig  \n",
       "0  MG1655.fa  \n",
       "1  MG1655.fa  \n",
       "2  MG1655.fa  \n",
       "3  MG1655.fa  \n",
       "4  MG1655.fa  "
      ]
     },
     "execution_count": 2,
     "metadata": {},
     "output_type": "execute_result"
    }
   ],
   "source": [
    "input_data_raw.head()"
   ]
  },
  {
   "cell_type": "markdown",
   "metadata": {},
   "source": [
    "## Make training labels"
   ]
  },
  {
   "cell_type": "code",
   "execution_count": 3,
   "metadata": {},
   "outputs": [
    {
     "name": "stderr",
     "output_type": "stream",
     "text": [
      "No handles with labels found to put in legend.\n"
     ]
    },
    {
     "data": {
      "image/png": "[encoded data removed]",
      "text/plain": [
       "<Figure size 432x288 with 1 Axes>"
      ]
     },
     "metadata": {},
     "output_type": "display_data"
    }
   ],
   "source": [
    "num_sample = 9000   # number of training samples\n",
    "test_size = 1000    # number of test samples\n",
    "\n",
    "# positive labels\n",
    "pos_labels = np.array(input_data_raw['val'][0:num_sample])\n",
    "# normalize the following between 0 and 1\n",
    "pos_labels = (pos_labels-min(pos_labels))/(max(pos_labels)-min(pos_labels))\n",
    "\n",
    "test_pos_labels = np.array(input_data_raw['val'][num_sample:num_sample+test_size])\n",
    "# normalize the following between 0 and 1\n",
    "test_pos_labels = (test_pos_labels-min(test_pos_labels))/(max(test_pos_labels)-min(test_pos_labels))\n",
    "\n",
    "plt.hist(pos_labels,bins=100)\n",
    "plt.show()\n"
   ]
  },
  {
   "cell_type": "markdown",
   "metadata": {},
   "source": [
    "## Collect positive training data"
   ]
  },
  {
   "cell_type": "code",
   "execution_count": 4,
   "metadata": {
    "collapsed": true
   },
   "outputs": [],
   "source": [
    "pos = []\n",
    "test_pos = []\n",
    "\n",
    "for index in range(len(sequences[0:num_sample])):\n",
    "    pos.append(list(sequences[index]))\n",
    "    \n",
    "for test_index in range(len(sequences[num_sample:num_sample+test_size])):\n",
    "    test_pos.append(list(sequences[index]))    \n",
    "\n",
    "pos = np.array(pos)\n",
    "test_pos = np.array(test_pos)\n",
    "\n",
    "seq_length = len(pos[0])"
   ]
  },
  {
   "cell_type": "markdown",
   "metadata": {},
   "source": [
    "## One-hot encoding"
   ]
  },
  {
   "cell_type": "code",
   "execution_count": 5,
   "metadata": {
    "colab": {
     "base_uri": "https://localhost:8080/",
     "height": 289
    },
    "colab_type": "code",
    "id": "riQRzV6CNp33",
    "outputId": "a27104ff-7917-4987-dccc-7780792beac2"
   },
   "outputs": [
    {
     "name": "stdout",
     "output_type": "stream",
     "text": [
      "Positive sample matrix shape: (9000, 41)\n",
      "Positive sample tensor shape: (9000, 41, 4)\n",
      "Training set shape: (9000, 41, 4)\n",
      "Training set label shape: (9000,)\n",
      "\n",
      "One-hot encoding looks like:\n",
      " [[0. 1. 0. 0.]\n",
      " [0. 0. 0. 1.]\n",
      " [1. 0. 0. 0.]\n",
      " [0. 0. 0. 1.]\n",
      " [0. 0. 0. 1.]\n",
      " [1. 0. 0. 0.]\n",
      " [0. 1. 0. 0.]\n",
      " [0. 1. 0. 0.]\n",
      " [0. 0. 0. 1.]\n",
      " [0. 0. 1. 0.]]\n"
     ]
    }
   ],
   "source": [
    "pos_tensor = np.zeros(list(pos.shape) + [4])\n",
    "test_pos_tensor = np.zeros(list(test_pos.shape) + [4])\n",
    "\n",
    "base_dict = {'A': 0, 'C': 1, 'G': 2, 'T': 3}\n",
    "\n",
    "#naive one-hot encoding\n",
    "for row in range(num_sample):\n",
    "    for col in range(seq_length):\n",
    "        pos_tensor[row,col,base_dict[pos[row,col]]] = 1\n",
    "        if(row<test_size):\n",
    "            test_pos_tensor[row,col,base_dict[test_pos[row,col]]] = 1\n",
    "\n",
    "print('Positive sample matrix shape: {}'.format(pos.shape))\n",
    "# this should be a 3D tensor with shape: (samples, steps, input_dim)\n",
    "print('Positive sample tensor shape: {}'.format(pos_tensor.shape))\n",
    "\n",
    "#X = np.vstack((pos_tensor, neg_tensor))\n",
    "X = pos_tensor\n",
    "y = pos_labels\n",
    "\n",
    "X_test = test_pos_tensor\n",
    "y_test = test_pos_labels\n",
    "\n",
    "print('Training set shape: {}'.format(X.shape))\n",
    "print('Training set label shape: {}'.format(y.shape))\n",
    "print('\\nOne-hot encoding looks like:\\n {}'.format(X[0,0:10,:]))"
   ]
  },
  {
   "cell_type": "markdown",
   "metadata": {},
   "source": [
    "# Define error metrics"
   ]
  },
  {
   "cell_type": "code",
   "execution_count": 6,
   "metadata": {
    "collapsed": true
   },
   "outputs": [],
   "source": [
    "def rmse(y_true, y_pred):\n",
    "    from keras import backend\n",
    "    return backend.sqrt(backend.mean(backend.square(y_pred - y_true), axis=-1))\n",
    "\n",
    "# coefficient of determination (R^2) for regression\n",
    "def r_square(y_true, y_pred):\n",
    "    from keras import backend as K\n",
    "    SS_res =  K.sum(K.square(y_true - y_pred)) \n",
    "    SS_tot = K.sum(K.square(y_true - K.mean(y_true))) \n",
    "    return (1 - SS_res/(SS_tot + K.epsilon()))"
   ]
  },
  {
   "cell_type": "markdown",
   "metadata": {},
   "source": [
    "## Define Models"
   ]
  },
  {
   "cell_type": "code",
   "execution_count": 7,
   "metadata": {
    "colab": {
     "base_uri": "https://localhost:8080/",
     "height": 51
    },
    "colab_type": "code",
    "id": "bD1LpHUKNtVh",
    "outputId": "ec377700-10d7-44a3-c80b-45c2a7133a11"
   },
   "outputs": [
    {
     "name": "stderr",
     "output_type": "stream",
     "text": [
      "Using TensorFlow backend.\n"
     ]
    }
   ],
   "source": [
    "#here comes the deep learning part\n",
    "from keras.models import Sequential\n",
    "from keras.layers import Conv1D, Dense, Flatten, Dropout\n",
    "from keras.activations import relu\n",
    "from keras.layers.pooling import MaxPooling1D\n",
    "from keras.optimizers import SGD, Adam\n"
   ]
  },
  {
   "cell_type": "code",
   "execution_count": 8,
   "metadata": {
    "colab": {
     "base_uri": "https://localhost:8080/",
     "height": 374
    },
    "colab_type": "code",
    "id": "2CkOlW_EN2gn",
    "outputId": "fbdf111b-fb35-4569-c9e3-34ead250e689"
   },
   "outputs": [
    {
     "name": "stdout",
     "output_type": "stream",
     "text": [
      "_________________________________________________________________\n",
      "Layer (type)                 Output Shape              Param #   \n",
      "=================================================================\n",
      "conv1d_1 (Conv1D)            (None, 41, 10)            1210      \n",
      "_________________________________________________________________\n",
      "max_pooling1d_1 (MaxPooling1 (None, 10, 10)            0         \n",
      "_________________________________________________________________\n",
      "conv1d_2 (Conv1D)            (None, 10, 5)             1005      \n",
      "_________________________________________________________________\n",
      "max_pooling1d_2 (MaxPooling1 (None, 5, 5)              0         \n",
      "_________________________________________________________________\n",
      "flatten_1 (Flatten)          (None, 25)                0         \n",
      "_________________________________________________________________\n",
      "dense_1 (Dense)              (None, 50)                1300      \n",
      "_________________________________________________________________\n",
      "dropout_1 (Dropout)          (None, 50)                0         \n",
      "_________________________________________________________________\n",
      "dense_2 (Dense)              (None, 20)                1020      \n",
      "_________________________________________________________________\n",
      "dropout_2 (Dropout)          (None, 20)                0         \n",
      "_________________________________________________________________\n",
      "dense_3 (Dense)              (None, 1)                 21        \n",
      "=================================================================\n",
      "Total params: 4,556\n",
      "Trainable params: 4,556\n",
      "Non-trainable params: 0\n",
      "_________________________________________________________________\n",
      "Train on 6300 samples, validate on 2700 samples\n",
      "Epoch 1/50\n",
      "6300/6300 [==============================] - 1s 173us/step - loss: 0.0231 - rmse: 0.1113 - val_loss: 0.0289 - val_rmse: 0.1690\n",
      "Epoch 2/50\n",
      "6300/6300 [==============================] - 1s 116us/step - loss: 0.0176 - rmse: 0.1005 - val_loss: 0.0276 - val_rmse: 0.1651\n",
      "Epoch 3/50\n",
      "6300/6300 [==============================] - 1s 114us/step - loss: 0.0170 - rmse: 0.0993 - val_loss: 0.0261 - val_rmse: 0.1601\n",
      "Epoch 4/50\n",
      "6300/6300 [==============================] - 1s 117us/step - loss: 0.0163 - rmse: 0.0975 - val_loss: 0.0312 - val_rmse: 0.1737\n",
      "Epoch 5/50\n",
      "6300/6300 [==============================] - 1s 103us/step - loss: 0.0148 - rmse: 0.0928 - val_loss: 0.0227 - val_rmse: 0.1476\n",
      "Epoch 6/50\n",
      "6300/6300 [==============================] - 1s 105us/step - loss: 0.0132 - rmse: 0.0873 - val_loss: 0.0241 - val_rmse: 0.1503\n",
      "Epoch 7/50\n",
      "6300/6300 [==============================] - 1s 103us/step - loss: 0.0110 - rmse: 0.0804 - val_loss: 0.0261 - val_rmse: 0.1511\n",
      "Epoch 8/50\n",
      "6300/6300 [==============================] - 1s 103us/step - loss: 0.0095 - rmse: 0.0746 - val_loss: 0.0165 - val_rmse: 0.1228\n",
      "Epoch 9/50\n",
      "6300/6300 [==============================] - 1s 105us/step - loss: 0.0085 - rmse: 0.0701 - val_loss: 0.0172 - val_rmse: 0.1244\n",
      "Epoch 10/50\n",
      "6300/6300 [==============================] - 1s 108us/step - loss: 0.0076 - rmse: 0.0669 - val_loss: 0.0186 - val_rmse: 0.1282\n",
      "Epoch 11/50\n",
      "6300/6300 [==============================] - 1s 113us/step - loss: 0.0072 - rmse: 0.0647 - val_loss: 0.0151 - val_rmse: 0.1177\n",
      "Epoch 12/50\n",
      "6300/6300 [==============================] - 1s 114us/step - loss: 0.0065 - rmse: 0.0616 - val_loss: 0.0141 - val_rmse: 0.1132\n",
      "Epoch 13/50\n",
      "6300/6300 [==============================] - 1s 142us/step - loss: 0.0061 - rmse: 0.0596 - val_loss: 0.0144 - val_rmse: 0.1135\n",
      "Epoch 14/50\n",
      "6300/6300 [==============================] - 1s 123us/step - loss: 0.0059 - rmse: 0.0588 - val_loss: 0.0122 - val_rmse: 0.1062\n",
      "Epoch 15/50\n",
      "6300/6300 [==============================] - 1s 127us/step - loss: 0.0054 - rmse: 0.0564 - val_loss: 0.0130 - val_rmse: 0.1087\n",
      "Epoch 16/50\n",
      "6300/6300 [==============================] - 1s 139us/step - loss: 0.0049 - rmse: 0.0540 - val_loss: 0.0121 - val_rmse: 0.1046\n",
      "Epoch 17/50\n",
      "6300/6300 [==============================] - 1s 123us/step - loss: 0.0046 - rmse: 0.0523 - val_loss: 0.0128 - val_rmse: 0.1066\n",
      "Epoch 18/50\n",
      "6300/6300 [==============================] - 1s 117us/step - loss: 0.0046 - rmse: 0.0511 - val_loss: 0.0123 - val_rmse: 0.1055\n",
      "Epoch 19/50\n",
      "6300/6300 [==============================] - 1s 117us/step - loss: 0.0042 - rmse: 0.0500 - val_loss: 0.0141 - val_rmse: 0.1122\n",
      "Epoch 20/50\n",
      "6300/6300 [==============================] - 1s 124us/step - loss: 0.0042 - rmse: 0.0494 - val_loss: 0.0099 - val_rmse: 0.0957\n",
      "Epoch 21/50\n",
      "6300/6300 [==============================] - 1s 115us/step - loss: 0.0038 - rmse: 0.0474 - val_loss: 0.0092 - val_rmse: 0.0926\n",
      "Epoch 22/50\n",
      "6300/6300 [==============================] - 1s 109us/step - loss: 0.0039 - rmse: 0.0471 - val_loss: 0.0096 - val_rmse: 0.0942\n",
      "Epoch 23/50\n",
      "6300/6300 [==============================] - 1s 112us/step - loss: 0.0037 - rmse: 0.0461 - val_loss: 0.0097 - val_rmse: 0.0944\n",
      "Epoch 24/50\n",
      "6300/6300 [==============================] - 1s 117us/step - loss: 0.0033 - rmse: 0.0435 - val_loss: 0.0099 - val_rmse: 0.0950\n",
      "Epoch 25/50\n",
      "6300/6300 [==============================] - 1s 132us/step - loss: 0.0032 - rmse: 0.0433 - val_loss: 0.0082 - val_rmse: 0.0873\n",
      "Epoch 26/50\n",
      "6300/6300 [==============================] - 1s 130us/step - loss: 0.0033 - rmse: 0.0434 - val_loss: 0.0085 - val_rmse: 0.0888\n",
      "Epoch 27/50\n",
      "6300/6300 [==============================] - 1s 138us/step - loss: 0.0029 - rmse: 0.0411 - val_loss: 0.0078 - val_rmse: 0.0850\n",
      "Epoch 28/50\n",
      "6300/6300 [==============================] - 1s 130us/step - loss: 0.0029 - rmse: 0.0400 - val_loss: 0.0086 - val_rmse: 0.0891\n",
      "Epoch 29/50\n",
      "6300/6300 [==============================] - 1s 129us/step - loss: 0.0028 - rmse: 0.0396 - val_loss: 0.0074 - val_rmse: 0.0834\n",
      "Epoch 30/50\n",
      "6300/6300 [==============================] - 1s 120us/step - loss: 0.0029 - rmse: 0.0407 - val_loss: 0.0073 - val_rmse: 0.0827\n",
      "Epoch 31/50\n",
      "6300/6300 [==============================] - 1s 110us/step - loss: 0.0028 - rmse: 0.0398 - val_loss: 0.0070 - val_rmse: 0.0811\n",
      "Epoch 32/50\n",
      "6300/6300 [==============================] - 1s 111us/step - loss: 0.0027 - rmse: 0.0390 - val_loss: 0.0082 - val_rmse: 0.0870\n",
      "Epoch 33/50\n",
      "6300/6300 [==============================] - 1s 113us/step - loss: 0.0027 - rmse: 0.0384 - val_loss: 0.0077 - val_rmse: 0.0847\n",
      "Epoch 34/50\n",
      "6300/6300 [==============================] - 1s 114us/step - loss: 0.0025 - rmse: 0.0368 - val_loss: 0.0082 - val_rmse: 0.0873\n",
      "Epoch 35/50\n",
      "6300/6300 [==============================] - 1s 127us/step - loss: 0.0023 - rmse: 0.0358 - val_loss: 0.0066 - val_rmse: 0.0788\n",
      "Epoch 36/50\n",
      "6300/6300 [==============================] - 1s 115us/step - loss: 0.0023 - rmse: 0.0357 - val_loss: 0.0071 - val_rmse: 0.0815\n",
      "Epoch 37/50\n",
      "6300/6300 [==============================] - 1s 119us/step - loss: 0.0023 - rmse: 0.0356 - val_loss: 0.0067 - val_rmse: 0.0796\n",
      "Epoch 38/50\n",
      "6300/6300 [==============================] - 1s 148us/step - loss: 0.0022 - rmse: 0.0348 - val_loss: 0.0064 - val_rmse: 0.0776\n",
      "Epoch 39/50\n",
      "6300/6300 [==============================] - 1s 128us/step - loss: 0.0022 - rmse: 0.0342 - val_loss: 0.0064 - val_rmse: 0.0778\n",
      "Epoch 40/50\n",
      "6300/6300 [==============================] - 1s 111us/step - loss: 0.0022 - rmse: 0.0342 - val_loss: 0.0067 - val_rmse: 0.0795\n",
      "Epoch 41/50\n",
      "6300/6300 [==============================] - 1s 107us/step - loss: 0.0022 - rmse: 0.0340 - val_loss: 0.0062 - val_rmse: 0.0765\n",
      "Epoch 42/50\n",
      "6300/6300 [==============================] - 1s 110us/step - loss: 0.0021 - rmse: 0.0329 - val_loss: 0.0062 - val_rmse: 0.0762\n",
      "Epoch 43/50\n",
      "6300/6300 [==============================] - 1s 110us/step - loss: 0.0021 - rmse: 0.0336 - val_loss: 0.0062 - val_rmse: 0.0767\n",
      "Epoch 44/50\n",
      "6300/6300 [==============================] - 1s 110us/step - loss: 0.0021 - rmse: 0.0329 - val_loss: 0.0064 - val_rmse: 0.0778\n",
      "Epoch 45/50\n",
      "6300/6300 [==============================] - 1s 110us/step - loss: 0.0020 - rmse: 0.0319 - val_loss: 0.0062 - val_rmse: 0.0763\n",
      "Epoch 46/50\n",
      "6300/6300 [==============================] - 1s 109us/step - loss: 0.0020 - rmse: 0.0325 - val_loss: 0.0062 - val_rmse: 0.0766\n",
      "Epoch 47/50\n",
      "6300/6300 [==============================] - 1s 110us/step - loss: 0.0020 - rmse: 0.0323 - val_loss: 0.0058 - val_rmse: 0.0738\n"
     ]
    },
    {
     "name": "stdout",
     "output_type": "stream",
     "text": [
      "Epoch 48/50\n",
      "6300/6300 [==============================] - 1s 108us/step - loss: 0.0019 - rmse: 0.0306 - val_loss: 0.0060 - val_rmse: 0.0751\n",
      "Epoch 49/50\n",
      "6300/6300 [==============================] - 1s 108us/step - loss: 0.0020 - rmse: 0.0323 - val_loss: 0.0062 - val_rmse: 0.0766\n",
      "Epoch 50/50\n",
      "6300/6300 [==============================] - 1s 109us/step - loss: 0.0018 - rmse: 0.0304 - val_loss: 0.0061 - val_rmse: 0.0755\n"
     ]
    }
   ],
   "source": [
    "\n",
    "model = Sequential()\n",
    "model.add(Conv1D(10, 30, padding='same', input_shape=(seq_length, 4), activation='relu'))\n",
    "model.add(MaxPooling1D(pool_size=4))\n",
    "model.add(Conv1D(5, 20, padding='same', input_shape=(seq_length, 4), activation='relu'))\n",
    "model.add(MaxPooling1D(pool_size=2))\n",
    "model.add(Flatten())\n",
    "model.add(Dense(50, activation='relu'))\n",
    "model.add(Dropout(0.25))\n",
    "model.add(Dense(20, activation='relu'))\n",
    "model.add(Dropout(0.25))\n",
    "model.add(Dense(1, activation='linear'))\n",
    "\n",
    "sgd = SGD(lr=0.01, decay=1e-6, momentum=0.9, nesterov=True)\n",
    "\n",
    "model.compile(loss='mean_squared_error',optimizer=Adam(lr=0.001), metrics=[rmse])\n",
    "#model.compile(loss='mean_squared_error',optimizer=sgd, metrics=[rmse])\n",
    "\n",
    "model.summary()\n",
    "\n",
    "history = model.fit(X, y, validation_split=0.3, epochs=50)  # starts training\n",
    "\n"
   ]
  },
  {
   "cell_type": "code",
   "execution_count": 9,
   "metadata": {
    "colab": {
     "base_uri": "https://localhost:8080/",
     "height": 376
    },
    "colab_type": "code",
    "id": "-VpzZqooOAPx",
    "outputId": "30d34bfd-b21e-47c7-9c64-d1cf407b23c6"
   },
   "outputs": [
    {
     "data": {
      "image/png": "[encoded data removed]",
      "text/plain": [
       "<Figure size 432x288 with 1 Axes>"
      ]
     },
     "metadata": {},
     "output_type": "display_data"
    }
   ],
   "source": [
    "plt.figure()\n",
    "plt.plot(history.history['loss'])\n",
    "plt.plot(history.history['val_loss'])\n",
    "plt.title('model loss')\n",
    "plt.ylabel('loss')\n",
    "plt.xlabel('epoch')\n",
    "plt.legend(['train', 'validation'])\n",
    "plt.show()"
   ]
  },
  {
   "cell_type": "code",
   "execution_count": 10,
   "metadata": {},
   "outputs": [
    {
     "data": {
      "text/plain": [
       "dict_keys(['val_loss', 'val_rmse', 'loss', 'rmse'])"
      ]
     },
     "execution_count": 10,
     "metadata": {},
     "output_type": "execute_result"
    }
   ],
   "source": [
    "history.history.keys()"
   ]
  },
  {
   "cell_type": "code",
   "execution_count": 11,
   "metadata": {
    "colab": {
     "base_uri": "https://localhost:8080/",
     "height": 376
    },
    "colab_type": "code",
    "id": "VeIdsrBEO49U",
    "outputId": "04003ed6-30d1-494a-da95-3672e19fb46d"
   },
   "outputs": [
    {
     "data": {
      "image/png": "[encoded data removed]",
      "text/plain": [
       "<Figure size 432x288 with 1 Axes>"
      ]
     },
     "metadata": {},
     "output_type": "display_data"
    }
   ],
   "source": [
    "plt.plot(history.history['rmse'])\n",
    "plt.plot(history.history['val_rmse'])\n",
    "plt.title('RMSE')\n",
    "plt.xlabel('epoch')\n",
    "#plt.legend(['val_r_sq', 'r_sq'], loc='upper left')\n",
    "plt.show()\n"
   ]
  },
  {
   "cell_type": "code",
   "execution_count": 12,
   "metadata": {
    "colab": {
     "base_uri": "https://localhost:8080/",
     "height": 34
    },
    "colab_type": "code",
    "id": "vuJi3zO_OaMi",
    "outputId": "91f9168e-a49f-4c51-8a07-85d32e324e0b"
   },
   "outputs": [
    {
     "name": "stdout",
     "output_type": "stream",
     "text": [
      "Convolution parameter shape: (30, 4, 10)\n"
     ]
    }
   ],
   "source": [
    "#have a look at the filter\n",
    "convlayer = model.layers[0]\n",
    "weights = convlayer.get_weights()[0].squeeze()\n",
    "print('Convolution parameter shape: {}'.format(weights.shape))\n",
    "\n",
    "num2seq = ['A','C','G','T']\n",
    "\n",
    "#''.join([num2seq[np.argmax(weights[i,:])] for i in range(weights.shape[0])])\n",
    "#test_pred = ''.join([num2seq[np.argmax(weights[i,:])] for i in range(weights.shape[0])])"
   ]
  },
  {
   "cell_type": "markdown",
   "metadata": {},
   "source": [
    "## Make predictions"
   ]
  },
  {
   "cell_type": "code",
   "execution_count": 13,
   "metadata": {},
   "outputs": [
    {
     "data": {
      "image/png": "[encoded data removed]",
      "text/plain": [
       "<Figure size 432x288 with 1 Axes>"
      ]
     },
     "metadata": {},
     "output_type": "display_data"
    }
   ],
   "source": [
    "model_prediction = model.predict(X_test)\n",
    "plt.hist(model_prediction,bins=100)\n",
    "plt.show()"
   ]
  },
  {
   "cell_type": "code",
   "execution_count": 14,
   "metadata": {},
   "outputs": [
    {
     "data": {
      "image/png": "[encoded data removed]",
      "text/plain": [
       "<Figure size 432x288 with 1 Axes>"
      ]
     },
     "metadata": {},
     "output_type": "display_data"
    }
   ],
   "source": [
    "plt.hist(y_test,bins=100)\n",
    "plt.show()"
   ]
  },
  {
   "cell_type": "code",
   "execution_count": null,
   "metadata": {
    "collapsed": true
   },
   "outputs": [],
   "source": []
  }
 ],
 "metadata": {
  "colab": {
   "collapsed_sections": [],
   "name": "motif_learn_convnet.ipynb",
   "provenance": [],
   "version": "0.3.2"
  },
  "kernelspec": {
   "display_name": "Python 3",
   "language": "python",
   "name": "python3"
  },
  "language_info": {
   "codemirror_mode": {
    "name": "ipython",
    "version": 3
   },
   "file_extension": ".py",
   "mimetype": "text/x-python",
   "name": "python",
   "nbconvert_exporter": "python",
   "pygments_lexer": "ipython3",
   "version": "3.6.2"
  }
 },
 "nbformat": 4,
 "nbformat_minor": 1
}
