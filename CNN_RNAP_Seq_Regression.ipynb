{
 "cells": [
  {
   "cell_type": "code",
   "execution_count": 1,
   "metadata": {
    "collapsed": true
   },
   "outputs": [],
   "source": [
    "import pandas as pd\n",
    "import numpy as np\n",
    "import numpy as np\n",
    "import pandas as pd\n",
    "import matplotlib.pyplot as plt\n",
    "\n",
    "input_data_ordered_raw =  pd.read_csv('rnap_scanned_over_ecoli_genome100k.csv')\n",
    "sequences = input_data_ordered_raw['seq'].tolist()"
   ]
  },
  {
   "cell_type": "code",
   "execution_count": 2,
   "metadata": {},
   "outputs": [
    {
     "data": {
      "text/html": [
       "<div>\n",
       "<style scoped>\n",
       "    .dataframe tbody tr th:only-of-type {\n",
       "        vertical-align: middle;\n",
       "    }\n",
       "\n",
       "    .dataframe tbody tr th {\n",
       "        vertical-align: top;\n",
       "    }\n",
       "\n",
       "    .dataframe thead th {\n",
       "        text-align: right;\n",
       "    }\n",
       "</style>\n",
       "<table border=\"1\" class=\"dataframe\">\n",
       "  <thead>\n",
       "    <tr style=\"text-align: right;\">\n",
       "      <th></th>\n",
       "      <th>Unnamed: 0</th>\n",
       "      <th>val</th>\n",
       "      <th>seq</th>\n",
       "      <th>left</th>\n",
       "      <th>right</th>\n",
       "      <th>ori</th>\n",
       "      <th>contig</th>\n",
       "    </tr>\n",
       "  </thead>\n",
       "  <tbody>\n",
       "    <tr>\n",
       "      <th>0</th>\n",
       "      <td>0</td>\n",
       "      <td>23.9083</td>\n",
       "      <td>CTATTACCTGCCCACGGTAAAGGCGTTCTGGTTGCCCTACG</td>\n",
       "      <td>3695629</td>\n",
       "      <td>3695669</td>\n",
       "      <td>+</td>\n",
       "      <td>MG1655.fa</td>\n",
       "    </tr>\n",
       "    <tr>\n",
       "      <th>1</th>\n",
       "      <td>1</td>\n",
       "      <td>23.5831</td>\n",
       "      <td>TTTCTGCCCGCGGCCTGGCAATTGATACCGCCTTGCCATCG</td>\n",
       "      <td>1109059</td>\n",
       "      <td>1109099</td>\n",
       "      <td>+</td>\n",
       "      <td>MG1655.fa</td>\n",
       "    </tr>\n",
       "    <tr>\n",
       "      <th>2</th>\n",
       "      <td>2</td>\n",
       "      <td>23.4205</td>\n",
       "      <td>TTTTTACACGCCTTGCGTAAAGCGGCACGGCGCGGGGTGCG</td>\n",
       "      <td>822216</td>\n",
       "      <td>822256</td>\n",
       "      <td>-</td>\n",
       "      <td>MG1655.fa</td>\n",
       "    </tr>\n",
       "    <tr>\n",
       "      <th>3</th>\n",
       "      <td>3</td>\n",
       "      <td>23.4098</td>\n",
       "      <td>TTGCTGCCTGGCCGATGGTCTATGCCGCTGCGTTCTCCGGC</td>\n",
       "      <td>772478</td>\n",
       "      <td>772518</td>\n",
       "      <td>+</td>\n",
       "      <td>MG1655.fa</td>\n",
       "    </tr>\n",
       "    <tr>\n",
       "      <th>4</th>\n",
       "      <td>4</td>\n",
       "      <td>23.3640</td>\n",
       "      <td>CTTTTACACGCAAAATGCCGTCACGTTCACGGGTCTGGGCT</td>\n",
       "      <td>2748531</td>\n",
       "      <td>2748571</td>\n",
       "      <td>+</td>\n",
       "      <td>MG1655.fa</td>\n",
       "    </tr>\n",
       "  </tbody>\n",
       "</table>\n",
       "</div>"
      ],
      "text/plain": [
       "   Unnamed: 0      val                                        seq     left  \\\n",
       "0           0  23.9083  CTATTACCTGCCCACGGTAAAGGCGTTCTGGTTGCCCTACG  3695629   \n",
       "1           1  23.5831  TTTCTGCCCGCGGCCTGGCAATTGATACCGCCTTGCCATCG  1109059   \n",
       "2           2  23.4205  TTTTTACACGCCTTGCGTAAAGCGGCACGGCGCGGGGTGCG   822216   \n",
       "3           3  23.4098  TTGCTGCCTGGCCGATGGTCTATGCCGCTGCGTTCTCCGGC   772478   \n",
       "4           4  23.3640  CTTTTACACGCAAAATGCCGTCACGTTCACGGGTCTGGGCT  2748531   \n",
       "\n",
       "     right ori     contig  \n",
       "0  3695669   +  MG1655.fa  \n",
       "1  1109099   +  MG1655.fa  \n",
       "2   822256   -  MG1655.fa  \n",
       "3   772518   +  MG1655.fa  \n",
       "4  2748571   +  MG1655.fa  "
      ]
     },
     "execution_count": 2,
     "metadata": {},
     "output_type": "execute_result"
    }
   ],
   "source": [
    "input_data_ordered_raw.head()"
   ]
  },
  {
   "cell_type": "markdown",
   "metadata": {},
   "source": [
    "## Randomly sample vals and seqs to prevent data imbalance"
   ]
  },
  {
   "cell_type": "code",
   "execution_count": 3,
   "metadata": {},
   "outputs": [
    {
     "data": {
      "text/html": [
       "<div>\n",
       "<style scoped>\n",
       "    .dataframe tbody tr th:only-of-type {\n",
       "        vertical-align: middle;\n",
       "    }\n",
       "\n",
       "    .dataframe tbody tr th {\n",
       "        vertical-align: top;\n",
       "    }\n",
       "\n",
       "    .dataframe thead th {\n",
       "        text-align: right;\n",
       "    }\n",
       "</style>\n",
       "<table border=\"1\" class=\"dataframe\">\n",
       "  <thead>\n",
       "    <tr style=\"text-align: right;\">\n",
       "      <th></th>\n",
       "      <th>val</th>\n",
       "      <th>seq</th>\n",
       "    </tr>\n",
       "  </thead>\n",
       "  <tbody>\n",
       "    <tr>\n",
       "      <th>0</th>\n",
       "      <td>23.9083</td>\n",
       "      <td>CTATTACCTGCCCACGGTAAAGGCGTTCTGGTTGCCCTACG</td>\n",
       "    </tr>\n",
       "    <tr>\n",
       "      <th>1</th>\n",
       "      <td>23.5831</td>\n",
       "      <td>TTTCTGCCCGCGGCCTGGCAATTGATACCGCCTTGCCATCG</td>\n",
       "    </tr>\n",
       "    <tr>\n",
       "      <th>2</th>\n",
       "      <td>23.4205</td>\n",
       "      <td>TTTTTACACGCCTTGCGTAAAGCGGCACGGCGCGGGGTGCG</td>\n",
       "    </tr>\n",
       "    <tr>\n",
       "      <th>3</th>\n",
       "      <td>23.4098</td>\n",
       "      <td>TTGCTGCCTGGCCGATGGTCTATGCCGCTGCGTTCTCCGGC</td>\n",
       "    </tr>\n",
       "    <tr>\n",
       "      <th>4</th>\n",
       "      <td>23.3640</td>\n",
       "      <td>CTTTTACACGCAAAATGCCGTCACGTTCACGGGTCTGGGCT</td>\n",
       "    </tr>\n",
       "  </tbody>\n",
       "</table>\n",
       "</div>"
      ],
      "text/plain": [
       "       val                                        seq\n",
       "0  23.9083  CTATTACCTGCCCACGGTAAAGGCGTTCTGGTTGCCCTACG\n",
       "1  23.5831  TTTCTGCCCGCGGCCTGGCAATTGATACCGCCTTGCCATCG\n",
       "2  23.4205  TTTTTACACGCCTTGCGTAAAGCGGCACGGCGCGGGGTGCG\n",
       "3  23.4098  TTGCTGCCTGGCCGATGGTCTATGCCGCTGCGTTCTCCGGC\n",
       "4  23.3640  CTTTTACACGCAAAATGCCGTCACGTTCACGGGTCTGGGCT"
      ]
     },
     "execution_count": 3,
     "metadata": {},
     "output_type": "execute_result"
    }
   ],
   "source": [
    "input_data_ordered_raw[['val','seq']].head()"
   ]
  },
  {
   "cell_type": "code",
   "execution_count": 4,
   "metadata": {
    "collapsed": true
   },
   "outputs": [],
   "source": [
    "# normally sample high value seqs more\n",
    "# https://stackoverflow.com/questions/33160367/numpy-how-to-generate-a-normally-distributed-set-of-integers\n",
    "bi = np.random.binomial(n=10000, p=0.01, size=1000)\n"
   ]
  },
  {
   "cell_type": "code",
   "execution_count": 5,
   "metadata": {},
   "outputs": [
    {
     "name": "stdout",
     "output_type": "stream",
     "text": [
      "          val                                        seq\n",
      "5079  21.3489  TCTAAGCCTGCGCCCGGTAGTGAAGGCTACCGGGCTATTTC\n",
      "4932  21.3627  CACCACCAGGACTTCTGGAGCAAACTGATGTCTTCCGCACG\n",
      "5106  21.3466  ACCATCCCCGGGTTGATTGCCAATATGCAACGTTGCACTAA\n",
      "5037  21.3519  CGCTAACATGGTTAAAATCTCCCGCTGGCGGGCGCTTAACG\n",
      "4940  21.3618  CGACTCCCCGGAACGATGCCCGTCGCGTTGCGCTGCTCCTC\n",
      "          val                                        seq\n",
      "4944  21.3615  CCGCTGCTCGCTGTGGGGCTGGCAATTACCGGTGCGCTGGC\n",
      "5029  21.3526  CCGCTTCACGCAGCAGGACTTTCCCTGCCGCCTGGTCAATC\n",
      "5094  21.3475  CATGAACACGGTCAATGCTGCGGTGGTCGCCACGGTCGCGG\n",
      "5022  21.3532  CTCTAACCCGGTGCCGGGTTCAATGGTCAGCGCCGTTCCGT\n",
      "4990  21.3564  CCGATGCCCTGGTCACCAAGCCCCAGAATGCGTTCACCGTC\n"
     ]
    }
   ],
   "source": [
    "num_sample = 40000   # number of training samples\n",
    "test_size = 10000    # number of test samples\n",
    "\n",
    "binomial_probability_parameter = 0.05\n",
    "\n",
    "#index_random_sample_training_data = np.random.randint(100000,size=(9000))\n",
    "index_random_sample_training_data = np.random.binomial(n=100000, p=binomial_probability_parameter, size=num_sample)\n",
    "input_data_raw = input_data_ordered_raw[['val','seq']].loc[index_random_sample_training_data]\n",
    "print(input_data_raw.head())\n",
    "\n",
    "#index_random_sample_test_data = np.random.randint(100000,size=(1000))\n",
    "index_random_sample_test_data = np.random.binomial(n=100000, p=binomial_probability_parameter, size=test_size)\n",
    "input_data_raw_test = input_data_ordered_raw[['val','seq']].loc[index_random_sample_test_data]\n",
    "\n",
    "print(input_data_raw_test.head())"
   ]
  },
  {
   "cell_type": "markdown",
   "metadata": {},
   "source": [
    "## Make positive and negative Labels"
   ]
  },
  {
   "cell_type": "code",
   "execution_count": 44,
   "metadata": {},
   "outputs": [
    {
     "data": {
      "image/png": "[encoded data removed]",
      "text/plain": [
       "<Figure size 432x288 with 1 Axes>"
      ]
     },
     "metadata": {},
     "output_type": "display_data"
    }
   ],
   "source": [
    "# positive and negative labels\n",
    "# normalize the following between 0 and 1\n",
    "pos_labels = np.array(input_data_raw['val'][0:num_sample])\n",
    "pos_labels = (pos_labels-min(pos_labels))/(max(pos_labels)-min(pos_labels))\n",
    "\n",
    "# test positive and negative labels\n",
    "test_pos_labels = np.array(input_data_raw_test['val'][0:test_size])\n",
    "test_pos_labels = (test_pos_labels-min(test_pos_labels))/(max(test_pos_labels)-min(test_pos_labels))\n",
    "\n",
    "plt.hist(pos_labels,bins=50,label='Training data histogram')\n",
    "plt.legend()\n",
    "plt.show()\n",
    "# assigned random values to negative examples"
   ]
  },
  {
   "cell_type": "code",
   "execution_count": 7,
   "metadata": {
    "collapsed": true
   },
   "outputs": [],
   "source": [
    "sequences = np.array(sequences)\n",
    "\n",
    "pos = []\n",
    "pos = list(sequences[index_random_sample_training_data])\n",
    "\n",
    "test_pos = []\n",
    "test_pos = list(sequences[index_random_sample_test_data])\n",
    "\n",
    "pos = np.array(pos)\n",
    "test_pos = np.array(test_pos)\n",
    "\n",
    "seq_length = len(pos[0])"
   ]
  },
  {
   "cell_type": "markdown",
   "metadata": {},
   "source": [
    "## One-hot encoding"
   ]
  },
  {
   "cell_type": "code",
   "execution_count": 8,
   "metadata": {
    "collapsed": true
   },
   "outputs": [],
   "source": [
    "temp_pos = []\n",
    "temp_pos_test = []\n",
    "for reshape_index in range(len(pos)):\n",
    "    temp_pos.append(list(pos[reshape_index]))\n",
    "\n",
    "for reshape_test_index in range(len(test_pos)):\n",
    "    temp_pos_test.append(list(test_pos[reshape_test_index]))\n",
    "    \n",
    "pos = temp_pos\n",
    "test_pos = temp_pos_test"
   ]
  },
  {
   "cell_type": "code",
   "execution_count": 9,
   "metadata": {
    "collapsed": true
   },
   "outputs": [],
   "source": [
    "pos = np.array(pos)\n",
    "test_pos = np.array(test_pos)"
   ]
  },
  {
   "cell_type": "code",
   "execution_count": 10,
   "metadata": {
    "colab": {
     "base_uri": "https://localhost:8080/",
     "height": 289
    },
    "colab_type": "code",
    "id": "riQRzV6CNp33",
    "outputId": "a27104ff-7917-4987-dccc-7780792beac2"
   },
   "outputs": [
    {
     "name": "stdout",
     "output_type": "stream",
     "text": [
      "Positive sample matrix shape: (40000, 41)\n",
      "Positive sample tensor shape: (40000, 41, 4)\n",
      "Training set shape: (40000, 41, 4)\n",
      "Training set label shape: (40000,)\n",
      "\n",
      "One-hot encoding looks like:\n",
      " [[0. 0. 0. 1.]\n",
      " [0. 1. 0. 0.]\n",
      " [0. 0. 0. 1.]\n",
      " [1. 0. 0. 0.]\n",
      " [1. 0. 0. 0.]\n",
      " [0. 0. 1. 0.]\n",
      " [0. 1. 0. 0.]\n",
      " [0. 1. 0. 0.]\n",
      " [0. 0. 0. 1.]\n",
      " [0. 0. 1. 0.]]\n"
     ]
    }
   ],
   "source": [
    "pos_tensor = np.zeros(list(pos.shape) + [4])\n",
    "\n",
    "test_pos_tensor = np.zeros(list(test_pos.shape) + [4])\n",
    "\n",
    "base_dict = {'A': 0, 'C': 1, 'G': 2, 'T': 3}\n",
    "\n",
    "#naive one-hot encoding\n",
    "for row in range(num_sample):\n",
    "    for col in range(seq_length):\n",
    "        pos_tensor[row,col,base_dict[pos[row,col]]] = 1\n",
    "        if(row<test_size):\n",
    "            test_pos_tensor[row,col,base_dict[test_pos[row,col]]] = 1\n",
    "\n",
    "print('Positive sample matrix shape: {}'.format(pos.shape))\n",
    "# this should be a 3D tensor with shape: (samples, steps, input_dim)\n",
    "print('Positive sample tensor shape: {}'.format(pos_tensor.shape))\n",
    "\n",
    "X = pos_tensor\n",
    "y = pos_labels\n",
    "\n",
    "X_test = test_pos_tensor\n",
    "y_test = test_pos_labels\n",
    "\n",
    "print('Training set shape: {}'.format(X.shape))\n",
    "print('Training set label shape: {}'.format(y.shape))\n",
    "print('\\nOne-hot encoding looks like:\\n {}'.format(X[0,0:10,:]))"
   ]
  },
  {
   "cell_type": "markdown",
   "metadata": {},
   "source": [
    "# Define error metrics"
   ]
  },
  {
   "cell_type": "code",
   "execution_count": 11,
   "metadata": {
    "collapsed": true
   },
   "outputs": [],
   "source": [
    "def rmse(y_true, y_pred):\n",
    "    from keras import backend\n",
    "    return backend.sqrt(backend.mean(backend.square(y_pred - y_true), axis=-1))\n",
    "\n",
    "# coefficient of determination (R^2) for regression\n",
    "def r_square(y_true, y_pred):\n",
    "    from keras import backend as K\n",
    "    SS_res =  K.sum(K.square(y_true - y_pred)) \n",
    "    SS_tot = K.sum(K.square(y_true - K.mean(y_true))) \n",
    "    return (1 - SS_res/(SS_tot + K.epsilon()))"
   ]
  },
  {
   "cell_type": "markdown",
   "metadata": {},
   "source": [
    "## Define Models"
   ]
  },
  {
   "cell_type": "code",
   "execution_count": 12,
   "metadata": {
    "colab": {
     "base_uri": "https://localhost:8080/",
     "height": 51
    },
    "colab_type": "code",
    "id": "bD1LpHUKNtVh",
    "outputId": "ec377700-10d7-44a3-c80b-45c2a7133a11"
   },
   "outputs": [
    {
     "name": "stderr",
     "output_type": "stream",
     "text": [
      "Using TensorFlow backend.\n"
     ]
    }
   ],
   "source": [
    "#here comes the deep learning part\n",
    "from keras.models import Sequential\n",
    "from keras.layers import Conv1D, Dense, Flatten, Dropout\n",
    "from keras.activations import relu\n",
    "from keras.layers.pooling import MaxPooling1D\n",
    "from keras.optimizers import SGD, Adam\n",
    "\n",
    "#sanity check for dimensions\n",
    "#print('Shape of the output of first layer: {}'.format(model.predict_on_batch(pos_tensor[0:1,:,:]).shape))"
   ]
  },
  {
   "cell_type": "code",
   "execution_count": 13,
   "metadata": {
    "colab": {
     "base_uri": "https://localhost:8080/",
     "height": 374
    },
    "colab_type": "code",
    "id": "2CkOlW_EN2gn",
    "outputId": "fbdf111b-fb35-4569-c9e3-34ead250e689"
   },
   "outputs": [
    {
     "name": "stdout",
     "output_type": "stream",
     "text": [
      "Train on 28000 samples, validate on 12000 samples\n",
      "Epoch 1/100\n",
      "28000/28000 [==============================] - 4s 150us/step - loss: 0.0346 - rmse: 0.1414 - r_square: -1.4223 - val_loss: 0.0112 - val_rmse: 0.0791 - val_r_square: 0.1960\n",
      "Epoch 2/100\n",
      "28000/28000 [==============================] - 4s 144us/step - loss: 0.0152 - rmse: 0.0948 - r_square: -0.0605 - val_loss: 0.0063 - val_rmse: 0.0559 - val_r_square: 0.5599\n",
      "Epoch 3/100\n",
      "28000/28000 [==============================] - 4s 134us/step - loss: 0.0101 - rmse: 0.0750 - r_square: 0.3000 - val_loss: 0.0033 - val_rmse: 0.0312 - val_r_square: 0.7804\n",
      "Epoch 4/100\n",
      "28000/28000 [==============================] - 4s 128us/step - loss: 0.0074 - rmse: 0.0633 - r_square: 0.4921 - val_loss: 0.0024 - val_rmse: 0.0269 - val_r_square: 0.8436\n",
      "Epoch 5/100\n",
      "28000/28000 [==============================] - 3s 125us/step - loss: 0.0059 - rmse: 0.0558 - r_square: 0.5946 - val_loss: 0.0016 - val_rmse: 0.0186 - val_r_square: 0.8950\n",
      "Epoch 6/100\n",
      "28000/28000 [==============================] - 4s 126us/step - loss: 0.0048 - rmse: 0.0508 - r_square: 0.6652 - val_loss: 0.0014 - val_rmse: 0.0172 - val_r_square: 0.9121\n",
      "Epoch 7/100\n",
      "28000/28000 [==============================] - 3s 125us/step - loss: 0.0040 - rmse: 0.0460 - r_square: 0.7265 - val_loss: 0.0013 - val_rmse: 0.0207 - val_r_square: 0.9127\n",
      "Epoch 8/100\n",
      "28000/28000 [==============================] - 4s 126us/step - loss: 0.0035 - rmse: 0.0425 - r_square: 0.7598 - val_loss: 0.0013 - val_rmse: 0.0218 - val_r_square: 0.9150\n",
      "Epoch 9/100\n",
      "28000/28000 [==============================] - 3s 125us/step - loss: 0.0029 - rmse: 0.0390 - r_square: 0.7989 - val_loss: 9.4254e-04 - val_rmse: 0.0143 - val_r_square: 0.9399\n",
      "Epoch 10/100\n",
      "28000/28000 [==============================] - 3s 125us/step - loss: 0.0026 - rmse: 0.0363 - r_square: 0.8240 - val_loss: 8.0979e-04 - val_rmse: 0.0123 - val_r_square: 0.9490\n",
      "Epoch 11/100\n",
      "28000/28000 [==============================] - 3s 125us/step - loss: 0.0022 - rmse: 0.0338 - r_square: 0.8469 - val_loss: 8.6404e-04 - val_rmse: 0.0151 - val_r_square: 0.9446\n",
      "Epoch 12/100\n",
      "28000/28000 [==============================] - 4s 132us/step - loss: 0.0019 - rmse: 0.0315 - r_square: 0.8661 - val_loss: 7.1958e-04 - val_rmse: 0.0117 - val_r_square: 0.9547\n",
      "Epoch 13/100\n",
      "28000/28000 [==============================] - 4s 148us/step - loss: 0.0017 - rmse: 0.0295 - r_square: 0.8810 - val_loss: 6.3957e-04 - val_rmse: 0.0103 - val_r_square: 0.9605\n",
      "Epoch 14/100\n",
      "28000/28000 [==============================] - 4s 131us/step - loss: 0.0015 - rmse: 0.0279 - r_square: 0.8942 - val_loss: 6.0976e-04 - val_rmse: 0.0099 - val_r_square: 0.9626\n",
      "Epoch 15/100\n",
      "28000/28000 [==============================] - 4s 131us/step - loss: 0.0014 - rmse: 0.0260 - r_square: 0.9068 - val_loss: 5.8874e-04 - val_rmse: 0.0094 - val_r_square: 0.9641\n",
      "Epoch 16/100\n",
      "28000/28000 [==============================] - 4s 132us/step - loss: 0.0013 - rmse: 0.0252 - r_square: 0.9125 - val_loss: 5.3977e-04 - val_rmse: 0.0084 - val_r_square: 0.9675\n",
      "Epoch 17/100\n",
      "28000/28000 [==============================] - 4s 131us/step - loss: 0.0011 - rmse: 0.0237 - r_square: 0.9220 - val_loss: 5.3843e-04 - val_rmse: 0.0089 - val_r_square: 0.9674\n",
      "Epoch 18/100\n",
      "28000/28000 [==============================] - 4s 131us/step - loss: 0.0011 - rmse: 0.0230 - r_square: 0.9268 - val_loss: 5.3099e-04 - val_rmse: 0.0092 - val_r_square: 0.9676\n",
      "Epoch 19/100\n",
      "28000/28000 [==============================] - 4s 131us/step - loss: 9.7687e-04 - rmse: 0.0217 - r_square: 0.9336 - val_loss: 4.8871e-04 - val_rmse: 0.0081 - val_r_square: 0.9707\n",
      "Epoch 20/100\n",
      "28000/28000 [==============================] - 4s 131us/step - loss: 8.9928e-04 - rmse: 0.0209 - r_square: 0.9383 - val_loss: 4.9105e-04 - val_rmse: 0.0085 - val_r_square: 0.9704\n",
      "Epoch 21/100\n",
      "28000/28000 [==============================] - 4s 132us/step - loss: 8.6574e-04 - rmse: 0.0204 - r_square: 0.9412 - val_loss: 4.5282e-04 - val_rmse: 0.0073 - val_r_square: 0.9732\n",
      "Epoch 22/100\n",
      "28000/28000 [==============================] - 4s 132us/step - loss: 7.9406e-04 - rmse: 0.0196 - r_square: 0.9461 - val_loss: 4.5864e-04 - val_rmse: 0.0083 - val_r_square: 0.9727\n",
      "Epoch 23/100\n",
      "28000/28000 [==============================] - 4s 132us/step - loss: 7.4748e-04 - rmse: 0.0191 - r_square: 0.9490 - val_loss: 4.1878e-04 - val_rmse: 0.0069 - val_r_square: 0.9754\n",
      "Epoch 24/100\n",
      "28000/28000 [==============================] - 4s 132us/step - loss: 7.2169e-04 - rmse: 0.0187 - r_square: 0.9508 - val_loss: 4.7328e-04 - val_rmse: 0.0091 - val_r_square: 0.9715\n",
      "Epoch 25/100\n",
      "28000/28000 [==============================] - 4s 131us/step - loss: 6.7582e-04 - rmse: 0.0180 - r_square: 0.9539 - val_loss: 4.4726e-04 - val_rmse: 0.0087 - val_r_square: 0.9731\n",
      "Epoch 26/100\n",
      "28000/28000 [==============================] - 4s 132us/step - loss: 6.6105e-04 - rmse: 0.0179 - r_square: 0.9551 - val_loss: 4.0901e-04 - val_rmse: 0.0067 - val_r_square: 0.9761\n",
      "Epoch 27/100\n",
      "28000/28000 [==============================] - 4s 133us/step - loss: 6.5109e-04 - rmse: 0.0176 - r_square: 0.9556 - val_loss: 4.1008e-04 - val_rmse: 0.0072 - val_r_square: 0.9759\n",
      "Epoch 28/100\n",
      "28000/28000 [==============================] - 4s 132us/step - loss: 6.2019e-04 - rmse: 0.0173 - r_square: 0.9576 - val_loss: 4.2441e-04 - val_rmse: 0.0082 - val_r_square: 0.9747\n",
      "Epoch 29/100\n",
      "28000/28000 [==============================] - 4s 132us/step - loss: 6.0239e-04 - rmse: 0.0172 - r_square: 0.9586 - val_loss: 4.1575e-04 - val_rmse: 0.0079 - val_r_square: 0.9754\n",
      "Epoch 30/100\n",
      "28000/28000 [==============================] - 4s 134us/step - loss: 5.8665e-04 - rmse: 0.0169 - r_square: 0.9599 - val_loss: 3.8348e-04 - val_rmse: 0.0068 - val_r_square: 0.9777\n",
      "Epoch 31/100\n",
      "28000/28000 [==============================] - 4s 134us/step - loss: 5.7585e-04 - rmse: 0.0168 - r_square: 0.9606 - val_loss: 3.8000e-04 - val_rmse: 0.0070 - val_r_square: 0.9779\n",
      "Epoch 32/100\n",
      "28000/28000 [==============================] - 4s 134us/step - loss: 5.5996e-04 - rmse: 0.0164 - r_square: 0.9619 - val_loss: 4.1802e-04 - val_rmse: 0.0080 - val_r_square: 0.9754\n",
      "Epoch 33/100\n",
      "28000/28000 [==============================] - 4s 133us/step - loss: 5.5117e-04 - rmse: 0.0165 - r_square: 0.9624 - val_loss: 3.8513e-04 - val_rmse: 0.0070 - val_r_square: 0.9776\n",
      "Epoch 34/100\n",
      "28000/28000 [==============================] - 4s 133us/step - loss: 5.2602e-04 - rmse: 0.0161 - r_square: 0.9639 - val_loss: 3.7295e-04 - val_rmse: 0.0061 - val_r_square: 0.9786\n",
      "Epoch 35/100\n",
      "28000/28000 [==============================] - 4s 133us/step - loss: 5.1671e-04 - rmse: 0.0160 - r_square: 0.9645 - val_loss: 3.6295e-04 - val_rmse: 0.0061 - val_r_square: 0.9791\n",
      "Epoch 36/100\n",
      "28000/28000 [==============================] - 4s 133us/step - loss: 5.1476e-04 - rmse: 0.0159 - r_square: 0.9647 - val_loss: 3.7921e-04 - val_rmse: 0.0066 - val_r_square: 0.9781\n",
      "Epoch 37/100\n",
      "28000/28000 [==============================] - 4s 130us/step - loss: 5.1305e-04 - rmse: 0.0158 - r_square: 0.9647 - val_loss: 3.6434e-04 - val_rmse: 0.0066 - val_r_square: 0.9789\n",
      "Epoch 38/100\n",
      "28000/28000 [==============================] - 4s 130us/step - loss: 4.8249e-04 - rmse: 0.0155 - r_square: 0.9669 - val_loss: 3.7011e-04 - val_rmse: 0.0069 - val_r_square: 0.9785\n",
      "Epoch 39/100\n",
      "28000/28000 [==============================] - 4s 132us/step - loss: 4.8976e-04 - rmse: 0.0155 - r_square: 0.9664 - val_loss: 3.6442e-04 - val_rmse: 0.0066 - val_r_square: 0.9789\n",
      "Epoch 40/100\n",
      "28000/28000 [==============================] - 4s 131us/step - loss: 4.9420e-04 - rmse: 0.0156 - r_square: 0.9661 - val_loss: 3.4909e-04 - val_rmse: 0.0063 - val_r_square: 0.9799\n",
      "Epoch 41/100\n",
      "28000/28000 [==============================] - 4s 132us/step - loss: 4.7327e-04 - rmse: 0.0152 - r_square: 0.9673 - val_loss: 3.9899e-04 - val_rmse: 0.0074 - val_r_square: 0.9766\n",
      "Epoch 42/100\n",
      "28000/28000 [==============================] - 4s 131us/step - loss: 4.7425e-04 - rmse: 0.0153 - r_square: 0.9674 - val_loss: 3.6329e-04 - val_rmse: 0.0066 - val_r_square: 0.9789\n",
      "Epoch 43/100\n",
      "28000/28000 [==============================] - 4s 133us/step - loss: 4.7246e-04 - rmse: 0.0153 - r_square: 0.9676 - val_loss: 3.4085e-04 - val_rmse: 0.0057 - val_r_square: 0.9806\n"
     ]
    },
    {
     "name": "stdout",
     "output_type": "stream",
     "text": [
      "Epoch 44/100\n",
      "28000/28000 [==============================] - 4s 126us/step - loss: 4.8126e-04 - rmse: 0.0154 - r_square: 0.9670 - val_loss: 3.6225e-04 - val_rmse: 0.0074 - val_r_square: 0.9788\n",
      "Epoch 45/100\n",
      "28000/28000 [==============================] - 4s 126us/step - loss: 4.6805e-04 - rmse: 0.0151 - r_square: 0.9681 - val_loss: 3.9899e-04 - val_rmse: 0.0084 - val_r_square: 0.9763\n",
      "Epoch 46/100\n",
      "28000/28000 [==============================] - 4s 126us/step - loss: 4.5614e-04 - rmse: 0.0150 - r_square: 0.9686 - val_loss: 3.3875e-04 - val_rmse: 0.0059 - val_r_square: 0.9806\n",
      "Epoch 47/100\n",
      "28000/28000 [==============================] - 4s 126us/step - loss: 4.5360e-04 - rmse: 0.0150 - r_square: 0.9689 - val_loss: 3.5125e-04 - val_rmse: 0.0064 - val_r_square: 0.9797\n",
      "Epoch 48/100\n",
      "28000/28000 [==============================] - 4s 126us/step - loss: 4.5207e-04 - rmse: 0.0149 - r_square: 0.9688 - val_loss: 3.7178e-04 - val_rmse: 0.0072 - val_r_square: 0.9782\n",
      "Epoch 49/100\n",
      "28000/28000 [==============================] - 4s 127us/step - loss: 4.6357e-04 - rmse: 0.0151 - r_square: 0.9680 - val_loss: 3.6739e-04 - val_rmse: 0.0074 - val_r_square: 0.9784\n",
      "Epoch 50/100\n",
      "28000/28000 [==============================] - 4s 126us/step - loss: 4.5014e-04 - rmse: 0.0149 - r_square: 0.9690 - val_loss: 3.3492e-04 - val_rmse: 0.0062 - val_r_square: 0.9807\n",
      "Epoch 51/100\n",
      "28000/28000 [==============================] - 4s 126us/step - loss: 4.4114e-04 - rmse: 0.0148 - r_square: 0.9697 - val_loss: 3.6470e-04 - val_rmse: 0.0070 - val_r_square: 0.9787\n",
      "Epoch 52/100\n",
      "28000/28000 [==============================] - 4s 126us/step - loss: 4.3786e-04 - rmse: 0.0147 - r_square: 0.9699 - val_loss: 3.2514e-04 - val_rmse: 0.0061 - val_r_square: 0.9814\n",
      "Epoch 53/100\n",
      "28000/28000 [==============================] - 4s 126us/step - loss: 4.4608e-04 - rmse: 0.0147 - r_square: 0.9694 - val_loss: 3.3918e-04 - val_rmse: 0.0069 - val_r_square: 0.9803\n",
      "Epoch 54/100\n",
      "28000/28000 [==============================] - 4s 126us/step - loss: 4.3577e-04 - rmse: 0.0147 - r_square: 0.9700 - val_loss: 3.3635e-04 - val_rmse: 0.0061 - val_r_square: 0.9807\n",
      "Epoch 55/100\n",
      "28000/28000 [==============================] - 4s 127us/step - loss: 4.2873e-04 - rmse: 0.0145 - r_square: 0.9705 - val_loss: 3.2753e-04 - val_rmse: 0.0065 - val_r_square: 0.9811\n",
      "Epoch 56/100\n",
      "28000/28000 [==============================] - 4s 127us/step - loss: 4.3436e-04 - rmse: 0.0145 - r_square: 0.9702 - val_loss: 3.3148e-04 - val_rmse: 0.0068 - val_r_square: 0.9807\n",
      "Epoch 57/100\n",
      "28000/28000 [==============================] - 4s 126us/step - loss: 4.2891e-04 - rmse: 0.0145 - r_square: 0.9703 - val_loss: 3.0812e-04 - val_rmse: 0.0053 - val_r_square: 0.9825\n",
      "Epoch 58/100\n",
      "28000/28000 [==============================] - 4s 128us/step - loss: 4.2402e-04 - rmse: 0.0144 - r_square: 0.9708 - val_loss: 3.2652e-04 - val_rmse: 0.0063 - val_r_square: 0.9810\n",
      "Epoch 59/100\n",
      "28000/28000 [==============================] - 4s 127us/step - loss: 4.3244e-04 - rmse: 0.0145 - r_square: 0.9704 - val_loss: 2.8651e-04 - val_rmse: 0.0050 - val_r_square: 0.9837\n",
      "Epoch 60/100\n",
      "28000/28000 [==============================] - 4s 127us/step - loss: 4.3238e-04 - rmse: 0.0145 - r_square: 0.9702 - val_loss: 3.1763e-04 - val_rmse: 0.0059 - val_r_square: 0.9818\n",
      "Epoch 61/100\n",
      "28000/28000 [==============================] - 4s 127us/step - loss: 4.2225e-04 - rmse: 0.0143 - r_square: 0.9709 - val_loss: 3.3258e-04 - val_rmse: 0.0064 - val_r_square: 0.9807\n",
      "Epoch 62/100\n",
      "28000/28000 [==============================] - 4s 127us/step - loss: 4.1578e-04 - rmse: 0.0143 - r_square: 0.9714 - val_loss: 3.1377e-04 - val_rmse: 0.0057 - val_r_square: 0.9820\n",
      "Epoch 63/100\n",
      "28000/28000 [==============================] - 4s 127us/step - loss: 4.1787e-04 - rmse: 0.0143 - r_square: 0.9712 - val_loss: 3.1067e-04 - val_rmse: 0.0060 - val_r_square: 0.9822\n",
      "Epoch 64/100\n",
      "28000/28000 [==============================] - 4s 128us/step - loss: 4.2495e-04 - rmse: 0.0143 - r_square: 0.9709 - val_loss: 3.5113e-04 - val_rmse: 0.0078 - val_r_square: 0.9792\n",
      "Epoch 65/100\n",
      "28000/28000 [==============================] - 4s 127us/step - loss: 4.1521e-04 - rmse: 0.0142 - r_square: 0.9715 - val_loss: 2.8684e-04 - val_rmse: 0.0054 - val_r_square: 0.9837\n",
      "Epoch 66/100\n",
      "28000/28000 [==============================] - 4s 129us/step - loss: 4.1992e-04 - rmse: 0.0143 - r_square: 0.9711 - val_loss: 3.1358e-04 - val_rmse: 0.0056 - val_r_square: 0.9821\n",
      "Epoch 67/100\n",
      "28000/28000 [==============================] - 4s 127us/step - loss: 4.1062e-04 - rmse: 0.0141 - r_square: 0.9718 - val_loss: 3.1500e-04 - val_rmse: 0.0056 - val_r_square: 0.9819\n",
      "Epoch 68/100\n",
      "28000/28000 [==============================] - 4s 127us/step - loss: 4.0421e-04 - rmse: 0.0140 - r_square: 0.9722 - val_loss: 2.9919e-04 - val_rmse: 0.0055 - val_r_square: 0.9829\n",
      "Epoch 69/100\n",
      "28000/28000 [==============================] - 4s 128us/step - loss: 4.0857e-04 - rmse: 0.0141 - r_square: 0.9719 - val_loss: 3.2074e-04 - val_rmse: 0.0066 - val_r_square: 0.9814\n",
      "Epoch 70/100\n",
      "28000/28000 [==============================] - 4s 128us/step - loss: 3.9821e-04 - rmse: 0.0139 - r_square: 0.9725 - val_loss: 3.0711e-04 - val_rmse: 0.0056 - val_r_square: 0.9825\n",
      "Epoch 71/100\n",
      "28000/28000 [==============================] - 4s 128us/step - loss: 4.0644e-04 - rmse: 0.0140 - r_square: 0.9718 - val_loss: 2.9505e-04 - val_rmse: 0.0052 - val_r_square: 0.9833\n",
      "Epoch 72/100\n",
      "28000/28000 [==============================] - 4s 128us/step - loss: 3.9960e-04 - rmse: 0.0139 - r_square: 0.9726 - val_loss: 3.0597e-04 - val_rmse: 0.0059 - val_r_square: 0.9824\n",
      "Epoch 73/100\n",
      "28000/28000 [==============================] - 4s 128us/step - loss: 3.9602e-04 - rmse: 0.0139 - r_square: 0.9726 - val_loss: 2.9401e-04 - val_rmse: 0.0049 - val_r_square: 0.9834\n",
      "Epoch 74/100\n",
      "28000/28000 [==============================] - 4s 129us/step - loss: 3.9623e-04 - rmse: 0.0138 - r_square: 0.9728 - val_loss: 3.2422e-04 - val_rmse: 0.0066 - val_r_square: 0.9812\n",
      "Epoch 75/100\n",
      "28000/28000 [==============================] - 4s 128us/step - loss: 4.0246e-04 - rmse: 0.0140 - r_square: 0.9724 - val_loss: 3.0616e-04 - val_rmse: 0.0058 - val_r_square: 0.9824\n",
      "Epoch 76/100\n",
      "28000/28000 [==============================] - 4s 129us/step - loss: 3.8709e-04 - rmse: 0.0137 - r_square: 0.9732 - val_loss: 3.5200e-04 - val_rmse: 0.0074 - val_r_square: 0.9794\n",
      "Epoch 77/100\n",
      "28000/28000 [==============================] - 4s 129us/step - loss: 3.8740e-04 - rmse: 0.0138 - r_square: 0.9734 - val_loss: 2.9801e-04 - val_rmse: 0.0062 - val_r_square: 0.9828\n",
      "Epoch 78/100\n",
      "28000/28000 [==============================] - 4s 129us/step - loss: 3.9318e-04 - rmse: 0.0138 - r_square: 0.9729 - val_loss: 2.8696e-04 - val_rmse: 0.0043 - val_r_square: 0.9839\n",
      "Epoch 79/100\n",
      "28000/28000 [==============================] - 4s 131us/step - loss: 3.8678e-04 - rmse: 0.0136 - r_square: 0.9733 - val_loss: 2.9739e-04 - val_rmse: 0.0051 - val_r_square: 0.9832\n",
      "Epoch 80/100\n",
      "28000/28000 [==============================] - 4s 128us/step - loss: 3.8999e-04 - rmse: 0.0137 - r_square: 0.9733 - val_loss: 2.9700e-04 - val_rmse: 0.0049 - val_r_square: 0.9832\n",
      "Epoch 81/100\n",
      "28000/28000 [==============================] - 4s 129us/step - loss: 3.8433e-04 - rmse: 0.0137 - r_square: 0.9735 - val_loss: 2.8802e-04 - val_rmse: 0.0050 - val_r_square: 0.9837\n",
      "Epoch 82/100\n",
      "28000/28000 [==============================] - 4s 129us/step - loss: 3.8229e-04 - rmse: 0.0135 - r_square: 0.9738 - val_loss: 3.0923e-04 - val_rmse: 0.0052 - val_r_square: 0.9825\n",
      "Epoch 83/100\n",
      "28000/28000 [==============================] - 4s 130us/step - loss: 3.8485e-04 - rmse: 0.0136 - r_square: 0.9736 - val_loss: 2.9409e-04 - val_rmse: 0.0050 - val_r_square: 0.9833\n",
      "Epoch 84/100\n",
      "28000/28000 [==============================] - 4s 129us/step - loss: 3.7944e-04 - rmse: 0.0135 - r_square: 0.9739 - val_loss: 2.9194e-04 - val_rmse: 0.0054 - val_r_square: 0.9834\n",
      "Epoch 85/100\n",
      "28000/28000 [==============================] - 4s 129us/step - loss: 3.8570e-04 - rmse: 0.0136 - r_square: 0.9735 - val_loss: 3.1423e-04 - val_rmse: 0.0072 - val_r_square: 0.9816\n",
      "Epoch 86/100\n",
      "28000/28000 [==============================] - 4s 130us/step - loss: 3.7887e-04 - rmse: 0.0134 - r_square: 0.9740 - val_loss: 2.8916e-04 - val_rmse: 0.0055 - val_r_square: 0.9835\n"
     ]
    },
    {
     "name": "stdout",
     "output_type": "stream",
     "text": [
      "Epoch 87/100\n",
      "28000/28000 [==============================] - 4s 140us/step - loss: 3.8207e-04 - rmse: 0.0135 - r_square: 0.9737 - val_loss: 2.7323e-04 - val_rmse: 0.0046 - val_r_square: 0.9846\n",
      "Epoch 88/100\n",
      "28000/28000 [==============================] - 4s 126us/step - loss: 3.7033e-04 - rmse: 0.0134 - r_square: 0.9745 - val_loss: 3.0217e-04 - val_rmse: 0.0066 - val_r_square: 0.9825\n",
      "Epoch 89/100\n",
      "28000/28000 [==============================] - 4s 127us/step - loss: 3.6555e-04 - rmse: 0.0133 - r_square: 0.9749 - val_loss: 2.8009e-04 - val_rmse: 0.0046 - val_r_square: 0.9843\n",
      "Epoch 90/100\n",
      "28000/28000 [==============================] - 4s 126us/step - loss: 3.7900e-04 - rmse: 0.0135 - r_square: 0.9740 - val_loss: 2.7965e-04 - val_rmse: 0.0052 - val_r_square: 0.9840\n",
      "Epoch 91/100\n",
      "28000/28000 [==============================] - 4s 127us/step - loss: 3.6115e-04 - rmse: 0.0132 - r_square: 0.9750 - val_loss: 2.9417e-04 - val_rmse: 0.0049 - val_r_square: 0.9834\n",
      "Epoch 92/100\n",
      "28000/28000 [==============================] - 4s 126us/step - loss: 3.6394e-04 - rmse: 0.0133 - r_square: 0.9748 - val_loss: 2.8952e-04 - val_rmse: 0.0056 - val_r_square: 0.9834\n",
      "Epoch 93/100\n",
      "28000/28000 [==============================] - 4s 126us/step - loss: 3.6386e-04 - rmse: 0.0132 - r_square: 0.9749 - val_loss: 2.9867e-04 - val_rmse: 0.0060 - val_r_square: 0.9828\n",
      "Epoch 94/100\n",
      "28000/28000 [==============================] - 4s 127us/step - loss: 3.8371e-04 - rmse: 0.0135 - r_square: 0.9737 - val_loss: 2.8675e-04 - val_rmse: 0.0059 - val_r_square: 0.9836\n",
      "Epoch 95/100\n",
      "28000/28000 [==============================] - 4s 126us/step - loss: 3.6711e-04 - rmse: 0.0133 - r_square: 0.9747 - val_loss: 2.8009e-04 - val_rmse: 0.0042 - val_r_square: 0.9843\n",
      "Epoch 96/100\n",
      "28000/28000 [==============================] - 4s 126us/step - loss: 3.6831e-04 - rmse: 0.0133 - r_square: 0.9746 - val_loss: 3.0441e-04 - val_rmse: 0.0059 - val_r_square: 0.9826\n",
      "Epoch 97/100\n",
      "28000/28000 [==============================] - 4s 128us/step - loss: 3.6036e-04 - rmse: 0.0132 - r_square: 0.9751 - val_loss: 3.0899e-04 - val_rmse: 0.0067 - val_r_square: 0.9820\n",
      "Epoch 98/100\n",
      "28000/28000 [==============================] - 4s 127us/step - loss: 3.7198e-04 - rmse: 0.0133 - r_square: 0.9746 - val_loss: 2.8884e-04 - val_rmse: 0.0047 - val_r_square: 0.9837\n",
      "Epoch 99/100\n",
      "28000/28000 [==============================] - 4s 128us/step - loss: 3.6237e-04 - rmse: 0.0132 - r_square: 0.9749 - val_loss: 2.7499e-04 - val_rmse: 0.0044 - val_r_square: 0.9846\n",
      "Epoch 100/100\n",
      "28000/28000 [==============================] - 4s 127us/step - loss: 3.5726e-04 - rmse: 0.0131 - r_square: 0.9755 - val_loss: 2.9208e-04 - val_rmse: 0.0052 - val_r_square: 0.9834\n"
     ]
    }
   ],
   "source": [
    "\n",
    "model = Sequential()\n",
    "#model.add(Conv1D(1, 19, padding='same', input_shape=(seq_length, 4), activation='relu'))\n",
    "model.add(Conv1D(10, 41, padding='same', input_shape=(seq_length, 4), activation='relu'))\n",
    "model.add(MaxPooling1D(pool_size=4))\n",
    "model.add(Conv1D(10, 20, padding='same', input_shape=(seq_length, 4), activation='relu'))\n",
    "model.add(MaxPooling1D(pool_size=2))\n",
    "model.add(Flatten())\n",
    "model.add(Dense(100, activation='relu'))\n",
    "model.add(Dropout(0.25))\n",
    "model.add(Dense(50, activation='relu'))\n",
    "model.add(Dropout(0.25))\n",
    "model.add(Dense(1, activation='linear'))\n",
    "\n",
    "sgd = SGD(lr=0.0001, decay=1e-6, momentum=0.9, nesterov=True)\n",
    "\n",
    "#model.compile(loss='mean_squared_error',optimizer='adam', metrics=['mean_squared_error',r_square])\n",
    "#model.compile(loss='mean_squared_error',optimizer=sgd, metrics=[rmse,r_square])\n",
    "model.compile(loss='mean_squared_error',optimizer=Adam(lr=0.0001), metrics=[rmse,r_square])\n",
    "\n",
    "#history = model.fit(X, y, validation_split=0.2, epochs=50)  # starts training\n",
    "history = model.fit(X, y, validation_split=0.3, epochs=100)  # starts training\n",
    "\n"
   ]
  },
  {
   "cell_type": "code",
   "execution_count": 49,
   "metadata": {
    "colab": {
     "base_uri": "https://localhost:8080/",
     "height": 376
    },
    "colab_type": "code",
    "id": "-VpzZqooOAPx",
    "outputId": "30d34bfd-b21e-47c7-9c64-d1cf407b23c6"
   },
   "outputs": [
    {
     "data": {
      "image/png": "[encoded data removed]",
      "text/plain": [
       "<Figure size 432x288 with 1 Axes>"
      ]
     },
     "metadata": {},
     "output_type": "display_data"
    }
   ],
   "source": [
    "plt.figure()\n",
    "plt.plot(history.history['loss'])\n",
    "plt.plot(history.history['val_loss'])\n",
    "plt.title('model loss')\n",
    "plt.ylabel('loss')\n",
    "plt.xlabel('epoch')\n",
    "plt.legend(['train', 'validation'])\n",
    "plt.show()"
   ]
  },
  {
   "cell_type": "code",
   "execution_count": 15,
   "metadata": {},
   "outputs": [
    {
     "data": {
      "text/plain": [
       "dict_keys(['val_loss', 'val_rmse', 'val_r_square', 'loss', 'rmse', 'r_square'])"
      ]
     },
     "execution_count": 15,
     "metadata": {},
     "output_type": "execute_result"
    }
   ],
   "source": [
    "history.history.keys()"
   ]
  },
  {
   "cell_type": "code",
   "execution_count": 48,
   "metadata": {
    "colab": {
     "base_uri": "https://localhost:8080/",
     "height": 376
    },
    "colab_type": "code",
    "id": "VeIdsrBEO49U",
    "outputId": "04003ed6-30d1-494a-da95-3672e19fb46d"
   },
   "outputs": [
    {
     "data": {
      "image/png": "[encoded data removed]",
      "text/plain": [
       "<Figure size 432x288 with 1 Axes>"
      ]
     },
     "metadata": {},
     "output_type": "display_data"
    }
   ],
   "source": [
    "plt.plot(history.history['rmse'])\n",
    "plt.plot(history.history['val_rmse'])\n",
    "plt.title('model rmse')\n",
    "plt.ylabel('rmse')\n",
    "plt.xlabel('epoch')\n",
    "plt.legend(['val_rmse', 'rmse'], loc='upper right')\n",
    "plt.show()\n"
   ]
  },
  {
   "cell_type": "code",
   "execution_count": 46,
   "metadata": {},
   "outputs": [
    {
     "data": {
      "image/png": "[encoded data removed]",
      "text/plain": [
       "<Figure size 432x288 with 1 Axes>"
      ]
     },
     "metadata": {},
     "output_type": "display_data"
    }
   ],
   "source": [
    "plt.plot(history.history['r_square'])\n",
    "plt.plot(history.history['val_r_square'])\n",
    "plt.title('model R^2')\n",
    "plt.ylabel('R^2')\n",
    "plt.xlabel('epoch')\n",
    "plt.legend(['val_r_sq', 'r_sq'], loc='lower right')\n",
    "plt.show()\n"
   ]
  },
  {
   "cell_type": "code",
   "execution_count": 18,
   "metadata": {
    "colab": {
     "base_uri": "https://localhost:8080/",
     "height": 34
    },
    "colab_type": "code",
    "id": "vuJi3zO_OaMi",
    "outputId": "91f9168e-a49f-4c51-8a07-85d32e324e0b"
   },
   "outputs": [
    {
     "name": "stdout",
     "output_type": "stream",
     "text": [
      "Convolution parameter shape: (41, 4, 10)\n"
     ]
    }
   ],
   "source": [
    "#have a look at the filter\n",
    "convlayer = model.layers[0]\n",
    "weights = convlayer.get_weights()[0].squeeze()\n",
    "print('Convolution parameter shape: {}'.format(weights.shape))\n",
    "\n",
    "#num2seq = ['A','C','G','T']\n",
    "\n",
    "#''.join([num2seq[np.argmax(weights[i,:])] for i in range(weights.shape[0])])\n",
    "#test_pred = ''.join([num2seq[np.argmax(weights[i,:])] for i in range(weights.shape[0])])"
   ]
  },
  {
   "cell_type": "markdown",
   "metadata": {},
   "source": [
    "## Make predictions"
   ]
  },
  {
   "cell_type": "code",
   "execution_count": 19,
   "metadata": {
    "collapsed": true
   },
   "outputs": [],
   "source": [
    "model_prediction = model.predict(X_test)"
   ]
  },
  {
   "cell_type": "code",
   "execution_count": 39,
   "metadata": {},
   "outputs": [
    {
     "data": {
      "image/png": "[encoded data removed]",
      "text/plain": [
       "<Figure size 432x288 with 1 Axes>"
      ]
     },
     "metadata": {},
     "output_type": "display_data"
    }
   ],
   "source": [
    "plt.hist(test_pos_labels,bins=50,alpha=0.75,label='Test labels')\n",
    "plt.hist(model_prediction,bins=50,alpha=0.5,label='Model Predictions')\n",
    "plt.legend()\n",
    "plt.show()"
   ]
  },
  {
   "cell_type": "code",
   "execution_count": 21,
   "metadata": {
    "collapsed": true
   },
   "outputs": [],
   "source": [
    "pos_model_prediction = model.predict(test_pos_tensor)"
   ]
  },
  {
   "cell_type": "code",
   "execution_count": 68,
   "metadata": {},
   "outputs": [
    {
     "data": {
      "image/png": "[encoded data removed]",
      "text/plain": [
       "<Figure size 720x720 with 1 Axes>"
      ]
     },
     "metadata": {},
     "output_type": "display_data"
    }
   ],
   "source": [
    "from pylab import rcParams\n",
    "rcParams['xtick.labelsize'] = 16 \n",
    "rcParams['ytick.labelsize'] = 16 \n",
    "rcParams['figure.figsize'] = 10, 10\n",
    "\n",
    "plt.scatter(y_test,pos_model_prediction,s=25,alpha=0.75,color='red')\n",
    "plt.plot([0,1],alpha=0.5,linewidth=3,color='black')\n",
    "plt.ylabel('Neural Network Predictions of values',fontsize=16)\n",
    "plt.xlabel('Values from test set (from MPAthic)',fontsize=16)\n",
    "plt.title('Neural Network Performance: Optimizer: Adam(lr=1e-4)')\n",
    "plt.show()\n"
   ]
  },
  {
   "cell_type": "code",
   "execution_count": null,
   "metadata": {
    "collapsed": true
   },
   "outputs": [],
   "source": []
  }
 ],
 "metadata": {
  "colab": {
   "collapsed_sections": [],
   "name": "motif_learn_convnet.ipynb",
   "provenance": [],
   "version": "0.3.2"
  },
  "kernelspec": {
   "display_name": "Python 3",
   "language": "python",
   "name": "python3"
  },
  "language_info": {
   "codemirror_mode": {
    "name": "ipython",
    "version": 3
   },
   "file_extension": ".py",
   "mimetype": "text/x-python",
   "name": "python",
   "nbconvert_exporter": "python",
   "pygments_lexer": "ipython3",
   "version": "3.6.2"
  }
 },
 "nbformat": 4,
 "nbformat_minor": 1
}
